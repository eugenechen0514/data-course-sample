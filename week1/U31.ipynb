{
  "cells": [
    {
      "cell_type": "markdown",
      "metadata": {
        "id": "view-in-github",
        "colab_type": "text"
      },
      "source": [
        "<a href=\"https://colab.research.google.com/github/eugenechen0514/data-course-sample/blob/main/U31.ipynb\" target=\"_parent\"><img src=\"https://colab.research.google.com/assets/colab-badge.svg\" alt=\"Open In Colab\"/></a>"
      ]
    },
    {
      "cell_type": "code",
      "execution_count": null,
      "metadata": {
        "collapsed": true,
        "id": "3MjlEUzhs4bb"
      },
      "outputs": [],
      "source": [
        "import pandas as pd\n",
        "import numpy as np\n",
        "import matplotlib.pyplot as plt"
      ]
    },
    {
      "cell_type": "markdown",
      "source": [
        "# 載入載原始資料\n",
        "\n",
        "* `ratings`: 使用者評論資料\n",
        "* `metadata`: 商品資料"
      ],
      "metadata": {
        "collapsed": false,
        "id": "NCXOGFGgs4bf"
      }
    },
    {
      "cell_type": "code",
      "execution_count": null,
      "outputs": [
        {
          "output_type": "execute_result",
          "data": {
            "text/html": [
              "\n",
              "  <div id=\"df-3d09bbd3-19c2-4850-9a3f-230df68f12a4\">\n",
              "    <div class=\"colab-df-container\">\n",
              "      <div>\n",
              "<style scoped>\n",
              "    .dataframe tbody tr th:only-of-type {\n",
              "        vertical-align: middle;\n",
              "    }\n",
              "\n",
              "    .dataframe tbody tr th {\n",
              "        vertical-align: top;\n",
              "    }\n",
              "\n",
              "    .dataframe thead th {\n",
              "        text-align: right;\n",
              "    }\n",
              "</style>\n",
              "<table border=\"1\" class=\"dataframe\">\n",
              "  <thead>\n",
              "    <tr style=\"text-align: right;\">\n",
              "      <th></th>\n",
              "      <th>asin</th>\n",
              "      <th>reviewerID</th>\n",
              "      <th>overall</th>\n",
              "      <th>unixReviewTime</th>\n",
              "      <th>DATE</th>\n",
              "    </tr>\n",
              "  </thead>\n",
              "  <tbody>\n",
              "    <tr>\n",
              "      <th>0</th>\n",
              "      <td>0143026860</td>\n",
              "      <td>A1V6B6TNIC10QE</td>\n",
              "      <td>1.0</td>\n",
              "      <td>1.424304e+09</td>\n",
              "      <td>2015-02-19</td>\n",
              "    </tr>\n",
              "    <tr>\n",
              "      <th>1</th>\n",
              "      <td>0143026860</td>\n",
              "      <td>A2F5GHSXFQ0W6J</td>\n",
              "      <td>4.0</td>\n",
              "      <td>1.418861e+09</td>\n",
              "      <td>2014-12-18</td>\n",
              "    </tr>\n",
              "    <tr>\n",
              "      <th>2</th>\n",
              "      <td>0143026860</td>\n",
              "      <td>A1572GUYS7DGSR</td>\n",
              "      <td>4.0</td>\n",
              "      <td>1.407629e+09</td>\n",
              "      <td>2014-08-10</td>\n",
              "    </tr>\n",
              "    <tr>\n",
              "      <th>3</th>\n",
              "      <td>0143026860</td>\n",
              "      <td>A1PSGLFK1NSVO</td>\n",
              "      <td>5.0</td>\n",
              "      <td>1.362960e+09</td>\n",
              "      <td>2013-03-11</td>\n",
              "    </tr>\n",
              "    <tr>\n",
              "      <th>4</th>\n",
              "      <td>0143026860</td>\n",
              "      <td>A6IKXKZMTKGSC</td>\n",
              "      <td>5.0</td>\n",
              "      <td>1.324771e+09</td>\n",
              "      <td>2011-12-25</td>\n",
              "    </tr>\n",
              "  </tbody>\n",
              "</table>\n",
              "</div>\n",
              "      <button class=\"colab-df-convert\" onclick=\"convertToInteractive('df-3d09bbd3-19c2-4850-9a3f-230df68f12a4')\"\n",
              "              title=\"Convert this dataframe to an interactive table.\"\n",
              "              style=\"display:none;\">\n",
              "        \n",
              "  <svg xmlns=\"http://www.w3.org/2000/svg\" height=\"24px\"viewBox=\"0 0 24 24\"\n",
              "       width=\"24px\">\n",
              "    <path d=\"M0 0h24v24H0V0z\" fill=\"none\"/>\n",
              "    <path d=\"M18.56 5.44l.94 2.06.94-2.06 2.06-.94-2.06-.94-.94-2.06-.94 2.06-2.06.94zm-11 1L8.5 8.5l.94-2.06 2.06-.94-2.06-.94L8.5 2.5l-.94 2.06-2.06.94zm10 10l.94 2.06.94-2.06 2.06-.94-2.06-.94-.94-2.06-.94 2.06-2.06.94z\"/><path d=\"M17.41 7.96l-1.37-1.37c-.4-.4-.92-.59-1.43-.59-.52 0-1.04.2-1.43.59L10.3 9.45l-7.72 7.72c-.78.78-.78 2.05 0 2.83L4 21.41c.39.39.9.59 1.41.59.51 0 1.02-.2 1.41-.59l7.78-7.78 2.81-2.81c.8-.78.8-2.07 0-2.86zM5.41 20L4 18.59l7.72-7.72 1.47 1.35L5.41 20z\"/>\n",
              "  </svg>\n",
              "      </button>\n",
              "      \n",
              "  <style>\n",
              "    .colab-df-container {\n",
              "      display:flex;\n",
              "      flex-wrap:wrap;\n",
              "      gap: 12px;\n",
              "    }\n",
              "\n",
              "    .colab-df-convert {\n",
              "      background-color: #E8F0FE;\n",
              "      border: none;\n",
              "      border-radius: 50%;\n",
              "      cursor: pointer;\n",
              "      display: none;\n",
              "      fill: #1967D2;\n",
              "      height: 32px;\n",
              "      padding: 0 0 0 0;\n",
              "      width: 32px;\n",
              "    }\n",
              "\n",
              "    .colab-df-convert:hover {\n",
              "      background-color: #E2EBFA;\n",
              "      box-shadow: 0px 1px 2px rgba(60, 64, 67, 0.3), 0px 1px 3px 1px rgba(60, 64, 67, 0.15);\n",
              "      fill: #174EA6;\n",
              "    }\n",
              "\n",
              "    [theme=dark] .colab-df-convert {\n",
              "      background-color: #3B4455;\n",
              "      fill: #D2E3FC;\n",
              "    }\n",
              "\n",
              "    [theme=dark] .colab-df-convert:hover {\n",
              "      background-color: #434B5C;\n",
              "      box-shadow: 0px 1px 3px 1px rgba(0, 0, 0, 0.15);\n",
              "      filter: drop-shadow(0px 1px 2px rgba(0, 0, 0, 0.3));\n",
              "      fill: #FFFFFF;\n",
              "    }\n",
              "  </style>\n",
              "\n",
              "      <script>\n",
              "        const buttonEl =\n",
              "          document.querySelector('#df-3d09bbd3-19c2-4850-9a3f-230df68f12a4 button.colab-df-convert');\n",
              "        buttonEl.style.display =\n",
              "          google.colab.kernel.accessAllowed ? 'block' : 'none';\n",
              "\n",
              "        async function convertToInteractive(key) {\n",
              "          const element = document.querySelector('#df-3d09bbd3-19c2-4850-9a3f-230df68f12a4');\n",
              "          const dataTable =\n",
              "            await google.colab.kernel.invokeFunction('convertToInteractive',\n",
              "                                                     [key], {});\n",
              "          if (!dataTable) return;\n",
              "\n",
              "          const docLinkHtml = 'Like what you see? Visit the ' +\n",
              "            '<a target=\"_blank\" href=https://colab.research.google.com/notebooks/data_table.ipynb>data table notebook</a>'\n",
              "            + ' to learn more about interactive tables.';\n",
              "          element.innerHTML = '';\n",
              "          dataTable['output_type'] = 'display_data';\n",
              "          await google.colab.output.renderOutput(dataTable, element);\n",
              "          const docLink = document.createElement('div');\n",
              "          docLink.innerHTML = docLinkHtml;\n",
              "          element.appendChild(docLink);\n",
              "        }\n",
              "      </script>\n",
              "    </div>\n",
              "  </div>\n",
              "  "
            ],
            "text/plain": [
              "         asin      reviewerID  overall  unixReviewTime       DATE\n",
              "0  0143026860  A1V6B6TNIC10QE      1.0    1.424304e+09 2015-02-19\n",
              "1  0143026860  A2F5GHSXFQ0W6J      4.0    1.418861e+09 2014-12-18\n",
              "2  0143026860  A1572GUYS7DGSR      4.0    1.407629e+09 2014-08-10\n",
              "3  0143026860   A1PSGLFK1NSVO      5.0    1.362960e+09 2013-03-11\n",
              "4  0143026860   A6IKXKZMTKGSC      5.0    1.324771e+09 2011-12-25"
            ]
          },
          "metadata": {},
          "execution_count": 2
        }
      ],
      "source": [
        "# all_beauty_path = 'data/All_Beauty.csv'\n",
        "all_beauty_path = 'http://deepyeti.ucsd.edu/jianmo/amazon/categoryFilesSmall/All_Beauty.csv'\n",
        "ratings = pd.read_csv(\n",
        "    all_beauty_path,\n",
        "    names=[\"asin\", \"reviewerID\", \"overall\", \"unixReviewTime\"],\n",
        "    dtype={\"asin\": np.str_, \"reviewerID\": np.str_, \"overall\": np.float32, \"unixReviewTime\": np.float64 }\n",
        ")\n",
        "ratings['DATE'] = pd.to_datetime(ratings['unixReviewTime'], unit='s')\n",
        "ratings.head()"
      ],
      "metadata": {
        "pycharm": {
          "name": "#%%\n"
        },
        "id": "zsUO2KxOs4bh",
        "outputId": "f57e34a1-572f-4a01-d548-c5a2205a2c9b",
        "colab": {
          "base_uri": "https://localhost:8080/",
          "height": 206
        }
      }
    },
    {
      "cell_type": "code",
      "execution_count": null,
      "outputs": [
        {
          "output_type": "execute_result",
          "data": {
            "text/html": [
              "\n",
              "  <div id=\"df-97a06569-5768-4408-bc19-cb28e4a687c7\">\n",
              "    <div class=\"colab-df-container\">\n",
              "      <div>\n",
              "<style scoped>\n",
              "    .dataframe tbody tr th:only-of-type {\n",
              "        vertical-align: middle;\n",
              "    }\n",
              "\n",
              "    .dataframe tbody tr th {\n",
              "        vertical-align: top;\n",
              "    }\n",
              "\n",
              "    .dataframe thead th {\n",
              "        text-align: right;\n",
              "    }\n",
              "</style>\n",
              "<table border=\"1\" class=\"dataframe\">\n",
              "  <thead>\n",
              "    <tr style=\"text-align: right;\">\n",
              "      <th></th>\n",
              "      <th>category</th>\n",
              "      <th>tech1</th>\n",
              "      <th>description</th>\n",
              "      <th>fit</th>\n",
              "      <th>title</th>\n",
              "      <th>also_buy</th>\n",
              "      <th>tech2</th>\n",
              "      <th>brand</th>\n",
              "      <th>feature</th>\n",
              "      <th>rank</th>\n",
              "      <th>also_view</th>\n",
              "      <th>details</th>\n",
              "      <th>main_cat</th>\n",
              "      <th>similar_item</th>\n",
              "      <th>date</th>\n",
              "      <th>price</th>\n",
              "      <th>asin</th>\n",
              "      <th>imageURL</th>\n",
              "      <th>imageURLHighRes</th>\n",
              "    </tr>\n",
              "  </thead>\n",
              "  <tbody>\n",
              "    <tr>\n",
              "      <th>0</th>\n",
              "      <td>[]</td>\n",
              "      <td></td>\n",
              "      <td>[Loud 'N Clear Personal Sound Amplifier allows...</td>\n",
              "      <td></td>\n",
              "      <td>Loud 'N Clear&amp;trade; Personal Sound Amplifier</td>\n",
              "      <td>[]</td>\n",
              "      <td></td>\n",
              "      <td>idea village</td>\n",
              "      <td>[]</td>\n",
              "      <td>2,938,573 in Beauty &amp; Personal Care (</td>\n",
              "      <td>[]</td>\n",
              "      <td>{'ASIN: ': '6546546450'}</td>\n",
              "      <td>All Beauty</td>\n",
              "      <td></td>\n",
              "      <td></td>\n",
              "      <td></td>\n",
              "      <td>6546546450</td>\n",
              "      <td>[]</td>\n",
              "      <td>[]</td>\n",
              "    </tr>\n",
              "    <tr>\n",
              "      <th>1</th>\n",
              "      <td>[]</td>\n",
              "      <td></td>\n",
              "      <td>[No7 Lift &amp; Luminate Triple Action Serum 50ml ...</td>\n",
              "      <td></td>\n",
              "      <td>No7 Lift &amp;amp; Luminate Triple Action Serum 50...</td>\n",
              "      <td>[B01E7LCSL6, B008X5RVME]</td>\n",
              "      <td></td>\n",
              "      <td></td>\n",
              "      <td>[]</td>\n",
              "      <td>872,854 in Beauty &amp; Personal Care (</td>\n",
              "      <td>[]</td>\n",
              "      <td>{'Shipping Weight:': '0.3 ounces (', 'ASIN: ':...</td>\n",
              "      <td>All Beauty</td>\n",
              "      <td>class=\"a-bordered a-horizontal-stripes  a-spa...</td>\n",
              "      <td></td>\n",
              "      <td>$44.99</td>\n",
              "      <td>7178680776</td>\n",
              "      <td>[]</td>\n",
              "      <td>[]</td>\n",
              "    </tr>\n",
              "    <tr>\n",
              "      <th>2</th>\n",
              "      <td>[]</td>\n",
              "      <td></td>\n",
              "      <td>[No7 Stay Perfect Foundation now stays perfect...</td>\n",
              "      <td></td>\n",
              "      <td>No7 Stay Perfect Foundation Cool Vanilla by No7</td>\n",
              "      <td>[]</td>\n",
              "      <td></td>\n",
              "      <td>No7</td>\n",
              "      <td>[]</td>\n",
              "      <td>956,696 in Beauty &amp; Personal Care (</td>\n",
              "      <td>[B01B8BR0O8, B01B8BR0NO, B014MHXXM8]</td>\n",
              "      <td>{'Shipping Weight:': '3.5 ounces (', 'ASIN: ':...</td>\n",
              "      <td>All Beauty</td>\n",
              "      <td></td>\n",
              "      <td></td>\n",
              "      <td>$28.76</td>\n",
              "      <td>7250468162</td>\n",
              "      <td>[]</td>\n",
              "      <td>[]</td>\n",
              "    </tr>\n",
              "    <tr>\n",
              "      <th>3</th>\n",
              "      <td>[]</td>\n",
              "      <td></td>\n",
              "      <td>[]</td>\n",
              "      <td></td>\n",
              "      <td>Wella Koleston Perfect Hair Colour 44/44 Mediu...</td>\n",
              "      <td>[B0041PBXX8]</td>\n",
              "      <td></td>\n",
              "      <td></td>\n",
              "      <td>[]</td>\n",
              "      <td>1,870,258 in Beauty &amp; Personal Care (</td>\n",
              "      <td>[]</td>\n",
              "      <td>{'\n",
              "    Item Weight: \n",
              "    ': '1.76 ounces', 'Sh...</td>\n",
              "      <td>All Beauty</td>\n",
              "      <td></td>\n",
              "      <td></td>\n",
              "      <td></td>\n",
              "      <td>7367905066</td>\n",
              "      <td>[https://images-na.ssl-images-amazon.com/image...</td>\n",
              "      <td>[https://images-na.ssl-images-amazon.com/image...</td>\n",
              "    </tr>\n",
              "    <tr>\n",
              "      <th>4</th>\n",
              "      <td>[]</td>\n",
              "      <td></td>\n",
              "      <td>[Lacto Calamine Skin Balance Daily Nourishing ...</td>\n",
              "      <td></td>\n",
              "      <td>Lacto Calamine Skin Balance Oil control 120 ml...</td>\n",
              "      <td>[]</td>\n",
              "      <td></td>\n",
              "      <td>Pirmal Healthcare</td>\n",
              "      <td>[]</td>\n",
              "      <td>67,701 in Beauty &amp; Personal Care (</td>\n",
              "      <td>[3254895630, B007VL1D9S, B00EH9A0RI, B0773MBG4...</td>\n",
              "      <td>{'Shipping Weight:': '12 ounces (', 'ASIN: ': ...</td>\n",
              "      <td>All Beauty</td>\n",
              "      <td></td>\n",
              "      <td></td>\n",
              "      <td>$12.15</td>\n",
              "      <td>7414204790</td>\n",
              "      <td>[https://images-na.ssl-images-amazon.com/image...</td>\n",
              "      <td>[https://images-na.ssl-images-amazon.com/image...</td>\n",
              "    </tr>\n",
              "  </tbody>\n",
              "</table>\n",
              "</div>\n",
              "      <button class=\"colab-df-convert\" onclick=\"convertToInteractive('df-97a06569-5768-4408-bc19-cb28e4a687c7')\"\n",
              "              title=\"Convert this dataframe to an interactive table.\"\n",
              "              style=\"display:none;\">\n",
              "        \n",
              "  <svg xmlns=\"http://www.w3.org/2000/svg\" height=\"24px\"viewBox=\"0 0 24 24\"\n",
              "       width=\"24px\">\n",
              "    <path d=\"M0 0h24v24H0V0z\" fill=\"none\"/>\n",
              "    <path d=\"M18.56 5.44l.94 2.06.94-2.06 2.06-.94-2.06-.94-.94-2.06-.94 2.06-2.06.94zm-11 1L8.5 8.5l.94-2.06 2.06-.94-2.06-.94L8.5 2.5l-.94 2.06-2.06.94zm10 10l.94 2.06.94-2.06 2.06-.94-2.06-.94-.94-2.06-.94 2.06-2.06.94z\"/><path d=\"M17.41 7.96l-1.37-1.37c-.4-.4-.92-.59-1.43-.59-.52 0-1.04.2-1.43.59L10.3 9.45l-7.72 7.72c-.78.78-.78 2.05 0 2.83L4 21.41c.39.39.9.59 1.41.59.51 0 1.02-.2 1.41-.59l7.78-7.78 2.81-2.81c.8-.78.8-2.07 0-2.86zM5.41 20L4 18.59l7.72-7.72 1.47 1.35L5.41 20z\"/>\n",
              "  </svg>\n",
              "      </button>\n",
              "      \n",
              "  <style>\n",
              "    .colab-df-container {\n",
              "      display:flex;\n",
              "      flex-wrap:wrap;\n",
              "      gap: 12px;\n",
              "    }\n",
              "\n",
              "    .colab-df-convert {\n",
              "      background-color: #E8F0FE;\n",
              "      border: none;\n",
              "      border-radius: 50%;\n",
              "      cursor: pointer;\n",
              "      display: none;\n",
              "      fill: #1967D2;\n",
              "      height: 32px;\n",
              "      padding: 0 0 0 0;\n",
              "      width: 32px;\n",
              "    }\n",
              "\n",
              "    .colab-df-convert:hover {\n",
              "      background-color: #E2EBFA;\n",
              "      box-shadow: 0px 1px 2px rgba(60, 64, 67, 0.3), 0px 1px 3px 1px rgba(60, 64, 67, 0.15);\n",
              "      fill: #174EA6;\n",
              "    }\n",
              "\n",
              "    [theme=dark] .colab-df-convert {\n",
              "      background-color: #3B4455;\n",
              "      fill: #D2E3FC;\n",
              "    }\n",
              "\n",
              "    [theme=dark] .colab-df-convert:hover {\n",
              "      background-color: #434B5C;\n",
              "      box-shadow: 0px 1px 3px 1px rgba(0, 0, 0, 0.15);\n",
              "      filter: drop-shadow(0px 1px 2px rgba(0, 0, 0, 0.3));\n",
              "      fill: #FFFFFF;\n",
              "    }\n",
              "  </style>\n",
              "\n",
              "      <script>\n",
              "        const buttonEl =\n",
              "          document.querySelector('#df-97a06569-5768-4408-bc19-cb28e4a687c7 button.colab-df-convert');\n",
              "        buttonEl.style.display =\n",
              "          google.colab.kernel.accessAllowed ? 'block' : 'none';\n",
              "\n",
              "        async function convertToInteractive(key) {\n",
              "          const element = document.querySelector('#df-97a06569-5768-4408-bc19-cb28e4a687c7');\n",
              "          const dataTable =\n",
              "            await google.colab.kernel.invokeFunction('convertToInteractive',\n",
              "                                                     [key], {});\n",
              "          if (!dataTable) return;\n",
              "\n",
              "          const docLinkHtml = 'Like what you see? Visit the ' +\n",
              "            '<a target=\"_blank\" href=https://colab.research.google.com/notebooks/data_table.ipynb>data table notebook</a>'\n",
              "            + ' to learn more about interactive tables.';\n",
              "          element.innerHTML = '';\n",
              "          dataTable['output_type'] = 'display_data';\n",
              "          await google.colab.output.renderOutput(dataTable, element);\n",
              "          const docLink = document.createElement('div');\n",
              "          docLink.innerHTML = docLinkHtml;\n",
              "          element.appendChild(docLink);\n",
              "        }\n",
              "      </script>\n",
              "    </div>\n",
              "  </div>\n",
              "  "
            ],
            "text/plain": [
              "  category  ...                                    imageURLHighRes\n",
              "0       []  ...                                                 []\n",
              "1       []  ...                                                 []\n",
              "2       []  ...                                                 []\n",
              "3       []  ...  [https://images-na.ssl-images-amazon.com/image...\n",
              "4       []  ...  [https://images-na.ssl-images-amazon.com/image...\n",
              "\n",
              "[5 rows x 19 columns]"
            ]
          },
          "metadata": {},
          "execution_count": 3
        }
      ],
      "source": [
        "# meta_all_beauty_path = 'data/meta_All_Beauty.json.gz'\n",
        "meta_all_beauty_path = 'http://deepyeti.ucsd.edu/jianmo/amazon/metaFiles2/meta_All_Beauty.json.gz'\n",
        "metadata = pd.read_json(\n",
        "    meta_all_beauty_path,\n",
        "    lines=True,\n",
        "    compression=\"gzip\"\n",
        ")\n",
        "metadata.head()"
      ],
      "metadata": {
        "pycharm": {
          "name": "#%%\n"
        },
        "id": "AWTaRbOfs4bi",
        "outputId": "e5f5544b-6c83-423e-95a6-a46640b2aeda",
        "colab": {
          "base_uri": "https://localhost:8080/",
          "height": 669
        }
      }
    },
    {
      "cell_type": "markdown",
      "source": [
        "# 準備訓練和測試資料\n",
        "* `ratings_trainings`: 準備訓練\n",
        "* `ratings_testings`: 測試資料"
      ],
      "metadata": {
        "collapsed": false,
        "id": "EGwyOkMTs4bj"
      }
    },
    {
      "cell_type": "code",
      "execution_count": null,
      "outputs": [],
      "source": [
        "# 真實被購買的商品資料（2018-09-01 以前資料）\n",
        "ratings_trainings = ratings[\n",
        "    (ratings['DATE'] < '2018-09-01')\n",
        "]\n",
        "\n",
        "# 真實被購買的商品資料（2018-09-01 - 2018-09-30 的資料）\n",
        "ratings_testings = ratings[\n",
        "    (ratings['DATE'] >= '2018-09-01') &\n",
        "    (ratings['DATE'] <= '2018-09-30')\n",
        "]"
      ],
      "metadata": {
        "pycharm": {
          "name": "#%%\n"
        },
        "id": "DecLMM3Ps4bj"
      }
    },
    {
      "cell_type": "markdown",
      "source": [
        "# 準備使用者清單\n",
        "`users`: 使用者清單"
      ],
      "metadata": {
        "collapsed": false,
        "pycharm": {
          "name": "#%% md\n"
        },
        "id": "xaEJvIRks4bk"
      }
    },
    {
      "cell_type": "code",
      "execution_count": null,
      "outputs": [
        {
          "output_type": "execute_result",
          "data": {
            "text/plain": [
              "['A100XQFWKQ30O2', 'A103T1QOGFCSEH', 'A106UKKSJ2KXPF', 'A10A7GV4D5A11V']"
            ]
          },
          "metadata": {},
          "execution_count": 5
        }
      ],
      "source": [
        "# userID -> asin list\n",
        "ratings_testings_by_user = ratings_testings.groupby('reviewerID').agg(list).reset_index()[['reviewerID', 'asin']].to_dict('records')\n",
        "ratings_testings_by_user = { rating['reviewerID']: rating['asin'] for rating in ratings_testings_by_user }\n",
        "\n",
        "# userID list\n",
        "users = list(ratings_testings_by_user.keys())\n",
        "users[0:4]"
      ],
      "metadata": {
        "pycharm": {
          "name": "#%%\n"
        },
        "id": "sfTYWW-ms4bl",
        "outputId": "7f6db1a6-d1dc-48ea-a939-d935f8aecbd3",
        "colab": {
          "base_uri": "https://localhost:8080/"
        }
      }
    },
    {
      "cell_type": "markdown",
      "source": [
        "# 分析品牌次數分佈"
      ],
      "metadata": {
        "collapsed": false,
        "pycharm": {
          "name": "#%% md\n"
        },
        "id": "FczzYbfzs4bm"
      }
    },
    {
      "cell_type": "markdown",
      "source": [
        "## 分析品牌頻次的統計分析\n",
        "* `user_brand_meta`：品牌頻次的統計分析"
      ],
      "metadata": {
        "collapsed": false,
        "id": "eKvaZvV9s4bm"
      }
    },
    {
      "cell_type": "code",
      "execution_count": null,
      "outputs": [
        {
          "output_type": "execute_result",
          "data": {
            "text/html": [
              "\n",
              "  <div id=\"df-781b601c-c3f1-484d-b060-15180ad12e13\">\n",
              "    <div class=\"colab-df-container\">\n",
              "      <div>\n",
              "<style scoped>\n",
              "    .dataframe tbody tr th:only-of-type {\n",
              "        vertical-align: middle;\n",
              "    }\n",
              "\n",
              "    .dataframe tbody tr th {\n",
              "        vertical-align: top;\n",
              "    }\n",
              "\n",
              "    .dataframe thead th {\n",
              "        text-align: right;\n",
              "    }\n",
              "</style>\n",
              "<table border=\"1\" class=\"dataframe\">\n",
              "  <thead>\n",
              "    <tr style=\"text-align: right;\">\n",
              "      <th></th>\n",
              "      <th>list</th>\n",
              "      <th>size</th>\n",
              "      <th>sum</th>\n",
              "      <th>mean</th>\n",
              "      <th>std</th>\n",
              "      <th>list_normal</th>\n",
              "      <th>list_normal_std</th>\n",
              "    </tr>\n",
              "    <tr>\n",
              "      <th>reviewerID</th>\n",
              "      <th></th>\n",
              "      <th></th>\n",
              "      <th></th>\n",
              "      <th></th>\n",
              "      <th></th>\n",
              "      <th></th>\n",
              "      <th></th>\n",
              "    </tr>\n",
              "  </thead>\n",
              "  <tbody>\n",
              "    <tr>\n",
              "      <th>A38FB414U3B72L</th>\n",
              "      <td>[12, 1]</td>\n",
              "      <td>2</td>\n",
              "      <td>13</td>\n",
              "      <td>6.5</td>\n",
              "      <td>7.778175</td>\n",
              "      <td>[0.9230769230769231, 0.07692307692307693]</td>\n",
              "      <td>0.423077</td>\n",
              "    </tr>\n",
              "    <tr>\n",
              "      <th>A1VUXNNB1NJ2PT</th>\n",
              "      <td>[12, 1]</td>\n",
              "      <td>2</td>\n",
              "      <td>13</td>\n",
              "      <td>6.5</td>\n",
              "      <td>7.778175</td>\n",
              "      <td>[0.9230769230769231, 0.07692307692307693]</td>\n",
              "      <td>0.423077</td>\n",
              "    </tr>\n",
              "    <tr>\n",
              "      <th>A308W2VVT0LNRL</th>\n",
              "      <td>[9, 1]</td>\n",
              "      <td>2</td>\n",
              "      <td>10</td>\n",
              "      <td>5.0</td>\n",
              "      <td>5.656854</td>\n",
              "      <td>[0.9, 0.1]</td>\n",
              "      <td>0.400000</td>\n",
              "    </tr>\n",
              "    <tr>\n",
              "      <th>AATIW1XBE0NBE</th>\n",
              "      <td>[7, 1]</td>\n",
              "      <td>2</td>\n",
              "      <td>8</td>\n",
              "      <td>4.0</td>\n",
              "      <td>4.242641</td>\n",
              "      <td>[0.875, 0.125]</td>\n",
              "      <td>0.375000</td>\n",
              "    </tr>\n",
              "    <tr>\n",
              "      <th>A3PR4E9LZ76KOJ</th>\n",
              "      <td>[7, 1]</td>\n",
              "      <td>2</td>\n",
              "      <td>8</td>\n",
              "      <td>4.0</td>\n",
              "      <td>4.242641</td>\n",
              "      <td>[0.875, 0.125]</td>\n",
              "      <td>0.375000</td>\n",
              "    </tr>\n",
              "  </tbody>\n",
              "</table>\n",
              "</div>\n",
              "      <button class=\"colab-df-convert\" onclick=\"convertToInteractive('df-781b601c-c3f1-484d-b060-15180ad12e13')\"\n",
              "              title=\"Convert this dataframe to an interactive table.\"\n",
              "              style=\"display:none;\">\n",
              "        \n",
              "  <svg xmlns=\"http://www.w3.org/2000/svg\" height=\"24px\"viewBox=\"0 0 24 24\"\n",
              "       width=\"24px\">\n",
              "    <path d=\"M0 0h24v24H0V0z\" fill=\"none\"/>\n",
              "    <path d=\"M18.56 5.44l.94 2.06.94-2.06 2.06-.94-2.06-.94-.94-2.06-.94 2.06-2.06.94zm-11 1L8.5 8.5l.94-2.06 2.06-.94-2.06-.94L8.5 2.5l-.94 2.06-2.06.94zm10 10l.94 2.06.94-2.06 2.06-.94-2.06-.94-.94-2.06-.94 2.06-2.06.94z\"/><path d=\"M17.41 7.96l-1.37-1.37c-.4-.4-.92-.59-1.43-.59-.52 0-1.04.2-1.43.59L10.3 9.45l-7.72 7.72c-.78.78-.78 2.05 0 2.83L4 21.41c.39.39.9.59 1.41.59.51 0 1.02-.2 1.41-.59l7.78-7.78 2.81-2.81c.8-.78.8-2.07 0-2.86zM5.41 20L4 18.59l7.72-7.72 1.47 1.35L5.41 20z\"/>\n",
              "  </svg>\n",
              "      </button>\n",
              "      \n",
              "  <style>\n",
              "    .colab-df-container {\n",
              "      display:flex;\n",
              "      flex-wrap:wrap;\n",
              "      gap: 12px;\n",
              "    }\n",
              "\n",
              "    .colab-df-convert {\n",
              "      background-color: #E8F0FE;\n",
              "      border: none;\n",
              "      border-radius: 50%;\n",
              "      cursor: pointer;\n",
              "      display: none;\n",
              "      fill: #1967D2;\n",
              "      height: 32px;\n",
              "      padding: 0 0 0 0;\n",
              "      width: 32px;\n",
              "    }\n",
              "\n",
              "    .colab-df-convert:hover {\n",
              "      background-color: #E2EBFA;\n",
              "      box-shadow: 0px 1px 2px rgba(60, 64, 67, 0.3), 0px 1px 3px 1px rgba(60, 64, 67, 0.15);\n",
              "      fill: #174EA6;\n",
              "    }\n",
              "\n",
              "    [theme=dark] .colab-df-convert {\n",
              "      background-color: #3B4455;\n",
              "      fill: #D2E3FC;\n",
              "    }\n",
              "\n",
              "    [theme=dark] .colab-df-convert:hover {\n",
              "      background-color: #434B5C;\n",
              "      box-shadow: 0px 1px 3px 1px rgba(0, 0, 0, 0.15);\n",
              "      filter: drop-shadow(0px 1px 2px rgba(0, 0, 0, 0.3));\n",
              "      fill: #FFFFFF;\n",
              "    }\n",
              "  </style>\n",
              "\n",
              "      <script>\n",
              "        const buttonEl =\n",
              "          document.querySelector('#df-781b601c-c3f1-484d-b060-15180ad12e13 button.colab-df-convert');\n",
              "        buttonEl.style.display =\n",
              "          google.colab.kernel.accessAllowed ? 'block' : 'none';\n",
              "\n",
              "        async function convertToInteractive(key) {\n",
              "          const element = document.querySelector('#df-781b601c-c3f1-484d-b060-15180ad12e13');\n",
              "          const dataTable =\n",
              "            await google.colab.kernel.invokeFunction('convertToInteractive',\n",
              "                                                     [key], {});\n",
              "          if (!dataTable) return;\n",
              "\n",
              "          const docLinkHtml = 'Like what you see? Visit the ' +\n",
              "            '<a target=\"_blank\" href=https://colab.research.google.com/notebooks/data_table.ipynb>data table notebook</a>'\n",
              "            + ' to learn more about interactive tables.';\n",
              "          element.innerHTML = '';\n",
              "          dataTable['output_type'] = 'display_data';\n",
              "          await google.colab.output.renderOutput(dataTable, element);\n",
              "          const docLink = document.createElement('div');\n",
              "          docLink.innerHTML = docLinkHtml;\n",
              "          element.appendChild(docLink);\n",
              "        }\n",
              "      </script>\n",
              "    </div>\n",
              "  </div>\n",
              "  "
            ],
            "text/plain": [
              "                   list  ...  list_normal_std\n",
              "reviewerID               ...                 \n",
              "A38FB414U3B72L  [12, 1]  ...         0.423077\n",
              "A1VUXNNB1NJ2PT  [12, 1]  ...         0.423077\n",
              "A308W2VVT0LNRL   [9, 1]  ...         0.400000\n",
              "AATIW1XBE0NBE    [7, 1]  ...         0.375000\n",
              "A3PR4E9LZ76KOJ   [7, 1]  ...         0.375000\n",
              "\n",
              "[5 rows x 7 columns]"
            ]
          },
          "metadata": {},
          "execution_count": 6
        }
      ],
      "source": [
        "def compute_user_brand_meta(training_data, metadata):\n",
        "    # 計算使用者已購買過的品牌\n",
        "    ratings_trainings_with_meta = training_data.merge(metadata, left_on='asin', right_on='asin')\n",
        "    user_brand_size = ratings_trainings_with_meta.groupby(['reviewerID', 'brand']).size()\n",
        "\n",
        "    # 品牌頻次統計\n",
        "    user_brand_meta = user_brand_size.groupby(level=0).agg([list, 'size', 'sum', 'mean', 'std'])\n",
        "    user_brand_meta = user_brand_meta.sort_values(by=['size'], ascending=False)\n",
        "\n",
        "    # 標準化頻次\n",
        "    def normalize(row):\n",
        "        return [elt/row['sum'] for elt in row['list']]\n",
        "    user_brand_meta['list_normal'] = user_brand_meta.apply(lambda row: normalize(row), axis=1)\n",
        "\n",
        "    # 計算 list_normal_std\n",
        "    def list_std(row):\n",
        "        return np.std(row['list_normal'])\n",
        "    user_brand_meta['list_normal_std'] = user_brand_meta.apply(lambda row: list_std(row), axis=1)\n",
        "\n",
        "    user_brand_meta = user_brand_meta.sort_values(by='list_normal_std', ascending=False)\n",
        "    return user_brand_meta\n",
        "user_brand_meta_df = compute_user_brand_meta(ratings_trainings, metadata)\n",
        "user_brand_meta_df.head()"
      ],
      "metadata": {
        "pycharm": {
          "name": "#%%\n"
        },
        "id": "q4nLRMBks4bn",
        "outputId": "97168a38-fb0f-4534-a551-8bd7e7811bc4",
        "colab": {
          "base_uri": "https://localhost:8080/",
          "height": 238
        }
      }
    },
    {
      "cell_type": "markdown",
      "source": [
        "## 觀察 list_normal_std 的分佈"
      ],
      "metadata": {
        "collapsed": false,
        "id": "uFC8yO8Qs4bo"
      }
    },
    {
      "cell_type": "code",
      "execution_count": null,
      "outputs": [
        {
          "output_type": "stream",
          "name": "stdout",
          "text": [
            "min - max: 0.0 - 0.42307692307692313\n",
            "[0.0 , 0.04230769230769231) => 314246\n",
            "[0.04230769230769231 , 0.08461538461538462) => 710\n",
            "[0.08461538461538462 , 0.12692307692307692) => 1155\n",
            "[0.12692307692307692 , 0.16923076923076924) => 2219\n",
            "[0.16923076923076924 , 0.21153846153846156) => 76\n",
            "[0.21153846153846156 , 0.25384615384615383) => 297\n",
            "[0.25384615384615383 , 0.29615384615384616) => 8\n",
            "[0.29615384615384616 , 0.3384615384615385) => 63\n",
            "[0.3384615384615385 , 0.3807692307692308) => 9\n",
            "[0.3807692307692308 , 0.42307692307692313) => 1\n",
            "[0.42307692307692313 , 0.4653846153846154) => 2\n"
          ]
        }
      ],
      "source": [
        "# 觀察 list_normal_std 的分佈\n",
        "normal_std_list = user_brand_meta_df['list_normal_std']\n",
        "bin_size = 10\n",
        "step = (normal_std_list.max() - normal_std_list.min())/bin_size\n",
        "bins = [normal_std_list.min() + x * step for x in range(0, bin_size + 2)]\n",
        "print('min - max: %s - %s' % (normal_std_list.min(), normal_std_list.max()))\n",
        "\n",
        "hist, bin_edges = np.histogram(list(normal_std_list), bins=bins)\n",
        "for i in range(len(hist)):\n",
        "    print('[%s , %s) => %s' % (bins[i], bins[i+1], hist[i]))"
      ],
      "metadata": {
        "pycharm": {
          "name": "#%%\n"
        },
        "id": "pYRob_rZs4bo",
        "outputId": "74e1eb65-84b3-4dd8-91f7-208815d94597",
        "colab": {
          "base_uri": "https://localhost:8080/"
        }
      }
    },
    {
      "cell_type": "markdown",
      "source": [
        "策略： `list_normal_std` < `0.0423` 的人都推同一個品牌，否則就不同品牌\n"
      ],
      "metadata": {
        "collapsed": false,
        "pycharm": {
          "name": "#%% md\n"
        },
        "id": "pF8Gusb0s4bp"
      }
    },
    {
      "cell_type": "markdown",
      "source": [
        "## 品牌數量的分佈\n",
        "我們來看看品牌數的分佈"
      ],
      "metadata": {
        "collapsed": false,
        "pycharm": {
          "name": "#%% md\n"
        },
        "id": "0i9jCeDDs4bp"
      }
    },
    {
      "cell_type": "code",
      "execution_count": null,
      "outputs": [
        {
          "output_type": "stream",
          "name": "stdout",
          "text": [
            "#(品牌數=1): 302890 人\n",
            "#(品牌數>1): 15896人\n",
            "\n",
            "(品牌數>1) 的佔比: 4.986417220329631 %\n",
            "\n"
          ]
        }
      ],
      "source": [
        "brand_freq = user_brand_meta_df.groupby(by='size').size()\n",
        "print('#(品牌數=1): %s 人\\n#(品牌數>1): %s人\\n' % (brand_freq[1], brand_freq.sum() - brand_freq[1]))\n",
        "print('(品牌數>1) 的佔比: %s %%\\n' % ((1.0 - brand_freq[1]/brand_freq.sum()) * 100))"
      ],
      "metadata": {
        "pycharm": {
          "name": "#%%\n"
        },
        "id": "iodCiBSps4bp",
        "outputId": "218f6f00-8646-4c98-dfc8-998706097f3f",
        "colab": {
          "base_uri": "https://localhost:8080/"
        }
      }
    },
    {
      "cell_type": "code",
      "execution_count": null,
      "outputs": [
        {
          "output_type": "display_data",
          "data": {
            "image/png": "[encoded data removed]",
            "text/plain": [
              "<Figure size 432x288 with 1 Axes>"
            ]
          },
          "metadata": {}
        }
      ],
      "source": [
        "# 分佈直條圖\n",
        "left = np.array(brand_freq.index)\n",
        "height = brand_freq.values\n",
        "fig = plt.figure()\n",
        "fig.patch.set_facecolor('xkcd:white')\n",
        "plt.bar(range(0, left.size), height, tick_label=[str(s) for s in left])\n",
        "# plt.yscale('log')\n",
        "plt.title('brand size')\n",
        "plt.show()"
      ],
      "metadata": {
        "pycharm": {
          "name": "#%%\n"
        },
        "id": "Qq97_NM5s4bq",
        "outputId": "497fd132-423b-49f4-8e99-e1ac7a4266b7",
        "colab": {
          "base_uri": "https://localhost:8080/",
          "height": 281
        }
      }
    },
    {
      "cell_type": "markdown",
      "source": [
        "## 分析結論\n",
        "依品依頻次來看，所有 318786 人只有 15896 有兩個品牌以上。因此可以預期若單純用到\"品牌統計結果\"的策略，可能會影響到的人數會很少。"
      ],
      "metadata": {
        "collapsed": false,
        "id": "DF8Vf-QQs4bq"
      }
    },
    {
      "cell_type": "markdown",
      "source": [
        "# 產生推薦結果\n",
        "\n",
        "利用切分好的訓練資料（也就是最後一個月以前的資料）用來學習模式，產生「最後一個月推薦給使用者的商品」作為我們預測的推薦資料。\n",
        "在這個過程中，會指定輸入的資料會包含：\n",
        "\n",
        "* 訓練資料(`ratings_trainings`, `metadata`)：歷史行為與商品資訊（All_Beauty.csv / meta_All_Beauty.json.gz）\n",
        "* 使用者列表(`users`)：需要被推薦的使用者清單\n",
        "* Top-K：每一個使用者需要推薦幾個商品數\n",
        "\n",
        "而最後需要輸出的資料是「需要被推薦的使用者分別推薦哪 k 個商品」"
      ],
      "metadata": {
        "collapsed": false,
        "id": "BLzeJ0Ams4bq"
      }
    },
    {
      "cell_type": "markdown",
      "source": [
        "# 推薦\n",
        "原理購買品牌的分散程度，來決定是否是推薦同品牌還是不同品牌\n",
        "\n",
        "```\n",
        "同品牌的頃向 = 購買品牌頻次的比例的標準差\n",
        "```"
      ],
      "metadata": {
        "collapsed": false,
        "pycharm": {
          "name": "#%% md\n"
        },
        "id": "AfkCykoQs4br"
      }
    },
    {
      "cell_type": "code",
      "execution_count": null,
      "outputs": [],
      "source": [
        "# 注：額外需要 metadata\n",
        "def recommender(training_data, user_ids=[], k=10):\n",
        "    \"\"\"\n",
        "    * training_data: dataframe 輸入的訓練資料集（2018-09-01 以前資料）\n",
        "    * users: [] 需要被推薦的使用者\n",
        "    * k: int 每個使用者需要推薦的商品數\n",
        "    * recommendations: dict\n",
        "      {\n",
        "          使用者一： [推薦商品一, 推薦商品二, ...],\n",
        "          使用者二： [...], ...\n",
        "      }\n",
        "    \"\"\"\n",
        "    ratings_trainings_with_meta = training_data.merge(metadata, left_on='asin', right_on='asin')\n",
        "    user_brand_meta_stats = compute_user_brand_meta(training_data, metadata)\n",
        "\n",
        "    # 依 threshold 分成兩群\n",
        "    # 對於 lt_threshold_user_ids 的人 -> 推薦同品牌\n",
        "    # 對於 gte_threshold_user_ids 的人 -> 推薦不同品牌，除了已買的\n",
        "    threshold = 0.0423\n",
        "    user_brand_meta_lt_threshold = user_brand_meta_stats[user_brand_meta_stats['list_normal_std'] < threshold]\n",
        "    user_brand_meta_gte_threshold = user_brand_meta_stats[user_brand_meta_stats['list_normal_std'] >= threshold]\n",
        "\n",
        "    lt_threshold_user_ids = user_brand_meta_lt_threshold.index.tolist()\n",
        "    gte_threshold_user_ids = user_brand_meta_gte_threshold.index.tolist()\n",
        "\n",
        "    # 過去購買的品牌\n",
        "    ratings_trainings_with_brands = ratings_trainings_with_meta[['reviewerID', 'brand']].groupby(['reviewerID']).agg(list)\n",
        "    user_to_brands = { user_id: ratings_trainings_with_brands['brand'][user_id] for user_id in ratings_trainings_with_brands.index }\n",
        "\n",
        "    # 計算\n",
        "    recommendations = {}\n",
        "    count_no_brands = 0\n",
        "    count_same_brands = 0\n",
        "    count_not_same_brands = 0\n",
        "    count_default_brands = 0\n",
        "\n",
        "    for user in user_ids:\n",
        "        if user not in user_to_brands:\n",
        "            # 沒有過去購買紀錄的人，default: 從過去的購買清單選\n",
        "            count_no_brands += 1\n",
        "            recommendations[user] = ratings_trainings_with_meta['asin'].sample(n=k).tolist()\n",
        "        else:\n",
        "            bought_brands = user_to_brands[user]\n",
        "            if user in lt_threshold_user_ids:\n",
        "                # 推薦同品牌\n",
        "                count_same_brands += 1\n",
        "                rec_list = ratings_trainings_with_meta[ratings_trainings_with_meta['brand'].isin(bought_brands)]['asin']\n",
        "                take_n = np.min([k, len(rec_list)])\n",
        "                recommendations[user] = rec_list.sample(n=take_n).tolist()\n",
        "                # 不夠的，從過去的購買清單選\n",
        "                if (k - take_n) > 0:\n",
        "                    recommendations[user] += ratings_trainings_with_meta[~ratings_trainings_with_meta['brand'].isin(bought_brands)]['asin'].sample(n=k - take_n).tolist()\n",
        "            elif user in gte_threshold_user_ids:\n",
        "                # 推薦不同品牌，除了已買的\n",
        "                count_not_same_brands += 1\n",
        "                rec_list = ratings_trainings_with_meta[~ratings_trainings_with_meta['brand'].isin(bought_brands)]['asin']\n",
        "                recommendations[user] = rec_list.sample(n=np.min([k, len(rec_list)])).tolist()\n",
        "            else:\n",
        "                # 沒有品牌，隨意\n",
        "                count_default_brands += 1\n",
        "                recommendations[user] = ratings_trainings_with_meta['asin'].sample(n=k).tolist()\n",
        "    print('count_no_brands: %s\\ncount_same_brands: %s\\ncount_not_same_brands: %s\\ncount_default_brands: %s' % (count_no_brands, count_same_brands, count_not_same_brands, count_default_brands))\n",
        "    return recommendations"
      ],
      "metadata": {
        "pycharm": {
          "name": "#%%\n"
        },
        "id": "Sa6DU3ahs4br"
      }
    },
    {
      "cell_type": "code",
      "source": [
        "ratings_by_user = recommender(ratings_trainings, users)"
      ],
      "metadata": {
        "pycharm": {
          "name": "#%%\n"
        },
        "id": "lONQxuIys4bs",
        "outputId": "693d8c21-2d3e-4be2-98a7-a4c5d0ce846e",
        "colab": {
          "base_uri": "https://localhost:8080/"
        }
      },
      "execution_count": null,
      "outputs": [
        {
          "output_type": "stream",
          "name": "stdout",
          "text": [
            "count_no_brands: 546\n",
            "count_same_brands: 38\n",
            "count_not_same_brands: 0\n",
            "count_default_brands: 0\n"
          ]
        }
      ]
    },
    {
      "cell_type": "markdown",
      "source": [
        "# Recall 結果評估"
      ],
      "metadata": {
        "collapsed": false,
        "id": "xVVkeonTs4bs"
      }
    },
    {
      "cell_type": "code",
      "execution_count": null,
      "outputs": [
        {
          "output_type": "execute_result",
          "data": {
            "text/plain": [
              "0.011864406779661017"
            ]
          },
          "metadata": {},
          "execution_count": 15
        }
      ],
      "source": [
        "def evaluate(ratings_testings_by_user={}, ratings_by_user={}, method=None):\n",
        "    \"\"\"\n",
        "    * ratings_testings_by_user: dict 真實被購買的商品資料（2018-09-01 以後資料）\n",
        "    * ratings_by_user: dict 利用訓練資料學習的推薦商品\n",
        "    * method: str\n",
        "    * score: float\n",
        "    \"\"\"\n",
        "    total = 0\n",
        "    for user_id in ratings_testings_by_user:\n",
        "        if user_id in ratings_by_user: # 只計對有購買者\n",
        "            total += len(set(ratings_by_user[user_id]) & set(ratings_testings_by_user[user_id]))\n",
        "    score = total / len(ratings_testings)\n",
        "    return score\n",
        "evaluate(ratings_testings_by_user, ratings_by_user)\n"
      ],
      "metadata": {
        "pycharm": {
          "name": "#%%\n"
        },
        "id": "mFNromzxs4bs",
        "outputId": "fec88c32-7cb0-428c-82ce-2729c32fd45b",
        "colab": {
          "base_uri": "https://localhost:8080/"
        }
      }
    }
  ],
  "metadata": {
    "kernelspec": {
      "display_name": "Python 3",
      "language": "python",
      "name": "python3"
    },
    "language_info": {
      "codemirror_mode": {
        "name": "ipython",
        "version": 2
      },
      "file_extension": ".py",
      "mimetype": "text/x-python",
      "name": "python",
      "nbconvert_exporter": "python",
      "pygments_lexer": "ipython2",
      "version": "2.7.6"
    },
    "colab": {
      "name": " U31.ipynb",
      "provenance": [],
      "include_colab_link": true
    }
  },
  "nbformat": 4,
  "nbformat_minor": 0
}