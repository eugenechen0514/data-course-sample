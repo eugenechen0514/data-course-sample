{
 "cells": [
  {
   "cell_type": "code",
   "execution_count": 1,
   "metadata": {
    "collapsed": true,
    "id": "3MjlEUzhs4bb"
   },
   "outputs": [],
   "source": [
    "import pandas as pd\n",
    "import numpy as np\n",
    "from sklearn.feature_extraction.text import TfidfVectorizer\n",
    "from sklearn.metrics.pairwise import cosine_similarity\n",
    "import matplotlib.pyplot as plt\n",
    "from sklearn.manifold import TSNE\n",
    "from sklearn import preprocessing\n",
    "from datetime import datetime"
   ]
  },
  {
   "cell_type": "markdown",
   "source": [
    "# A. 準備資料"
   ],
   "metadata": {
    "collapsed": false,
    "pycharm": {
     "name": "#%% md\n"
    }
   }
  },
  {
   "cell_type": "code",
   "execution_count": 2,
   "outputs": [
    {
     "data": {
      "text/plain": "         asin      reviewerID  overall  unixReviewTime       DATE\n0  0143026860  A1V6B6TNIC10QE      1.0    1.424304e+09 2015-02-19\n1  0143026860  A2F5GHSXFQ0W6J      4.0    1.418861e+09 2014-12-18\n2  0143026860  A1572GUYS7DGSR      4.0    1.407629e+09 2014-08-10\n3  0143026860   A1PSGLFK1NSVO      5.0    1.362960e+09 2013-03-11\n4  0143026860   A6IKXKZMTKGSC      5.0    1.324771e+09 2011-12-25",
      "text/html": "<div>\n<style scoped>\n    .dataframe tbody tr th:only-of-type {\n        vertical-align: middle;\n    }\n\n    .dataframe tbody tr th {\n        vertical-align: top;\n    }\n\n    .dataframe thead th {\n        text-align: right;\n    }\n</style>\n<table border=\"1\" class=\"dataframe\">\n  <thead>\n    <tr style=\"text-align: right;\">\n      <th></th>\n      <th>asin</th>\n      <th>reviewerID</th>\n      <th>overall</th>\n      <th>unixReviewTime</th>\n      <th>DATE</th>\n    </tr>\n  </thead>\n  <tbody>\n    <tr>\n      <th>0</th>\n      <td>0143026860</td>\n      <td>A1V6B6TNIC10QE</td>\n      <td>1.0</td>\n      <td>1.424304e+09</td>\n      <td>2015-02-19</td>\n    </tr>\n    <tr>\n      <th>1</th>\n      <td>0143026860</td>\n      <td>A2F5GHSXFQ0W6J</td>\n      <td>4.0</td>\n      <td>1.418861e+09</td>\n      <td>2014-12-18</td>\n    </tr>\n    <tr>\n      <th>2</th>\n      <td>0143026860</td>\n      <td>A1572GUYS7DGSR</td>\n      <td>4.0</td>\n      <td>1.407629e+09</td>\n      <td>2014-08-10</td>\n    </tr>\n    <tr>\n      <th>3</th>\n      <td>0143026860</td>\n      <td>A1PSGLFK1NSVO</td>\n      <td>5.0</td>\n      <td>1.362960e+09</td>\n      <td>2013-03-11</td>\n    </tr>\n    <tr>\n      <th>4</th>\n      <td>0143026860</td>\n      <td>A6IKXKZMTKGSC</td>\n      <td>5.0</td>\n      <td>1.324771e+09</td>\n      <td>2011-12-25</td>\n    </tr>\n  </tbody>\n</table>\n</div>"
     },
     "execution_count": 2,
     "metadata": {},
     "output_type": "execute_result"
    }
   ],
   "source": [
    "# all_beauty_path = 'data/All_Beauty.csv'\n",
    "all_beauty_path = 'http://deepyeti.ucsd.edu/jianmo/amazon/categoryFilesSmall/All_Beauty.csv'\n",
    "ratings = pd.read_csv(\n",
    "    all_beauty_path,\n",
    "    names=[\"asin\", \"reviewerID\", \"overall\", \"unixReviewTime\"],\n",
    "    dtype={\"asin\": np.str_, \"reviewerID\": np.str_, \"overall\": np.float32, \"unixReviewTime\": np.float64 }\n",
    ")\n",
    "ratings['DATE'] = pd.to_datetime(ratings['unixReviewTime'], unit='s')\n",
    "ratings.head()"
   ],
   "metadata": {
    "pycharm": {
     "name": "#%%\n"
    },
    "id": "zsUO2KxOs4bh",
    "outputId": "f57e34a1-572f-4a01-d548-c5a2205a2c9b",
    "colab": {
     "base_uri": "https://localhost:8080/",
     "height": 206
    }
   }
  },
  {
   "cell_type": "code",
   "execution_count": 3,
   "outputs": [
    {
     "data": {
      "text/plain": "  category tech1                                        description fit  \\\n0       []        [Loud 'N Clear Personal Sound Amplifier allows...       \n1       []        [No7 Lift & Luminate Triple Action Serum 50ml ...       \n2       []        [No7 Stay Perfect Foundation now stays perfect...       \n3       []                                                       []       \n4       []        [Lacto Calamine Skin Balance Daily Nourishing ...       \n\n                                               title  \\\n0      Loud 'N Clear&trade; Personal Sound Amplifier   \n1  No7 Lift &amp; Luminate Triple Action Serum 50...   \n2    No7 Stay Perfect Foundation Cool Vanilla by No7   \n3  Wella Koleston Perfect Hair Colour 44/44 Mediu...   \n4  Lacto Calamine Skin Balance Oil control 120 ml...   \n\n                   also_buy tech2              brand feature  \\\n0                        []             idea village      []   \n1  [B01E7LCSL6, B008X5RVME]                               []   \n2                        []                      No7      []   \n3              [B0041PBXX8]                               []   \n4                        []        Pirmal Healthcare      []   \n\n                                    rank  \\\n0  2,938,573 in Beauty & Personal Care (   \n1    872,854 in Beauty & Personal Care (   \n2    956,696 in Beauty & Personal Care (   \n3  1,870,258 in Beauty & Personal Care (   \n4     67,701 in Beauty & Personal Care (   \n\n                                           also_view  \\\n0                                                 []   \n1                                                 []   \n2               [B01B8BR0O8, B01B8BR0NO, B014MHXXM8]   \n3                                                 []   \n4  [3254895630, B007VL1D9S, B00EH9A0RI, B0773MBG4...   \n\n                                             details    main_cat  \\\n0                           {'ASIN: ': '6546546450'}  All Beauty   \n1  {'Shipping Weight:': '0.3 ounces (', 'ASIN: ':...  All Beauty   \n2  {'Shipping Weight:': '3.5 ounces (', 'ASIN: ':...  All Beauty   \n3  {'\n    Item Weight: \n    ': '1.76 ounces', 'Sh...  All Beauty   \n4  {'Shipping Weight:': '12 ounces (', 'ASIN: ': ...  All Beauty   \n\n                                        similar_item date   price        asin  \\\n0                                                                  6546546450   \n1   class=\"a-bordered a-horizontal-stripes  a-spa...       $44.99  7178680776   \n2                                                          $28.76  7250468162   \n3                                                                  7367905066   \n4                                                          $12.15  7414204790   \n\n                                            imageURL  \\\n0                                                 []   \n1                                                 []   \n2                                                 []   \n3  [https://images-na.ssl-images-amazon.com/image...   \n4  [https://images-na.ssl-images-amazon.com/image...   \n\n                                     imageURLHighRes  \n0                                                 []  \n1                                                 []  \n2                                                 []  \n3  [https://images-na.ssl-images-amazon.com/image...  \n4  [https://images-na.ssl-images-amazon.com/image...  ",
      "text/html": "<div>\n<style scoped>\n    .dataframe tbody tr th:only-of-type {\n        vertical-align: middle;\n    }\n\n    .dataframe tbody tr th {\n        vertical-align: top;\n    }\n\n    .dataframe thead th {\n        text-align: right;\n    }\n</style>\n<table border=\"1\" class=\"dataframe\">\n  <thead>\n    <tr style=\"text-align: right;\">\n      <th></th>\n      <th>category</th>\n      <th>tech1</th>\n      <th>description</th>\n      <th>fit</th>\n      <th>title</th>\n      <th>also_buy</th>\n      <th>tech2</th>\n      <th>brand</th>\n      <th>feature</th>\n      <th>rank</th>\n      <th>also_view</th>\n      <th>details</th>\n      <th>main_cat</th>\n      <th>similar_item</th>\n      <th>date</th>\n      <th>price</th>\n      <th>asin</th>\n      <th>imageURL</th>\n      <th>imageURLHighRes</th>\n    </tr>\n  </thead>\n  <tbody>\n    <tr>\n      <th>0</th>\n      <td>[]</td>\n      <td></td>\n      <td>[Loud 'N Clear Personal Sound Amplifier allows...</td>\n      <td></td>\n      <td>Loud 'N Clear&amp;trade; Personal Sound Amplifier</td>\n      <td>[]</td>\n      <td></td>\n      <td>idea village</td>\n      <td>[]</td>\n      <td>2,938,573 in Beauty &amp; Personal Care (</td>\n      <td>[]</td>\n      <td>{'ASIN: ': '6546546450'}</td>\n      <td>All Beauty</td>\n      <td></td>\n      <td></td>\n      <td></td>\n      <td>6546546450</td>\n      <td>[]</td>\n      <td>[]</td>\n    </tr>\n    <tr>\n      <th>1</th>\n      <td>[]</td>\n      <td></td>\n      <td>[No7 Lift &amp; Luminate Triple Action Serum 50ml ...</td>\n      <td></td>\n      <td>No7 Lift &amp;amp; Luminate Triple Action Serum 50...</td>\n      <td>[B01E7LCSL6, B008X5RVME]</td>\n      <td></td>\n      <td></td>\n      <td>[]</td>\n      <td>872,854 in Beauty &amp; Personal Care (</td>\n      <td>[]</td>\n      <td>{'Shipping Weight:': '0.3 ounces (', 'ASIN: ':...</td>\n      <td>All Beauty</td>\n      <td>class=\"a-bordered a-horizontal-stripes  a-spa...</td>\n      <td></td>\n      <td>$44.99</td>\n      <td>7178680776</td>\n      <td>[]</td>\n      <td>[]</td>\n    </tr>\n    <tr>\n      <th>2</th>\n      <td>[]</td>\n      <td></td>\n      <td>[No7 Stay Perfect Foundation now stays perfect...</td>\n      <td></td>\n      <td>No7 Stay Perfect Foundation Cool Vanilla by No7</td>\n      <td>[]</td>\n      <td></td>\n      <td>No7</td>\n      <td>[]</td>\n      <td>956,696 in Beauty &amp; Personal Care (</td>\n      <td>[B01B8BR0O8, B01B8BR0NO, B014MHXXM8]</td>\n      <td>{'Shipping Weight:': '3.5 ounces (', 'ASIN: ':...</td>\n      <td>All Beauty</td>\n      <td></td>\n      <td></td>\n      <td>$28.76</td>\n      <td>7250468162</td>\n      <td>[]</td>\n      <td>[]</td>\n    </tr>\n    <tr>\n      <th>3</th>\n      <td>[]</td>\n      <td></td>\n      <td>[]</td>\n      <td></td>\n      <td>Wella Koleston Perfect Hair Colour 44/44 Mediu...</td>\n      <td>[B0041PBXX8]</td>\n      <td></td>\n      <td></td>\n      <td>[]</td>\n      <td>1,870,258 in Beauty &amp; Personal Care (</td>\n      <td>[]</td>\n      <td>{'\n    Item Weight: \n    ': '1.76 ounces', 'Sh...</td>\n      <td>All Beauty</td>\n      <td></td>\n      <td></td>\n      <td></td>\n      <td>7367905066</td>\n      <td>[https://images-na.ssl-images-amazon.com/image...</td>\n      <td>[https://images-na.ssl-images-amazon.com/image...</td>\n    </tr>\n    <tr>\n      <th>4</th>\n      <td>[]</td>\n      <td></td>\n      <td>[Lacto Calamine Skin Balance Daily Nourishing ...</td>\n      <td></td>\n      <td>Lacto Calamine Skin Balance Oil control 120 ml...</td>\n      <td>[]</td>\n      <td></td>\n      <td>Pirmal Healthcare</td>\n      <td>[]</td>\n      <td>67,701 in Beauty &amp; Personal Care (</td>\n      <td>[3254895630, B007VL1D9S, B00EH9A0RI, B0773MBG4...</td>\n      <td>{'Shipping Weight:': '12 ounces (', 'ASIN: ': ...</td>\n      <td>All Beauty</td>\n      <td></td>\n      <td></td>\n      <td>$12.15</td>\n      <td>7414204790</td>\n      <td>[https://images-na.ssl-images-amazon.com/image...</td>\n      <td>[https://images-na.ssl-images-amazon.com/image...</td>\n    </tr>\n  </tbody>\n</table>\n</div>"
     },
     "execution_count": 3,
     "metadata": {},
     "output_type": "execute_result"
    }
   ],
   "source": [
    "# meta_all_beauty_path = 'data/meta_All_Beauty.json.gz'\n",
    "meta_all_beauty_path = 'http://deepyeti.ucsd.edu/jianmo/amazon/metaFiles2/meta_All_Beauty.json.gz'\n",
    "metadata = pd.read_json(\n",
    "    meta_all_beauty_path,\n",
    "    lines=True,\n",
    "    compression=\"gzip\"\n",
    ")\n",
    "metadata.head()"
   ],
   "metadata": {
    "pycharm": {
     "name": "#%%\n"
    },
    "id": "AWTaRbOfs4bi",
    "outputId": "e5f5544b-6c83-423e-95a6-a46640b2aeda",
    "colab": {
     "base_uri": "https://localhost:8080/",
     "height": 669
    }
   }
  },
  {
   "cell_type": "code",
   "execution_count": 4,
   "outputs": [
    {
     "name": "stdout",
     "output_type": "stream",
     "text": [
      "Index(['category', 'tech1', 'description', 'fit', 'title', 'also_buy', 'tech2',\n",
      "       'brand', 'feature', 'rank', 'also_view', 'details', 'main_cat',\n",
      "       'similar_item', 'date', 'price', 'asin', 'imageURL', 'imageURLHighRes'],\n",
      "      dtype='object')\n"
     ]
    }
   ],
   "source": [
    "print(metadata.columns)"
   ],
   "metadata": {
    "collapsed": false,
    "pycharm": {
     "name": "#%%\n"
    }
   }
  },
  {
   "cell_type": "markdown",
   "source": [
    "# B. 資料切分"
   ],
   "metadata": {
    "collapsed": false
   }
  },
  {
   "cell_type": "code",
   "execution_count": 5,
   "outputs": [],
   "source": [
    "ratings_trainings = ratings[\n",
    "    (ratings['DATE'] < '2018-09-01')\n",
    "]\n",
    "ratings_testings = ratings[\n",
    "    (ratings['DATE'] >= '2018-09-01') &\n",
    "    (ratings['DATE'] <= '2018-09-30')\n",
    "]\n",
    "ratings_testings_by_user = ratings_testings.groupby('reviewerID').agg(list).reset_index()[['reviewerID', 'asin']].to_dict('records')\n",
    "ratings_testings_by_user = { rating['reviewerID']: rating['asin'] for rating in ratings_testings_by_user }\n",
    "users = list(ratings_testings_by_user.keys())\n"
   ],
   "metadata": {
    "collapsed": false,
    "pycharm": {
     "name": "#%%\n"
    }
   }
  },
  {
   "cell_type": "markdown",
   "source": [
    "# C. 資料探索\n",
    "\n",
    "## C. 資料探索 - 商品 (metadata) 的資料量\n",
    "\n",
    "| 名稱          | 數量  | 佔比                  |\n",
    "|---------------|-------|-----------------------|\n",
    "| category      | 0     | 0%                    |\n",
    "| tech1         | 10    | 0.030402529490453606% |\n",
    "| tech2         | 0     | 0%                    |\n",
    "| fit           | 0     | 0%                    |\n",
    "| similar_item  | 1304  | 3.9644898455551503%   |\n",
    "| also_view_len | 8132  | 24.723336981636873%   |\n",
    "| also_buy_len  | 6597  | 20.056548704852244%   |\n",
    "| feature       | 269   | 0.8178280432932019%   |\n",
    "| details       | 32760 | 99.59868661072602%    |\n",
    "| description   | 15119 | 45.96558433661681%    |\n",
    "| rank          | 32452 | 98.66228870242004%    |\n",
    "\n",
    "\n",
    "我們發現 tech1, tech2, fit, similar_item, also_view, also_buy, feature 有值的量有點少 (0~25%)，所以做為商品的分類不太合適。\n",
    "\n",
    "其中，details 雖然大部分都有，但提供的資訊有：\n",
    "```\n",
    "Item Weight\n",
    "Product Dimensions\n",
    "ASIN\n",
    "Batteries\n",
    "Discontinued by manufacturer\n",
    "Domestic Shipping\n",
    "International Shipping\n",
    "Item model number\n",
    "Shipping Advisory\n",
    "Shipping Weight\n",
    "UPC\n",
    "```\n",
    "沒有很決定性的類分資訊。\n",
    "\n",
    "最後，決定用 description 做為我主要的分類略策。\n"
   ],
   "metadata": {
    "collapsed": false,
    "pycharm": {
     "name": "#%% md\n"
    }
   }
  },
  {
   "cell_type": "code",
   "execution_count": 6,
   "outputs": [],
   "source": [
    "# helper\n",
    "def print_amount(label, df):\n",
    "    print('%s: %s (%s%%)' % (label, len(df), len(df)/len(metadata) * 100.0))\n"
   ],
   "metadata": {
    "collapsed": false,
    "pycharm": {
     "name": "#%%\n"
    }
   }
  },
  {
   "cell_type": "code",
   "execution_count": 7,
   "outputs": [
    {
     "name": "stdout",
     "output_type": "stream",
     "text": [
      "category: 0 (0.0%)\n"
     ]
    }
   ],
   "source": [
    "# category\n",
    "print_amount('category', metadata[metadata['category'].str.len() > 0])"
   ],
   "metadata": {
    "collapsed": false,
    "pycharm": {
     "name": "#%%\n"
    }
   }
  },
  {
   "cell_type": "code",
   "execution_count": 8,
   "outputs": [
    {
     "name": "stdout",
     "output_type": "stream",
     "text": [
      "tech1: 10 (0.030402529490453606%)\n"
     ]
    }
   ],
   "source": [
    "# tech1\n",
    "print_amount('tech1', metadata[metadata['tech1'].str.len() > 0])"
   ],
   "metadata": {
    "collapsed": false,
    "pycharm": {
     "name": "#%%\n"
    }
   }
  },
  {
   "cell_type": "code",
   "execution_count": 9,
   "outputs": [
    {
     "name": "stdout",
     "output_type": "stream",
     "text": [
      "tech2: 0 (0.0%)\n"
     ]
    }
   ],
   "source": [
    "# tech2: 沒有 tech2 資料\n",
    "print_amount('tech2', metadata[metadata['tech2'].str.len() > 0])"
   ],
   "metadata": {
    "collapsed": false,
    "pycharm": {
     "name": "#%%\n"
    }
   }
  },
  {
   "cell_type": "code",
   "execution_count": 10,
   "outputs": [
    {
     "name": "stdout",
     "output_type": "stream",
     "text": [
      "fit: 0 (0.0%)\n"
     ]
    }
   ],
   "source": [
    "# fit: 沒有 fit 資料\n",
    "print_amount('fit', metadata[metadata['fit'].str.len() > 0])"
   ],
   "metadata": {
    "collapsed": false,
    "pycharm": {
     "name": "#%%\n"
    }
   }
  },
  {
   "cell_type": "code",
   "execution_count": 11,
   "outputs": [
    {
     "name": "stdout",
     "output_type": "stream",
     "text": [
      "similar_item: 1304 (3.9644898455551503%)\n"
     ]
    }
   ],
   "source": [
    "# similar_item\n",
    "print_amount('similar_item', metadata[metadata['similar_item'].str.len() > 0])"
   ],
   "metadata": {
    "collapsed": false,
    "pycharm": {
     "name": "#%%\n"
    }
   }
  },
  {
   "cell_type": "code",
   "execution_count": 12,
   "outputs": [
    {
     "name": "stdout",
     "output_type": "stream",
     "text": [
      "also_view: 8132 (24.723336981636873%)\n"
     ]
    }
   ],
   "source": [
    "# also_view\n",
    "metadata['also_view_len'] = metadata.apply(lambda row: len(row['also_view']), axis=1)\n",
    "print_amount('also_view', metadata[metadata['also_view_len'] > 0])"
   ],
   "metadata": {
    "collapsed": false,
    "pycharm": {
     "name": "#%%\n"
    }
   }
  },
  {
   "cell_type": "code",
   "execution_count": 13,
   "outputs": [
    {
     "name": "stdout",
     "output_type": "stream",
     "text": [
      "also_buy: 6597 (20.056548704852244%)\n"
     ]
    }
   ],
   "source": [
    "# also_buy\n",
    "metadata['also_buy_len'] = metadata.apply(lambda row: len(row['also_buy']), axis=1)\n",
    "print_amount('also_buy', metadata[metadata['also_buy_len'] > 0])"
   ],
   "metadata": {
    "collapsed": false,
    "pycharm": {
     "name": "#%%\n"
    }
   }
  },
  {
   "cell_type": "code",
   "execution_count": 14,
   "outputs": [
    {
     "name": "stdout",
     "output_type": "stream",
     "text": [
      "feature: 269 (0.8178280432932019%)\n"
     ]
    }
   ],
   "source": [
    "# 產品特色\n",
    "metadata['feature_list_len'] = metadata.apply(lambda row: len(row['feature']), axis=1)\n",
    "print_amount('feature', metadata[metadata['feature_list_len'] > 0])\n",
    "\n",
    "# 結論\n",
    "# 不能直接拿 feature 欄位"
   ],
   "metadata": {
    "collapsed": false,
    "pycharm": {
     "name": "#%%\n"
    }
   }
  },
  {
   "cell_type": "code",
   "execution_count": 15,
   "outputs": [
    {
     "name": "stdout",
     "output_type": "stream",
     "text": [
      "details: 32760 (99.59868661072602%)\n"
     ]
    },
    {
     "data": {
      "text/plain": "{'\\n    Item Weight: \\n    ',\n '\\n    Product Dimensions: \\n    ',\n 'ASIN:',\n 'ASIN: ',\n 'Batteries',\n 'Discontinued by manufacturer:',\n 'Domestic Shipping: ',\n 'International Shipping: ',\n 'Item model number:',\n 'Shipping Advisory:',\n 'Shipping Weight:',\n 'UPC:'}"
     },
     "execution_count": 15,
     "metadata": {},
     "output_type": "execute_result"
    }
   ],
   "source": [
    "# details\n",
    "metadata[['details']].head()\n",
    "metadata['details_len'] = metadata.apply(lambda row: len(row['details'].items()), axis=1)\n",
    "print_amount('details', metadata[metadata['details_len'] > 0])\n",
    "\n",
    "metadata_details = [list(detail.items()) for detail in metadata['details'].tolist()]\n",
    "metadata_details_keys = [[key for (key, value) in pairs] for pairs in metadata_details]\n",
    "metadata_details_keys = list(np.concatenate(metadata_details_keys).flat)\n",
    "metadata_details_keys = set(metadata_details_keys)\n",
    "metadata_details_keys\n",
    "\n",
    "# 結論\n",
    "# 大部分的資料有都有 details，但 detail 中的欄位，用途看起來不大"
   ],
   "metadata": {
    "collapsed": false,
    "pycharm": {
     "name": "#%%\n"
    }
   }
  },
  {
   "cell_type": "code",
   "execution_count": 16,
   "outputs": [
    {
     "name": "stdout",
     "output_type": "stream",
     "text": [
      "description: 15119 (45.96558433661681%)\n"
     ]
    },
    {
     "data": {
      "text/plain": "                                         description\n0  [Loud 'N Clear Personal Sound Amplifier allows...\n1  [No7 Lift & Luminate Triple Action Serum 50ml ...\n2  [No7 Stay Perfect Foundation now stays perfect...\n3                                                 []\n4  [Lacto Calamine Skin Balance Daily Nourishing ...",
      "text/html": "<div>\n<style scoped>\n    .dataframe tbody tr th:only-of-type {\n        vertical-align: middle;\n    }\n\n    .dataframe tbody tr th {\n        vertical-align: top;\n    }\n\n    .dataframe thead th {\n        text-align: right;\n    }\n</style>\n<table border=\"1\" class=\"dataframe\">\n  <thead>\n    <tr style=\"text-align: right;\">\n      <th></th>\n      <th>description</th>\n    </tr>\n  </thead>\n  <tbody>\n    <tr>\n      <th>0</th>\n      <td>[Loud 'N Clear Personal Sound Amplifier allows...</td>\n    </tr>\n    <tr>\n      <th>1</th>\n      <td>[No7 Lift &amp; Luminate Triple Action Serum 50ml ...</td>\n    </tr>\n    <tr>\n      <th>2</th>\n      <td>[No7 Stay Perfect Foundation now stays perfect...</td>\n    </tr>\n    <tr>\n      <th>3</th>\n      <td>[]</td>\n    </tr>\n    <tr>\n      <th>4</th>\n      <td>[Lacto Calamine Skin Balance Daily Nourishing ...</td>\n    </tr>\n  </tbody>\n</table>\n</div>"
     },
     "execution_count": 16,
     "metadata": {},
     "output_type": "execute_result"
    }
   ],
   "source": [
    "# description\n",
    "print_amount('description', metadata[metadata['description'].str.len() > 0])\n",
    "metadata[['description']].head()\n",
    "\n",
    "# 結論\n",
    "# 有快一半的資料有 description，所以應該可以拿來用"
   ],
   "metadata": {
    "collapsed": false,
    "pycharm": {
     "name": "#%%\n"
    }
   }
  },
  {
   "cell_type": "code",
   "execution_count": 17,
   "outputs": [
    {
     "name": "stdout",
     "output_type": "stream",
     "text": [
      "rank: 32452 (98.66228870242004%)\n"
     ]
    }
   ],
   "source": [
    "# rank\n",
    "def take_number(row):\n",
    "    if type(row) is list and len(row) > 0:\n",
    "        return str(row[0]).replace(',', '')\n",
    "    else:\n",
    "        return 0\n",
    "\n",
    "metadata['rank_num_str'] = metadata['rank'].str.split().apply(lambda row: take_number(row))\n",
    "print_amount('rank', metadata[metadata['rank_num_str'].str.len() > 0])"
   ],
   "metadata": {
    "collapsed": false,
    "pycharm": {
     "name": "#%%\n"
    }
   }
  },
  {
   "cell_type": "markdown",
   "source": [
    "## C. 資料探索 - 使用者購買次數\n",
    "我們順便統計一下：在訓練集的資料中，使用者購買次數，有 88% 的人買過一次。"
   ],
   "metadata": {
    "collapsed": false
   }
  },
  {
   "cell_type": "code",
   "execution_count": 18,
   "outputs": [
    {
     "data": {
      "text/plain": "                  reviewerID                           bought_list  \\\n0       A0010876CNE3ILIM9HV0                          [B01FHDYGQ8]   \n1       A001170867ZBE9FORRQL              [B01B18T01Y, B01FCW88D6]   \n2       A0028738FYF1SKPPC7B1                          [B00TZ8XK1E]   \n3       A0045356A23634W7RI4M                          [B018H0EJI8]   \n4       A006277084SDH2LTUV6X                          [B01DKQAXC0]   \n...                      ...                                   ...   \n323484         AZZW8CF93X1TC                          [B01HD23OJG]   \n323485         AZZWNU4RB5BY1                          [B01E5GSQOQ]   \n323486         AZZXKG9AGRVGU                          [B01DVW54I6]   \n323487         AZZYW4YOE1B6E                          [B003KWO3UI]   \n323488         AZZZ5UJWUVCYZ  [B00IIZG80U, B01FNJ9MOW, B01CZC20DU]   \n\n        bought_list_len  \n0                     1  \n1                     2  \n2                     1  \n3                     1  \n4                     1  \n...                 ...  \n323484                1  \n323485                1  \n323486                1  \n323487                1  \n323488                3  \n\n[323489 rows x 3 columns]",
      "text/html": "<div>\n<style scoped>\n    .dataframe tbody tr th:only-of-type {\n        vertical-align: middle;\n    }\n\n    .dataframe tbody tr th {\n        vertical-align: top;\n    }\n\n    .dataframe thead th {\n        text-align: right;\n    }\n</style>\n<table border=\"1\" class=\"dataframe\">\n  <thead>\n    <tr style=\"text-align: right;\">\n      <th></th>\n      <th>reviewerID</th>\n      <th>bought_list</th>\n      <th>bought_list_len</th>\n    </tr>\n  </thead>\n  <tbody>\n    <tr>\n      <th>0</th>\n      <td>A0010876CNE3ILIM9HV0</td>\n      <td>[B01FHDYGQ8]</td>\n      <td>1</td>\n    </tr>\n    <tr>\n      <th>1</th>\n      <td>A001170867ZBE9FORRQL</td>\n      <td>[B01B18T01Y, B01FCW88D6]</td>\n      <td>2</td>\n    </tr>\n    <tr>\n      <th>2</th>\n      <td>A0028738FYF1SKPPC7B1</td>\n      <td>[B00TZ8XK1E]</td>\n      <td>1</td>\n    </tr>\n    <tr>\n      <th>3</th>\n      <td>A0045356A23634W7RI4M</td>\n      <td>[B018H0EJI8]</td>\n      <td>1</td>\n    </tr>\n    <tr>\n      <th>4</th>\n      <td>A006277084SDH2LTUV6X</td>\n      <td>[B01DKQAXC0]</td>\n      <td>1</td>\n    </tr>\n    <tr>\n      <th>...</th>\n      <td>...</td>\n      <td>...</td>\n      <td>...</td>\n    </tr>\n    <tr>\n      <th>323484</th>\n      <td>AZZW8CF93X1TC</td>\n      <td>[B01HD23OJG]</td>\n      <td>1</td>\n    </tr>\n    <tr>\n      <th>323485</th>\n      <td>AZZWNU4RB5BY1</td>\n      <td>[B01E5GSQOQ]</td>\n      <td>1</td>\n    </tr>\n    <tr>\n      <th>323486</th>\n      <td>AZZXKG9AGRVGU</td>\n      <td>[B01DVW54I6]</td>\n      <td>1</td>\n    </tr>\n    <tr>\n      <th>323487</th>\n      <td>AZZYW4YOE1B6E</td>\n      <td>[B003KWO3UI]</td>\n      <td>1</td>\n    </tr>\n    <tr>\n      <th>323488</th>\n      <td>AZZZ5UJWUVCYZ</td>\n      <td>[B00IIZG80U, B01FNJ9MOW, B01CZC20DU]</td>\n      <td>3</td>\n    </tr>\n  </tbody>\n</table>\n<p>323489 rows × 3 columns</p>\n</div>"
     },
     "execution_count": 18,
     "metadata": {},
     "output_type": "execute_result"
    }
   ],
   "source": [
    "user_bought = ratings_trainings.groupby('reviewerID').agg(bought_list=('asin', list)).reset_index()\n",
    "user_bought['bought_list_len'] = user_bought.apply(lambda row: len(row['bought_list']), axis=1)\n",
    "user_bought"
   ],
   "metadata": {
    "collapsed": false,
    "pycharm": {
     "name": "#%%\n"
    }
   }
  },
  {
   "cell_type": "code",
   "execution_count": 19,
   "outputs": [
    {
     "data": {
      "text/plain": "                                                      reviewer_ids  \\\nbought_list_len                                                      \n1                [A0010876CNE3ILIM9HV0, A0028738FYF1SKPPC7B1, A...   \n2                [A001170867ZBE9FORRQL, A0137540IHMZM8Q3V1QD, A...   \n3                [A101CAMZDHU1V9, A1046ICIMHENBN, A10658GHKIVJJ...   \n4                [A100UD67AHFODS, A100WO06OQR8BQ, A104MYYMJJ3WV...   \n5                [A10JB7YPWZGRF4, A10P0NAKKRYKTZ, A10Y59HW4O47N...   \n6                [A10ZJZNO4DAVB, A1118RD3AJD5KH, A11F87LHCF6KV2...   \n7                [A10M2MLE2R0L6K, A10ZBR6O8S8OCY, A13VVUDVNG1LS...   \n8                [A105A034ZG9EHO, A15T9G38F589KM, A17IS2KTMUBJ5...   \n9                [A1210QJT54O8T0, A16AXQ11SZA8SQ, A1B4SZX87THLC...   \n10               [A11QGZ39A7ZF0X, A1F7YU6O5RU432, A1L0QECT7J93Z...   \n11               [A12GRMDCCI9BSD, A177B2VPWX4P55, A2YKWYC3WQJX5...   \n12               [A2JCJJNY43QQIV, A2LAS014NSRW72, A2PF64RBR1G1S...   \n13                [A1VUXNNB1NJ2PT, A38FB414U3B72L, A3NFZN1GS1RKR9]   \n14                                [A11WQTPV352LGH, A1XQ0F01CF84Y3]   \n18                                                [A1UQBFCERIP7VJ]   \n20                                                 [AENH50GW3OKDA]   \n21                                [A1EGCED01USBA9, A22CW0ZHY3NJH8]   \n23                                                [A1KSC91G9AIY2Z]   \n27                                                [A2GJX2KCUSR0EI]   \n\n                 reviewer_ids_len  percentage  \nbought_list_len                                \n1                          287267   88.802710  \n2                           30111    9.308199  \n3                            3697    1.142852  \n4                            1017    0.314385  \n5                             773    0.238957  \n6                             455    0.140654  \n7                              66    0.020403  \n8                              35    0.010820  \n9                              24    0.007419  \n10                             16    0.004946  \n11                             10    0.003091  \n12                              7    0.002164  \n13                              3    0.000927  \n14                              2    0.000618  \n18                              1    0.000309  \n20                              1    0.000309  \n21                              2    0.000618  \n23                              1    0.000309  \n27                              1    0.000309  ",
      "text/html": "<div>\n<style scoped>\n    .dataframe tbody tr th:only-of-type {\n        vertical-align: middle;\n    }\n\n    .dataframe tbody tr th {\n        vertical-align: top;\n    }\n\n    .dataframe thead th {\n        text-align: right;\n    }\n</style>\n<table border=\"1\" class=\"dataframe\">\n  <thead>\n    <tr style=\"text-align: right;\">\n      <th></th>\n      <th>reviewer_ids</th>\n      <th>reviewer_ids_len</th>\n      <th>percentage</th>\n    </tr>\n    <tr>\n      <th>bought_list_len</th>\n      <th></th>\n      <th></th>\n      <th></th>\n    </tr>\n  </thead>\n  <tbody>\n    <tr>\n      <th>1</th>\n      <td>[A0010876CNE3ILIM9HV0, A0028738FYF1SKPPC7B1, A...</td>\n      <td>287267</td>\n      <td>88.802710</td>\n    </tr>\n    <tr>\n      <th>2</th>\n      <td>[A001170867ZBE9FORRQL, A0137540IHMZM8Q3V1QD, A...</td>\n      <td>30111</td>\n      <td>9.308199</td>\n    </tr>\n    <tr>\n      <th>3</th>\n      <td>[A101CAMZDHU1V9, A1046ICIMHENBN, A10658GHKIVJJ...</td>\n      <td>3697</td>\n      <td>1.142852</td>\n    </tr>\n    <tr>\n      <th>4</th>\n      <td>[A100UD67AHFODS, A100WO06OQR8BQ, A104MYYMJJ3WV...</td>\n      <td>1017</td>\n      <td>0.314385</td>\n    </tr>\n    <tr>\n      <th>5</th>\n      <td>[A10JB7YPWZGRF4, A10P0NAKKRYKTZ, A10Y59HW4O47N...</td>\n      <td>773</td>\n      <td>0.238957</td>\n    </tr>\n    <tr>\n      <th>6</th>\n      <td>[A10ZJZNO4DAVB, A1118RD3AJD5KH, A11F87LHCF6KV2...</td>\n      <td>455</td>\n      <td>0.140654</td>\n    </tr>\n    <tr>\n      <th>7</th>\n      <td>[A10M2MLE2R0L6K, A10ZBR6O8S8OCY, A13VVUDVNG1LS...</td>\n      <td>66</td>\n      <td>0.020403</td>\n    </tr>\n    <tr>\n      <th>8</th>\n      <td>[A105A034ZG9EHO, A15T9G38F589KM, A17IS2KTMUBJ5...</td>\n      <td>35</td>\n      <td>0.010820</td>\n    </tr>\n    <tr>\n      <th>9</th>\n      <td>[A1210QJT54O8T0, A16AXQ11SZA8SQ, A1B4SZX87THLC...</td>\n      <td>24</td>\n      <td>0.007419</td>\n    </tr>\n    <tr>\n      <th>10</th>\n      <td>[A11QGZ39A7ZF0X, A1F7YU6O5RU432, A1L0QECT7J93Z...</td>\n      <td>16</td>\n      <td>0.004946</td>\n    </tr>\n    <tr>\n      <th>11</th>\n      <td>[A12GRMDCCI9BSD, A177B2VPWX4P55, A2YKWYC3WQJX5...</td>\n      <td>10</td>\n      <td>0.003091</td>\n    </tr>\n    <tr>\n      <th>12</th>\n      <td>[A2JCJJNY43QQIV, A2LAS014NSRW72, A2PF64RBR1G1S...</td>\n      <td>7</td>\n      <td>0.002164</td>\n    </tr>\n    <tr>\n      <th>13</th>\n      <td>[A1VUXNNB1NJ2PT, A38FB414U3B72L, A3NFZN1GS1RKR9]</td>\n      <td>3</td>\n      <td>0.000927</td>\n    </tr>\n    <tr>\n      <th>14</th>\n      <td>[A11WQTPV352LGH, A1XQ0F01CF84Y3]</td>\n      <td>2</td>\n      <td>0.000618</td>\n    </tr>\n    <tr>\n      <th>18</th>\n      <td>[A1UQBFCERIP7VJ]</td>\n      <td>1</td>\n      <td>0.000309</td>\n    </tr>\n    <tr>\n      <th>20</th>\n      <td>[AENH50GW3OKDA]</td>\n      <td>1</td>\n      <td>0.000309</td>\n    </tr>\n    <tr>\n      <th>21</th>\n      <td>[A1EGCED01USBA9, A22CW0ZHY3NJH8]</td>\n      <td>2</td>\n      <td>0.000618</td>\n    </tr>\n    <tr>\n      <th>23</th>\n      <td>[A1KSC91G9AIY2Z]</td>\n      <td>1</td>\n      <td>0.000309</td>\n    </tr>\n    <tr>\n      <th>27</th>\n      <td>[A2GJX2KCUSR0EI]</td>\n      <td>1</td>\n      <td>0.000309</td>\n    </tr>\n  </tbody>\n</table>\n</div>"
     },
     "execution_count": 19,
     "metadata": {},
     "output_type": "execute_result"
    }
   ],
   "source": [
    "total_user_len = len(user_bought['reviewerID'])\n",
    "bought_distribution = user_bought.groupby('bought_list_len').agg(reviewer_ids=('reviewerID', list), reviewer_ids_len=('reviewerID', 'count'))\n",
    "bought_distribution['percentage'] = bought_distribution.apply(lambda row: row['reviewer_ids_len']/total_user_len * 100, axis=1)\n",
    "bought_distribution\n",
    "# 結論：有 88% 的人買過一次"
   ],
   "metadata": {
    "collapsed": false,
    "pycharm": {
     "name": "#%%\n"
    }
   }
  },
  {
   "cell_type": "markdown",
   "source": [
    "# D. 內容過濾的推薦算法\n",
    "## D. 內容過濾的推薦算法　－　Item representation\n",
    "計算商品用 **「描述(description)」** 所表示的 tfidf 矩陣"
   ],
   "metadata": {
    "collapsed": false,
    "pycharm": {
     "name": "#%% md\n"
    }
   }
  },
  {
   "cell_type": "code",
   "execution_count": 20,
   "outputs": [
    {
     "data": {
      "text/plain": "0        Loud 'N Clear Personal Sound Amplifier allows ...\n1        No7 Lift & Luminate Triple Action Serum 50ml b...\n2        No7 Stay Perfect Foundation now stays perfect ...\n3                                                         \n4        Lacto Calamine Skin Balance Daily Nourishing L...\n                               ...                        \n32887                                                     \n32888                                                     \n32889                                                     \n32890    Brand new and high quality<br> Enables fast vo...\n32891                                                     \nName: description_join, Length: 32892, dtype: object"
     },
     "execution_count": 20,
     "metadata": {},
     "output_type": "execute_result"
    }
   ],
   "source": [
    "# 把 description 接起來\n",
    "metadata['description_join'] = metadata.apply(lambda row: ' '.join(row['description']), axis=1)\n",
    "metadata['description_join']"
   ],
   "metadata": {
    "collapsed": false,
    "pycharm": {
     "name": "#%%\n"
    }
   }
  },
  {
   "cell_type": "code",
   "execution_count": 21,
   "outputs": [],
   "source": [
    "df = metadata.drop_duplicates('description_join')\n",
    "tf = TfidfVectorizer(analyzer='word')\n",
    "tfidf_matrix = tf.fit_transform(df['description_join'])"
   ],
   "metadata": {
    "collapsed": false,
    "pycharm": {
     "name": "#%%\n"
    }
   }
  },
  {
   "cell_type": "code",
   "execution_count": 22,
   "outputs": [
    {
     "data": {
      "text/plain": "array([[0., 0., 0., ..., 0., 0., 0.],\n       [0., 0., 0., ..., 0., 0., 0.],\n       [0., 0., 0., ..., 0., 0., 0.],\n       ...,\n       [0., 0., 0., ..., 0., 0., 0.],\n       [0., 0., 0., ..., 0., 0., 0.],\n       [0., 0., 0., ..., 0., 0., 0.]])"
     },
     "execution_count": 22,
     "metadata": {},
     "output_type": "execute_result"
    }
   ],
   "source": [
    "X = tfidf_matrix.toarray()\n",
    "X"
   ],
   "metadata": {
    "collapsed": false,
    "pycharm": {
     "name": "#%%\n"
    }
   }
  },
  {
   "cell_type": "code",
   "execution_count": 23,
   "outputs": [
    {
     "data": {
      "text/plain": "array(['00', '000', '00000', ..., 'zytase', 'zzz', 'zzzrt'], dtype=object)"
     },
     "execution_count": 23,
     "metadata": {},
     "output_type": "execute_result"
    }
   ],
   "source": [
    "tf.get_feature_names_out()\n"
   ],
   "metadata": {
    "collapsed": false,
    "pycharm": {
     "name": "#%%\n"
    }
   }
  },
  {
   "cell_type": "markdown",
   "source": [
    "### D. 內容過濾的推薦算法　－ 1. Item representation　－　觀察分佈\n",
    "以　`tfidf_matrix` 的 row 為向量，經過 TSNE 降至2維後觀察分佈。\n",
    "\n",
    "一共做了兩張圖：\n",
    "1. 以　`tfidf_matrix` 的 row 為向量\n",
    "2. normalize向量後\n",
    "\n",
    "結論是，特徵向量沒有很明顯的聚在一起，大部分都散打在一起。"
   ],
   "metadata": {
    "collapsed": false,
    "pycharm": {
     "name": "#%% md\n"
    }
   }
  },
  {
   "cell_type": "code",
   "execution_count": 24,
   "outputs": [
    {
     "name": "stderr",
     "output_type": "stream",
     "text": [
      "/Users/eugenechen/.conda/envs/ac-python-test/lib/python3.8/site-packages/sklearn/manifold/_t_sne.py:780: FutureWarning: The default initialization in TSNE will change from 'random' to 'pca' in 1.2.\n",
      "  warnings.warn(\n"
     ]
    },
    {
     "data": {
      "text/plain": "<Figure size 576x576 with 1 Axes>",
      "image/png": "[encoded data removed]"
     },
     "metadata": {
      "needs_background": "light"
     },
     "output_type": "display_data"
    }
   ],
   "source": [
    "# Defining Model\n",
    "model = TSNE(learning_rate=100)\n",
    "\n",
    "# Fitting Model\n",
    "transformed = model.fit_transform(X)\n",
    "\n",
    "# Plotting 2d t-Sne\n",
    "x_axis = transformed[:, 0]\n",
    "y_axis = transformed[:, 1]\n",
    "\n",
    "plt.figure(figsize=(8, 8))\n",
    "plt.scatter(x_axis, y_axis)\n",
    "plt.show()"
   ],
   "metadata": {
    "collapsed": false,
    "pycharm": {
     "name": "#%% 觀察特徵向量的分佈\n"
    }
   }
  },
  {
   "cell_type": "code",
   "execution_count": 25,
   "outputs": [
    {
     "name": "stderr",
     "output_type": "stream",
     "text": [
      "/Users/eugenechen/.conda/envs/ac-python-test/lib/python3.8/site-packages/sklearn/manifold/_t_sne.py:780: FutureWarning: The default initialization in TSNE will change from 'random' to 'pca' in 1.2.\n",
      "  warnings.warn(\n"
     ]
    },
    {
     "data": {
      "text/plain": "<Figure size 576x576 with 1 Axes>",
      "image/png": "[encoded data removed]"
     },
     "metadata": {
      "needs_background": "light"
     },
     "output_type": "display_data"
    }
   ],
   "source": [
    "normal_X = preprocessing.normalize(X, axis=1)\n",
    "\n",
    "normal_model = TSNE(learning_rate=100)\n",
    "transformed = model.fit_transform(normal_X)\n",
    "x_axis = transformed[:, 0]\n",
    "y_axis = transformed[:, 1]\n",
    "\n",
    "plt.figure(figsize=(8, 8))\n",
    "plt.scatter(x_axis, y_axis)\n",
    "plt.show()\n"
   ],
   "metadata": {
    "collapsed": false,
    "pycharm": {
     "name": "#%% 若 normalize 後的特徵向量分佈\n"
    }
   }
  },
  {
   "cell_type": "markdown",
   "source": [
    "從上兩圖來看，特徵向量沒有很明顯的聚在一起，大部分都散打在一起。"
   ],
   "metadata": {
    "collapsed": false,
    "pycharm": {
     "name": "#%% md\n"
    }
   }
  },
  {
   "cell_type": "markdown",
   "source": [
    "## D. 內容過濾的推薦算法　－　2. Profiling Learning\n",
    "計算使用者的購買/偏好行為\n",
    "\n",
    "### D. 內容過濾的推薦算法　－　2. Profiling Learning　－ 計算商品間的相似程度\n",
    "計算任兩筆商品之間的 cosine_similarity，我們先拿沒有 normalized 過的特徵向量"
   ],
   "metadata": {
    "collapsed": false
   }
  },
  {
   "cell_type": "code",
   "execution_count": 26,
   "outputs": [
    {
     "data": {
      "text/plain": "array([[1.        , 0.        , 0.02296188, ..., 0.        , 0.        ,\n        0.        ],\n       [0.        , 1.        , 0.10044222, ..., 0.        , 0.        ,\n        0.        ],\n       [0.02296188, 0.10044222, 1.        , ..., 0.        , 0.00903779,\n        0.02544186],\n       ...,\n       [0.        , 0.        , 0.        , ..., 1.        , 0.        ,\n        0.        ],\n       [0.        , 0.        , 0.00903779, ..., 0.        , 1.        ,\n        0.02383864],\n       [0.        , 0.        , 0.02544186, ..., 0.        , 0.02383864,\n        1.        ]])"
     },
     "execution_count": 26,
     "metadata": {},
     "output_type": "execute_result"
    }
   ],
   "source": [
    "similarity_matrix = cosine_similarity(tfidf_matrix)\n",
    "similarity_matrix\n"
   ],
   "metadata": {
    "collapsed": false,
    "pycharm": {
     "name": "#%%\n"
    }
   }
  },
  {
   "cell_type": "markdown",
   "source": [
    "### D. 內容過濾的推薦算法　－　2. Profiling Learning　－ 推薦相似程度\n",
    "利用 similarity_matrix 找出每個商品回傳 k 個最相近的商品。"
   ],
   "metadata": {
    "collapsed": false,
    "pycharm": {
     "name": "#%% md\n"
    }
   }
  },
  {
   "cell_type": "code",
   "execution_count": 27,
   "outputs": [
    {
     "data": {
      "text/plain": "description_join\nLoud 'N Clear Personal Sound Amplifier allows you to turn up the volume on what people around you are saying, listen at the level you want without disturbing others, hear a pin drop from across the room.                                                                                                                                                                                                                                                                                                                                                                                                                                 0\nNo7 Lift & Luminate Triple Action Serum 50ml by Boots                                                                                                                                                                                                                                                                                                                                                                                                                                                                                                                                                                                       1\nNo7 Stay Perfect Foundation now stays perfect for longer! Up to 24 hours wear for non-stop complexion perfection. Life-proof foundation for a naturally flawless complexion with super-staying power, uniquely matched to your skin tone using No7 Stay Perfect. This comfortable foundation feels lightweight and breathable, and gives an even-toned, beautifully smooth complexion that looks and feels fresh all day long. It can be relied upon to stay perfect; weather-proof and transfer-proof, it won't cake or flake on dry skin, nor slide or shine on oily skin. Up to 24 hours wear for non stop complexion perfection!        2\n                                                                                                                                                                                                                                                                                                                                                                                                                                                                                                                                                                                                                                            3\nLacto Calamine Skin Balance Daily Nourishing Lotion - Oil Control (120ml) (Pack Of 2)                                                                                                                                                                                                                                                                                                                                                                                                                                                                                                                                                       4\n                                                                                                                                                                                                                                                                                                                                                                                                                                                                                                                                                                                                                                        ...  \nMove over soap on a rope! This heavy-duty Brick Soap will keep even the toughest gents squeaky clean.                                                                                                                                                                                                                                                                                                                                                                                                                                                                                                                                   32880\nEau de parfum spray vial mini design house: yves saint laurent year introduced: 2016 fragrance notes: strawberry raspberry pear tangerine calone                                                                                                                                                                                                                                                                                                                                                                                                                                                                                        32884\nPokemon Plush 9.2 Inch / 23cm Gengar Doll Stuffed Animals Figure Soft Anime Collection Toy                                                                                                                                                                                                                                                                                                                                                                                                                                                                                                                                              32885\nNew and unused product. 100% authentic Benefit Cosmetics Product                                                                                                                                                                                                                                                                                                                                                                                                                                                                                                                                                                        32886\nBrand new and high quality<br> Enables fast volleys and ensures flight consistency<br> Good Flight and durability<br> Crafted using good-quality goose feathers with a durable foam head of this White Badminton.<br> Goose Shuttlecocks is for club match or club play<br> Package Include: 12 x Badminton Balls (in one tube)                                                                                                                                                                                                                                                                                                         32890\nLength: 13750, dtype: int64"
     },
     "execution_count": 27,
     "metadata": {},
     "output_type": "execute_result"
    }
   ],
   "source": [
    "# description_join -> 商品index 流水號\n",
    "mapping = pd.Series(df.index, index = df['description_join'])\n",
    "mapping"
   ],
   "metadata": {
    "collapsed": false,
    "pycharm": {
     "name": "#%%\n"
    }
   }
  },
  {
   "cell_type": "code",
   "execution_count": 28,
   "outputs": [],
   "source": [
    "def get_user_bought_list(ratings_df, user):\n",
    "    return ratings_df[ratings_df['reviewerID'] == user]['asin'].tolist()\n",
    "\n",
    "def recommend_item(item_input, k=2):\n",
    "    \"\"\"\n",
    "    :param item_input: string, description_join\n",
    "    :param k: 取出相似個數\n",
    "    :return: 回傳 list\n",
    "    \"\"\"\n",
    "    try:\n",
    "        item_index = mapping[item_input]\n",
    "        similarity_score = list(enumerate(similarity_matrix[item_index]))\n",
    "        similarity_score = sorted(similarity_score, key=lambda x: x[1], reverse=True)\n",
    "        similarity_score = similarity_score[:k]\n",
    "        item_indices = [i[0] for i in similarity_score]\n",
    "        return (df['asin'].iloc[item_indices].tolist())\n",
    "    except:\n",
    "        return []\n"
   ],
   "metadata": {
    "collapsed": false,
    "pycharm": {
     "name": "#%%\n"
    }
   }
  },
  {
   "cell_type": "markdown",
   "source": [
    "## D. 內容過濾的推薦算法　－　3. Recommendation Generation\n",
    "每一個使用者所購買的商品，分別把跟這些商品相似的商品加入到最終的推薦清單。"
   ],
   "metadata": {
    "collapsed": false,
    "pycharm": {
     "name": "#%% md\n"
    }
   }
  },
  {
   "cell_type": "code",
   "execution_count": 29,
   "outputs": [],
   "source": [
    "def recommend_items(items, k):\n",
    "    \"\"\"\n",
    "    :param items: item title list\n",
    "    :param k:\n",
    "    :return:\n",
    "    \"\"\"\n",
    "    res = []\n",
    "    for d in items:\n",
    "        res.extend(recommend_item(d, k))\n",
    "    return res"
   ],
   "metadata": {
    "collapsed": false,
    "pycharm": {
     "name": "#%%\n"
    }
   }
  },
  {
   "cell_type": "markdown",
   "source": [
    "## D. 內容過濾的推薦算法　－　4. 開始推薦"
   ],
   "metadata": {
    "collapsed": false,
    "pycharm": {
     "name": "#%% md\n"
    }
   }
  },
  {
   "cell_type": "code",
   "execution_count": 30,
   "outputs": [
    {
     "data": {
      "text/plain": "{'A100XQFWKQ30O2': [],\n 'A103T1QOGFCSEH': [],\n 'A106UKKSJ2KXPF': [],\n 'A10A7GV4D5A11V': [],\n 'A1119JJ37ZLB8R': [],\n 'A113UOOLBSZN52': [],\n 'A12M4U7WK4ALCR': [],\n 'A12T8YTW6VWT7S': [],\n 'A1364JXGKB46MM': [],\n 'A137DALOQFKBTI': [],\n 'A13FEZ3WV7S2EY': [],\n 'A13IV4I1B0RXMG': [],\n 'A13JU88JAHN72I': ['6546546450',\n  '7178680776',\n  '7250468162',\n  '7367905066',\n  '7414204790',\n  '7535842801',\n  '8279996397',\n  '8637910351',\n  '8867326759',\n  '9197882747'],\n 'A13K55R6VH1OOD': [],\n 'A13P7VFU075A': [],\n 'A13SWYE4QLB6NG': [],\n 'A13ZTQ0Q4ATA41': [],\n 'A142EDN04OD62U': [],\n 'A142I22FIC8MZK': [],\n 'A14834QTII5TLT': [],\n 'A14A447VPACTBC': [],\n 'A14AP6MN5XO6LB': [],\n 'A14CLF25IX25US': [],\n 'A14LYXC3HTBAHI': [],\n 'A14VUW4KZ34EOE': [],\n 'A14Y32P26G9YL': [],\n 'A157T25PBS7MX4': [],\n 'A15HZDSERD85C8': [],\n 'A15JJ8J1FGADIX': [],\n 'A15ZCL70JXXH89': [],\n 'A1617KN2IAWZ6J': [],\n 'A16E0O88262HKA': [],\n 'A16NSZ58PTVIYF': [],\n 'A16UGDXRTDLJG5': [],\n 'A16X9HR3UFQQXY': [],\n 'A16Y7V1CZCWKFV': [],\n 'A174YOBOSW9WDN': [],\n 'A1786SKRAJXH86': [],\n 'A17K2BUZ20WD2': [],\n 'A17LYRFV645L0V': [],\n 'A18LNGVXDZBTUR': [],\n 'A19503XX7GU6J2': ['6546546450',\n  '7178680776',\n  '7250468162',\n  '7367905066',\n  '7414204790',\n  '7535842801',\n  '8279996397',\n  '8637910351',\n  '8867326759',\n  '9197882747',\n  '6546546450',\n  '7178680776',\n  '7250468162',\n  '7367905066',\n  '7414204790',\n  '7535842801',\n  '8279996397',\n  '8637910351',\n  '8867326759',\n  '9197882747'],\n 'A19HVHRZDYFEOP': [],\n 'A19JM38B861BO4': [],\n 'A19KGY3W1P0MHT': [],\n 'A19KJPOF3QOJ24': [],\n 'A19U5RT4Q8Q1T6': [],\n 'A1AQNQUNX8B6JT': [],\n 'A1ARU0IN6RUFFD': [],\n 'A1BB4635KSKDMV': [],\n 'A1BCC7X6KRTBG0': [],\n 'A1BPJ56BXENC7': [],\n 'A1C0RI6W65FC8B': [],\n 'A1C60LJGZVEK27': [],\n 'A1CB2SMS3TD44Z': [],\n 'A1CNSU8P68CPLT': [],\n 'A1CSDWBYUJBCJZ': [],\n 'A1CTNNVIYHO25P': [],\n 'A1CTQF97HFYOZB': [],\n 'A1D5C2H9UFZHPU': [],\n 'A1D5UVH72Z6NJ1': [],\n 'A1DAUVZRVSLLNW': [],\n 'A1DCZ9882PXLVB': [],\n 'A1DZ63D35BNT86': [],\n 'A1E0QCKB4R2X8X': [],\n 'A1E76OZZ5YUWVA': [],\n 'A1EBHZPAYMILW9': [],\n 'A1EJVNGBY5GM5I': [],\n 'A1ER0356V2DSKW': [],\n 'A1EY751AUVO5NZ': ['6546546450',\n  '7178680776',\n  '7250468162',\n  '7367905066',\n  '7414204790',\n  '7535842801',\n  '8279996397',\n  '8637910351',\n  '8867326759',\n  '9197882747'],\n 'A1EZFX1TRHSAJX': [],\n 'A1F08GM4B97FV': [],\n 'A1F6EFMBK795DJ': [],\n 'A1FC8Y896NZP4T': [],\n 'A1FKIAKVOBNN7Y': [],\n 'A1FKUBRPLG6Y8I': [],\n 'A1G2HL4W8B3TA0': [],\n 'A1G8Z9IKJ0BD1M': [],\n 'A1GEJ55RJGD7JW': [],\n 'A1GIYGD23YIDTN': [],\n 'A1GLG2IZBZHRAJ': [],\n 'A1H1T82FPO20DN': [],\n 'A1H7JDZ9BKTKGC': [],\n 'A1HBROZPSV5KT6': [],\n 'A1HBXMUIHTAIU2': [],\n 'A1I32A4SA9W2L2': [],\n 'A1IDJ6KR8CQV9I': [],\n 'A1II0TTUUE2C7Y': [],\n 'A1ILEZFIVOU0EP': [],\n 'A1ITJ5M7I9G7FR': [],\n 'A1IWTXM1SJWHDN': [],\n 'A1J2NTTE63GNG2': [],\n 'A1JRREJ5D62LFF': [],\n 'A1KGMTEXL70WF6': [],\n 'A1KWUQZJ1Z6MN2': [],\n 'A1LXJ8XCGNBXOF': [],\n 'A1M8YMS915ZK0B': [],\n 'A1NDRR3G9SJF18': [],\n 'A1NE6K8PXW780O': [],\n 'A1NEG0FRW5FDBL': [],\n 'A1NN82RWB6PXJW': [],\n 'A1NY67EVWD6CD6': [],\n 'A1OB41VQHXZ0R8': [],\n 'A1OJ2IXX8F7Q7X': [],\n 'A1OTIUDE7LWAGT': [],\n 'A1P1OHYJOOZX5P': [],\n 'A1PFDA9SL15S4O': [],\n 'A1PKBKALGLSX0Z': [],\n 'A1PMLXHE863GR6': [],\n 'A1PR178735XC70': [],\n 'A1PXO67EUM5HJQ': [],\n 'A1QHS58JVFLF3I': [],\n 'A1QPKRHCAOQVZ5': [],\n 'A1R2TTULP0Z2BM': [],\n 'A1R8GBYBJWWWU0': [],\n 'A1RAXJN2Q4V20X': [],\n 'A1RCMCAJR2LJA4': [],\n 'A1RE2XA5HQD1D3': [],\n 'A1RMLPJ1PF8LGV': [],\n 'A1RX2ODQRQZVSI': [],\n 'A1S3NMNTSO6GW': [],\n 'A1S6OQV823B53J': [],\n 'A1SA3N793WT2LM': ['B000N5QWH2',\n  'B01FUJNXMC',\n  'B003XSINE6',\n  'B00I547XB2',\n  'B001233G4G',\n  'B003PP0CPU',\n  'B001MA2CGC',\n  'B01BX1DRM2',\n  'B01H2IIXJC',\n  'B01FY36NUS',\n  'B00HLXEXDO',\n  'B000F8JKF8',\n  'B00XLBSHN2',\n  'B01G6HK13G',\n  'B01CM3CCAI',\n  'B014GYATO2',\n  'B000X7ST9Y',\n  'B00AHVVP0G',\n  'B01D6JCCKC',\n  'B01ELTNOU8',\n  'B00HZKJZ6I',\n  'B001KYO6K0',\n  'B000CRG9G0',\n  'B003XSINE6',\n  'B0057ZHMN6',\n  'B00791F1RK',\n  'B001O3CMLW',\n  'B006UCER10',\n  'B00HORTB66',\n  'B00EXW4EXU',\n  '6546546450',\n  '7178680776',\n  '7250468162',\n  '7367905066',\n  '7414204790',\n  '7535842801',\n  '8279996397',\n  '8637910351',\n  '8867326759',\n  '9197882747'],\n 'A1SA932MLERVQY': [],\n 'A1SCZBXGPJ2615': [],\n 'A1SMXRCNRO4ZQM': [],\n 'A1T1N2585E1T0D': [],\n 'A1TEKLMF4V1X2C': [],\n 'A1TF44D9KYAD60': [],\n 'A1TGP1VTM3KCTI': [],\n 'A1TK5M6EM3GS3C': [],\n 'A1TO3GV14TGF2R': [],\n 'A1TP9JHTIY468V': ['6546546450',\n  '7178680776',\n  '7250468162',\n  '7367905066',\n  '7414204790',\n  '7535842801',\n  '8279996397',\n  '8637910351',\n  '8867326759',\n  '9197882747',\n  '6546546450',\n  '7178680776',\n  '7250468162',\n  '7367905066',\n  '7414204790',\n  '7535842801',\n  '8279996397',\n  '8637910351',\n  '8867326759',\n  '9197882747'],\n 'A1UAOE8KO7Q1DZ': ['B00GPDWNQU',\n  'B00KMKT37E',\n  'B00BNWNXOY',\n  'B00HQ5LP6K',\n  'B00JONGQEI',\n  'B0085LZEPM',\n  'B0085LZE2U',\n  'B00MKUCJY8',\n  'B019X4AJ2W',\n  'B00HP48MUY'],\n 'A1UDCDY6ZNE83T': [],\n 'A1UUNKRU1DTZTL': [],\n 'A1V0UJQ4XGAJ3H': [],\n 'A1VBZLO2JGYU1B': [],\n 'A1VC6YCAFKV6Q': [],\n 'A1VVEX78B2TYBX': [],\n 'A1VVQ2DFL0QLXF': [],\n 'A1VYWSQ2OXLH98': [],\n 'A1WEFBEJ7OHSVZ': ['B008CMRDY4',\n  'B000EOI16M',\n  'B000EOI176',\n  'B003I9IMX2',\n  'B013FTV9B6',\n  'B018IXGHNY',\n  'B013TQN878',\n  'B01CX3LLN6',\n  'B001U2GBHI',\n  'B00UATVHD0'],\n 'A1WOX40GUAFDKW': [],\n 'A1WSZED2O5MA5T': ['B000RC2V4Y',\n  'B01F07NVR6',\n  'B01DH9NS2C',\n  'B000Q40BT0',\n  'B0013AHNKQ',\n  'B00KO7VFRQ',\n  'B01FEDIWC0',\n  'B00AHVVP0G',\n  'B001G8LKBS',\n  'B01CYW99YY'],\n 'A1XBJBT6HORBLA': [],\n 'A1XHN6JF8A8W69': [],\n 'A1XWCTARAQ0679': [],\n 'A1XZJ85PKMAZP0': [],\n 'A1YALF6PWOMS6S': [],\n 'A1YEO5KEW7M2GF': [],\n 'A1YQ33635DJEG5': [],\n 'A1YSAFP6T3JZ1C': [],\n 'A1YTPCNXQ2LJ5Z': [],\n 'A1YVXZK51DEDPC': [],\n 'A1Z3GE09RDY6O7': [],\n 'A1Z6IPI0G3QIUR': [],\n 'A1ZVXL7K0XY3S6': [],\n 'A1ZXYITUZM3Q6A': [],\n 'A202BVEB76NTMK': [],\n 'A205S0BTPEFI0I': [],\n 'A20MSUD02BETH2': [],\n 'A20P2XESU3G3EC': [],\n 'A20QY357E6SAF': [],\n 'A20SJ2793OUCPW': [],\n 'A20T7NNNUHH60H': [],\n 'A21JL9NVA7KEMC': [],\n 'A21M4N08F3EU5J': [],\n 'A21NUBJVBS230S': [],\n 'A21OELUKDF2E57': [],\n 'A21XQP90LEND9R': [],\n 'A21YO11OY4KATO': [],\n 'A220EHDBIGBL30': [],\n 'A224YJVNU30DVM': [],\n 'A22A1B25VBD0YO': [],\n 'A22EWIMT2GUTTL': [],\n 'A22EZJLTPINCFS': [],\n 'A22QJRB86RF6O1': [],\n 'A2320AUCHA95U2': [],\n 'A232IJ75I4KP9C': [],\n 'A23GTKDW92ZPP2': [],\n 'A23O1B8IVSYKMO': [],\n 'A23VR3KT0TPG83': [],\n 'A24HCM5QV0ZTJ5': [],\n 'A24ZE4O3OQMSP0': [],\n 'A255E6ZWUBMEJJ': [],\n 'A258D00BRNHJ77': [],\n 'A25TLD8KIU807H': [],\n 'A26434CRUTADT5': [],\n 'A26AT96096UOEZ': [],\n 'A26RKZDM4DK8OQ': [],\n 'A274IW68565M0U': [],\n 'A286OWYO1BDT52': [],\n 'A288UAQLON8FK2': [],\n 'A28E3FNV1BYC94': [],\n 'A28GO11F387SOX': [],\n 'A28H0PFALTML0I': [],\n 'A28OZKV4ZYZX42': [],\n 'A28P7FF1TVPG1K': [],\n 'A28Q7C1FAIZGLV': [],\n 'A29834GBB4DOP1': [],\n 'A29HQ60YC1RG1P': [],\n 'A29MENRU87PET0': [],\n 'A29PZKXDCQFTYW': [],\n 'A29SD3TFGX6Q34': [],\n 'A2A0MIOWIW2SB8': [],\n 'A2A8ECI6ABJBMA': [],\n 'A2AAQWBJJTK3E1': [],\n 'A2AE0E0H463YL6': [],\n 'A2APG6OZXU4QIZ': [],\n 'A2BDB427ROEP7H': [],\n 'A2BHJO8WOGMW6E': [],\n 'A2BOSA30FCF6G8': [],\n 'A2BU6N5956T9NH': ['B000NWMOBS',\n  'B01CRW365Y',\n  'B01B1HUABO',\n  'B001O8KKW0',\n  'B007O5GBUM',\n  'B0008GCVU8',\n  'B000195NOI',\n  'B004L52MAG',\n  'B00846SJZA',\n  'B01BUDR2TC'],\n 'A2BUZ308P92OYA': [],\n 'A2C1F859F9V1SL': [],\n 'A2C8YINPNRQOAU': [],\n 'A2CDQOF7WHUYKJ': [],\n 'A2CEEE0IK3LKN1': [],\n 'A2CZVE6ORV87C5': [],\n 'A2DD6RH1AF0PLI': [],\n 'A2DFOCWUKJX3PT': [],\n 'A2E8WG5GRZGMXU': [],\n 'A2ESQAPIGR2TJF': [],\n 'A2EUQ4ESAB2N6A': [],\n 'A2EZXF5YGYTOWN': [],\n 'A2F0VQQLSF558D': [],\n 'A2F3QV40SONN60': [],\n 'A2F95NSPD4XEEU': [],\n 'A2FA2J1JT12N7J': [],\n 'A2FFUJ5D4CMJ4L': [],\n 'A2FLLYV6Z8UQ26': [],\n 'A2G1XJ25DR7PVF': [],\n 'A2G5KJ0CZE65ZD': [],\n 'A2GFPTQ4VWDX96': ['6546546450',\n  '7178680776',\n  '7250468162',\n  '7367905066',\n  '7414204790',\n  '7535842801',\n  '8279996397',\n  '8637910351',\n  '8867326759',\n  '9197882747'],\n 'A2GJLNRQTVUNOF': [],\n 'A2GOFJ3OZZUZ3H': [],\n 'A2GV0FE30O6M67': [],\n 'A2H3W11661MWDA': [],\n 'A2H7FD5GQMJXAQ': [],\n 'A2H7VSYLKGKLLJ': [],\n 'A2HFAX39PMLIGH': [],\n 'A2I4O72AAE1T1T': [],\n 'A2I868XUY96VWA': [],\n 'A2IK039KMC8UP1': [],\n 'A2IMJV0CQMZLGC': [],\n 'A2INWR0T7A7UN5': [],\n 'A2IOBG1ERS4JP3': ['6546546450',\n  '7178680776',\n  '7250468162',\n  '7367905066',\n  '7414204790',\n  '7535842801',\n  '8279996397',\n  '8637910351',\n  '8867326759',\n  '9197882747'],\n 'A2IRPQ7DXQ9YIN': [],\n 'A2J4WOR87ELFBH': [],\n 'A2JCBLTLYDPQLW': [],\n 'A2JEH2NKM1Z8CQ': [],\n 'A2JXZSR7R85KX4': [],\n 'A2K7XZCFYGZH0O': [],\n 'A2KO4HGLWB57LI': [],\n 'A2KVN4XKFJH0I8': [],\n 'A2LM47GK1W7RRR': [],\n 'A2LSOMD2X9KCCH': [],\n 'A2LYTBRWFQJMKM': [],\n 'A2M4YSOJZELJ6N': [],\n 'A2MAZK8XSIDXPF': [],\n 'A2MDIPJ7MS0MUJ': [],\n 'A2MGO3WV3SX7X': [],\n 'A2MLV3I5MMJ2RA': [],\n 'A2MPSHMC0U29AV': [],\n 'A2NI47L1B1RXSG': [],\n 'A2NJQZBE8TSUYO': [],\n 'A2NWTETCSLOEQN': [],\n 'A2O4DMC8M5JFHG': [],\n 'A2O823CIB99X95': [],\n 'A2OT3011J8E1ZP': [],\n 'A2OXIHJW4K9NKE': [],\n 'A2P6L9MQK99U36': [],\n 'A2PB6LYMRA7Z9V': [],\n 'A2PEJEOUE9MNA6': [],\n 'A2PIBK3EOG5TBK': [],\n 'A2PY1DBGV9FQA2': [],\n 'A2Q5UOQ4L1BOB9': [],\n 'A2QE1WIYFY0HAP': [],\n 'A2QP73U21FHJZI': [],\n 'A2QV1YJODH28QP': [],\n 'A2RAISC8UEEBK9': [],\n 'A2RDNAR2R66DKD': [],\n 'A2RXAD7UZ4VFT6': [],\n 'A2S47NK970GKD9': [],\n 'A2SMFKDH22FMA3': [],\n 'A2SOH4QHL5DZ6D': [],\n 'A2SQIQZUBEAJR3': [],\n 'A2SWEHEK2BMPM8': [],\n 'A2SYZ28NVJZ4R1': [],\n 'A2T0AMZZLASKKV': [],\n 'A2TCLY6N04N9D7': [],\n 'A2TW5FC72PI7SE': [],\n 'A2UAC8RKSPUIKH': [],\n 'A2UX00W1OX5A80': [],\n 'A2V88AD0XHE2IE': [],\n 'A2VC9R3XCFOEP1': [],\n 'A2VLCD1OWKXBW0': [],\n 'A2VTFDQ1DZN7UI': [],\n 'A2WHTNQ939BS71': [],\n 'A2WQGKM49J8UYT': [],\n 'A2WX2YLLHJDLX7': [],\n 'A2X4BZH61VJH5M': [],\n 'A2XEM0Y2PBNYK3': [],\n 'A2XFJ8CTY7VDNN': ['6546546450',\n  '7178680776',\n  '7250468162',\n  '7367905066',\n  '7414204790',\n  '7535842801',\n  '8279996397',\n  '8637910351',\n  '8867326759',\n  '9197882747'],\n 'A2XTIQTNDTY6IA': [],\n 'A2XVM7UW32TYJ4': [],\n 'A2XY3CJ3ZCAD03': ['B0001LQGGA',\n  'B0039LMTB0',\n  'B004E3ION4',\n  'B00GIXFF3K',\n  'B000AAYDJ4',\n  'B00E8PCOTI',\n  'B0002AHW2W',\n  'B00D4005Q2',\n  'B000ICV4T6',\n  'B001E5E9RK',\n  'B0001LQGGA',\n  'B0039LMTB0',\n  'B004E3ION4',\n  'B00GIXFF3K',\n  'B000AAYDJ4',\n  'B00E8PCOTI',\n  'B0002AHW2W',\n  'B00D4005Q2',\n  'B000ICV4T6',\n  'B001E5E9RK'],\n 'A2XYR0XUSOOBKN': [],\n 'A2Y1J1AKXDLR1': [],\n 'A2Y88AU2Y58W78': [],\n 'A2Z6RKQQUX4RJA': [],\n 'A2ZBZF2MUG5BMT': [],\n 'A2ZFTLMOAS9YS9': [],\n 'A2ZIIOGLNJDGAW': [],\n 'A2ZKSKEG5ADC67': [],\n 'A2ZZKY1V6M940H': [],\n 'A31LANQ03TDCXY': [],\n 'A323D529OO2E1G': [],\n 'A3254BNN69CL47': [],\n 'A327I3S4ZCZYBV': [],\n 'A32D5I46E15TEC': [],\n 'A32H6TQKJ1PQTP': [],\n 'A32KYN14BUANDF': [],\n 'A32OQFYMJ18HD6': [],\n 'A333LLJ35S8DVV': [],\n 'A33M6H443E78K3': [],\n 'A33S6R9E8SJQBP': [],\n 'A34DAQYDWYMVSG': [],\n 'A35F9VHYWAFR8J': [],\n 'A35F9XOEGELEWC': [],\n 'A35PB7968I55RI': [],\n 'A35RIL0AVMMXXL': [],\n 'A35Y5NLC3UEUQD': [],\n 'A367NSWV6NUSL1': [],\n 'A36I89SEZ432XE': [],\n 'A375WSDCO30KT9': [],\n 'A37G41T4DD51AH': [],\n 'A37M369VIVDDVJ': [],\n 'A37OPVPXMWHJJK': [],\n 'A37WMXX147RL1X': [],\n 'A37XPPIGUTR4LE': [],\n 'A388NSX468EY1E': [],\n 'A38GODWWMRN5IP': [],\n 'A38J6ZI0XZOY54': [],\n 'A38KP6TI3BUIM6': [],\n 'A38KUK8INKLRVW': [],\n 'A38OH5OTHDIENK': [],\n 'A38QGF4YG5YLUX': [],\n 'A3909LKTROS8XZ': [],\n 'A3961EO6PXRSV4': [],\n 'A39LZUDABR584J': [],\n 'A39PTGNQVCNU44': [],\n 'A39VI1UOID3TYE': [],\n 'A39YNT3CHM2I0Z': [],\n 'A3A3FMJO4E1E16': [],\n 'A3B99K4E030SZQ': [],\n 'A3BE6JK97CYAGA': ['B000068PBP',\n  'B000068PBQ',\n  'B00009RB1A',\n  'B000FED5DU',\n  'B00008VU8T',\n  'B000FED5DK',\n  'B01G08QMAW',\n  'B003RC3ZSC',\n  'B000FEF1V4',\n  'B000V3NIL4',\n  'B000068PBP',\n  'B000068PBQ',\n  'B00009RB1A',\n  'B000FED5DU',\n  'B00008VU8T',\n  'B000FED5DK',\n  'B01G08QMAW',\n  'B003RC3ZSC',\n  'B000FEF1V4',\n  'B000V3NIL4'],\n 'A3BLE5G96342IP': [],\n 'A3BNG9PTUPB4QO': [],\n 'A3BPFL7PM0EX1K': [],\n 'A3BT1WLPENXMD6': ['B00348IB42',\n  'B00XJI71AM',\n  'B017U7XJ9O',\n  'B00EYSPS74',\n  'B001J6O0NW',\n  'B00YMHEZNU',\n  'B00WW42O7Y',\n  'B019WX9B5U',\n  'B00OBWCU4M',\n  'B01CPQ10CS'],\n 'A3BU92XQ2M0FQV': [],\n 'A3BWTFXS9CXVAE': [],\n 'A3BXCNI6BG5GCW': [],\n 'A3C2F0Y7G5FRW3': [],\n 'A3CBKKG14IB1KH': [],\n 'A3CQ0NMUJ9TODP': [],\n 'A3CUAESGA4K7FU': [],\n 'A3CXM8XQ5Q1KPP': [],\n 'A3D0FFKCWXN2LR': [],\n 'A3D1IGUMS62SNU': [],\n 'A3D1VPTQGDS7H3': [],\n 'A3D4BNTGWVUMYY': [],\n 'A3DKARAF791Z5X': [],\n 'A3DTSBINBC9T1Y': [],\n 'A3DXQ86N43AUK3': [],\n 'A3DXW3542E4QUC': ['B001SPKK7Y',\n  'B00OND7Q8Y',\n  'B000EGMBO8',\n  'B00QTX3KTU',\n  'B01GUHW1MG',\n  'B000FAC1ZW',\n  'B00YMHEZNU',\n  'B014N7WP5S',\n  'B00KAPY4OI',\n  'B00MPAN2J4'],\n 'A3E9HGSGQCU4CT': [],\n 'A3EAHHQ7KV8LFG': [],\n 'A3EJS66CXBQLE8': [],\n 'A3ENBUF1TIQR5K': [],\n 'A3EZHDCUB7I4KM': [],\n 'A3F1C4MOB3X5XL': [],\n 'A3F6V5A2SFES04': [],\n 'A3FDEHXOYLD1AC': [],\n 'A3FGDP5PT4SPLK': [],\n 'A3FGWJLDNTJWED': [],\n 'A3G1X7LFBAPCUJ': [],\n 'A3GCKFO3G4AHLF': [],\n 'A3GGSN44XCR1LP': [],\n 'A3GPMU8E282AUW': [],\n 'A3GRQ9WMP4OXFE': ['6546546450',\n  '7178680776',\n  '7250468162',\n  '7367905066',\n  '7414204790',\n  '7535842801',\n  '8279996397',\n  '8637910351',\n  '8867326759',\n  '9197882747'],\n 'A3GWKJFBX8ZKT6': [],\n 'A3H8Z7JS7XJHJJ': ['6546546450',\n  '7178680776',\n  '7250468162',\n  '7367905066',\n  '7414204790',\n  '7535842801',\n  '8279996397',\n  '8637910351',\n  '8867326759',\n  '9197882747'],\n 'A3HRUR5VRFZ09F': [],\n 'A3IGRPW3T3WYYQ': [],\n 'A3J1T4IGQLKKMB': [],\n 'A3J9IGXNOJR2BL': [],\n 'A3JA23Z053GQH': [],\n 'A3JCDPKW3RY4RN': [],\n 'A3JEQJCEMX20GI': ['B00IIUYC5I',\n  'B0149KR3P6',\n  'B00U3ZFQVA',\n  'B015HNWAZM',\n  'B006WBIWOM',\n  'B0058A4ZOE',\n  'B00JBWH1RI',\n  'B00275N8BY',\n  'B0110ACWUY',\n  'B00EYC1ZHC',\n  '6546546450',\n  '7178680776',\n  '7250468162',\n  '7367905066',\n  '7414204790',\n  '7535842801',\n  '8279996397',\n  '8637910351',\n  '8867326759',\n  '9197882747'],\n 'A3KFRJBKYYNED7': [],\n 'A3KS7QCK708PRV': [],\n 'A3KYSCD09GNSUT': [],\n 'A3LA1YKU7MU28G': [],\n 'A3LEZ2F3IJC8PI': [],\n 'A3LIUDVZL87BJ1': [],\n 'A3LW4UWD5IH59X': [],\n 'A3LX43D34SINN3': [],\n 'A3LZ31BL10WT5Y': [],\n 'A3MAKZCODKKTYI': [],\n 'A3MFCMTXMF9B6W': [],\n 'A3MKAAS1OCULM6': [],\n 'A3MOSFTVDLAPDQ': [],\n 'A3MSPZTFP55OAG': [],\n 'A3MYAEQWFLNGT7': [],\n 'A3N4SR54KR77RK': [],\n 'A3NVFNLI1D4JUI': [],\n 'A3NYG8M131X9CM': [],\n 'A3OAQJCQBNF2JV': [],\n 'A3OCZRK8OEGZKL': [],\n 'A3OIDZP7AI0URM': [],\n 'A3OVOP3ZAF1EZ2': [],\n 'A3P3RV0CUR0VRQ': [],\n 'A3P8Z0J9AH92IZ': [],\n 'A3PJ22YDBOO8DN': [],\n 'A3PLMGKX9OQWOY': [],\n 'A3QL4UXK2Z5Q7T': [],\n 'A3QLWWO4V4PFMJ': [],\n 'A3QUUP6DYHF9YC': [],\n 'A3R7ZWTFN19KIX': [],\n 'A3RCVP2TSCL409': [],\n 'A3RUEIK67SFBFQ': [],\n 'A3SG2GXNRU6AO8': [],\n 'A3SL5YEUG12X9A': [],\n 'A3SME2XHYE99M5': [],\n 'A3T0BPK8JD6MD5': [],\n 'A3T2OTYYUYGLP0': [],\n 'A3T35MARIMRX9M': [],\n 'A3T9MTY43BVAL8': [],\n 'A3T9WXXE7EWNT8': [],\n 'A3TELGW4O61A61': [],\n 'A3TGG91X7W9SE8': [],\n 'A3TSVNG02WZYSW': [],\n 'A3U32YT7BSZ0KJ': [],\n 'A3UAJ5O4VR3IQ3': [],\n 'A3UBQFB24OY57': [],\n 'A3UCBR5T51RVRF': [],\n 'A3URWO9TFNH3IW': [],\n 'A3V81XSQIPRKO8': [],\n 'A3V9LE9I6Z5AF3': [],\n 'A3VEZWV624JM4O': [],\n 'A3VFDFSQ8X74WJ': [],\n 'A3VXSKW11C3301': [],\n 'A4INUX2JA7KE2': [],\n 'A4IQXCCXDEAKW': ['B003Y0MRJ0',\n  'B00AHOUTVY',\n  'B00YIQI5RW',\n  'B00KZKNM3W',\n  'B01CSX2I42',\n  'B00G4NIDZQ',\n  'B01GAXQTEG',\n  'B01CSX480E',\n  'B0046IK8OK',\n  'B0000536OY',\n  '6546546450',\n  '7178680776',\n  '7250468162',\n  '7367905066',\n  '7414204790',\n  '7535842801',\n  '8279996397',\n  '8637910351',\n  '8867326759',\n  '9197882747'],\n 'A4PZHPMLBS8T3': [],\n 'A4SRPWVKZ8MBC': [],\n 'A4V3S90H5OZTV': [],\n 'A4VQ44JM97RBL': [],\n 'A5ECS1R7F1TUD': [],\n 'A5LV53PMV1X6R': [],\n 'A674HJEQGJ5R9': [],\n 'A679PFWSVAY0B': [],\n 'A6IX0T5Z4NEXG': [],\n 'A6JVX3BIR03UT': [],\n 'A6P34Q7M983DN': [],\n 'A72IXFDV3HVU6': [],\n 'A74XHLD33IB9S': [],\n 'A7EG6541KYNIU': [],\n 'A7HS9Y95Y9BI6': [],\n 'A7JUHUYLXIUVQ': ['B00NFV3QMA',\n  'B00JU7FM20',\n  'B0071NVC2Y',\n  'B00IAA71KY',\n  'B004D61VQ4',\n  'B00IAA9CC4',\n  'B000052Y8Z',\n  'B015RY75P6',\n  'B00NFUB5TW',\n  'B00112DVZW'],\n 'A7KQ3EGH8QTDS': [],\n 'A7SILTHEWXQ8T': [],\n 'A7Y4ETTLARUGI': ['6546546450',\n  '7178680776',\n  '7250468162',\n  '7367905066',\n  '7414204790',\n  '7535842801',\n  '8279996397',\n  '8637910351',\n  '8867326759',\n  '9197882747'],\n 'A7Z2BG3284EE8': [],\n 'A8FMILLDHAI14': [],\n 'A8JUUA4GHIAMI': [],\n 'A8LVPPXFVYGVU': [],\n 'A8ZUDRNPFB0FU': [],\n 'A9BXB2XYAW169': [],\n 'A9LOWDS5H848B': [],\n 'AA3TPN2ZXE9TE': [],\n 'AAD3T3WYTF1BR': [],\n 'AAJ1IA9SFH4IG': [],\n 'AAT4JCLA3VGRZ': [],\n 'ABNE90UVC4BMT': [],\n 'ABSMQNX2PDSWH': [],\n 'ABWCUEDFH8W5H': [],\n 'ABYOL1GQA39OB': [],\n 'AC0X1OVDMJX9': [],\n 'ACCY5NWUNEC87': [],\n 'ACE1ZIOI3U6PY': ['B00IAA7B40',\n  'B00IA9ZMAG',\n  'B00AODI9XI',\n  'B000LJEIYY',\n  'B01E0FSX1S',\n  'B001P2NRPC',\n  'B00IAAD2I4',\n  'B00IA9ZW7E',\n  'B000OWX8I0',\n  'B005GHW0T6',\n  '6546546450',\n  '7178680776',\n  '7250468162',\n  '7367905066',\n  '7414204790',\n  '7535842801',\n  '8279996397',\n  '8637910351',\n  '8867326759',\n  '9197882747'],\n 'ACLAKWV2EFFB5': [],\n 'AD9O852KPYLHY': [],\n 'ADDXT6NXD9GQ7': [],\n 'ADG8D8X6P9X7M': [],\n 'ADR4IE33O06IJ': [],\n 'ADV1MNMPVS17V': [],\n 'ADYRHTPM2T2SE': [],\n 'AE6VHWVRXHU19': [],\n 'AEKJTREHL41OE': [],\n 'AEP7KPEZWI7VY': [],\n 'AETOYW0R5VN0X': [],\n 'AEZBSOFLB44RG': [],\n 'AFE9H6ABXM735': [],\n 'AFMQ7BBR4FYMB': [],\n 'AFY8EIWAT6H8J': [],\n 'AG0867QGE3R2B': [],\n 'AG3T3ILPXFL3H': [],\n 'AG74ZKO3BG57J': [],\n 'AGORXWI6K2RIR': [],\n 'AGRZQOBCF8H87': [],\n 'AGTD0T9R78YLG': [],\n 'AGYIYIVZHBI60': [],\n 'AHGNU4UWGATOH': [],\n 'AHYRXYR235TWH': [],\n 'AIB7HX2UC3WHM': [],\n 'AITF34BGBMVJJ': ['6546546450',\n  '7178680776',\n  '7250468162',\n  '7367905066',\n  '7414204790',\n  '7535842801',\n  '8279996397',\n  '8637910351',\n  '8867326759',\n  '9197882747'],\n 'AIU7HYQIC5D95': [],\n 'AJHSB0LT8NKP4': [],\n 'AJYMJEC6B7V52': [],\n 'AK4VANLR5UK95': [],\n 'AK7YIZE6ZZ1N9': [],\n 'AKHSKD91MQ9DP': [],\n 'ALUZH689LQE6K': [],\n 'ALWLZC3GRRXPN': [],\n 'AM1KUDVTKXIAQ': [],\n 'AM9HBLGAPZQR7': [],\n 'AMA98TY969A1T': [],\n 'AMLDY4QY4HV0D': [],\n 'AMVZ9HW23Y42N': [],\n 'AN3QZR3OD7SFO': [],\n 'ANC6FN6T8JBB2': [],\n 'ANDGVKQ15NCZM': [],\n 'ANFUWUOC7EJKR': [],\n 'ANG7MOYBTWQE6': [],\n 'ANJ6Y9G0B4TM8': [],\n 'ANR73TPVBCQ9K': [],\n 'ANT034IX5ZPI9': [],\n 'AOB2Y1KJQG7K7': [],\n 'AONHG4PDUQ0D6': [],\n 'APA9SALOTTBM6': [],\n 'APARJQGAD0J4C': [],\n 'AQ5PKYF0FJA4B': [],\n 'AQCQQYEUHUX3M': [],\n 'AQYL4TDY2HU8Z': ['B009Z6CVW0',\n  'B00BI718GE',\n  'B005ES3IMU',\n  'B000THHNIQ',\n  'B00LU78ODM',\n  'B00P9OAU5C',\n  'B00FFJ1E8I',\n  'B004BY76F8',\n  'B01C5CXHYG',\n  'B004VTWYYQ'],\n 'AR9Y0CM5B174': [],\n 'ARLN791TA1RV7': [],\n 'AS8T77HTF9IHW': [],\n 'ASGIVOW34XNQS': ['B000NRWP2Q',\n  'B00QF4U4BK',\n  'B017B8AK3A',\n  'B005NA188A',\n  'B001R21J3W',\n  'B00UQWJRUQ',\n  'B00KJS65ZM',\n  'B01BQLI5HQ',\n  'B00791F1RK',\n  'B000NIYXDE',\n  '6546546450',\n  '7178680776',\n  '7250468162',\n  '7367905066',\n  '7414204790',\n  '7535842801',\n  '8279996397',\n  '8637910351',\n  '8867326759',\n  '9197882747'],\n 'ATJRZUXNWAWIK': ['6546546450',\n  '7178680776',\n  '7250468162',\n  '7367905066',\n  '7414204790',\n  '7535842801',\n  '8279996397',\n  '8637910351',\n  '8867326759',\n  '9197882747'],\n 'ATP2UCHTR7QMZ': [],\n 'ATR9J7TYR1KVL': [],\n 'ATVP6QJLS27EN': [],\n 'AU03W1V42994X': [],\n 'AU1BVXGV2KO8I': [],\n 'AU2JWZMFEVAH5': [],\n 'AU3MVNMVFSIM': [],\n 'AUKMWTDK16PAP': [],\n 'AUWJT1DM7SG2D': [],\n 'AV0O5NWF2NKDF': [],\n 'AV2MC7NNTMKTF': [],\n 'AVC89473DX6XU': [],\n 'AVFBQDR2KRNK6': [],\n 'AVIMJH2FF6QCH': [],\n 'AVO5FL5T9EZSR': [],\n 'AVQ0V2MIW2Z5K': [],\n 'AVWSUUBWD3RK4': [],\n 'AWJFUVK3064HX': [],\n 'AXM9OKKHRR4RP': [],\n 'AXPZI9N8HVHYO': [],\n 'AXQ57AZLKLPCQ': [],\n 'AXQS1B3WVRHQV': [],\n 'AXS7NH3GDN7EE': [],\n 'AY4F95T0JSTZ2': [],\n 'AYG63OK9TNBNP': [],\n 'AZE64W03EUJA4': [],\n 'AZECTAHZICNW5': [],\n 'AZEGZXCFTLSQB': [],\n 'AZEKC7DEXXJD7': [],\n 'AZFGSCB0S59LQ': [],\n 'AZHS42HV4FKKA': []}"
     },
     "execution_count": 30,
     "metadata": {},
     "output_type": "execute_result"
    }
   ],
   "source": [
    "def recommender(training_data, users=[], k=10):\n",
    "    \"\"\"\n",
    "    * training_data: dataframe 輸入的訓練資料集（2018-09-01 以前資料）\n",
    "    * users: [] 需要被推薦的使用者\n",
    "    * k: int 每個使用者需要推薦的商品數\n",
    "    * recommendations: dict\n",
    "      {\n",
    "          使用者一： [推薦商品一, 推薦商品二, ...],\n",
    "          使用者二： [...], ...\n",
    "      }\n",
    "    \"\"\"\n",
    "\n",
    "    '''\n",
    "    content-based\n",
    "    '''\n",
    "    ratings_trainings = training_data\n",
    "    recommendations = {user: recommend_items(metadata[metadata['asin'].isin(get_user_bought_list(ratings_trainings,user))]['description_join'].tolist(), k) for user in users}\n",
    "    return recommendations\n",
    "\n",
    "\n",
    "ratings_by_user = recommender(ratings_trainings, users)\n",
    "ratings_by_user"
   ],
   "metadata": {
    "collapsed": false,
    "pycharm": {
     "name": "#%%\n"
    }
   }
  },
  {
   "cell_type": "markdown",
   "source": [
    "## D. 內容過濾的推薦算法　－　5. 結果評估"
   ],
   "metadata": {
    "collapsed": false
   }
  },
  {
   "cell_type": "code",
   "execution_count": 31,
   "outputs": [
    {
     "data": {
      "text/plain": "0.0"
     },
     "execution_count": 31,
     "metadata": {},
     "output_type": "execute_result"
    }
   ],
   "source": [
    "def evaluate(ratings_testings_by_user={}, ratings_by_user={}, method=None):\n",
    "    '''\n",
    "    * ratings_testings_by_user: dict 真實被購買的商品資料（2018-09-01 以後資料）\n",
    "    * ratings_by_user: dict 利用訓練資料學習的推薦商品\n",
    "    * method: str\n",
    "    * score: float\n",
    "    '''\n",
    "    total = 0\n",
    "    for d in ratings_testings_by_user:\n",
    "        if d in ratings_by_user:\n",
    "            total += len(set(ratings_by_user[d]) & set(ratings_testings_by_user[d]))\n",
    "\n",
    "    score = total / len(ratings_testings)\n",
    "    return score\n",
    "\n",
    "evaluate(ratings_testings_by_user, ratings_by_user)"
   ],
   "metadata": {
    "collapsed": false,
    "pycharm": {
     "name": "#%%\n"
    }
   }
  },
  {
   "cell_type": "markdown",
   "source": [
    "# E. 分析失敗結果\n",
    "看來測試資料中，很多人的推薦清單都是空的。若對於沒的買過的人，使用相似商品的推薦，就會出現 cold start 的問題。\n",
    "\n",
    "為了鑑別出目前 content-base 的好壞，我們先把\"測試資料\"分兩類的人：\n",
    "1. 沒有買過的人 (在\"訓練的資料中\")\n",
    "2. 有買過的人\n",
    "\n",
    "```\n",
    "所有測試的人 = 在訓練集中 + 不在訓練集中\n",
    "584        = 38       + 546\n",
    "```\n",
    "因為大部分的人都不在訓練集中，這表示我們若使用推薦「買過商品中，推薦描述相似商品」的方法，應該都不會得到好的 recall 結果。"
   ],
   "metadata": {
    "collapsed": false,
    "pycharm": {
     "name": "#%% md\n"
    }
   }
  },
  {
   "cell_type": "code",
   "execution_count": 32,
   "outputs": [
    {
     "name": "stdout",
     "output_type": "stream",
     "text": [
      "所有測試的人 = 在訓練集中 + 不在訓練集中\n",
      "584        = 38       + 546\n"
     ]
    }
   ],
   "source": [
    "train_users= set(ratings_trainings['reviewerID'].tolist())\n",
    "train_users\n",
    "users_in_train = [user for user in users if user in train_users]\n",
    "users_not_in_train = [user for user in users if user not in train_users]\n",
    "print('所有測試的人 = 在訓練集中 + 不在訓練集中')\n",
    "print('%s        = %s       + %s' % (len(users), len(users_in_train), len(users_not_in_train)))"
   ],
   "metadata": {
    "collapsed": false,
    "pycharm": {
     "name": "#%%\n"
    }
   }
  },
  {
   "cell_type": "code",
   "execution_count": 33,
   "outputs": [],
   "source": [
    "# 調整成不依賴 ratings_testings\n",
    "def evaluate_fix(ratings_testings_by_user={}, ratings_by_user={}, method=None):\n",
    "    '''\n",
    "    * ratings_testings_by_user: dict 真實被購買的商品資料（2018-09-01 以後資料）\n",
    "    * ratings_by_user: dict 利用訓練資料學習的推薦商品\n",
    "    * method: str\n",
    "    * score: float\n",
    "    '''\n",
    "    all_count = sum([len(asin_list) for (user, asin_list) in ratings_testings_by_user.items()])\n",
    "    total = 0\n",
    "    for d in ratings_testings_by_user:\n",
    "        if d in ratings_by_user:\n",
    "            total += len(set(ratings_by_user[d]) & set(ratings_testings_by_user[d]))\n",
    "\n",
    "    score = total / all_count\n",
    "    return score"
   ],
   "metadata": {
    "collapsed": false,
    "pycharm": {
     "name": "#%%\n"
    }
   }
  },
  {
   "cell_type": "code",
   "execution_count": 34,
   "outputs": [
    {
     "data": {
      "text/plain": "0.0"
     },
     "execution_count": 34,
     "metadata": {},
     "output_type": "execute_result"
    }
   ],
   "source": [
    "ratings_testings_by_user_in_train = {user: ratings_testings_by_user[user] for user in users_in_train if user in ratings_testings_by_user}\n",
    "evaluate_fix(ratings_testings_by_user_in_train, recommender(ratings_trainings, users_in_train))"
   ],
   "metadata": {
    "collapsed": false,
    "pycharm": {
     "name": "#%%\n"
    }
   }
  },
  {
   "cell_type": "markdown",
   "source": [
    "結論：若只算在訓練集資料的人，recall 也是 0"
   ],
   "metadata": {
    "collapsed": false
   }
  },
  {
   "cell_type": "markdown",
   "source": [
    "## E. 分析失敗結果 - 優化嘗試\n",
    "\n",
    "### E. 分析失敗結果 - 優化嘗試 - 使用 normalize 過的 tfidf_matrix\n",
    "使用 normalize 過的 tfidf_matrix\n",
    "\n",
    "結論： recall 一樣是 0"
   ],
   "metadata": {
    "collapsed": false,
    "pycharm": {
     "name": "#%% md\n"
    }
   }
  },
  {
   "cell_type": "code",
   "execution_count": 35,
   "outputs": [],
   "source": [
    "normal_tfidf_matrix = preprocessing.normalize(tfidf_matrix, axis=1)"
   ],
   "metadata": {
    "collapsed": false,
    "pycharm": {
     "name": "#%%\n"
    }
   }
  },
  {
   "cell_type": "code",
   "execution_count": 36,
   "outputs": [],
   "source": [
    "similarity_matrix_normalized = cosine_similarity(normal_tfidf_matrix)"
   ],
   "metadata": {
    "collapsed": false,
    "pycharm": {
     "name": "#%%\n"
    }
   }
  },
  {
   "cell_type": "code",
   "execution_count": 37,
   "outputs": [
    {
     "name": "stdout",
     "output_type": "stream",
     "text": [
      "recall:  0.0\n"
     ]
    },
    {
     "data": {
      "text/plain": "{'A13JU88JAHN72I': ['6546546450',\n  '7178680776',\n  '7250468162',\n  '7367905066',\n  '7414204790',\n  '7535842801',\n  '8279996397',\n  '8637910351',\n  '8867326759',\n  '9197882747'],\n 'A16Y7V1CZCWKFV': [],\n 'A19503XX7GU6J2': ['6546546450',\n  '7178680776',\n  '7250468162',\n  '7367905066',\n  '7414204790',\n  '7535842801',\n  '8279996397',\n  '8637910351',\n  '8867326759',\n  '9197882747',\n  '6546546450',\n  '7178680776',\n  '7250468162',\n  '7367905066',\n  '7414204790',\n  '7535842801',\n  '8279996397',\n  '8637910351',\n  '8867326759',\n  '9197882747'],\n 'A1EY751AUVO5NZ': ['6546546450',\n  '7178680776',\n  '7250468162',\n  '7367905066',\n  '7414204790',\n  '7535842801',\n  '8279996397',\n  '8637910351',\n  '8867326759',\n  '9197882747'],\n 'A1PR178735XC70': [],\n 'A1SA3N793WT2LM': ['B000N5QWH2',\n  'B01FUJNXMC',\n  'B003XSINE6',\n  'B00I547XB2',\n  'B001233G4G',\n  'B003PP0CPU',\n  'B001MA2CGC',\n  'B01BX1DRM2',\n  'B01H2IIXJC',\n  'B01FY36NUS',\n  'B00HLXEXDO',\n  'B000F8JKF8',\n  'B00XLBSHN2',\n  'B01G6HK13G',\n  'B01CM3CCAI',\n  'B014GYATO2',\n  'B000X7ST9Y',\n  'B00AHVVP0G',\n  'B01D6JCCKC',\n  'B01ELTNOU8',\n  'B00HZKJZ6I',\n  'B001KYO6K0',\n  'B000CRG9G0',\n  'B003XSINE6',\n  'B0057ZHMN6',\n  'B00791F1RK',\n  'B001O3CMLW',\n  'B006UCER10',\n  'B00HORTB66',\n  'B00EXW4EXU',\n  '6546546450',\n  '7178680776',\n  '7250468162',\n  '7367905066',\n  '7414204790',\n  '7535842801',\n  '8279996397',\n  '8637910351',\n  '8867326759',\n  '9197882747'],\n 'A1TP9JHTIY468V': ['6546546450',\n  '7178680776',\n  '7250468162',\n  '7367905066',\n  '7414204790',\n  '7535842801',\n  '8279996397',\n  '8637910351',\n  '8867326759',\n  '9197882747',\n  '6546546450',\n  '7178680776',\n  '7250468162',\n  '7367905066',\n  '7414204790',\n  '7535842801',\n  '8279996397',\n  '8637910351',\n  '8867326759',\n  '9197882747'],\n 'A1UAOE8KO7Q1DZ': ['B00GPDWNQU',\n  'B00KMKT37E',\n  'B00BNWNXOY',\n  'B00HQ5LP6K',\n  'B00JONGQEI',\n  'B0085LZEPM',\n  'B0085LZE2U',\n  'B00MKUCJY8',\n  'B019X4AJ2W',\n  'B00HP48MUY'],\n 'A1WEFBEJ7OHSVZ': ['B008CMRDY4',\n  'B000EOI16M',\n  'B000EOI176',\n  'B003I9IMX2',\n  'B013FTV9B6',\n  'B018IXGHNY',\n  'B013TQN878',\n  'B01CX3LLN6',\n  'B001U2GBHI',\n  'B00UATVHD0'],\n 'A1WSZED2O5MA5T': ['B000RC2V4Y',\n  'B01F07NVR6',\n  'B01DH9NS2C',\n  'B000Q40BT0',\n  'B0013AHNKQ',\n  'B00KO7VFRQ',\n  'B01FEDIWC0',\n  'B00AHVVP0G',\n  'B001G8LKBS',\n  'B01CYW99YY'],\n 'A28E3FNV1BYC94': [],\n 'A29834GBB4DOP1': [],\n 'A2AAQWBJJTK3E1': [],\n 'A2BU6N5956T9NH': ['B000NWMOBS',\n  'B01CRW365Y',\n  'B01B1HUABO',\n  'B001O8KKW0',\n  'B007O5GBUM',\n  'B0008GCVU8',\n  'B000195NOI',\n  'B004L52MAG',\n  'B00846SJZA',\n  'B01BUDR2TC'],\n 'A2GFPTQ4VWDX96': ['6546546450',\n  '7178680776',\n  '7250468162',\n  '7367905066',\n  '7414204790',\n  '7535842801',\n  '8279996397',\n  '8637910351',\n  '8867326759',\n  '9197882747'],\n 'A2IMJV0CQMZLGC': [],\n 'A2IOBG1ERS4JP3': ['6546546450',\n  '7178680776',\n  '7250468162',\n  '7367905066',\n  '7414204790',\n  '7535842801',\n  '8279996397',\n  '8637910351',\n  '8867326759',\n  '9197882747'],\n 'A2JCBLTLYDPQLW': [],\n 'A2M4YSOJZELJ6N': [],\n 'A2XFJ8CTY7VDNN': ['6546546450',\n  '7178680776',\n  '7250468162',\n  '7367905066',\n  '7414204790',\n  '7535842801',\n  '8279996397',\n  '8637910351',\n  '8867326759',\n  '9197882747'],\n 'A2XY3CJ3ZCAD03': ['B0001LQGGA',\n  'B0039LMTB0',\n  'B004E3ION4',\n  'B00GIXFF3K',\n  'B000AAYDJ4',\n  'B00E8PCOTI',\n  'B0002AHW2W',\n  'B00D4005Q2',\n  'B000ICV4T6',\n  'B001E5E9RK',\n  'B0001LQGGA',\n  'B0039LMTB0',\n  'B004E3ION4',\n  'B00GIXFF3K',\n  'B000AAYDJ4',\n  'B00E8PCOTI',\n  'B0002AHW2W',\n  'B00D4005Q2',\n  'B000ICV4T6',\n  'B001E5E9RK'],\n 'A3BE6JK97CYAGA': ['B000068PBP',\n  'B000068PBQ',\n  'B00009RB1A',\n  'B000FED5DU',\n  'B00008VU8T',\n  'B000FED5DK',\n  'B01G08QMAW',\n  'B003RC3ZSC',\n  'B000FEF1V4',\n  'B000V3NIL4',\n  'B000068PBP',\n  'B000068PBQ',\n  'B00009RB1A',\n  'B000FED5DU',\n  'B00008VU8T',\n  'B000FED5DK',\n  'B01G08QMAW',\n  'B003RC3ZSC',\n  'B000FEF1V4',\n  'B000V3NIL4'],\n 'A3BT1WLPENXMD6': ['B00348IB42',\n  'B00XJI71AM',\n  'B017U7XJ9O',\n  'B00EYSPS74',\n  'B001J6O0NW',\n  'B00YMHEZNU',\n  'B00WW42O7Y',\n  'B019WX9B5U',\n  'B00OBWCU4M',\n  'B01CPQ10CS'],\n 'A3DXW3542E4QUC': ['B001SPKK7Y',\n  'B00OND7Q8Y',\n  'B000EGMBO8',\n  'B00QTX3KTU',\n  'B01GUHW1MG',\n  'B000FAC1ZW',\n  'B00YMHEZNU',\n  'B014N7WP5S',\n  'B00KAPY4OI',\n  'B00MPAN2J4'],\n 'A3GRQ9WMP4OXFE': ['6546546450',\n  '7178680776',\n  '7250468162',\n  '7367905066',\n  '7414204790',\n  '7535842801',\n  '8279996397',\n  '8637910351',\n  '8867326759',\n  '9197882747'],\n 'A3H8Z7JS7XJHJJ': ['6546546450',\n  '7178680776',\n  '7250468162',\n  '7367905066',\n  '7414204790',\n  '7535842801',\n  '8279996397',\n  '8637910351',\n  '8867326759',\n  '9197882747'],\n 'A3JEQJCEMX20GI': ['B00IIUYC5I',\n  'B0149KR3P6',\n  'B00U3ZFQVA',\n  'B015HNWAZM',\n  'B006WBIWOM',\n  'B0058A4ZOE',\n  'B00JBWH1RI',\n  'B00275N8BY',\n  'B0110ACWUY',\n  'B00EYC1ZHC',\n  '6546546450',\n  '7178680776',\n  '7250468162',\n  '7367905066',\n  '7414204790',\n  '7535842801',\n  '8279996397',\n  '8637910351',\n  '8867326759',\n  '9197882747'],\n 'A4IQXCCXDEAKW': ['B003Y0MRJ0',\n  'B00AHOUTVY',\n  'B00YIQI5RW',\n  'B00KZKNM3W',\n  'B01CSX2I42',\n  'B00G4NIDZQ',\n  'B01GAXQTEG',\n  'B01CSX480E',\n  'B0046IK8OK',\n  'B0000536OY',\n  '6546546450',\n  '7178680776',\n  '7250468162',\n  '7367905066',\n  '7414204790',\n  '7535842801',\n  '8279996397',\n  '8637910351',\n  '8867326759',\n  '9197882747'],\n 'A7JUHUYLXIUVQ': ['B00NFV3QMA',\n  'B00JU7FM20',\n  'B0071NVC2Y',\n  'B00IAA71KY',\n  'B004D61VQ4',\n  'B00IAA9CC4',\n  'B000052Y8Z',\n  'B015RY75P6',\n  'B00NFUB5TW',\n  'B00112DVZW'],\n 'A7Y4ETTLARUGI': ['6546546450',\n  '7178680776',\n  '7250468162',\n  '7367905066',\n  '7414204790',\n  '7535842801',\n  '8279996397',\n  '8637910351',\n  '8867326759',\n  '9197882747'],\n 'ACE1ZIOI3U6PY': ['B00IAA7B40',\n  'B00IA9ZMAG',\n  'B00AODI9XI',\n  'B000LJEIYY',\n  'B01E0FSX1S',\n  'B001P2NRPC',\n  'B00IAAD2I4',\n  'B00IA9ZW7E',\n  'B000OWX8I0',\n  'B005GHW0T6',\n  '6546546450',\n  '7178680776',\n  '7250468162',\n  '7367905066',\n  '7414204790',\n  '7535842801',\n  '8279996397',\n  '8637910351',\n  '8867326759',\n  '9197882747'],\n 'AGRZQOBCF8H87': [],\n 'AITF34BGBMVJJ': ['6546546450',\n  '7178680776',\n  '7250468162',\n  '7367905066',\n  '7414204790',\n  '7535842801',\n  '8279996397',\n  '8637910351',\n  '8867326759',\n  '9197882747'],\n 'AK7YIZE6ZZ1N9': [],\n 'ANR73TPVBCQ9K': [],\n 'AQYL4TDY2HU8Z': ['B009Z6CVW0',\n  'B00BI718GE',\n  'B005ES3IMU',\n  'B000THHNIQ',\n  'B00LU78ODM',\n  'B00P9OAU5C',\n  'B00FFJ1E8I',\n  'B004BY76F8',\n  'B01C5CXHYG',\n  'B004VTWYYQ'],\n 'ASGIVOW34XNQS': ['B000NRWP2Q',\n  'B00QF4U4BK',\n  'B017B8AK3A',\n  'B005NA188A',\n  'B001R21J3W',\n  'B00UQWJRUQ',\n  'B00KJS65ZM',\n  'B01BQLI5HQ',\n  'B00791F1RK',\n  'B000NIYXDE',\n  '6546546450',\n  '7178680776',\n  '7250468162',\n  '7367905066',\n  '7414204790',\n  '7535842801',\n  '8279996397',\n  '8637910351',\n  '8867326759',\n  '9197882747'],\n 'ATJRZUXNWAWIK': ['6546546450',\n  '7178680776',\n  '7250468162',\n  '7367905066',\n  '7414204790',\n  '7535842801',\n  '8279996397',\n  '8637910351',\n  '8867326759',\n  '9197882747']}"
     },
     "execution_count": 37,
     "metadata": {},
     "output_type": "execute_result"
    }
   ],
   "source": [
    "def recommend_item_for_normalized(item_input, k=2):\n",
    "    \"\"\"\n",
    "    :param item_input: string, description_join\n",
    "    :param k: 取出相似個數\n",
    "    :return: 回傳 list\n",
    "    \"\"\"\n",
    "    try:\n",
    "        item_index = mapping[item_input]\n",
    "        similarity_score = list(enumerate(similarity_matrix_normalized[item_index]))\n",
    "        similarity_score = sorted(similarity_score, key=lambda x: x[1], reverse=True)\n",
    "        similarity_score = similarity_score[:k]\n",
    "        item_indices = [i[0] for i in similarity_score]\n",
    "        return (df['asin'].iloc[item_indices].tolist())\n",
    "    except:\n",
    "        return []\n",
    "\n",
    "def recommend_items_for_normalized(items, k):\n",
    "    res = []\n",
    "    for d in items:\n",
    "        res.extend(recommend_item_for_normalized(d, k))\n",
    "    return res\n",
    "\n",
    "def recommender_for_normalized(training_data, users=[], k=10):\n",
    "    ratings_trainings = training_data\n",
    "    recommendations = {user: recommend_items_for_normalized(metadata[metadata['asin'].isin(get_user_bought_list(ratings_trainings,user))]['description_join'].tolist(), k) for user in users}\n",
    "    return recommendations\n",
    "\n",
    "recommender_list_for_normalized = recommender_for_normalized(ratings_trainings, users_in_train)\n",
    "print('recall: ', evaluate_fix(ratings_testings_by_user_in_train, recommender_list_for_normalized))\n",
    "recommender_list_for_normalized"
   ],
   "metadata": {
    "collapsed": false,
    "pycharm": {
     "name": "#%%\n"
    }
   }
  },
  {
   "cell_type": "markdown",
   "source": [
    "### E. 分析失敗結果 - 優化嘗試 - 在從相似清單選出 k 個是否對 recall 有影響力 (description)\n",
    "\n",
    "當因為一次購買紀錄會有　10 個，二次就會有 20 個...。\n",
    "為了增加 recall 我們試圖提高每次購買紀錄的 k，看 recall 有沒有提高？\n",
    "\n",
    "> 注意：因為 recall 計算沒有考慮到 FP（使用者沒有買，在推薦的商品) ，所以從推薦相似商品清單再選出”精選 k”對 recall 是沒有幫助的。\n",
    "\n",
    "> 因為不在訓練集的 users 太多了，會讓 recall 很可能會變 0。\n",
    "> 因此，倘若我們計算users在訓練集的 recall 是 0，就可以推論出考慮完整的測試集的 users 也會是 0"
   ],
   "metadata": {
    "collapsed": false,
    "pycharm": {
     "name": "#%%　md\n"
    }
   }
  },
  {
   "cell_type": "code",
   "execution_count": 38,
   "outputs": [
    {
     "data": {
      "text/plain": "<Figure size 576x576 with 1 Axes>",
      "image/png": "[encoded data removed]"
     },
     "metadata": {
      "needs_background": "light"
     },
     "output_type": "display_data"
    },
    {
     "data": {
      "text/plain": "[[10, 0.0],\n [20, 0.0],\n [30, 0.0],\n [40, 0.0],\n [50, 0.0],\n [60, 0.0],\n [70, 0.0],\n [80, 0.0],\n [90, 0.0],\n [100, 0.0],\n [110, 0.0],\n [120, 0.0],\n [130, 0.0],\n [140, 0.0],\n [150, 0.0],\n [160, 0.0],\n [170, 0.0],\n [180, 0.0],\n [190, 0.0],\n [200, 0.0],\n [210, 0.0],\n [220, 0.0],\n [230, 0.0],\n [240, 0.0],\n [250, 0.0],\n [260, 0.0],\n [270, 0.0],\n [280, 0.0],\n [290, 0.0],\n [300, 0.0],\n [310, 0.0],\n [320, 0.0],\n [330, 0.0],\n [340, 0.0],\n [350, 0.0],\n [360, 0.0],\n [370, 0.0],\n [380, 0.0],\n [390, 0.0],\n [400, 0.0],\n [410, 0.0],\n [420, 0.0],\n [430, 0.0],\n [440, 0.0],\n [450, 0.0],\n [460, 0.0],\n [470, 0.0],\n [480, 0.0],\n [490, 0.0],\n [500, 0.0],\n [510, 0.0],\n [520, 0.0],\n [530, 0.0],\n [540, 0.0],\n [550, 0.0],\n [560, 0.0],\n [570, 0.0],\n [580, 0.0],\n [590, 0.0],\n [600, 0.0],\n [610, 0.0],\n [620, 0.0],\n [630, 0.0],\n [640, 0.0],\n [650, 0.0],\n [660, 0.0],\n [670, 0.0],\n [680, 0.0],\n [690, 0.0],\n [700, 0.0],\n [710, 0.0],\n [720, 0.0],\n [730, 0.0],\n [740, 0.0],\n [750, 0.0],\n [760, 0.0],\n [770, 0.0],\n [780, 0.0],\n [790, 0.0],\n [800, 0.0],\n [810, 0.0],\n [820, 0.0],\n [830, 0.0],\n [840, 0.0],\n [850, 0.0],\n [860, 0.0],\n [870, 0.0],\n [880, 0.0],\n [890, 0.0],\n [900, 0.0],\n [910, 0.0],\n [920, 0.0],\n [930, 0.0],\n [940, 0.0],\n [950, 0.0],\n [960, 0.0],\n [970, 0.0],\n [980, 0.0],\n [990, 0.0],\n [1000, 0.0]]"
     },
     "execution_count": 38,
     "metadata": {},
     "output_type": "execute_result"
    }
   ],
   "source": [
    "points = []\n",
    "for i in range(100):\n",
    "    k = (i + 1) * 10\n",
    "    ratings_by_user = recommender(ratings_trainings, users_in_train, k)\n",
    "    recall = evaluate_fix(ratings_testings_by_user_in_train, ratings_by_user)\n",
    "    points.append([k, recall])\n",
    "\n",
    "plt.figure(figsize=(8, 8))\n",
    "x_axis = np.array(points)[:, 0]\n",
    "y_axis = np.array(points)[:, 1]\n",
    "for [k, recall] in points:\n",
    "    plt.text(k, recall, k)\n",
    "plt.scatter(x_axis, y_axis)\n",
    "plt.show()\n",
    "\n",
    "points\n",
    "\n",
    "# 結論，k 的提高，對 recall 沒有幫助"
   ],
   "metadata": {
    "collapsed": false,
    "pycharm": {
     "name": "#%%　\n"
    }
   }
  },
  {
   "cell_type": "markdown",
   "source": [
    "### E. 分析失敗結果 - 優化嘗試 - 在從相似清單選出 k 個是否對 recall 有影響力 (title)\n",
    "若使用 title 做特徵向量，來做產品分類。\n",
    "\n",
    "一樣我們提高選出的相似商品量（k　提高 ），觀察 recall，我們發現 k = 170 有提高一點"
   ],
   "metadata": {
    "collapsed": false,
    "pycharm": {
     "name": "#%%　md\n"
    }
   }
  },
  {
   "cell_type": "code",
   "source": [
    "df = metadata.drop_duplicates('title')\n",
    "tf = TfidfVectorizer(analyzer='word')\n",
    "tfidf_matrix = tf.fit_transform(df['title'])\n",
    "mapping_title = pd.Series(df.index, index = df['title'])\n",
    "similarity_matrix_title = cosine_similarity(tfidf_matrix)\n",
    "def recommend_item_for_title(item_input, k=2):\n",
    "    \"\"\"\n",
    "    :param item_input: string, 商品名\n",
    "    :param k: 取出相似個數\n",
    "    :return: 回傳 list\n",
    "    \"\"\"\n",
    "    try:\n",
    "        item_index = mapping_title[item_input]\n",
    "        similarity_score = list(enumerate(similarity_matrix_title[item_index]))\n",
    "        similarity_score = sorted(similarity_score, key=lambda x: x[1], reverse=True)\n",
    "        similarity_score = similarity_score[:k]\n",
    "        item_indices = [i[0] for i in similarity_score]\n",
    "        return (df['asin'].iloc[item_indices].tolist())\n",
    "    except:\n",
    "        return []\n",
    "def recommend_items_for_title(items, k):\n",
    "    \"\"\"\n",
    "    :param items: item title list\n",
    "    :param k:\n",
    "    :return:\n",
    "    \"\"\"\n",
    "    res = []\n",
    "    for d in items:\n",
    "        res.extend(recommend_item_for_title(d, k))\n",
    "    return res\n",
    "def recommender_title(training_data, users=[], k=10):\n",
    "    ratings_trainings = training_data\n",
    "    recommendations = {user: recommend_items_for_title(metadata[metadata['asin'].isin(ratings_trainings[ratings_trainings['reviewerID'] == user]['asin'].tolist())]['title'].tolist(), k) for user in users}\n",
    "    return recommendations"
   ],
   "metadata": {
    "collapsed": false,
    "pycharm": {
     "name": "#%%\n"
    }
   },
   "execution_count": 39,
   "outputs": []
  },
  {
   "cell_type": "code",
   "execution_count": 40,
   "outputs": [
    {
     "data": {
      "text/plain": "<Figure size 576x576 with 1 Axes>",
      "image/png": "[encoded data removed]"
     },
     "metadata": {
      "needs_background": "light"
     },
     "output_type": "display_data"
    },
    {
     "data": {
      "text/plain": "[[10, 0.0],\n [20, 0.0],\n [30, 0.0],\n [40, 0.0],\n [50, 0.0],\n [60, 0.0],\n [70, 0.0],\n [80, 0.0],\n [90, 0.0],\n [100, 0.0],\n [110, 0.0],\n [120, 0.0],\n [130, 0.0],\n [140, 0.0],\n [150, 0.0],\n [160, 0.0],\n [170, 0.001694915254237288],\n [180, 0.001694915254237288],\n [190, 0.001694915254237288],\n [200, 0.001694915254237288],\n [210, 0.001694915254237288],\n [220, 0.001694915254237288],\n [230, 0.001694915254237288],\n [240, 0.001694915254237288],\n [250, 0.001694915254237288],\n [260, 0.001694915254237288],\n [270, 0.001694915254237288],\n [280, 0.001694915254237288],\n [290, 0.001694915254237288],\n [300, 0.001694915254237288],\n [310, 0.001694915254237288],\n [320, 0.001694915254237288],\n [330, 0.001694915254237288],\n [340, 0.001694915254237288],\n [350, 0.001694915254237288],\n [360, 0.001694915254237288],\n [370, 0.001694915254237288],\n [380, 0.001694915254237288],\n [390, 0.001694915254237288],\n [400, 0.001694915254237288],\n [410, 0.001694915254237288],\n [420, 0.001694915254237288],\n [430, 0.001694915254237288],\n [440, 0.001694915254237288],\n [450, 0.001694915254237288],\n [460, 0.001694915254237288],\n [470, 0.001694915254237288],\n [480, 0.001694915254237288],\n [490, 0.001694915254237288],\n [500, 0.001694915254237288],\n [510, 0.001694915254237288],\n [520, 0.001694915254237288],\n [530, 0.001694915254237288],\n [540, 0.001694915254237288],\n [550, 0.001694915254237288],\n [560, 0.001694915254237288],\n [570, 0.001694915254237288],\n [580, 0.001694915254237288],\n [590, 0.001694915254237288],\n [600, 0.001694915254237288],\n [610, 0.001694915254237288],\n [620, 0.001694915254237288],\n [630, 0.001694915254237288],\n [640, 0.001694915254237288],\n [650, 0.001694915254237288],\n [660, 0.001694915254237288],\n [670, 0.001694915254237288],\n [680, 0.001694915254237288],\n [690, 0.001694915254237288],\n [700, 0.001694915254237288],\n [710, 0.001694915254237288],\n [720, 0.001694915254237288],\n [730, 0.001694915254237288],\n [740, 0.001694915254237288],\n [750, 0.001694915254237288],\n [760, 0.001694915254237288],\n [770, 0.001694915254237288],\n [780, 0.001694915254237288],\n [790, 0.001694915254237288],\n [800, 0.001694915254237288],\n [810, 0.001694915254237288],\n [820, 0.001694915254237288],\n [830, 0.001694915254237288],\n [840, 0.001694915254237288],\n [850, 0.001694915254237288],\n [860, 0.001694915254237288],\n [870, 0.001694915254237288],\n [880, 0.001694915254237288],\n [890, 0.001694915254237288],\n [900, 0.001694915254237288],\n [910, 0.001694915254237288],\n [920, 0.001694915254237288],\n [930, 0.001694915254237288],\n [940, 0.001694915254237288],\n [950, 0.001694915254237288],\n [960, 0.001694915254237288],\n [970, 0.001694915254237288],\n [980, 0.001694915254237288],\n [990, 0.001694915254237288],\n [1000, 0.001694915254237288]]"
     },
     "execution_count": 40,
     "metadata": {},
     "output_type": "execute_result"
    }
   ],
   "source": [
    "points = []\n",
    "for i in range(100):\n",
    "    k = (i + 1) * 10\n",
    "    ratings_by_user = recommender_title(ratings_trainings, users_in_train, k)\n",
    "    # recall = evaluate_fix(ratings_testings_by_user_in_train, ratings_by_user)\n",
    "    recall = evaluate(ratings_testings_by_user, ratings_by_user)\n",
    "    points.append([k, recall])\n",
    "\n",
    "plt.figure(figsize=(8, 8))\n",
    "x_axis = np.array(points)[:, 0]\n",
    "y_axis = np.array(points)[:, 1]\n",
    "for [k, recall] in points:\n",
    "    plt.text(k, recall, k)\n",
    "plt.scatter(x_axis, y_axis)\n",
    "plt.show()\n",
    "\n",
    "points"
   ],
   "metadata": {
    "collapsed": false,
    "pycharm": {
     "name": "#%%\n"
    }
   }
  },
  {
   "cell_type": "markdown",
   "source": [
    "### E. 分析失敗結果 - 優化嘗試 - 結構化資料\n",
    "從非結構化資料的 title/description 都得不到好的結果，我們轉向結構化資料。\n",
    "\n",
    "特徵向量：(rank, 最近一次的評論的新鮮度)，這裡我們將 ：\n",
    "* `rank` 的值normalize 到 0~1 之間\n",
    "* `最近一次的評論的新鮮度` 的值normalize 到 0~1 之間， 0 表示越舊的資料，1 表示越新的資料\n",
    "\n",
    "理想上，我希望依照「高評分和越近的評論」做分類\n"
   ],
   "metadata": {
    "collapsed": false,
    "pycharm": {
     "name": "#%% md\n"
    }
   }
  },
  {
   "cell_type": "code",
   "execution_count": 41,
   "outputs": [
    {
     "data": {
      "text/plain": "0        0.307721\n1        0.091401\n2        0.100181\n3        0.195848\n4        0.007086\n           ...   \n32887    0.224652\n32888    0.171705\n32889    0.021716\n32890    0.101121\n32891    0.050065\nName: rank_norm, Length: 32892, dtype: float64"
     },
     "execution_count": 41,
     "metadata": {},
     "output_type": "execute_result"
    }
   ],
   "source": [
    "# rank\n",
    "metadata['rank_num'] = metadata['rank'].str.split()\n",
    "def take_number(row):\n",
    "    if type(row['rank_num']) is list and len(row['rank_num']) > 0:\n",
    "        return str(row['rank_num'][0])\n",
    "    else:\n",
    "        return 0\n",
    "metadata['rank_num'] = metadata.apply(lambda row: take_number(row), axis=1)\n",
    "metadata['rank_num'] = pd.to_numeric(metadata['rank_num'].str.replace(',', ''))\n",
    "\n",
    "df = metadata['rank_num']\n",
    "metadata['rank_norm'] =(df-df.min())/(df.max()-df.min())\n",
    "metadata['rank_norm']"
   ],
   "metadata": {
    "collapsed": false,
    "pycharm": {
     "name": "#%%\n"
    }
   }
  },
  {
   "cell_type": "code",
   "execution_count": 42,
   "outputs": [
    {
     "data": {
      "text/plain": "             asin                                          date_list  \\\n0      6546546450         [2013-08-13 00:00:00, 2009-01-29 00:00:00]   \n1      7178680776                              [2017-10-06 00:00:00]   \n2      7250468162                              [2017-08-26 00:00:00]   \n3      7367905066                              [2017-04-12 00:00:00]   \n4      7414204790  [2016-03-10 00:00:00, 2015-09-01 00:00:00, 201...   \n...           ...                                                ...   \n32477  B01HIWLLUK                              [2016-09-24 00:00:00]   \n32478  B01HJ1K3YK                              [2017-04-21 00:00:00]   \n32479  B01HJ84SGM  [2018-03-23 00:00:00, 2017-10-03 00:00:00, 201...   \n32480  B01HJASD20                              [2016-08-31 00:00:00]   \n32481  B01HJEGTYK  [2016-11-02 00:00:00, 2018-06-27 00:00:00, 201...   \n\n            last       inv_dis  dis_score_norm  \n0     2013-08-13  3.776671e-09        0.279949  \n1     2017-10-06  7.468961e-09        0.745932  \n2     2017-08-26  7.276440e-09        0.721635  \n3     2017-04-12  6.703301e-09        0.649303  \n4     2018-03-02  8.251735e-09        0.844722  \n...          ...           ...             ...  \n32477 2016-09-24  6.007441e-09        0.561482  \n32478 2017-04-21  6.738425e-09        0.653735  \n32479 2018-03-23  8.377157e-09        0.860551  \n32480 2016-08-31  5.933526e-09        0.552154  \n32481 2018-06-27  9.002696e-09        0.939497  \n\n[32482 rows x 5 columns]",
      "text/html": "<div>\n<style scoped>\n    .dataframe tbody tr th:only-of-type {\n        vertical-align: middle;\n    }\n\n    .dataframe tbody tr th {\n        vertical-align: top;\n    }\n\n    .dataframe thead th {\n        text-align: right;\n    }\n</style>\n<table border=\"1\" class=\"dataframe\">\n  <thead>\n    <tr style=\"text-align: right;\">\n      <th></th>\n      <th>asin</th>\n      <th>date_list</th>\n      <th>last</th>\n      <th>inv_dis</th>\n      <th>dis_score_norm</th>\n    </tr>\n  </thead>\n  <tbody>\n    <tr>\n      <th>0</th>\n      <td>6546546450</td>\n      <td>[2013-08-13 00:00:00, 2009-01-29 00:00:00]</td>\n      <td>2013-08-13</td>\n      <td>3.776671e-09</td>\n      <td>0.279949</td>\n    </tr>\n    <tr>\n      <th>1</th>\n      <td>7178680776</td>\n      <td>[2017-10-06 00:00:00]</td>\n      <td>2017-10-06</td>\n      <td>7.468961e-09</td>\n      <td>0.745932</td>\n    </tr>\n    <tr>\n      <th>2</th>\n      <td>7250468162</td>\n      <td>[2017-08-26 00:00:00]</td>\n      <td>2017-08-26</td>\n      <td>7.276440e-09</td>\n      <td>0.721635</td>\n    </tr>\n    <tr>\n      <th>3</th>\n      <td>7367905066</td>\n      <td>[2017-04-12 00:00:00]</td>\n      <td>2017-04-12</td>\n      <td>6.703301e-09</td>\n      <td>0.649303</td>\n    </tr>\n    <tr>\n      <th>4</th>\n      <td>7414204790</td>\n      <td>[2016-03-10 00:00:00, 2015-09-01 00:00:00, 201...</td>\n      <td>2018-03-02</td>\n      <td>8.251735e-09</td>\n      <td>0.844722</td>\n    </tr>\n    <tr>\n      <th>...</th>\n      <td>...</td>\n      <td>...</td>\n      <td>...</td>\n      <td>...</td>\n      <td>...</td>\n    </tr>\n    <tr>\n      <th>32477</th>\n      <td>B01HIWLLUK</td>\n      <td>[2016-09-24 00:00:00]</td>\n      <td>2016-09-24</td>\n      <td>6.007441e-09</td>\n      <td>0.561482</td>\n    </tr>\n    <tr>\n      <th>32478</th>\n      <td>B01HJ1K3YK</td>\n      <td>[2017-04-21 00:00:00]</td>\n      <td>2017-04-21</td>\n      <td>6.738425e-09</td>\n      <td>0.653735</td>\n    </tr>\n    <tr>\n      <th>32479</th>\n      <td>B01HJ84SGM</td>\n      <td>[2018-03-23 00:00:00, 2017-10-03 00:00:00, 201...</td>\n      <td>2018-03-23</td>\n      <td>8.377157e-09</td>\n      <td>0.860551</td>\n    </tr>\n    <tr>\n      <th>32480</th>\n      <td>B01HJASD20</td>\n      <td>[2016-08-31 00:00:00]</td>\n      <td>2016-08-31</td>\n      <td>5.933526e-09</td>\n      <td>0.552154</td>\n    </tr>\n    <tr>\n      <th>32481</th>\n      <td>B01HJEGTYK</td>\n      <td>[2016-11-02 00:00:00, 2018-06-27 00:00:00, 201...</td>\n      <td>2018-06-27</td>\n      <td>9.002696e-09</td>\n      <td>0.939497</td>\n    </tr>\n  </tbody>\n</table>\n<p>32482 rows × 5 columns</p>\n</div>"
     },
     "execution_count": 42,
     "metadata": {},
     "output_type": "execute_result"
    }
   ],
   "source": [
    "# 最近一次被評論\n",
    "popular_metadata = metadata.merge(ratings_trainings, left_on='asin', right_on='asin')[['asin', 'DATE']]\n",
    "popular_metadata = popular_metadata.groupby(by='asin').agg(date_list=('DATE', list)).reset_index()\n",
    "\n",
    "def last_date(row):\n",
    "    if type(row['date_list']) is list and len(row['date_list']) > 0:\n",
    "        return max(row['date_list'])\n",
    "    else:\n",
    "        return datetime(2000, 1, 10, 10, 10)\n",
    "popular_metadata['last'] = popular_metadata.apply(lambda row: last_date(row), axis=1)\n",
    "popular_metadata\n",
    "\n",
    "def inv_dis(row):\n",
    "    return 1/ (datetime.now().timestamp() - row['last'].timestamp())\n",
    "popular_metadata['inv_dis'] = popular_metadata.apply(lambda row: inv_dis(row), axis=1)\n",
    "\n",
    "df = popular_metadata['inv_dis']\n",
    "popular_metadata['dis_score_norm']=(df-df.min())/(df.max()-df.min())\n",
    "popular_metadata"
   ],
   "metadata": {
    "collapsed": false,
    "pycharm": {
     "name": "#%%\n"
    }
   }
  },
  {
   "cell_type": "code",
   "execution_count": 43,
   "outputs": [],
   "source": [
    "# 合併成 (rank, 最近一次的評論的新鮮度)\n",
    "feature_df = popular_metadata.merge(metadata, how='inner', left_on='asin', right_on='asin')[['asin', 'rank_norm', 'dis_score_norm']]\n",
    "\n",
    "def vec_len(row):\n",
    "    return np.linalg.norm([row['rank_norm'], row['dis_score_norm']])\n",
    "feature_df['feature_vec_len'] = feature_df.apply(lambda row: vec_len(row), axis=1)\n"
   ],
   "metadata": {
    "collapsed": false,
    "pycharm": {
     "name": "#%%\n"
    }
   }
  },
  {
   "cell_type": "code",
   "execution_count": 44,
   "outputs": [
    {
     "data": {
      "text/plain": "<Figure size 576x576 with 1 Axes>",
      "image/png": "[encoded data removed]"
     },
     "metadata": {
      "needs_background": "light"
     },
     "output_type": "display_data"
    }
   ],
   "source": [
    "# 觀察一下　(rank, 最近一次的評論的新鮮度)的分佈\n",
    "X = np.array(feature_df[['rank_norm', 'dis_score_norm']])\n",
    "plt.figure(figsize=(8, 8))\n",
    "x_axis = X[:, 0]\n",
    "y_axis = X[:, 1]\n",
    "plt.scatter(x_axis, y_axis)\n",
    "plt.show()"
   ],
   "metadata": {
    "collapsed": false,
    "pycharm": {
     "name": "#%%\n"
    }
   }
  },
  {
   "cell_type": "code",
   "execution_count": 45,
   "outputs": [
    {
     "data": {
      "text/plain": "             asin  rank_norm  dis_score_norm  feature_vec_len\n0      6546546450   0.307721        0.279949         0.416009\n1      7178680776   0.091401        0.745932         0.751511\n2      7250468162   0.100181        0.721635         0.728556\n3      7367905066   0.195848        0.649303         0.678196\n4      7414204790   0.007086        0.844722         0.844752\n...           ...        ...             ...              ...\n32881  B01HIWLLUK   0.224652        0.561482         0.604757\n32882  B01HJ1K3YK   0.171705        0.653735         0.675909\n32883  B01HJ84SGM   0.021716        0.860551         0.860825\n32884  B01HJASD20   0.101121        0.552154         0.561337\n32885  B01HJEGTYK   0.050065        0.939497         0.940830\n\n[32445 rows x 4 columns]",
      "text/html": "<div>\n<style scoped>\n    .dataframe tbody tr th:only-of-type {\n        vertical-align: middle;\n    }\n\n    .dataframe tbody tr th {\n        vertical-align: top;\n    }\n\n    .dataframe thead th {\n        text-align: right;\n    }\n</style>\n<table border=\"1\" class=\"dataframe\">\n  <thead>\n    <tr style=\"text-align: right;\">\n      <th></th>\n      <th>asin</th>\n      <th>rank_norm</th>\n      <th>dis_score_norm</th>\n      <th>feature_vec_len</th>\n    </tr>\n  </thead>\n  <tbody>\n    <tr>\n      <th>0</th>\n      <td>6546546450</td>\n      <td>0.307721</td>\n      <td>0.279949</td>\n      <td>0.416009</td>\n    </tr>\n    <tr>\n      <th>1</th>\n      <td>7178680776</td>\n      <td>0.091401</td>\n      <td>0.745932</td>\n      <td>0.751511</td>\n    </tr>\n    <tr>\n      <th>2</th>\n      <td>7250468162</td>\n      <td>0.100181</td>\n      <td>0.721635</td>\n      <td>0.728556</td>\n    </tr>\n    <tr>\n      <th>3</th>\n      <td>7367905066</td>\n      <td>0.195848</td>\n      <td>0.649303</td>\n      <td>0.678196</td>\n    </tr>\n    <tr>\n      <th>4</th>\n      <td>7414204790</td>\n      <td>0.007086</td>\n      <td>0.844722</td>\n      <td>0.844752</td>\n    </tr>\n    <tr>\n      <th>...</th>\n      <td>...</td>\n      <td>...</td>\n      <td>...</td>\n      <td>...</td>\n    </tr>\n    <tr>\n      <th>32881</th>\n      <td>B01HIWLLUK</td>\n      <td>0.224652</td>\n      <td>0.561482</td>\n      <td>0.604757</td>\n    </tr>\n    <tr>\n      <th>32882</th>\n      <td>B01HJ1K3YK</td>\n      <td>0.171705</td>\n      <td>0.653735</td>\n      <td>0.675909</td>\n    </tr>\n    <tr>\n      <th>32883</th>\n      <td>B01HJ84SGM</td>\n      <td>0.021716</td>\n      <td>0.860551</td>\n      <td>0.860825</td>\n    </tr>\n    <tr>\n      <th>32884</th>\n      <td>B01HJASD20</td>\n      <td>0.101121</td>\n      <td>0.552154</td>\n      <td>0.561337</td>\n    </tr>\n    <tr>\n      <th>32885</th>\n      <td>B01HJEGTYK</td>\n      <td>0.050065</td>\n      <td>0.939497</td>\n      <td>0.940830</td>\n    </tr>\n  </tbody>\n</table>\n<p>32445 rows × 4 columns</p>\n</div>"
     },
     "execution_count": 45,
     "metadata": {},
     "output_type": "execute_result"
    }
   ],
   "source": [
    "# 去除不太好的資料\n",
    "# 1. 去除向量長度為 0 的\n",
    "# 2. 去除 rank_norm = 1，這個單點太突出\n",
    "feature_df = feature_df[feature_df['feature_vec_len'] > 0]\n",
    "feature_df = feature_df[feature_df['rank_norm'] < 0.9]\n",
    "feature_df\n"
   ],
   "metadata": {
    "collapsed": false,
    "pycharm": {
     "name": "#%%\n"
    }
   }
  },
  {
   "cell_type": "code",
   "execution_count": 46,
   "outputs": [
    {
     "data": {
      "text/plain": "<Figure size 576x576 with 1 Axes>",
      "image/png": "[encoded data removed]"
     },
     "metadata": {
      "needs_background": "light"
     },
     "output_type": "display_data"
    }
   ],
   "source": [
    "# 觀察一下　(rank, 最近一次的評論的新鮮度)的分佈\n",
    "X = np.array(feature_df[['rank_norm', 'dis_score_norm']])\n",
    "plt.figure(figsize=(8, 8))\n",
    "x_axis = X[:, 0]\n",
    "y_axis = X[:, 1]\n",
    "plt.scatter(x_axis, y_axis)\n",
    "plt.show()"
   ],
   "metadata": {
    "collapsed": false,
    "pycharm": {
     "name": "#%%\n"
    }
   }
  },
  {
   "cell_type": "code",
   "execution_count": 47,
   "outputs": [],
   "source": [
    "mapping_asin_index = {}\n",
    "i = 0\n",
    "for asin in feature_df['asin'].tolist():\n",
    "    mapping_asin_index[asin] = i\n",
    "    i += 1"
   ],
   "metadata": {
    "collapsed": false,
    "pycharm": {
     "name": "#%%\n"
    }
   }
  },
  {
   "cell_type": "code",
   "execution_count": 48,
   "outputs": [],
   "source": [
    "similarity_matrix = cosine_similarity(X)"
   ],
   "metadata": {
    "collapsed": false,
    "pycharm": {
     "name": "#%%\n"
    }
   }
  },
  {
   "cell_type": "code",
   "execution_count": 49,
   "outputs": [],
   "source": [
    "def recommend_item_for_feature(asin_input, k=2):\n",
    "    try:\n",
    "        item_index = mapping_asin_index[asin_input]\n",
    "        similarity_score = list(enumerate(similarity_matrix[item_index]))\n",
    "        similarity_score = sorted(similarity_score, key=lambda x: x[1], reverse=True)\n",
    "        similarity_score = similarity_score[:k]\n",
    "        item_indices = [i[0] for i in similarity_score]\n",
    "        return (feature_df['asin'].iloc[item_indices].tolist())\n",
    "    except:\n",
    "        return []\n",
    "\n",
    "def recommend_items_for_feature(items, k):\n",
    "    res = []\n",
    "    for d in items:\n",
    "        res.extend(recommend_item_for_feature(d, k))\n",
    "    return res\n",
    "\n",
    "def recommender_for_feature(training_data, users=[], k=10):\n",
    "    ratings_trainings = training_data\n",
    "    recommendations = {user: recommend_items_for_feature(metadata[metadata['asin'].isin(get_user_bought_list(ratings_trainings, user))]['asin'].tolist(), k) for user in users}\n",
    "    return recommendations"
   ],
   "metadata": {
    "collapsed": false,
    "pycharm": {
     "name": "#%%\n"
    }
   }
  },
  {
   "cell_type": "code",
   "execution_count": null,
   "outputs": [],
   "source": [
    "points = []\n",
    "for i in range(100):\n",
    "    k = (i + 1) * 10\n",
    "    ratings_by_user = recommender_for_feature(ratings_trainings, users_in_train, k)\n",
    "    # recall = evaluate_fix(ratings_testings_by_user_in_train, ratings_by_user)\n",
    "    recall = evaluate(ratings_testings_by_user, ratings_by_user)\n",
    "    points.append([k, recall])\n",
    "\n",
    "plt.figure(figsize=(8, 8))\n",
    "x_axis = np.array(points)[:, 0]\n",
    "y_axis = np.array(points)[:, 1]\n",
    "for [k, recall] in points:\n",
    "    plt.text(k, recall, k)\n",
    "plt.scatter(x_axis, y_axis)\n",
    "plt.show()\n",
    "\n",
    "points"
   ],
   "metadata": {
    "collapsed": false,
    "pycharm": {
     "name": "#%%\n",
     "is_executing": true
    }
   }
  },
  {
   "cell_type": "markdown",
   "source": [
    "k 在 100 以上時，recall 開始 > 0。\n",
    "\n",
    "結論：在拿結構化 feature (rank, 最近一次的評論的新鮮度) 比單純用非結構化（title 和 description）還好"
   ],
   "metadata": {
    "collapsed": false
   }
  },
  {
   "cell_type": "markdown",
   "source": [
    "### E. 分析失敗結果 - 優化嘗試 - 混合 content-base + rule-base\n",
    "1. 有購買記錄的人：用 content-base， 拿”(rank, 最近一次的評論的新鮮度)” 當特徵向量\n",
    "2. 沒有購買記錄的人：用 rule-base,　排序 ”(rank, 最近一次的評論的新鮮度)” 向量長度，選 k 個"
   ],
   "metadata": {
    "collapsed": false,
    "pycharm": {
     "name": "#%% md\n"
    }
   }
  },
  {
   "cell_type": "code",
   "source": [
    "global_goods_list = feature_df.sort_values('feature_vec_len', ascending=False)['asin'].tolist()\n",
    "\n",
    "def recommender_for_feature_fix(training_data, users=[], k=10):\n",
    "    ratings_trainings = training_data\n",
    "    recommendations = {}\n",
    "    for user in users:\n",
    "        user_bought_list = get_user_bought_list(ratings_trainings, user)\n",
    "        if(len(user_bought_list) > 0):\n",
    "            # content-base\n",
    "            recommendations[user] = recommend_items_for_feature(metadata[metadata['asin'].isin(user_bought_list)]['asin'].tolist(), k)\n",
    "        else:\n",
    "            # rule-base\n",
    "            recommendations[user] = global_goods_list[:k]\n",
    "    return recommendations"
   ],
   "metadata": {
    "collapsed": false,
    "pycharm": {
     "name": "#%%\n",
     "is_executing": true
    }
   },
   "execution_count": null,
   "outputs": []
  },
  {
   "cell_type": "code",
   "execution_count": null,
   "outputs": [],
   "source": [
    "recommender_for_feature_fix(ratings_trainings, users, 10)"
   ],
   "metadata": {
    "collapsed": false,
    "pycharm": {
     "name": "#%%\n",
     "is_executing": true
    }
   }
  },
  {
   "cell_type": "code",
   "execution_count": null,
   "outputs": [],
   "source": [
    "points = []\n",
    "for i in range(100):\n",
    "    k = (i + 1) * 10\n",
    "    ratings_by_user = recommender_for_feature_fix(ratings_trainings, users, k)\n",
    "    recall = evaluate(ratings_testings_by_user, ratings_by_user)\n",
    "    points.append([k, recall])\n",
    "\n",
    "plt.figure(figsize=(8, 8))\n",
    "x_axis = np.array(points)[:, 0]\n",
    "y_axis = np.array(points)[:, 1]\n",
    "for [k, recall] in points:\n",
    "    plt.text(k, recall, k)\n",
    "plt.scatter(x_axis, y_axis)\n",
    "plt.show()\n",
    "\n",
    "points"
   ],
   "metadata": {
    "collapsed": false,
    "pycharm": {
     "name": "#%%\n",
     "is_executing": true
    }
   }
  },
  {
   "cell_type": "markdown",
   "source": [
    "結論：從上圖看的出來，對於沒有購買記錄的人來說，用 rule-base 改善 recall 是必要的\n"
   ],
   "metadata": {
    "collapsed": false,
    "pycharm": {
     "name": "#%% md\n"
    }
   }
  }
 ],
 "metadata": {
  "kernelspec": {
   "display_name": "Python 3",
   "language": "python",
   "name": "python3"
  },
  "language_info": {
   "codemirror_mode": {
    "name": "ipython",
    "version": 2
   },
   "file_extension": ".py",
   "mimetype": "text/x-python",
   "name": "python",
   "nbconvert_exporter": "python",
   "pygments_lexer": "ipython2",
   "version": "2.7.6"
  },
  "colab": {
   "name": " U31.ipynb",
   "provenance": [],
   "include_colab_link": true
  }
 },
 "nbformat": 4,
 "nbformat_minor": 0
}