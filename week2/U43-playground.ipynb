{
 "cells": [
  {
   "cell_type": "code",
   "execution_count": 82,
   "metadata": {
    "collapsed": true,
    "id": "3MjlEUzhs4bb"
   },
   "outputs": [],
   "source": [
    "import pandas as pd\n",
    "import numpy as np\n",
    "import matplotlib.pyplot as plt\n",
    "from sklearn.feature_extraction.text import TfidfVectorizer\n",
    "from sklearn.metrics.pairwise import cosine_similarity"
   ]
  },
  {
   "cell_type": "code",
   "execution_count": 2,
   "outputs": [
    {
     "data": {
      "text/plain": "         asin      reviewerID  overall  unixReviewTime       DATE\n0  0143026860  A1V6B6TNIC10QE      1.0    1.424304e+09 2015-02-19\n1  0143026860  A2F5GHSXFQ0W6J      4.0    1.418861e+09 2014-12-18\n2  0143026860  A1572GUYS7DGSR      4.0    1.407629e+09 2014-08-10\n3  0143026860   A1PSGLFK1NSVO      5.0    1.362960e+09 2013-03-11\n4  0143026860   A6IKXKZMTKGSC      5.0    1.324771e+09 2011-12-25",
      "text/html": "<div>\n<style scoped>\n    .dataframe tbody tr th:only-of-type {\n        vertical-align: middle;\n    }\n\n    .dataframe tbody tr th {\n        vertical-align: top;\n    }\n\n    .dataframe thead th {\n        text-align: right;\n    }\n</style>\n<table border=\"1\" class=\"dataframe\">\n  <thead>\n    <tr style=\"text-align: right;\">\n      <th></th>\n      <th>asin</th>\n      <th>reviewerID</th>\n      <th>overall</th>\n      <th>unixReviewTime</th>\n      <th>DATE</th>\n    </tr>\n  </thead>\n  <tbody>\n    <tr>\n      <th>0</th>\n      <td>0143026860</td>\n      <td>A1V6B6TNIC10QE</td>\n      <td>1.0</td>\n      <td>1.424304e+09</td>\n      <td>2015-02-19</td>\n    </tr>\n    <tr>\n      <th>1</th>\n      <td>0143026860</td>\n      <td>A2F5GHSXFQ0W6J</td>\n      <td>4.0</td>\n      <td>1.418861e+09</td>\n      <td>2014-12-18</td>\n    </tr>\n    <tr>\n      <th>2</th>\n      <td>0143026860</td>\n      <td>A1572GUYS7DGSR</td>\n      <td>4.0</td>\n      <td>1.407629e+09</td>\n      <td>2014-08-10</td>\n    </tr>\n    <tr>\n      <th>3</th>\n      <td>0143026860</td>\n      <td>A1PSGLFK1NSVO</td>\n      <td>5.0</td>\n      <td>1.362960e+09</td>\n      <td>2013-03-11</td>\n    </tr>\n    <tr>\n      <th>4</th>\n      <td>0143026860</td>\n      <td>A6IKXKZMTKGSC</td>\n      <td>5.0</td>\n      <td>1.324771e+09</td>\n      <td>2011-12-25</td>\n    </tr>\n  </tbody>\n</table>\n</div>"
     },
     "execution_count": 2,
     "metadata": {},
     "output_type": "execute_result"
    }
   ],
   "source": [
    "all_beauty_path = 'data/All_Beauty.csv'\n",
    "# all_beauty_path = 'http://deepyeti.ucsd.edu/jianmo/amazon/categoryFilesSmall/All_Beauty.csv'\n",
    "ratings = pd.read_csv(\n",
    "    all_beauty_path,\n",
    "    names=[\"asin\", \"reviewerID\", \"overall\", \"unixReviewTime\"],\n",
    "    dtype={\"asin\": np.str_, \"reviewerID\": np.str_, \"overall\": np.float32, \"unixReviewTime\": np.float64 }\n",
    ")\n",
    "ratings['DATE'] = pd.to_datetime(ratings['unixReviewTime'], unit='s')\n",
    "ratings.head()"
   ],
   "metadata": {
    "pycharm": {
     "name": "#%%\n"
    },
    "id": "zsUO2KxOs4bh",
    "outputId": "f57e34a1-572f-4a01-d548-c5a2205a2c9b",
    "colab": {
     "base_uri": "https://localhost:8080/",
     "height": 206
    }
   }
  },
  {
   "cell_type": "code",
   "execution_count": 30,
   "outputs": [
    {
     "name": "stdout",
     "output_type": "stream",
     "text": [
      "Index(['category', 'tech1', 'description', 'fit', 'title', 'also_buy', 'tech2',\n",
      "       'brand', 'feature', 'rank', 'also_view', 'details', 'main_cat',\n",
      "       'similar_item', 'date', 'price', 'asin', 'imageURL', 'imageURLHighRes'],\n",
      "      dtype='object')\n"
     ]
    }
   ],
   "source": [
    "meta_all_beauty_path = 'data/meta_All_Beauty.json.gz'\n",
    "# meta_all_beauty_path = 'http://deepyeti.ucsd.edu/jianmo/amazon/metaFiles2/meta_All_Beauty.json.gz'\n",
    "metadata = pd.read_json(\n",
    "    meta_all_beauty_path,\n",
    "    lines=True,\n",
    "    compression=\"gzip\"\n",
    ")\n",
    "metadata.head()\n",
    "print(metadata.columns)"
   ],
   "metadata": {
    "pycharm": {
     "name": "#%%\n"
    },
    "id": "AWTaRbOfs4bi",
    "outputId": "e5f5544b-6c83-423e-95a6-a46640b2aeda",
    "colab": {
     "base_uri": "https://localhost:8080/",
     "height": 669
    }
   }
  },
  {
   "cell_type": "markdown",
   "source": [
    "# EDA"
   ],
   "metadata": {
    "collapsed": false,
    "pycharm": {
     "name": "#%% md\n"
    }
   }
  },
  {
   "cell_type": "code",
   "execution_count": 54,
   "outputs": [
    {
     "data": {
      "text/plain": "      category                                              tech1  \\\n1088        []   class=\"a-keyvalue prodDetTable\" role=\"present...   \n3551        []   class=\"a-keyvalue prodDetTable\" role=\"present...   \n12130       []   class=\"a-keyvalue prodDetTable\" role=\"present...   \n13579       []   class=\"a-keyvalue prodDetTable\" role=\"present...   \n19087       []   class=\"a-keyvalue prodDetTable\" role=\"present...   \n\n                                             description fit  \\\n1088   [This is the No.1 Precision Knife with 15 Repl...       \n3551   [Tuck a Fragrant Drawer Sachet between your sh...       \n12130  [This Large Pouch gives you all the storage sp...       \n13579  [Perfect decor on formal and casual apparels t...       \n19087  [This items has an integrated lined fleece int...       \n\n                                                   title  \\\n1088    No.1 Knife w/No.11 Blade Carded : 15pc Dispenser   \n3551             Camille Beckman Drawer Sachet - Camille   \n12130  Large Pouch - Full Grain Leather - Black Onyx ...   \n13579  Jovana Retro Big Eye Owl Pendant Design Neckla...   \n19087  Touch Screen Windproof Waterproof Thermal Glov...   \n\n                                                also_buy tech2  \\\n1088   [B0025189VE, B0015AOIYI, B000093IJ1, B0027ROZ9...         \n3551                                                  []         \n12130                                                 []         \n13579                                                 []         \n19087                                                 []         \n\n                 brand                                            feature  \\\n1088            X-Acto  [Type A, all aluminum handle designed for in-t...   \n3551   Camille Beckman                                    [Drawer Sachet]   \n12130     Leatherology  [Full Grain Leather, 8.5\"H x 12\"W x 0.5\"D, 2 i...   \n13579           JOVANA  [Material: Alloy+Rhinestone, Pendant Dimension...   \n19087                B  [[Finally a glove with WARMTH & PERFORMANCE] M...   \n\n                                                    rank  \\\n1088   [>#349,378 in Beauty & Personal Care (See top ...   \n3551   [>#2,569,884 in Beauty & Personal Care (See to...   \n12130  [>#527,492 in Beauty & Personal Care (See top ...   \n13579  [>#188,112 in Beauty & Personal Care (See top ...   \n19087  [>#816,754 in Beauty & Personal Care (See top ...   \n\n                                               also_view details    main_cat  \\\n1088   [B005KRSWM6, B01MUUAVDG, B07FYSW47C, B00IR9I1V...      {}  All Beauty   \n3551                                                  []      {}  All Beauty   \n12130  [B07MHJXZQ2, B07BLTLKGK, B009Z7DXHQ, B01MS4YRT...      {}  All Beauty   \n13579  [B00AHOS6WS, B07GZPLLVR, B00N9X4XNU, B072PQ6Y4...      {}  All Beauty   \n19087  [B077S9DNDT, B0786CKZRT, B07JVJHJ8H, B079Q4HYM...      {}  All Beauty   \n\n      similar_item               date   price        asin  \\\n1088                December 17, 2004          B000BRJD32   \n3551                  January 2, 2009          B001OW7QI2   \n12130                 August 31, 2012  $85.00  B00I4R3X96   \n13579                  April 24, 2014   $2.30  B00JYGWWIO   \n19087                 August 29, 2017   $8.99  B00T79WJXG   \n\n                                                imageURL  \\\n1088                                                  []   \n3551   [https://images-na.ssl-images-amazon.com/image...   \n12130  [https://images-na.ssl-images-amazon.com/image...   \n13579  [https://images-na.ssl-images-amazon.com/image...   \n19087  [https://images-na.ssl-images-amazon.com/image...   \n\n                                         imageURLHighRes  \n1088                                                  []  \n3551   [https://images-na.ssl-images-amazon.com/image...  \n12130  [https://images-na.ssl-images-amazon.com/image...  \n13579  [https://images-na.ssl-images-amazon.com/image...  \n19087  [https://images-na.ssl-images-amazon.com/image...  ",
      "text/html": "<div>\n<style scoped>\n    .dataframe tbody tr th:only-of-type {\n        vertical-align: middle;\n    }\n\n    .dataframe tbody tr th {\n        vertical-align: top;\n    }\n\n    .dataframe thead th {\n        text-align: right;\n    }\n</style>\n<table border=\"1\" class=\"dataframe\">\n  <thead>\n    <tr style=\"text-align: right;\">\n      <th></th>\n      <th>category</th>\n      <th>tech1</th>\n      <th>description</th>\n      <th>fit</th>\n      <th>title</th>\n      <th>also_buy</th>\n      <th>tech2</th>\n      <th>brand</th>\n      <th>feature</th>\n      <th>rank</th>\n      <th>also_view</th>\n      <th>details</th>\n      <th>main_cat</th>\n      <th>similar_item</th>\n      <th>date</th>\n      <th>price</th>\n      <th>asin</th>\n      <th>imageURL</th>\n      <th>imageURLHighRes</th>\n    </tr>\n  </thead>\n  <tbody>\n    <tr>\n      <th>1088</th>\n      <td>[]</td>\n      <td>class=\"a-keyvalue prodDetTable\" role=\"present...</td>\n      <td>[This is the No.1 Precision Knife with 15 Repl...</td>\n      <td></td>\n      <td>No.1 Knife w/No.11 Blade Carded : 15pc Dispenser</td>\n      <td>[B0025189VE, B0015AOIYI, B000093IJ1, B0027ROZ9...</td>\n      <td></td>\n      <td>X-Acto</td>\n      <td>[Type A, all aluminum handle designed for in-t...</td>\n      <td>[&gt;#349,378 in Beauty &amp; Personal Care (See top ...</td>\n      <td>[B005KRSWM6, B01MUUAVDG, B07FYSW47C, B00IR9I1V...</td>\n      <td>{}</td>\n      <td>All Beauty</td>\n      <td></td>\n      <td>December 17, 2004</td>\n      <td></td>\n      <td>B000BRJD32</td>\n      <td>[]</td>\n      <td>[]</td>\n    </tr>\n    <tr>\n      <th>3551</th>\n      <td>[]</td>\n      <td>class=\"a-keyvalue prodDetTable\" role=\"present...</td>\n      <td>[Tuck a Fragrant Drawer Sachet between your sh...</td>\n      <td></td>\n      <td>Camille Beckman Drawer Sachet - Camille</td>\n      <td>[]</td>\n      <td></td>\n      <td>Camille Beckman</td>\n      <td>[Drawer Sachet]</td>\n      <td>[&gt;#2,569,884 in Beauty &amp; Personal Care (See to...</td>\n      <td>[]</td>\n      <td>{}</td>\n      <td>All Beauty</td>\n      <td></td>\n      <td>January 2, 2009</td>\n      <td></td>\n      <td>B001OW7QI2</td>\n      <td>[https://images-na.ssl-images-amazon.com/image...</td>\n      <td>[https://images-na.ssl-images-amazon.com/image...</td>\n    </tr>\n    <tr>\n      <th>12130</th>\n      <td>[]</td>\n      <td>class=\"a-keyvalue prodDetTable\" role=\"present...</td>\n      <td>[This Large Pouch gives you all the storage sp...</td>\n      <td></td>\n      <td>Large Pouch - Full Grain Leather - Black Onyx ...</td>\n      <td>[]</td>\n      <td></td>\n      <td>Leatherology</td>\n      <td>[Full Grain Leather, 8.5\"H x 12\"W x 0.5\"D, 2 i...</td>\n      <td>[&gt;#527,492 in Beauty &amp; Personal Care (See top ...</td>\n      <td>[B07MHJXZQ2, B07BLTLKGK, B009Z7DXHQ, B01MS4YRT...</td>\n      <td>{}</td>\n      <td>All Beauty</td>\n      <td></td>\n      <td>August 31, 2012</td>\n      <td>$85.00</td>\n      <td>B00I4R3X96</td>\n      <td>[https://images-na.ssl-images-amazon.com/image...</td>\n      <td>[https://images-na.ssl-images-amazon.com/image...</td>\n    </tr>\n    <tr>\n      <th>13579</th>\n      <td>[]</td>\n      <td>class=\"a-keyvalue prodDetTable\" role=\"present...</td>\n      <td>[Perfect decor on formal and casual apparels t...</td>\n      <td></td>\n      <td>Jovana Retro Big Eye Owl Pendant Design Neckla...</td>\n      <td>[]</td>\n      <td></td>\n      <td>JOVANA</td>\n      <td>[Material: Alloy+Rhinestone, Pendant Dimension...</td>\n      <td>[&gt;#188,112 in Beauty &amp; Personal Care (See top ...</td>\n      <td>[B00AHOS6WS, B07GZPLLVR, B00N9X4XNU, B072PQ6Y4...</td>\n      <td>{}</td>\n      <td>All Beauty</td>\n      <td></td>\n      <td>April 24, 2014</td>\n      <td>$2.30</td>\n      <td>B00JYGWWIO</td>\n      <td>[https://images-na.ssl-images-amazon.com/image...</td>\n      <td>[https://images-na.ssl-images-amazon.com/image...</td>\n    </tr>\n    <tr>\n      <th>19087</th>\n      <td>[]</td>\n      <td>class=\"a-keyvalue prodDetTable\" role=\"present...</td>\n      <td>[This items has an integrated lined fleece int...</td>\n      <td></td>\n      <td>Touch Screen Windproof Waterproof Thermal Glov...</td>\n      <td>[]</td>\n      <td></td>\n      <td>B</td>\n      <td>[[Finally a glove with WARMTH &amp; PERFORMANCE] M...</td>\n      <td>[&gt;#816,754 in Beauty &amp; Personal Care (See top ...</td>\n      <td>[B077S9DNDT, B0786CKZRT, B07JVJHJ8H, B079Q4HYM...</td>\n      <td>{}</td>\n      <td>All Beauty</td>\n      <td></td>\n      <td>August 29, 2017</td>\n      <td>$8.99</td>\n      <td>B00T79WJXG</td>\n      <td>[https://images-na.ssl-images-amazon.com/image...</td>\n      <td>[https://images-na.ssl-images-amazon.com/image...</td>\n    </tr>\n  </tbody>\n</table>\n</div>"
     },
     "execution_count": 54,
     "metadata": {},
     "output_type": "execute_result"
    }
   ],
   "source": [
    "# tech1\n",
    "metadata[metadata['tech1'].str.len() > 0].head()"
   ],
   "metadata": {
    "collapsed": false,
    "pycharm": {
     "name": "#%%\n"
    }
   }
  },
  {
   "cell_type": "code",
   "execution_count": 55,
   "outputs": [
    {
     "data": {
      "text/plain": "Empty DataFrame\nColumns: [category, tech1, description, fit, title, also_buy, tech2, brand, feature, rank, also_view, details, main_cat, similar_item, date, price, asin, imageURL, imageURLHighRes]\nIndex: []",
      "text/html": "<div>\n<style scoped>\n    .dataframe tbody tr th:only-of-type {\n        vertical-align: middle;\n    }\n\n    .dataframe tbody tr th {\n        vertical-align: top;\n    }\n\n    .dataframe thead th {\n        text-align: right;\n    }\n</style>\n<table border=\"1\" class=\"dataframe\">\n  <thead>\n    <tr style=\"text-align: right;\">\n      <th></th>\n      <th>category</th>\n      <th>tech1</th>\n      <th>description</th>\n      <th>fit</th>\n      <th>title</th>\n      <th>also_buy</th>\n      <th>tech2</th>\n      <th>brand</th>\n      <th>feature</th>\n      <th>rank</th>\n      <th>also_view</th>\n      <th>details</th>\n      <th>main_cat</th>\n      <th>similar_item</th>\n      <th>date</th>\n      <th>price</th>\n      <th>asin</th>\n      <th>imageURL</th>\n      <th>imageURLHighRes</th>\n    </tr>\n  </thead>\n  <tbody>\n  </tbody>\n</table>\n</div>"
     },
     "execution_count": 55,
     "metadata": {},
     "output_type": "execute_result"
    }
   ],
   "source": [
    "# fit: 沒有 fit 資料\n",
    "metadata[metadata['fit'].str.len() > 0].head()"
   ],
   "metadata": {
    "collapsed": false,
    "pycharm": {
     "name": "#%%\n"
    }
   }
  },
  {
   "cell_type": "code",
   "execution_count": 56,
   "outputs": [
    {
     "data": {
      "text/plain": "    category tech1                                        description fit  \\\n1         []        [No7 Lift & Luminate Triple Action Serum 50ml ...       \n89        []                                                       []       \n306       []                                                       []       \n308       []                                                       []       \n313       []                                                       []       \n\n                                                 title  \\\n1    No7 Lift &amp; Luminate Triple Action Serum 50...   \n89                                   Dual Jet Bath Spa   \n306              Prestige Classic Lipstick PL-37A Baja   \n308            Prestige Classic Lipstick PL-51A Mojave   \n313            Prestige Classic Lipstick PL-05A Pebble   \n\n                     also_buy tech2               brand feature  \\\n1    [B01E7LCSL6, B008X5RVME]                                []   \n89                         []                    Conair      []   \n306                        []                                []   \n308                        []                                []   \n313                        []        Prestige Cosmetics      []   \n\n                                          rank  \\\n1          872,854 in Beauty & Personal Care (   \n89   1,141,113 in Beauty &amp; Personal Care (   \n306  1,851,720 in Beauty &amp; Personal Care (   \n308  1,215,577 in Beauty &amp; Personal Care (   \n313        114,910 in Beauty & Personal Care (   \n\n                                             also_view  \\\n1                                                   []   \n89   [B005EO2EO2, B00005A44E, B005NWFA5K, B01B0O4KJ...   \n306                                                 []   \n308                                                 []   \n313                                                 []   \n\n                                               details    main_cat  \\\n1    {'Shipping Weight:': '0.3 ounces (', 'ASIN: ':...  All Beauty   \n89   {'Shipping Weight:': '5.8 pounds (', 'ASIN: ':...  All Beauty   \n306  {'ASIN: ': 'B00021W0IC', 'UPC:': '795827190538...  All Beauty   \n308  {'Shipping Weight:': '0.6 ounces (', 'ASIN: ':...  All Beauty   \n313  {'\n    Item Weight: \n    ': '0.64 ounces', 'Sh...  All Beauty   \n\n                                          similar_item date    price  \\\n1     class=\"a-bordered a-horizontal-stripes  a-spa...        $44.99   \n89    class=\"a-bordered a-horizontal-stripes  a-spa...       $144.18   \n306   class=\"a-bordered a-horizontal-stripes  a-spa...        $12.95   \n308   class=\"a-bordered a-horizontal-stripes  a-spa...         $4.00   \n313   class=\"a-bordered a-horizontal-stripes  a-spa...         $3.50   \n\n           asin                                           imageURL  \\\n1    7178680776                                                 []   \n89   B000067EE4  [https://images-na.ssl-images-amazon.com/image...   \n306  B00021W0IC  [https://images-na.ssl-images-amazon.com/image...   \n308  B00021W0VY  [https://images-na.ssl-images-amazon.com/image...   \n313  B00021XGB2                                                 []   \n\n                                       imageURLHighRes  \n1                                                   []  \n89   [https://images-na.ssl-images-amazon.com/image...  \n306  [https://images-na.ssl-images-amazon.com/image...  \n308  [https://images-na.ssl-images-amazon.com/image...  \n313                                                 []  ",
      "text/html": "<div>\n<style scoped>\n    .dataframe tbody tr th:only-of-type {\n        vertical-align: middle;\n    }\n\n    .dataframe tbody tr th {\n        vertical-align: top;\n    }\n\n    .dataframe thead th {\n        text-align: right;\n    }\n</style>\n<table border=\"1\" class=\"dataframe\">\n  <thead>\n    <tr style=\"text-align: right;\">\n      <th></th>\n      <th>category</th>\n      <th>tech1</th>\n      <th>description</th>\n      <th>fit</th>\n      <th>title</th>\n      <th>also_buy</th>\n      <th>tech2</th>\n      <th>brand</th>\n      <th>feature</th>\n      <th>rank</th>\n      <th>also_view</th>\n      <th>details</th>\n      <th>main_cat</th>\n      <th>similar_item</th>\n      <th>date</th>\n      <th>price</th>\n      <th>asin</th>\n      <th>imageURL</th>\n      <th>imageURLHighRes</th>\n    </tr>\n  </thead>\n  <tbody>\n    <tr>\n      <th>1</th>\n      <td>[]</td>\n      <td></td>\n      <td>[No7 Lift &amp; Luminate Triple Action Serum 50ml ...</td>\n      <td></td>\n      <td>No7 Lift &amp;amp; Luminate Triple Action Serum 50...</td>\n      <td>[B01E7LCSL6, B008X5RVME]</td>\n      <td></td>\n      <td></td>\n      <td>[]</td>\n      <td>872,854 in Beauty &amp; Personal Care (</td>\n      <td>[]</td>\n      <td>{'Shipping Weight:': '0.3 ounces (', 'ASIN: ':...</td>\n      <td>All Beauty</td>\n      <td>class=\"a-bordered a-horizontal-stripes  a-spa...</td>\n      <td></td>\n      <td>$44.99</td>\n      <td>7178680776</td>\n      <td>[]</td>\n      <td>[]</td>\n    </tr>\n    <tr>\n      <th>89</th>\n      <td>[]</td>\n      <td></td>\n      <td>[]</td>\n      <td></td>\n      <td>Dual Jet Bath Spa</td>\n      <td>[]</td>\n      <td></td>\n      <td>Conair</td>\n      <td>[]</td>\n      <td>1,141,113 in Beauty &amp;amp; Personal Care (</td>\n      <td>[B005EO2EO2, B00005A44E, B005NWFA5K, B01B0O4KJ...</td>\n      <td>{'Shipping Weight:': '5.8 pounds (', 'ASIN: ':...</td>\n      <td>All Beauty</td>\n      <td>class=\"a-bordered a-horizontal-stripes  a-spa...</td>\n      <td></td>\n      <td>$144.18</td>\n      <td>B000067EE4</td>\n      <td>[https://images-na.ssl-images-amazon.com/image...</td>\n      <td>[https://images-na.ssl-images-amazon.com/image...</td>\n    </tr>\n    <tr>\n      <th>306</th>\n      <td>[]</td>\n      <td></td>\n      <td>[]</td>\n      <td></td>\n      <td>Prestige Classic Lipstick PL-37A Baja</td>\n      <td>[]</td>\n      <td></td>\n      <td></td>\n      <td>[]</td>\n      <td>1,851,720 in Beauty &amp;amp; Personal Care (</td>\n      <td>[]</td>\n      <td>{'ASIN: ': 'B00021W0IC', 'UPC:': '795827190538...</td>\n      <td>All Beauty</td>\n      <td>class=\"a-bordered a-horizontal-stripes  a-spa...</td>\n      <td></td>\n      <td>$12.95</td>\n      <td>B00021W0IC</td>\n      <td>[https://images-na.ssl-images-amazon.com/image...</td>\n      <td>[https://images-na.ssl-images-amazon.com/image...</td>\n    </tr>\n    <tr>\n      <th>308</th>\n      <td>[]</td>\n      <td></td>\n      <td>[]</td>\n      <td></td>\n      <td>Prestige Classic Lipstick PL-51A Mojave</td>\n      <td>[]</td>\n      <td></td>\n      <td></td>\n      <td>[]</td>\n      <td>1,215,577 in Beauty &amp;amp; Personal Care (</td>\n      <td>[]</td>\n      <td>{'Shipping Weight:': '0.6 ounces (', 'ASIN: ':...</td>\n      <td>All Beauty</td>\n      <td>class=\"a-bordered a-horizontal-stripes  a-spa...</td>\n      <td></td>\n      <td>$4.00</td>\n      <td>B00021W0VY</td>\n      <td>[https://images-na.ssl-images-amazon.com/image...</td>\n      <td>[https://images-na.ssl-images-amazon.com/image...</td>\n    </tr>\n    <tr>\n      <th>313</th>\n      <td>[]</td>\n      <td></td>\n      <td>[]</td>\n      <td></td>\n      <td>Prestige Classic Lipstick PL-05A Pebble</td>\n      <td>[]</td>\n      <td></td>\n      <td>Prestige Cosmetics</td>\n      <td>[]</td>\n      <td>114,910 in Beauty &amp; Personal Care (</td>\n      <td>[]</td>\n      <td>{'\n    Item Weight: \n    ': '0.64 ounces', 'Sh...</td>\n      <td>All Beauty</td>\n      <td>class=\"a-bordered a-horizontal-stripes  a-spa...</td>\n      <td></td>\n      <td>$3.50</td>\n      <td>B00021XGB2</td>\n      <td>[]</td>\n      <td>[]</td>\n    </tr>\n  </tbody>\n</table>\n</div>"
     },
     "execution_count": 56,
     "metadata": {},
     "output_type": "execute_result"
    }
   ],
   "source": [
    "# similar_item\n",
    "metadata[metadata['similar_item'].str.len() > 0].head()"
   ],
   "metadata": {
    "collapsed": false,
    "pycharm": {
     "name": "#%%\n"
    }
   }
  },
  {
   "cell_type": "code",
   "execution_count": 57,
   "outputs": [
    {
     "data": {
      "text/plain": "                                           also_view  \\\n0                                                 []   \n1                                                 []   \n2               [B01B8BR0O8, B01B8BR0NO, B014MHXXM8]   \n3                                                 []   \n4  [3254895630, B007VL1D9S, B00EH9A0RI, B0773MBG4...   \n\n                                             details  \n0                           {'ASIN: ': '6546546450'}  \n1  {'Shipping Weight:': '0.3 ounces (', 'ASIN: ':...  \n2  {'Shipping Weight:': '3.5 ounces (', 'ASIN: ':...  \n3  {'\n    Item Weight: \n    ': '1.76 ounces', 'Sh...  \n4  {'Shipping Weight:': '12 ounces (', 'ASIN: ': ...  ",
      "text/html": "<div>\n<style scoped>\n    .dataframe tbody tr th:only-of-type {\n        vertical-align: middle;\n    }\n\n    .dataframe tbody tr th {\n        vertical-align: top;\n    }\n\n    .dataframe thead th {\n        text-align: right;\n    }\n</style>\n<table border=\"1\" class=\"dataframe\">\n  <thead>\n    <tr style=\"text-align: right;\">\n      <th></th>\n      <th>also_view</th>\n      <th>details</th>\n    </tr>\n  </thead>\n  <tbody>\n    <tr>\n      <th>0</th>\n      <td>[]</td>\n      <td>{'ASIN: ': '6546546450'}</td>\n    </tr>\n    <tr>\n      <th>1</th>\n      <td>[]</td>\n      <td>{'Shipping Weight:': '0.3 ounces (', 'ASIN: ':...</td>\n    </tr>\n    <tr>\n      <th>2</th>\n      <td>[B01B8BR0O8, B01B8BR0NO, B014MHXXM8]</td>\n      <td>{'Shipping Weight:': '3.5 ounces (', 'ASIN: ':...</td>\n    </tr>\n    <tr>\n      <th>3</th>\n      <td>[]</td>\n      <td>{'\n    Item Weight: \n    ': '1.76 ounces', 'Sh...</td>\n    </tr>\n    <tr>\n      <th>4</th>\n      <td>[3254895630, B007VL1D9S, B00EH9A0RI, B0773MBG4...</td>\n      <td>{'Shipping Weight:': '12 ounces (', 'ASIN: ': ...</td>\n    </tr>\n  </tbody>\n</table>\n</div>"
     },
     "execution_count": 57,
     "metadata": {},
     "output_type": "execute_result"
    }
   ],
   "source": [
    "# also_view\n",
    "metadata[['also_view', 'details']].head()"
   ],
   "metadata": {
    "collapsed": false,
    "pycharm": {
     "name": "#%%\n"
    }
   }
  },
  {
   "cell_type": "markdown",
   "source": [
    "# 內容過濾的推薦算法\n",
    "## 1. Item representation\n",
    "計算商品用 **「標題」** 所表示的 tfidf 矩陣"
   ],
   "metadata": {
    "collapsed": false,
    "pycharm": {
     "name": "#%% md\n"
    }
   }
  },
  {
   "cell_type": "code",
   "execution_count": 64,
   "outputs": [
    {
     "data": {
      "text/plain": "<32300x29623 sparse matrix of type '<class 'numpy.float64'>'\n\twith 352299 stored elements in Compressed Sparse Row format>"
     },
     "execution_count": 64,
     "metadata": {},
     "output_type": "execute_result"
    }
   ],
   "source": [
    "df = metadata.drop_duplicates('title')\n",
    "tf = TfidfVectorizer(analyzer='word')\n",
    "tfidf_matrix = tf.fit_transform(df['title'])"
   ],
   "metadata": {
    "collapsed": false,
    "pycharm": {
     "name": "#%%\n"
    }
   }
  },
  {
   "cell_type": "code",
   "execution_count": 80,
   "outputs": [
    {
     "data": {
      "text/plain": "array([[0., 0., 0., ..., 0., 0., 0.],\n       [0., 0., 0., ..., 0., 0., 0.],\n       [0., 0., 0., ..., 0., 0., 0.],\n       ...,\n       [0., 0., 0., ..., 0., 0., 0.],\n       [0., 0., 0., ..., 0., 0., 0.],\n       [0., 0., 0., ..., 0., 0., 0.]])"
     },
     "execution_count": 80,
     "metadata": {},
     "output_type": "execute_result"
    }
   ],
   "source": [
    "tfidf_matrix.toarray()"
   ],
   "metadata": {
    "collapsed": false,
    "pycharm": {
     "name": "#%%\n"
    }
   }
  },
  {
   "cell_type": "code",
   "execution_count": 81,
   "outputs": [
    {
     "data": {
      "text/plain": "array(['00', '000', '0000', ..., 'zyliss', 'zytaze', 'zzzrt'],\n      dtype=object)"
     },
     "execution_count": 81,
     "metadata": {},
     "output_type": "execute_result"
    }
   ],
   "source": [
    "tf.get_feature_names_out()"
   ],
   "metadata": {
    "collapsed": false,
    "pycharm": {
     "name": "#%%\n"
    }
   }
  },
  {
   "cell_type": "markdown",
   "source": [
    "## 2. Profiling Learning\n",
    "如何計算使用者的購買/偏好行為\n",
    "### 2-1 我們計算商品間的相似程度\n",
    "其實就是計算任兩筆商品之間的 cosine_similarity："
   ],
   "metadata": {
    "collapsed": false,
    "pycharm": {
     "name": "#%% md\n"
    }
   }
  },
  {
   "cell_type": "code",
   "source": [
    "similarity_matrix = cosine_similarity(tfidf_matrix)"
   ],
   "metadata": {
    "collapsed": false,
    "pycharm": {
     "name": "#%%\n"
    }
   },
   "execution_count": 83,
   "outputs": []
  },
  {
   "cell_type": "code",
   "execution_count": 84,
   "outputs": [
    {
     "data": {
      "text/plain": "array([[1.        , 0.        , 0.        , ..., 0.        , 0.        ,\n        0.        ],\n       [0.        , 1.        , 0.29881616, ..., 0.        , 0.        ,\n        0.        ],\n       [0.        , 0.29881616, 1.        , ..., 0.        , 0.        ,\n        0.        ],\n       ...,\n       [0.        , 0.        , 0.        , ..., 1.        , 0.        ,\n        0.        ],\n       [0.        , 0.        , 0.        , ..., 0.        , 1.        ,\n        0.        ],\n       [0.        , 0.        , 0.        , ..., 0.        , 0.        ,\n        1.        ]])"
     },
     "execution_count": 84,
     "metadata": {},
     "output_type": "execute_result"
    }
   ],
   "source": [
    "similarity_matrix"
   ],
   "metadata": {
    "collapsed": false,
    "pycharm": {
     "name": "#%%\n"
    }
   }
  },
  {
   "cell_type": "markdown",
   "source": [
    "### 2-2 我們計算商品間的相似程度\n",
    "找出每個商品回傳 k 個最相近的商品，利用剛剛的 similarity_matrix 對每個商品各自排序即可。"
   ],
   "metadata": {
    "collapsed": false,
    "pycharm": {
     "name": "#%% md\n"
    }
   }
  },
  {
   "cell_type": "code",
   "execution_count": 87,
   "outputs": [
    {
     "data": {
      "text/plain": "title\nLoud 'N Clear&trade; Personal Sound Amplifier                                                                                                                      0\nNo7 Lift &amp; Luminate Triple Action Serum 50ml by Boots                                                                                                          1\nNo7 Stay Perfect Foundation Cool Vanilla by No7                                                                                                                    2\nWella Koleston Perfect Hair Colour 44/44 Medium Intense Red Brown 60ml                                                                                             3\nLacto Calamine Skin Balance Oil control 120 ml. (Pack of 2)                                                                                                        4\n                                                                                                                                                               ...  \nBarielle Pro Textured Grip Cuticle Nipper, Purple                                                                                                              32887\n(Buy 3 Get 1 Free) Salon Perfect Eye Makeup Corrector Sticks Oil Free, Fragrance Free 100% Cotton Swabs Contains 50 Pre-Moistened Swabs Made in U.S.A          32888\nNOW D-Mannose 500 mg - 120 Veg Capsules (Pack of 3)                                                                                                            32889\n12 White Feather Shuttlecocks Birdies Badminton Training Match                                                                                                 32890\nFESHFEN Scrunchy Scrunchies Synthetic Hair Bun Updo Hair Pieces Ponytail Hair Extensions Wavy Curly Messy Hair Bun Extensions Donut Hair Chignons Piece Wig    32891\nLength: 32300, dtype: int64"
     },
     "execution_count": 87,
     "metadata": {},
     "output_type": "execute_result"
    }
   ],
   "source": [
    "# title -> 商品index 流水號\n",
    "mapping = pd.Series(df.index, index = df['title'])\n",
    "mapping"
   ],
   "metadata": {
    "collapsed": false,
    "pycharm": {
     "name": "#%%\n"
    }
   }
  },
  {
   "cell_type": "code",
   "execution_count": 109,
   "outputs": [],
   "source": [
    "def recommend_item(item_input, k=2):\n",
    "    \"\"\"\n",
    "    :param item_input: string, 商品名\n",
    "    :param k: 取出相似個數\n",
    "    :return: 回傳 list\n",
    "    \"\"\"\n",
    "    try:\n",
    "        item_index = mapping[item_input]\n",
    "        similarity_score = list(enumerate(similarity_matrix[item_index]))\n",
    "        similarity_score = sorted(similarity_score, key=lambda x: x[1], reverse=True)\n",
    "        similarity_score = similarity_score[:k]\n",
    "        item_indices = [i[0] for i in similarity_score]\n",
    "        return (df['asin'].iloc[item_indices].tolist())\n",
    "    except:\n",
    "        return []\n"
   ],
   "metadata": {
    "collapsed": false,
    "pycharm": {
     "name": "#%%\n"
    }
   }
  },
  {
   "cell_type": "markdown",
   "source": [
    "## 3. Recommendation Generation\n",
    "這裡的想法是根據每一個使用者所購買的商品，分別把跟這些商品相似的商品加總起來就是最終的推薦。\n",
    "在這裡的「加總」就是全部考慮，實務上的加總可能會採用 KNN 的方法在進行排序。"
   ],
   "metadata": {
    "collapsed": false,
    "pycharm": {
     "name": "#%% md\n"
    }
   }
  },
  {
   "cell_type": "code",
   "execution_count": 110,
   "outputs": [],
   "source": [
    "def recommend_items(items, k):\n",
    "    \"\"\"\n",
    "    :param items: item title list\n",
    "    :param k:\n",
    "    :return:\n",
    "    \"\"\"\n",
    "    res = []\n",
    "    for d in items:\n",
    "        res.extend(recommend_item(d, k))\n",
    "    return res"
   ],
   "metadata": {
    "collapsed": false,
    "pycharm": {
     "name": "#%%\n"
    }
   }
  },
  {
   "cell_type": "code",
   "execution_count": null,
   "outputs": [],
   "source": [],
   "metadata": {
    "collapsed": false,
    "pycharm": {
     "name": "#%%\n"
    }
   }
  }
 ],
 "metadata": {
  "kernelspec": {
   "display_name": "Python 3",
   "language": "python",
   "name": "python3"
  },
  "language_info": {
   "codemirror_mode": {
    "name": "ipython",
    "version": 2
   },
   "file_extension": ".py",
   "mimetype": "text/x-python",
   "name": "python",
   "nbconvert_exporter": "python",
   "pygments_lexer": "ipython2",
   "version": "2.7.6"
  },
  "colab": {
   "name": " U31.ipynb",
   "provenance": [],
   "include_colab_link": true
  }
 },
 "nbformat": 4,
 "nbformat_minor": 0
}