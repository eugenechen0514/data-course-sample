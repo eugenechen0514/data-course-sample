{
 "cells": [
  {
   "cell_type": "code",
   "execution_count": 82,
   "metadata": {
    "collapsed": true,
    "id": "3MjlEUzhs4bb"
   },
   "outputs": [],
   "source": [
    "import pandas as pd\n",
    "import numpy as np\n",
    "from sklearn.feature_extraction.text import TfidfVectorizer\n",
    "from sklearn.metrics.pairwise import cosine_similarity"
   ]
  },
  {
   "cell_type": "code",
   "execution_count": 2,
   "outputs": [
    {
     "data": {
      "text/plain": "         asin      reviewerID  overall  unixReviewTime       DATE\n0  0143026860  A1V6B6TNIC10QE      1.0    1.424304e+09 2015-02-19\n1  0143026860  A2F5GHSXFQ0W6J      4.0    1.418861e+09 2014-12-18\n2  0143026860  A1572GUYS7DGSR      4.0    1.407629e+09 2014-08-10\n3  0143026860   A1PSGLFK1NSVO      5.0    1.362960e+09 2013-03-11\n4  0143026860   A6IKXKZMTKGSC      5.0    1.324771e+09 2011-12-25",
      "text/html": "<div>\n<style scoped>\n    .dataframe tbody tr th:only-of-type {\n        vertical-align: middle;\n    }\n\n    .dataframe tbody tr th {\n        vertical-align: top;\n    }\n\n    .dataframe thead th {\n        text-align: right;\n    }\n</style>\n<table border=\"1\" class=\"dataframe\">\n  <thead>\n    <tr style=\"text-align: right;\">\n      <th></th>\n      <th>asin</th>\n      <th>reviewerID</th>\n      <th>overall</th>\n      <th>unixReviewTime</th>\n      <th>DATE</th>\n    </tr>\n  </thead>\n  <tbody>\n    <tr>\n      <th>0</th>\n      <td>0143026860</td>\n      <td>A1V6B6TNIC10QE</td>\n      <td>1.0</td>\n      <td>1.424304e+09</td>\n      <td>2015-02-19</td>\n    </tr>\n    <tr>\n      <th>1</th>\n      <td>0143026860</td>\n      <td>A2F5GHSXFQ0W6J</td>\n      <td>4.0</td>\n      <td>1.418861e+09</td>\n      <td>2014-12-18</td>\n    </tr>\n    <tr>\n      <th>2</th>\n      <td>0143026860</td>\n      <td>A1572GUYS7DGSR</td>\n      <td>4.0</td>\n      <td>1.407629e+09</td>\n      <td>2014-08-10</td>\n    </tr>\n    <tr>\n      <th>3</th>\n      <td>0143026860</td>\n      <td>A1PSGLFK1NSVO</td>\n      <td>5.0</td>\n      <td>1.362960e+09</td>\n      <td>2013-03-11</td>\n    </tr>\n    <tr>\n      <th>4</th>\n      <td>0143026860</td>\n      <td>A6IKXKZMTKGSC</td>\n      <td>5.0</td>\n      <td>1.324771e+09</td>\n      <td>2011-12-25</td>\n    </tr>\n  </tbody>\n</table>\n</div>"
     },
     "execution_count": 2,
     "metadata": {},
     "output_type": "execute_result"
    }
   ],
   "source": [
    "all_beauty_path = 'data/All_Beauty.csv'\n",
    "# all_beauty_path = 'http://deepyeti.ucsd.edu/jianmo/amazon/categoryFilesSmall/All_Beauty.csv'\n",
    "ratings = pd.read_csv(\n",
    "    all_beauty_path,\n",
    "    names=[\"asin\", \"reviewerID\", \"overall\", \"unixReviewTime\"],\n",
    "    dtype={\"asin\": np.str_, \"reviewerID\": np.str_, \"overall\": np.float32, \"unixReviewTime\": np.float64 }\n",
    ")\n",
    "ratings['DATE'] = pd.to_datetime(ratings['unixReviewTime'], unit='s')\n",
    "ratings.head()"
   ],
   "metadata": {
    "pycharm": {
     "name": "#%%\n"
    },
    "id": "zsUO2KxOs4bh",
    "outputId": "f57e34a1-572f-4a01-d548-c5a2205a2c9b",
    "colab": {
     "base_uri": "https://localhost:8080/",
     "height": 206
    }
   }
  },
  {
   "cell_type": "code",
   "execution_count": 30,
   "outputs": [
    {
     "name": "stdout",
     "output_type": "stream",
     "text": [
      "Index(['category', 'tech1', 'description', 'fit', 'title', 'also_buy', 'tech2',\n",
      "       'brand', 'feature', 'rank', 'also_view', 'details', 'main_cat',\n",
      "       'similar_item', 'date', 'price', 'asin', 'imageURL', 'imageURLHighRes'],\n",
      "      dtype='object')\n"
     ]
    }
   ],
   "source": [
    "meta_all_beauty_path = 'data/meta_All_Beauty.json.gz'\n",
    "# meta_all_beauty_path = 'http://deepyeti.ucsd.edu/jianmo/amazon/metaFiles2/meta_All_Beauty.json.gz'\n",
    "metadata = pd.read_json(\n",
    "    meta_all_beauty_path,\n",
    "    lines=True,\n",
    "    compression=\"gzip\"\n",
    ")\n",
    "metadata.head()\n",
    "print(metadata.columns)"
   ],
   "metadata": {
    "pycharm": {
     "name": "#%%\n"
    },
    "id": "AWTaRbOfs4bi",
    "outputId": "e5f5544b-6c83-423e-95a6-a46640b2aeda",
    "colab": {
     "base_uri": "https://localhost:8080/",
     "height": 669
    }
   }
  },
  {
   "cell_type": "markdown",
   "source": [
    "# 資料切分"
   ],
   "metadata": {
    "collapsed": false
   }
  },
  {
   "cell_type": "code",
   "execution_count": 111,
   "outputs": [],
   "source": [
    "ratings_trainings = ratings[\n",
    "    (ratings['DATE'] < '2018-09-01')\n",
    "]\n",
    "ratings_testings = ratings[\n",
    "    (ratings['DATE'] >= '2018-09-01') &\n",
    "    (ratings['DATE'] <= '2018-09-30')\n",
    "]\n",
    "ratings_testings_by_user = ratings_testings.groupby('reviewerID').agg(list).reset_index()[['reviewerID', 'asin']].to_dict('records')\n",
    "ratings_testings_by_user = { rating['reviewerID']: rating['asin'] for rating in ratings_testings_by_user }\n",
    "users = list(ratings_testings_by_user.keys())\n"
   ],
   "metadata": {
    "collapsed": false,
    "pycharm": {
     "name": "#%%\n"
    }
   }
  },
  {
   "cell_type": "markdown",
   "source": [
    "# EDA"
   ],
   "metadata": {
    "collapsed": false,
    "pycharm": {
     "name": "#%% md\n"
    }
   }
  },
  {
   "cell_type": "code",
   "execution_count": 54,
   "outputs": [
    {
     "data": {
      "text/plain": "      category                                              tech1  \\\n1088        []   class=\"a-keyvalue prodDetTable\" role=\"present...   \n3551        []   class=\"a-keyvalue prodDetTable\" role=\"present...   \n12130       []   class=\"a-keyvalue prodDetTable\" role=\"present...   \n13579       []   class=\"a-keyvalue prodDetTable\" role=\"present...   \n19087       []   class=\"a-keyvalue prodDetTable\" role=\"present...   \n\n                                             description fit  \\\n1088   [This is the No.1 Precision Knife with 15 Repl...       \n3551   [Tuck a Fragrant Drawer Sachet between your sh...       \n12130  [This Large Pouch gives you all the storage sp...       \n13579  [Perfect decor on formal and casual apparels t...       \n19087  [This items has an integrated lined fleece int...       \n\n                                                   title  \\\n1088    No.1 Knife w/No.11 Blade Carded : 15pc Dispenser   \n3551             Camille Beckman Drawer Sachet - Camille   \n12130  Large Pouch - Full Grain Leather - Black Onyx ...   \n13579  Jovana Retro Big Eye Owl Pendant Design Neckla...   \n19087  Touch Screen Windproof Waterproof Thermal Glov...   \n\n                                                also_buy tech2  \\\n1088   [B0025189VE, B0015AOIYI, B000093IJ1, B0027ROZ9...         \n3551                                                  []         \n12130                                                 []         \n13579                                                 []         \n19087                                                 []         \n\n                 brand                                            feature  \\\n1088            X-Acto  [Type A, all aluminum handle designed for in-t...   \n3551   Camille Beckman                                    [Drawer Sachet]   \n12130     Leatherology  [Full Grain Leather, 8.5\"H x 12\"W x 0.5\"D, 2 i...   \n13579           JOVANA  [Material: Alloy+Rhinestone, Pendant Dimension...   \n19087                B  [[Finally a glove with WARMTH & PERFORMANCE] M...   \n\n                                                    rank  \\\n1088   [>#349,378 in Beauty & Personal Care (See top ...   \n3551   [>#2,569,884 in Beauty & Personal Care (See to...   \n12130  [>#527,492 in Beauty & Personal Care (See top ...   \n13579  [>#188,112 in Beauty & Personal Care (See top ...   \n19087  [>#816,754 in Beauty & Personal Care (See top ...   \n\n                                               also_view details    main_cat  \\\n1088   [B005KRSWM6, B01MUUAVDG, B07FYSW47C, B00IR9I1V...      {}  All Beauty   \n3551                                                  []      {}  All Beauty   \n12130  [B07MHJXZQ2, B07BLTLKGK, B009Z7DXHQ, B01MS4YRT...      {}  All Beauty   \n13579  [B00AHOS6WS, B07GZPLLVR, B00N9X4XNU, B072PQ6Y4...      {}  All Beauty   \n19087  [B077S9DNDT, B0786CKZRT, B07JVJHJ8H, B079Q4HYM...      {}  All Beauty   \n\n      similar_item               date   price        asin  \\\n1088                December 17, 2004          B000BRJD32   \n3551                  January 2, 2009          B001OW7QI2   \n12130                 August 31, 2012  $85.00  B00I4R3X96   \n13579                  April 24, 2014   $2.30  B00JYGWWIO   \n19087                 August 29, 2017   $8.99  B00T79WJXG   \n\n                                                imageURL  \\\n1088                                                  []   \n3551   [https://images-na.ssl-images-amazon.com/image...   \n12130  [https://images-na.ssl-images-amazon.com/image...   \n13579  [https://images-na.ssl-images-amazon.com/image...   \n19087  [https://images-na.ssl-images-amazon.com/image...   \n\n                                         imageURLHighRes  \n1088                                                  []  \n3551   [https://images-na.ssl-images-amazon.com/image...  \n12130  [https://images-na.ssl-images-amazon.com/image...  \n13579  [https://images-na.ssl-images-amazon.com/image...  \n19087  [https://images-na.ssl-images-amazon.com/image...  ",
      "text/html": "<div>\n<style scoped>\n    .dataframe tbody tr th:only-of-type {\n        vertical-align: middle;\n    }\n\n    .dataframe tbody tr th {\n        vertical-align: top;\n    }\n\n    .dataframe thead th {\n        text-align: right;\n    }\n</style>\n<table border=\"1\" class=\"dataframe\">\n  <thead>\n    <tr style=\"text-align: right;\">\n      <th></th>\n      <th>category</th>\n      <th>tech1</th>\n      <th>description</th>\n      <th>fit</th>\n      <th>title</th>\n      <th>also_buy</th>\n      <th>tech2</th>\n      <th>brand</th>\n      <th>feature</th>\n      <th>rank</th>\n      <th>also_view</th>\n      <th>details</th>\n      <th>main_cat</th>\n      <th>similar_item</th>\n      <th>date</th>\n      <th>price</th>\n      <th>asin</th>\n      <th>imageURL</th>\n      <th>imageURLHighRes</th>\n    </tr>\n  </thead>\n  <tbody>\n    <tr>\n      <th>1088</th>\n      <td>[]</td>\n      <td>class=\"a-keyvalue prodDetTable\" role=\"present...</td>\n      <td>[This is the No.1 Precision Knife with 15 Repl...</td>\n      <td></td>\n      <td>No.1 Knife w/No.11 Blade Carded : 15pc Dispenser</td>\n      <td>[B0025189VE, B0015AOIYI, B000093IJ1, B0027ROZ9...</td>\n      <td></td>\n      <td>X-Acto</td>\n      <td>[Type A, all aluminum handle designed for in-t...</td>\n      <td>[&gt;#349,378 in Beauty &amp; Personal Care (See top ...</td>\n      <td>[B005KRSWM6, B01MUUAVDG, B07FYSW47C, B00IR9I1V...</td>\n      <td>{}</td>\n      <td>All Beauty</td>\n      <td></td>\n      <td>December 17, 2004</td>\n      <td></td>\n      <td>B000BRJD32</td>\n      <td>[]</td>\n      <td>[]</td>\n    </tr>\n    <tr>\n      <th>3551</th>\n      <td>[]</td>\n      <td>class=\"a-keyvalue prodDetTable\" role=\"present...</td>\n      <td>[Tuck a Fragrant Drawer Sachet between your sh...</td>\n      <td></td>\n      <td>Camille Beckman Drawer Sachet - Camille</td>\n      <td>[]</td>\n      <td></td>\n      <td>Camille Beckman</td>\n      <td>[Drawer Sachet]</td>\n      <td>[&gt;#2,569,884 in Beauty &amp; Personal Care (See to...</td>\n      <td>[]</td>\n      <td>{}</td>\n      <td>All Beauty</td>\n      <td></td>\n      <td>January 2, 2009</td>\n      <td></td>\n      <td>B001OW7QI2</td>\n      <td>[https://images-na.ssl-images-amazon.com/image...</td>\n      <td>[https://images-na.ssl-images-amazon.com/image...</td>\n    </tr>\n    <tr>\n      <th>12130</th>\n      <td>[]</td>\n      <td>class=\"a-keyvalue prodDetTable\" role=\"present...</td>\n      <td>[This Large Pouch gives you all the storage sp...</td>\n      <td></td>\n      <td>Large Pouch - Full Grain Leather - Black Onyx ...</td>\n      <td>[]</td>\n      <td></td>\n      <td>Leatherology</td>\n      <td>[Full Grain Leather, 8.5\"H x 12\"W x 0.5\"D, 2 i...</td>\n      <td>[&gt;#527,492 in Beauty &amp; Personal Care (See top ...</td>\n      <td>[B07MHJXZQ2, B07BLTLKGK, B009Z7DXHQ, B01MS4YRT...</td>\n      <td>{}</td>\n      <td>All Beauty</td>\n      <td></td>\n      <td>August 31, 2012</td>\n      <td>$85.00</td>\n      <td>B00I4R3X96</td>\n      <td>[https://images-na.ssl-images-amazon.com/image...</td>\n      <td>[https://images-na.ssl-images-amazon.com/image...</td>\n    </tr>\n    <tr>\n      <th>13579</th>\n      <td>[]</td>\n      <td>class=\"a-keyvalue prodDetTable\" role=\"present...</td>\n      <td>[Perfect decor on formal and casual apparels t...</td>\n      <td></td>\n      <td>Jovana Retro Big Eye Owl Pendant Design Neckla...</td>\n      <td>[]</td>\n      <td></td>\n      <td>JOVANA</td>\n      <td>[Material: Alloy+Rhinestone, Pendant Dimension...</td>\n      <td>[&gt;#188,112 in Beauty &amp; Personal Care (See top ...</td>\n      <td>[B00AHOS6WS, B07GZPLLVR, B00N9X4XNU, B072PQ6Y4...</td>\n      <td>{}</td>\n      <td>All Beauty</td>\n      <td></td>\n      <td>April 24, 2014</td>\n      <td>$2.30</td>\n      <td>B00JYGWWIO</td>\n      <td>[https://images-na.ssl-images-amazon.com/image...</td>\n      <td>[https://images-na.ssl-images-amazon.com/image...</td>\n    </tr>\n    <tr>\n      <th>19087</th>\n      <td>[]</td>\n      <td>class=\"a-keyvalue prodDetTable\" role=\"present...</td>\n      <td>[This items has an integrated lined fleece int...</td>\n      <td></td>\n      <td>Touch Screen Windproof Waterproof Thermal Glov...</td>\n      <td>[]</td>\n      <td></td>\n      <td>B</td>\n      <td>[[Finally a glove with WARMTH &amp; PERFORMANCE] M...</td>\n      <td>[&gt;#816,754 in Beauty &amp; Personal Care (See top ...</td>\n      <td>[B077S9DNDT, B0786CKZRT, B07JVJHJ8H, B079Q4HYM...</td>\n      <td>{}</td>\n      <td>All Beauty</td>\n      <td></td>\n      <td>August 29, 2017</td>\n      <td>$8.99</td>\n      <td>B00T79WJXG</td>\n      <td>[https://images-na.ssl-images-amazon.com/image...</td>\n      <td>[https://images-na.ssl-images-amazon.com/image...</td>\n    </tr>\n  </tbody>\n</table>\n</div>"
     },
     "execution_count": 54,
     "metadata": {},
     "output_type": "execute_result"
    }
   ],
   "source": [
    "# tech1\n",
    "metadata[metadata['tech1'].str.len() > 0].head()"
   ],
   "metadata": {
    "collapsed": false,
    "pycharm": {
     "name": "#%%\n"
    }
   }
  },
  {
   "cell_type": "code",
   "execution_count": 55,
   "outputs": [
    {
     "data": {
      "text/plain": "Empty DataFrame\nColumns: [category, tech1, description, fit, title, also_buy, tech2, brand, feature, rank, also_view, details, main_cat, similar_item, date, price, asin, imageURL, imageURLHighRes]\nIndex: []",
      "text/html": "<div>\n<style scoped>\n    .dataframe tbody tr th:only-of-type {\n        vertical-align: middle;\n    }\n\n    .dataframe tbody tr th {\n        vertical-align: top;\n    }\n\n    .dataframe thead th {\n        text-align: right;\n    }\n</style>\n<table border=\"1\" class=\"dataframe\">\n  <thead>\n    <tr style=\"text-align: right;\">\n      <th></th>\n      <th>category</th>\n      <th>tech1</th>\n      <th>description</th>\n      <th>fit</th>\n      <th>title</th>\n      <th>also_buy</th>\n      <th>tech2</th>\n      <th>brand</th>\n      <th>feature</th>\n      <th>rank</th>\n      <th>also_view</th>\n      <th>details</th>\n      <th>main_cat</th>\n      <th>similar_item</th>\n      <th>date</th>\n      <th>price</th>\n      <th>asin</th>\n      <th>imageURL</th>\n      <th>imageURLHighRes</th>\n    </tr>\n  </thead>\n  <tbody>\n  </tbody>\n</table>\n</div>"
     },
     "execution_count": 55,
     "metadata": {},
     "output_type": "execute_result"
    }
   ],
   "source": [
    "# fit: 沒有 fit 資料\n",
    "metadata[metadata['fit'].str.len() > 0].head()"
   ],
   "metadata": {
    "collapsed": false,
    "pycharm": {
     "name": "#%%\n"
    }
   }
  },
  {
   "cell_type": "code",
   "execution_count": 56,
   "outputs": [
    {
     "data": {
      "text/plain": "    category tech1                                        description fit  \\\n1         []        [No7 Lift & Luminate Triple Action Serum 50ml ...       \n89        []                                                       []       \n306       []                                                       []       \n308       []                                                       []       \n313       []                                                       []       \n\n                                                 title  \\\n1    No7 Lift &amp; Luminate Triple Action Serum 50...   \n89                                   Dual Jet Bath Spa   \n306              Prestige Classic Lipstick PL-37A Baja   \n308            Prestige Classic Lipstick PL-51A Mojave   \n313            Prestige Classic Lipstick PL-05A Pebble   \n\n                     also_buy tech2               brand feature  \\\n1    [B01E7LCSL6, B008X5RVME]                                []   \n89                         []                    Conair      []   \n306                        []                                []   \n308                        []                                []   \n313                        []        Prestige Cosmetics      []   \n\n                                          rank  \\\n1          872,854 in Beauty & Personal Care (   \n89   1,141,113 in Beauty &amp; Personal Care (   \n306  1,851,720 in Beauty &amp; Personal Care (   \n308  1,215,577 in Beauty &amp; Personal Care (   \n313        114,910 in Beauty & Personal Care (   \n\n                                             also_view  \\\n1                                                   []   \n89   [B005EO2EO2, B00005A44E, B005NWFA5K, B01B0O4KJ...   \n306                                                 []   \n308                                                 []   \n313                                                 []   \n\n                                               details    main_cat  \\\n1    {'Shipping Weight:': '0.3 ounces (', 'ASIN: ':...  All Beauty   \n89   {'Shipping Weight:': '5.8 pounds (', 'ASIN: ':...  All Beauty   \n306  {'ASIN: ': 'B00021W0IC', 'UPC:': '795827190538...  All Beauty   \n308  {'Shipping Weight:': '0.6 ounces (', 'ASIN: ':...  All Beauty   \n313  {'\n    Item Weight: \n    ': '0.64 ounces', 'Sh...  All Beauty   \n\n                                          similar_item date    price  \\\n1     class=\"a-bordered a-horizontal-stripes  a-spa...        $44.99   \n89    class=\"a-bordered a-horizontal-stripes  a-spa...       $144.18   \n306   class=\"a-bordered a-horizontal-stripes  a-spa...        $12.95   \n308   class=\"a-bordered a-horizontal-stripes  a-spa...         $4.00   \n313   class=\"a-bordered a-horizontal-stripes  a-spa...         $3.50   \n\n           asin                                           imageURL  \\\n1    7178680776                                                 []   \n89   B000067EE4  [https://images-na.ssl-images-amazon.com/image...   \n306  B00021W0IC  [https://images-na.ssl-images-amazon.com/image...   \n308  B00021W0VY  [https://images-na.ssl-images-amazon.com/image...   \n313  B00021XGB2                                                 []   \n\n                                       imageURLHighRes  \n1                                                   []  \n89   [https://images-na.ssl-images-amazon.com/image...  \n306  [https://images-na.ssl-images-amazon.com/image...  \n308  [https://images-na.ssl-images-amazon.com/image...  \n313                                                 []  ",
      "text/html": "<div>\n<style scoped>\n    .dataframe tbody tr th:only-of-type {\n        vertical-align: middle;\n    }\n\n    .dataframe tbody tr th {\n        vertical-align: top;\n    }\n\n    .dataframe thead th {\n        text-align: right;\n    }\n</style>\n<table border=\"1\" class=\"dataframe\">\n  <thead>\n    <tr style=\"text-align: right;\">\n      <th></th>\n      <th>category</th>\n      <th>tech1</th>\n      <th>description</th>\n      <th>fit</th>\n      <th>title</th>\n      <th>also_buy</th>\n      <th>tech2</th>\n      <th>brand</th>\n      <th>feature</th>\n      <th>rank</th>\n      <th>also_view</th>\n      <th>details</th>\n      <th>main_cat</th>\n      <th>similar_item</th>\n      <th>date</th>\n      <th>price</th>\n      <th>asin</th>\n      <th>imageURL</th>\n      <th>imageURLHighRes</th>\n    </tr>\n  </thead>\n  <tbody>\n    <tr>\n      <th>1</th>\n      <td>[]</td>\n      <td></td>\n      <td>[No7 Lift &amp; Luminate Triple Action Serum 50ml ...</td>\n      <td></td>\n      <td>No7 Lift &amp;amp; Luminate Triple Action Serum 50...</td>\n      <td>[B01E7LCSL6, B008X5RVME]</td>\n      <td></td>\n      <td></td>\n      <td>[]</td>\n      <td>872,854 in Beauty &amp; Personal Care (</td>\n      <td>[]</td>\n      <td>{'Shipping Weight:': '0.3 ounces (', 'ASIN: ':...</td>\n      <td>All Beauty</td>\n      <td>class=\"a-bordered a-horizontal-stripes  a-spa...</td>\n      <td></td>\n      <td>$44.99</td>\n      <td>7178680776</td>\n      <td>[]</td>\n      <td>[]</td>\n    </tr>\n    <tr>\n      <th>89</th>\n      <td>[]</td>\n      <td></td>\n      <td>[]</td>\n      <td></td>\n      <td>Dual Jet Bath Spa</td>\n      <td>[]</td>\n      <td></td>\n      <td>Conair</td>\n      <td>[]</td>\n      <td>1,141,113 in Beauty &amp;amp; Personal Care (</td>\n      <td>[B005EO2EO2, B00005A44E, B005NWFA5K, B01B0O4KJ...</td>\n      <td>{'Shipping Weight:': '5.8 pounds (', 'ASIN: ':...</td>\n      <td>All Beauty</td>\n      <td>class=\"a-bordered a-horizontal-stripes  a-spa...</td>\n      <td></td>\n      <td>$144.18</td>\n      <td>B000067EE4</td>\n      <td>[https://images-na.ssl-images-amazon.com/image...</td>\n      <td>[https://images-na.ssl-images-amazon.com/image...</td>\n    </tr>\n    <tr>\n      <th>306</th>\n      <td>[]</td>\n      <td></td>\n      <td>[]</td>\n      <td></td>\n      <td>Prestige Classic Lipstick PL-37A Baja</td>\n      <td>[]</td>\n      <td></td>\n      <td></td>\n      <td>[]</td>\n      <td>1,851,720 in Beauty &amp;amp; Personal Care (</td>\n      <td>[]</td>\n      <td>{'ASIN: ': 'B00021W0IC', 'UPC:': '795827190538...</td>\n      <td>All Beauty</td>\n      <td>class=\"a-bordered a-horizontal-stripes  a-spa...</td>\n      <td></td>\n      <td>$12.95</td>\n      <td>B00021W0IC</td>\n      <td>[https://images-na.ssl-images-amazon.com/image...</td>\n      <td>[https://images-na.ssl-images-amazon.com/image...</td>\n    </tr>\n    <tr>\n      <th>308</th>\n      <td>[]</td>\n      <td></td>\n      <td>[]</td>\n      <td></td>\n      <td>Prestige Classic Lipstick PL-51A Mojave</td>\n      <td>[]</td>\n      <td></td>\n      <td></td>\n      <td>[]</td>\n      <td>1,215,577 in Beauty &amp;amp; Personal Care (</td>\n      <td>[]</td>\n      <td>{'Shipping Weight:': '0.6 ounces (', 'ASIN: ':...</td>\n      <td>All Beauty</td>\n      <td>class=\"a-bordered a-horizontal-stripes  a-spa...</td>\n      <td></td>\n      <td>$4.00</td>\n      <td>B00021W0VY</td>\n      <td>[https://images-na.ssl-images-amazon.com/image...</td>\n      <td>[https://images-na.ssl-images-amazon.com/image...</td>\n    </tr>\n    <tr>\n      <th>313</th>\n      <td>[]</td>\n      <td></td>\n      <td>[]</td>\n      <td></td>\n      <td>Prestige Classic Lipstick PL-05A Pebble</td>\n      <td>[]</td>\n      <td></td>\n      <td>Prestige Cosmetics</td>\n      <td>[]</td>\n      <td>114,910 in Beauty &amp; Personal Care (</td>\n      <td>[]</td>\n      <td>{'\n    Item Weight: \n    ': '0.64 ounces', 'Sh...</td>\n      <td>All Beauty</td>\n      <td>class=\"a-bordered a-horizontal-stripes  a-spa...</td>\n      <td></td>\n      <td>$3.50</td>\n      <td>B00021XGB2</td>\n      <td>[]</td>\n      <td>[]</td>\n    </tr>\n  </tbody>\n</table>\n</div>"
     },
     "execution_count": 56,
     "metadata": {},
     "output_type": "execute_result"
    }
   ],
   "source": [
    "# similar_item\n",
    "metadata[metadata['similar_item'].str.len() > 0].head()"
   ],
   "metadata": {
    "collapsed": false,
    "pycharm": {
     "name": "#%%\n"
    }
   }
  },
  {
   "cell_type": "code",
   "execution_count": 57,
   "outputs": [
    {
     "data": {
      "text/plain": "                                           also_view  \\\n0                                                 []   \n1                                                 []   \n2               [B01B8BR0O8, B01B8BR0NO, B014MHXXM8]   \n3                                                 []   \n4  [3254895630, B007VL1D9S, B00EH9A0RI, B0773MBG4...   \n\n                                             details  \n0                           {'ASIN: ': '6546546450'}  \n1  {'Shipping Weight:': '0.3 ounces (', 'ASIN: ':...  \n2  {'Shipping Weight:': '3.5 ounces (', 'ASIN: ':...  \n3  {'\n    Item Weight: \n    ': '1.76 ounces', 'Sh...  \n4  {'Shipping Weight:': '12 ounces (', 'ASIN: ': ...  ",
      "text/html": "<div>\n<style scoped>\n    .dataframe tbody tr th:only-of-type {\n        vertical-align: middle;\n    }\n\n    .dataframe tbody tr th {\n        vertical-align: top;\n    }\n\n    .dataframe thead th {\n        text-align: right;\n    }\n</style>\n<table border=\"1\" class=\"dataframe\">\n  <thead>\n    <tr style=\"text-align: right;\">\n      <th></th>\n      <th>also_view</th>\n      <th>details</th>\n    </tr>\n  </thead>\n  <tbody>\n    <tr>\n      <th>0</th>\n      <td>[]</td>\n      <td>{'ASIN: ': '6546546450'}</td>\n    </tr>\n    <tr>\n      <th>1</th>\n      <td>[]</td>\n      <td>{'Shipping Weight:': '0.3 ounces (', 'ASIN: ':...</td>\n    </tr>\n    <tr>\n      <th>2</th>\n      <td>[B01B8BR0O8, B01B8BR0NO, B014MHXXM8]</td>\n      <td>{'Shipping Weight:': '3.5 ounces (', 'ASIN: ':...</td>\n    </tr>\n    <tr>\n      <th>3</th>\n      <td>[]</td>\n      <td>{'\n    Item Weight: \n    ': '1.76 ounces', 'Sh...</td>\n    </tr>\n    <tr>\n      <th>4</th>\n      <td>[3254895630, B007VL1D9S, B00EH9A0RI, B0773MBG4...</td>\n      <td>{'Shipping Weight:': '12 ounces (', 'ASIN: ': ...</td>\n    </tr>\n  </tbody>\n</table>\n</div>"
     },
     "execution_count": 57,
     "metadata": {},
     "output_type": "execute_result"
    }
   ],
   "source": [
    "# also_view\n",
    "metadata[['also_view', 'details']].head()"
   ],
   "metadata": {
    "collapsed": false,
    "pycharm": {
     "name": "#%%\n"
    }
   }
  },
  {
   "cell_type": "markdown",
   "source": [
    "# 內容過濾的推薦算法\n",
    "## 1. Item representation\n",
    "計算商品用 **「標題」** 所表示的 tfidf 矩陣"
   ],
   "metadata": {
    "collapsed": false,
    "pycharm": {
     "name": "#%% md\n"
    }
   }
  },
  {
   "cell_type": "code",
   "execution_count": 64,
   "outputs": [
    {
     "data": {
      "text/plain": "<32300x29623 sparse matrix of type '<class 'numpy.float64'>'\n\twith 352299 stored elements in Compressed Sparse Row format>"
     },
     "execution_count": 64,
     "metadata": {},
     "output_type": "execute_result"
    }
   ],
   "source": [
    "df = metadata.drop_duplicates('title')\n",
    "tf = TfidfVectorizer(analyzer='word')\n",
    "tfidf_matrix = tf.fit_transform(df['title'])"
   ],
   "metadata": {
    "collapsed": false,
    "pycharm": {
     "name": "#%%\n"
    }
   }
  },
  {
   "cell_type": "code",
   "execution_count": 80,
   "outputs": [
    {
     "data": {
      "text/plain": "array([[0., 0., 0., ..., 0., 0., 0.],\n       [0., 0., 0., ..., 0., 0., 0.],\n       [0., 0., 0., ..., 0., 0., 0.],\n       ...,\n       [0., 0., 0., ..., 0., 0., 0.],\n       [0., 0., 0., ..., 0., 0., 0.],\n       [0., 0., 0., ..., 0., 0., 0.]])"
     },
     "execution_count": 80,
     "metadata": {},
     "output_type": "execute_result"
    }
   ],
   "source": [
    "tfidf_matrix.toarray()"
   ],
   "metadata": {
    "collapsed": false,
    "pycharm": {
     "name": "#%%\n"
    }
   }
  },
  {
   "cell_type": "code",
   "execution_count": 81,
   "outputs": [
    {
     "data": {
      "text/plain": "array(['00', '000', '0000', ..., 'zyliss', 'zytaze', 'zzzrt'],\n      dtype=object)"
     },
     "execution_count": 81,
     "metadata": {},
     "output_type": "execute_result"
    }
   ],
   "source": [
    "tf.get_feature_names_out()"
   ],
   "metadata": {
    "collapsed": false,
    "pycharm": {
     "name": "#%%\n"
    }
   }
  },
  {
   "cell_type": "markdown",
   "source": [
    "## 2. Profiling Learning\n",
    "如何計算使用者的購買/偏好行為\n",
    "### 2-1 我們計算商品間的相似程度\n",
    "其實就是計算任兩筆商品之間的 cosine_similarity："
   ],
   "metadata": {
    "collapsed": false,
    "pycharm": {
     "name": "#%% md\n"
    }
   }
  },
  {
   "cell_type": "code",
   "source": [
    "similarity_matrix = cosine_similarity(tfidf_matrix)"
   ],
   "metadata": {
    "collapsed": false,
    "pycharm": {
     "name": "#%%\n"
    }
   },
   "execution_count": 83,
   "outputs": []
  },
  {
   "cell_type": "code",
   "execution_count": 84,
   "outputs": [
    {
     "data": {
      "text/plain": "array([[1.        , 0.        , 0.        , ..., 0.        , 0.        ,\n        0.        ],\n       [0.        , 1.        , 0.29881616, ..., 0.        , 0.        ,\n        0.        ],\n       [0.        , 0.29881616, 1.        , ..., 0.        , 0.        ,\n        0.        ],\n       ...,\n       [0.        , 0.        , 0.        , ..., 1.        , 0.        ,\n        0.        ],\n       [0.        , 0.        , 0.        , ..., 0.        , 1.        ,\n        0.        ],\n       [0.        , 0.        , 0.        , ..., 0.        , 0.        ,\n        1.        ]])"
     },
     "execution_count": 84,
     "metadata": {},
     "output_type": "execute_result"
    }
   ],
   "source": [
    "similarity_matrix"
   ],
   "metadata": {
    "collapsed": false,
    "pycharm": {
     "name": "#%%\n"
    }
   }
  },
  {
   "cell_type": "markdown",
   "source": [
    "### 2-2 我們計算商品間的相似程度\n",
    "找出每個商品回傳 k 個最相近的商品，利用剛剛的 similarity_matrix 對每個商品各自排序即可。"
   ],
   "metadata": {
    "collapsed": false,
    "pycharm": {
     "name": "#%% md\n"
    }
   }
  },
  {
   "cell_type": "code",
   "execution_count": 87,
   "outputs": [
    {
     "data": {
      "text/plain": "title\nLoud 'N Clear&trade; Personal Sound Amplifier                                                                                                                      0\nNo7 Lift &amp; Luminate Triple Action Serum 50ml by Boots                                                                                                          1\nNo7 Stay Perfect Foundation Cool Vanilla by No7                                                                                                                    2\nWella Koleston Perfect Hair Colour 44/44 Medium Intense Red Brown 60ml                                                                                             3\nLacto Calamine Skin Balance Oil control 120 ml. (Pack of 2)                                                                                                        4\n                                                                                                                                                               ...  \nBarielle Pro Textured Grip Cuticle Nipper, Purple                                                                                                              32887\n(Buy 3 Get 1 Free) Salon Perfect Eye Makeup Corrector Sticks Oil Free, Fragrance Free 100% Cotton Swabs Contains 50 Pre-Moistened Swabs Made in U.S.A          32888\nNOW D-Mannose 500 mg - 120 Veg Capsules (Pack of 3)                                                                                                            32889\n12 White Feather Shuttlecocks Birdies Badminton Training Match                                                                                                 32890\nFESHFEN Scrunchy Scrunchies Synthetic Hair Bun Updo Hair Pieces Ponytail Hair Extensions Wavy Curly Messy Hair Bun Extensions Donut Hair Chignons Piece Wig    32891\nLength: 32300, dtype: int64"
     },
     "execution_count": 87,
     "metadata": {},
     "output_type": "execute_result"
    }
   ],
   "source": [
    "# title -> 商品index 流水號\n",
    "mapping = pd.Series(df.index, index = df['title'])\n",
    "mapping"
   ],
   "metadata": {
    "collapsed": false,
    "pycharm": {
     "name": "#%%\n"
    }
   }
  },
  {
   "cell_type": "code",
   "execution_count": 109,
   "outputs": [],
   "source": [
    "def recommend_item(item_input, k=2):\n",
    "    \"\"\"\n",
    "    :param item_input: string, 商品名\n",
    "    :param k: 取出相似個數\n",
    "    :return: 回傳 list\n",
    "    \"\"\"\n",
    "    try:\n",
    "        item_index = mapping[item_input]\n",
    "        similarity_score = list(enumerate(similarity_matrix[item_index]))\n",
    "        similarity_score = sorted(similarity_score, key=lambda x: x[1], reverse=True)\n",
    "        similarity_score = similarity_score[:k]\n",
    "        item_indices = [i[0] for i in similarity_score]\n",
    "        return (df['asin'].iloc[item_indices].tolist())\n",
    "    except:\n",
    "        return []\n"
   ],
   "metadata": {
    "collapsed": false,
    "pycharm": {
     "name": "#%%\n"
    }
   }
  },
  {
   "cell_type": "markdown",
   "source": [
    "## 3. Recommendation Generation\n",
    "這裡的想法是根據每一個使用者所購買的商品，分別把跟這些商品相似的商品加總起來就是最終的推薦。\n",
    "在這裡的「加總」就是全部考慮，實務上的加總可能會採用 KNN 的方法在進行排序。"
   ],
   "metadata": {
    "collapsed": false,
    "pycharm": {
     "name": "#%% md\n"
    }
   }
  },
  {
   "cell_type": "code",
   "execution_count": 110,
   "outputs": [],
   "source": [
    "def recommend_items(items, k):\n",
    "    \"\"\"\n",
    "    :param items: item title list\n",
    "    :param k:\n",
    "    :return:\n",
    "    \"\"\"\n",
    "    res = []\n",
    "    for d in items:\n",
    "        res.extend(recommend_item(d, k))\n",
    "    return res"
   ],
   "metadata": {
    "collapsed": false,
    "pycharm": {
     "name": "#%%\n"
    }
   }
  },
  {
   "cell_type": "markdown",
   "source": [
    "## 開始推薦"
   ],
   "metadata": {
    "collapsed": false,
    "pycharm": {
     "name": "#%% md\n"
    }
   }
  },
  {
   "cell_type": "code",
   "execution_count": 112,
   "outputs": [
    {
     "data": {
      "text/plain": "{'A100XQFWKQ30O2': [],\n 'A103T1QOGFCSEH': [],\n 'A106UKKSJ2KXPF': [],\n 'A10A7GV4D5A11V': [],\n 'A1119JJ37ZLB8R': [],\n 'A113UOOLBSZN52': [],\n 'A12M4U7WK4ALCR': [],\n 'A12T8YTW6VWT7S': [],\n 'A1364JXGKB46MM': [],\n 'A137DALOQFKBTI': [],\n 'A13FEZ3WV7S2EY': [],\n 'A13IV4I1B0RXMG': [],\n 'A13JU88JAHN72I': ['B00AU92V44',\n  'B014HILES2',\n  'B01DPZJ6JM',\n  'B01A6O5KUY',\n  'B01CL3IXJI',\n  'B008XNX92C',\n  'B018OLOHVY',\n  'B018OSUOC8',\n  'B000QPXD26',\n  'B00DG8Q9KS'],\n 'A13K55R6VH1OOD': [],\n 'A13P7VFU075A': [],\n 'A13SWYE4QLB6NG': [],\n 'A13ZTQ0Q4ATA41': [],\n 'A142EDN04OD62U': [],\n 'A142I22FIC8MZK': [],\n 'A14834QTII5TLT': [],\n 'A14A447VPACTBC': [],\n 'A14AP6MN5XO6LB': [],\n 'A14CLF25IX25US': [],\n 'A14LYXC3HTBAHI': [],\n 'A14VUW4KZ34EOE': [],\n 'A14Y32P26G9YL': [],\n 'A157T25PBS7MX4': [],\n 'A15HZDSERD85C8': [],\n 'A15JJ8J1FGADIX': [],\n 'A15ZCL70JXXH89': [],\n 'A1617KN2IAWZ6J': [],\n 'A16E0O88262HKA': [],\n 'A16NSZ58PTVIYF': [],\n 'A16UGDXRTDLJG5': [],\n 'A16X9HR3UFQQXY': [],\n 'A16Y7V1CZCWKFV': ['B016Y5KOAA',\n  'B016Y4UXDY',\n  'B01BPI1EDW',\n  'B00DEM0QVE',\n  'B01FI99MAG',\n  'B00GS7HHJG',\n  'B0084FILB8',\n  'B000GX1N52',\n  'B000FQMYKI',\n  'B018W9DC2S'],\n 'A174YOBOSW9WDN': [],\n 'A1786SKRAJXH86': [],\n 'A17K2BUZ20WD2': [],\n 'A17LYRFV645L0V': [],\n 'A18LNGVXDZBTUR': [],\n 'A19503XX7GU6J2': ['B01AUP9NRK',\n  'B01CDEHN1E',\n  'B01CYS1KAE',\n  'B00VQHFBBE',\n  'B00I9267YO',\n  'B01AUP9LMW',\n  'B01AUP9ODI',\n  'B013R5Q79M',\n  'B01GP5OTMS',\n  'B00XAL7R4S',\n  'B01AUWL3HQ',\n  'B010L7IEN6',\n  'B010L7K17S',\n  'B01D0Z5T3O',\n  'B01FJPZWSU',\n  'B013WR0B6U',\n  'B00K08QKRE',\n  'B00K08R11I',\n  'B01FTG8WBS',\n  'B00K08R9GK'],\n 'A19HVHRZDYFEOP': [],\n 'A19JM38B861BO4': [],\n 'A19KGY3W1P0MHT': [],\n 'A19KJPOF3QOJ24': [],\n 'A19U5RT4Q8Q1T6': [],\n 'A1AQNQUNX8B6JT': [],\n 'A1ARU0IN6RUFFD': [],\n 'A1BB4635KSKDMV': [],\n 'A1BCC7X6KRTBG0': [],\n 'A1BPJ56BXENC7': [],\n 'A1C0RI6W65FC8B': [],\n 'A1C60LJGZVEK27': [],\n 'A1CB2SMS3TD44Z': [],\n 'A1CNSU8P68CPLT': [],\n 'A1CSDWBYUJBCJZ': [],\n 'A1CTNNVIYHO25P': [],\n 'A1CTQF97HFYOZB': [],\n 'A1D5C2H9UFZHPU': [],\n 'A1D5UVH72Z6NJ1': [],\n 'A1DAUVZRVSLLNW': [],\n 'A1DCZ9882PXLVB': [],\n 'A1DZ63D35BNT86': [],\n 'A1E0QCKB4R2X8X': [],\n 'A1E76OZZ5YUWVA': [],\n 'A1EBHZPAYMILW9': [],\n 'A1EJVNGBY5GM5I': [],\n 'A1ER0356V2DSKW': [],\n 'A1EY751AUVO5NZ': ['B01FJR7F0Q',\n  'B0172I9J2C',\n  'B00UIVDIU0',\n  'B00MSKXOJE',\n  'B01CC0HKIK',\n  'B00L10UKLW',\n  'B01FRFHLP4',\n  'B00MNAKERY',\n  'B00MSKWRWY',\n  'B004M9ML2K'],\n 'A1EZFX1TRHSAJX': [],\n 'A1F08GM4B97FV': [],\n 'A1F6EFMBK795DJ': [],\n 'A1FC8Y896NZP4T': [],\n 'A1FKIAKVOBNN7Y': [],\n 'A1FKUBRPLG6Y8I': [],\n 'A1G2HL4W8B3TA0': [],\n 'A1G8Z9IKJ0BD1M': [],\n 'A1GEJ55RJGD7JW': [],\n 'A1GIYGD23YIDTN': [],\n 'A1GLG2IZBZHRAJ': [],\n 'A1H1T82FPO20DN': [],\n 'A1H7JDZ9BKTKGC': [],\n 'A1HBROZPSV5KT6': [],\n 'A1HBXMUIHTAIU2': [],\n 'A1I32A4SA9W2L2': [],\n 'A1IDJ6KR8CQV9I': [],\n 'A1II0TTUUE2C7Y': [],\n 'A1ILEZFIVOU0EP': [],\n 'A1ITJ5M7I9G7FR': [],\n 'A1IWTXM1SJWHDN': [],\n 'A1J2NTTE63GNG2': [],\n 'A1JRREJ5D62LFF': [],\n 'A1KGMTEXL70WF6': [],\n 'A1KWUQZJ1Z6MN2': [],\n 'A1LXJ8XCGNBXOF': [],\n 'A1M8YMS915ZK0B': [],\n 'A1NDRR3G9SJF18': [],\n 'A1NE6K8PXW780O': [],\n 'A1NEG0FRW5FDBL': [],\n 'A1NN82RWB6PXJW': [],\n 'A1NY67EVWD6CD6': [],\n 'A1OB41VQHXZ0R8': [],\n 'A1OJ2IXX8F7Q7X': [],\n 'A1OTIUDE7LWAGT': [],\n 'A1P1OHYJOOZX5P': [],\n 'A1PFDA9SL15S4O': [],\n 'A1PKBKALGLSX0Z': [],\n 'A1PMLXHE863GR6': [],\n 'A1PR178735XC70': ['B00OGZ3BLA',\n  'B00OGZ39I0',\n  'B00OGZ396W',\n  'B00OGZ39BM',\n  'B00OGZ39C6',\n  'B00OGZ3B92',\n  'B00PG7QKZQ',\n  'B00LY8WG9K',\n  'B00LY8WGD6',\n  'B00LY8WG5E'],\n 'A1PXO67EUM5HJQ': [],\n 'A1QHS58JVFLF3I': [],\n 'A1QPKRHCAOQVZ5': [],\n 'A1R2TTULP0Z2BM': [],\n 'A1R8GBYBJWWWU0': [],\n 'A1RAXJN2Q4V20X': [],\n 'A1RCMCAJR2LJA4': [],\n 'A1RE2XA5HQD1D3': [],\n 'A1RMLPJ1PF8LGV': [],\n 'A1RX2ODQRQZVSI': [],\n 'A1S3NMNTSO6GW': [],\n 'A1S6OQV823B53J': [],\n 'A1SA3N793WT2LM': ['B005T7KBP8',\n  'B016ITI4IQ',\n  'B00IAA4JMM',\n  'B00UNHMXN2',\n  'B000W3UJFG',\n  'B01CE0HBF0',\n  'B00XAFHCGM',\n  'B008L2UR66',\n  'B00IAAEHII',\n  'B00BSE0DHM',\n  'B0085WMZ4Y',\n  'B00NNLGYXA',\n  'B01DYHYIZ8',\n  'B006K43HD2',\n  'B000IS25WA',\n  'B00NE5Q9JO',\n  'B01216JLSC',\n  'B00VYOVOZ6',\n  'B0109SKYIU',\n  'B016DV1AN0',\n  'B008NC6ZHY',\n  'B00FXSD6QE',\n  'B001KYU582',\n  'B00HX098Z8',\n  'B00JB2H79A',\n  'B01FEBSB5U',\n  'B008MF9ABA',\n  'B000NN7G2E',\n  'B000158MK4',\n  'B0074E0TXI',\n  'B0145NZKG6',\n  'B00C8HC1HI',\n  'B00APRK4FY',\n  'B0084I3XGI',\n  'B008S1WYIO',\n  'B008VWGQG6',\n  'B00EHJ91JG',\n  'B00AL0QAI0',\n  'B008S1XBAE',\n  'B01430HY7E'],\n 'A1SA932MLERVQY': [],\n 'A1SCZBXGPJ2615': [],\n 'A1SMXRCNRO4ZQM': [],\n 'A1T1N2585E1T0D': [],\n 'A1TEKLMF4V1X2C': [],\n 'A1TF44D9KYAD60': [],\n 'A1TGP1VTM3KCTI': [],\n 'A1TK5M6EM3GS3C': [],\n 'A1TO3GV14TGF2R': [],\n 'A1TP9JHTIY468V': ['B01DEDYWD0',\n  'B0097JDK84',\n  'B01BLT9YBY',\n  'B01CYS1KAE',\n  'B00SI58CO0',\n  'B010L93H2C',\n  'B012LNESGU',\n  'B015YJN0IA',\n  'B012LLO5OM',\n  'B013C9CNYG',\n  'B01EZ42S6K',\n  'B00KC5CZ9C',\n  'B00MI4DQU2',\n  'B0050YPKB0',\n  'B00EQ8PMUA',\n  'B00MI4EUP2',\n  'B01690CEE4',\n  'B00IZLCPO0',\n  'B00EQEOV4W',\n  'B01CINCH20'],\n 'A1UAOE8KO7Q1DZ': ['B007MJKAGG',\n  'B009WI44JE',\n  'B00GEH5ID2',\n  'B00GEH6A3E',\n  'B00TBXV1AA',\n  'B00TBXV4JI',\n  'B001G8RW5Q',\n  'B00MNAKERY',\n  'B007MJK9RG',\n  'B007MJKCT6'],\n 'A1UDCDY6ZNE83T': [],\n 'A1UUNKRU1DTZTL': [],\n 'A1V0UJQ4XGAJ3H': [],\n 'A1VBZLO2JGYU1B': [],\n 'A1VC6YCAFKV6Q': [],\n 'A1VVEX78B2TYBX': [],\n 'A1VVQ2DFL0QLXF': [],\n 'A1VYWSQ2OXLH98': [],\n 'A1WEFBEJ7OHSVZ': ['B003M5PZL4',\n  'B00U0Z0EQA',\n  'B00FE91TI4',\n  'B00B8A9IW2',\n  'B019KDZHQ4',\n  'B016OIJL4W',\n  'B00KQR61E6',\n  'B00T3GUV2O',\n  'B00JU7FM20',\n  'B004C1U0PI'],\n 'A1WOX40GUAFDKW': [],\n 'A1WSZED2O5MA5T': ['B000HGWA6E',\n  'B000JK2L2Q',\n  'B0002DLRYI',\n  'B000IZAJEO',\n  'B00VY8VSM6',\n  'B000JK2JMS',\n  'B018OLOHVY',\n  'B000BTAP9Q',\n  'B018OSUOC8',\n  'B00G3C2FI4'],\n 'A1XBJBT6HORBLA': [],\n 'A1XHN6JF8A8W69': [],\n 'A1XWCTARAQ0679': [],\n 'A1XZJ85PKMAZP0': [],\n 'A1YALF6PWOMS6S': [],\n 'A1YEO5KEW7M2GF': [],\n 'A1YQ33635DJEG5': [],\n 'A1YSAFP6T3JZ1C': [],\n 'A1YTPCNXQ2LJ5Z': [],\n 'A1YVXZK51DEDPC': [],\n 'A1Z3GE09RDY6O7': [],\n 'A1Z6IPI0G3QIUR': [],\n 'A1ZVXL7K0XY3S6': [],\n 'A1ZXYITUZM3Q6A': [],\n 'A202BVEB76NTMK': [],\n 'A205S0BTPEFI0I': [],\n 'A20MSUD02BETH2': [],\n 'A20P2XESU3G3EC': [],\n 'A20QY357E6SAF': [],\n 'A20SJ2793OUCPW': [],\n 'A20T7NNNUHH60H': [],\n 'A21JL9NVA7KEMC': [],\n 'A21M4N08F3EU5J': [],\n 'A21NUBJVBS230S': [],\n 'A21OELUKDF2E57': [],\n 'A21XQP90LEND9R': [],\n 'A21YO11OY4KATO': [],\n 'A220EHDBIGBL30': [],\n 'A224YJVNU30DVM': [],\n 'A22A1B25VBD0YO': [],\n 'A22EWIMT2GUTTL': [],\n 'A22EZJLTPINCFS': [],\n 'A22QJRB86RF6O1': [],\n 'A2320AUCHA95U2': [],\n 'A232IJ75I4KP9C': [],\n 'A23GTKDW92ZPP2': [],\n 'A23O1B8IVSYKMO': [],\n 'A23VR3KT0TPG83': [],\n 'A24HCM5QV0ZTJ5': [],\n 'A24ZE4O3OQMSP0': [],\n 'A255E6ZWUBMEJJ': [],\n 'A258D00BRNHJ77': [],\n 'A25TLD8KIU807H': [],\n 'A26434CRUTADT5': [],\n 'A26AT96096UOEZ': [],\n 'A26RKZDM4DK8OQ': [],\n 'A274IW68565M0U': [],\n 'A286OWYO1BDT52': [],\n 'A288UAQLON8FK2': [],\n 'A28E3FNV1BYC94': ['B00V6FGP98',\n  'B001O82DAW',\n  'B018RFIR4A',\n  'B018IX59K6',\n  'B01GR1O9ZC',\n  'B01A1N2AJO',\n  'B001GIKIAW',\n  'B00BD0M6PI',\n  'B018IVWOR4',\n  'B012H3UVII'],\n 'A28GO11F387SOX': [],\n 'A28H0PFALTML0I': [],\n 'A28OZKV4ZYZX42': [],\n 'A28P7FF1TVPG1K': [],\n 'A28Q7C1FAIZGLV': [],\n 'A29834GBB4DOP1': ['B01D8DY20O',\n  'B005NJUD9G',\n  'B00VEYJQNS',\n  'B0164D2SME',\n  'B01CJNZKZK',\n  'B00S14K494',\n  'B01CM7HQAA',\n  'B016V4GUUW',\n  'B015JE0T2A',\n  'B01AMG2GAI'],\n 'A29HQ60YC1RG1P': [],\n 'A29MENRU87PET0': [],\n 'A29PZKXDCQFTYW': [],\n 'A29SD3TFGX6Q34': [],\n 'A2A0MIOWIW2SB8': [],\n 'A2A8ECI6ABJBMA': [],\n 'A2AAQWBJJTK3E1': ['B00O3MQ8XE',\n  'B01C957SJE',\n  'B010KQX3N4',\n  'B010MGAUMO',\n  'B00SNIQPGY',\n  'B01A7ZRHTY',\n  'B00ZD236H4',\n  'B010MIFIWY',\n  'B019HXGDYM',\n  'B01BXZPDWA'],\n 'A2AE0E0H463YL6': [],\n 'A2APG6OZXU4QIZ': [],\n 'A2BDB427ROEP7H': [],\n 'A2BHJO8WOGMW6E': [],\n 'A2BOSA30FCF6G8': [],\n 'A2BU6N5956T9NH': ['B00XDAM66U',\n  'B0069G3J0W',\n  'B00DWKWE22',\n  'B00KGGYNME',\n  'B002NSB920',\n  'B00UMOFM8E',\n  'B01GQDZWES',\n  'B007L88SPI',\n  'B00KBEQLBC',\n  'B00QF1L8CC'],\n 'A2BUZ308P92OYA': [],\n 'A2C1F859F9V1SL': [],\n 'A2C8YINPNRQOAU': [],\n 'A2CDQOF7WHUYKJ': [],\n 'A2CEEE0IK3LKN1': [],\n 'A2CZVE6ORV87C5': [],\n 'A2DD6RH1AF0PLI': [],\n 'A2DFOCWUKJX3PT': [],\n 'A2E8WG5GRZGMXU': [],\n 'A2ESQAPIGR2TJF': [],\n 'A2EUQ4ESAB2N6A': [],\n 'A2EZXF5YGYTOWN': [],\n 'A2F0VQQLSF558D': [],\n 'A2F3QV40SONN60': [],\n 'A2F95NSPD4XEEU': [],\n 'A2FA2J1JT12N7J': [],\n 'A2FFUJ5D4CMJ4L': [],\n 'A2FLLYV6Z8UQ26': [],\n 'A2G1XJ25DR7PVF': [],\n 'A2G5KJ0CZE65ZD': [],\n 'A2GFPTQ4VWDX96': ['B013V74O28',\n  'B0015A08VA',\n  'B005F7PJJK',\n  'B000RMDWN8',\n  'B00VG1AV5Q',\n  'B01BEQ15T8',\n  'B00O4DU9R8',\n  'B01H81PEY0',\n  'B018CNYAFM',\n  'B00PJ9SDB0'],\n 'A2GJLNRQTVUNOF': [],\n 'A2GOFJ3OZZUZ3H': [],\n 'A2GV0FE30O6M67': [],\n 'A2H3W11661MWDA': [],\n 'A2H7FD5GQMJXAQ': [],\n 'A2H7VSYLKGKLLJ': [],\n 'A2HFAX39PMLIGH': [],\n 'A2I4O72AAE1T1T': [],\n 'A2I868XUY96VWA': [],\n 'A2IK039KMC8UP1': [],\n 'A2IMJV0CQMZLGC': ['B019Z9K17S',\n  'B019Z9LD98',\n  'B019Z9LD52',\n  'B019Z9KN76',\n  'B019Z9K6V4',\n  'B019Z9K4QG',\n  'B019Z9LAPK',\n  'B019Z9L30W',\n  'B019Z9L4KG',\n  'B019Z9KL00'],\n 'A2INWR0T7A7UN5': [],\n 'A2IOBG1ERS4JP3': ['B00K251VIS',\n  'B00K250V7K',\n  'B00JU041WE',\n  'B00JU0221Q',\n  'B00JU1VUOU',\n  'B00K24XOX4',\n  'B019169I1U',\n  'B00JPH5XP6',\n  'B00M3FOFS8',\n  'B01DYQFGUU'],\n 'A2IRPQ7DXQ9YIN': [],\n 'A2J4WOR87ELFBH': [],\n 'A2JCBLTLYDPQLW': ['B00NZ24BQ4',\n  'B00NZ24ZEC',\n  'B00X9W5DD0',\n  'B00NXT8S6I',\n  'B00NXT8Y80',\n  'B00VUIDVB6',\n  'B00NZ24JUW',\n  'B00LBPG8RW',\n  'B00ME2DGYO',\n  'B00NXT8Q0G'],\n 'A2JEH2NKM1Z8CQ': [],\n 'A2JXZSR7R85KX4': [],\n 'A2K7XZCFYGZH0O': [],\n 'A2KO4HGLWB57LI': [],\n 'A2KVN4XKFJH0I8': [],\n 'A2LM47GK1W7RRR': [],\n 'A2LSOMD2X9KCCH': [],\n 'A2LYTBRWFQJMKM': [],\n 'A2M4YSOJZELJ6N': [],\n 'A2MAZK8XSIDXPF': [],\n 'A2MDIPJ7MS0MUJ': [],\n 'A2MGO3WV3SX7X': [],\n 'A2MLV3I5MMJ2RA': [],\n 'A2MPSHMC0U29AV': [],\n 'A2NI47L1B1RXSG': [],\n 'A2NJQZBE8TSUYO': [],\n 'A2NWTETCSLOEQN': [],\n 'A2O4DMC8M5JFHG': [],\n 'A2O823CIB99X95': [],\n 'A2OT3011J8E1ZP': [],\n 'A2OXIHJW4K9NKE': [],\n 'A2P6L9MQK99U36': [],\n 'A2PB6LYMRA7Z9V': [],\n 'A2PEJEOUE9MNA6': [],\n 'A2PIBK3EOG5TBK': [],\n 'A2PY1DBGV9FQA2': [],\n 'A2Q5UOQ4L1BOB9': [],\n 'A2QE1WIYFY0HAP': [],\n 'A2QP73U21FHJZI': [],\n 'A2QV1YJODH28QP': [],\n 'A2RAISC8UEEBK9': [],\n 'A2RDNAR2R66DKD': [],\n 'A2RXAD7UZ4VFT6': [],\n 'A2S47NK970GKD9': [],\n 'A2SMFKDH22FMA3': [],\n 'A2SOH4QHL5DZ6D': [],\n 'A2SQIQZUBEAJR3': [],\n 'A2SWEHEK2BMPM8': [],\n 'A2SYZ28NVJZ4R1': [],\n 'A2T0AMZZLASKKV': [],\n 'A2TCLY6N04N9D7': [],\n 'A2TW5FC72PI7SE': [],\n 'A2UAC8RKSPUIKH': [],\n 'A2UX00W1OX5A80': [],\n 'A2V88AD0XHE2IE': [],\n 'A2VC9R3XCFOEP1': [],\n 'A2VLCD1OWKXBW0': [],\n 'A2VTFDQ1DZN7UI': [],\n 'A2WHTNQ939BS71': [],\n 'A2WQGKM49J8UYT': [],\n 'A2WX2YLLHJDLX7': [],\n 'A2X4BZH61VJH5M': [],\n 'A2XEM0Y2PBNYK3': [],\n 'A2XFJ8CTY7VDNN': ['B007CFGMGC',\n  'B00K0D8VZ8',\n  'B01F1CO3UY',\n  'B000HZTZZO',\n  'B013Y9FY6I',\n  'B00BTYNO9A',\n  'B00BTYNQ7K',\n  'B00MNM7EZW',\n  'B00NF1KPHY',\n  'B0171AMK9U'],\n 'A2XTIQTNDTY6IA': [],\n 'A2XVM7UW32TYJ4': [],\n 'A2XY3CJ3ZCAD03': ['B00015XAQA',\n  'B00WQAMASC',\n  'B00X918PRC',\n  'B004E4GHRS',\n  'B001S0ILU2',\n  'B019RBAZRA',\n  'B000070IX3',\n  'B01F22HT1S',\n  'B01EAG8312',\n  'B00016R1D2',\n  'B00015XAQA',\n  'B00WQAMASC',\n  'B00X918PRC',\n  'B004E4GHRS',\n  'B001S0ILU2',\n  'B019RBAZRA',\n  'B000070IX3',\n  'B01F22HT1S',\n  'B01EAG8312',\n  'B00016R1D2'],\n 'A2XYR0XUSOOBKN': [],\n 'A2Y1J1AKXDLR1': [],\n 'A2Y88AU2Y58W78': [],\n 'A2Z6RKQQUX4RJA': [],\n 'A2ZBZF2MUG5BMT': [],\n 'A2ZFTLMOAS9YS9': [],\n 'A2ZIIOGLNJDGAW': [],\n 'A2ZKSKEG5ADC67': [],\n 'A2ZZKY1V6M940H': [],\n 'A31LANQ03TDCXY': [],\n 'A323D529OO2E1G': [],\n 'A3254BNN69CL47': [],\n 'A327I3S4ZCZYBV': [],\n 'A32D5I46E15TEC': [],\n 'A32H6TQKJ1PQTP': [],\n 'A32KYN14BUANDF': [],\n 'A32OQFYMJ18HD6': [],\n 'A333LLJ35S8DVV': [],\n 'A33M6H443E78K3': [],\n 'A33S6R9E8SJQBP': [],\n 'A34DAQYDWYMVSG': [],\n 'A35F9VHYWAFR8J': [],\n 'A35F9XOEGELEWC': [],\n 'A35PB7968I55RI': [],\n 'A35RIL0AVMMXXL': [],\n 'A35Y5NLC3UEUQD': [],\n 'A367NSWV6NUSL1': [],\n 'A36I89SEZ432XE': [],\n 'A375WSDCO30KT9': [],\n 'A37G41T4DD51AH': [],\n 'A37M369VIVDDVJ': [],\n 'A37OPVPXMWHJJK': [],\n 'A37WMXX147RL1X': [],\n 'A37XPPIGUTR4LE': [],\n 'A388NSX468EY1E': [],\n 'A38GODWWMRN5IP': [],\n 'A38J6ZI0XZOY54': [],\n 'A38KP6TI3BUIM6': [],\n 'A38KUK8INKLRVW': [],\n 'A38OH5OTHDIENK': [],\n 'A38QGF4YG5YLUX': [],\n 'A3909LKTROS8XZ': [],\n 'A3961EO6PXRSV4': [],\n 'A39LZUDABR584J': [],\n 'A39PTGNQVCNU44': [],\n 'A39VI1UOID3TYE': [],\n 'A39YNT3CHM2I0Z': [],\n 'A3A3FMJO4E1E16': [],\n 'A3B99K4E030SZQ': [],\n 'A3BE6JK97CYAGA': ['B00005JS5C',\n  'B01GX1DMMC',\n  'B00WU0ZYYA',\n  'B01DYGDWVK',\n  'B018LYSVYS',\n  'B00QUBLCX2',\n  'B00XWMBR1O',\n  'B00E57NI4E',\n  'B00E57NI3A',\n  'B00RCD74HA',\n  'B00005JS5C',\n  'B01GX1DMMC',\n  'B00WU0ZYYA',\n  'B01DYGDWVK',\n  'B018LYSVYS',\n  'B00QUBLCX2',\n  'B00XWMBR1O',\n  'B00E57NI4E',\n  'B00E57NI3A',\n  'B00RCD74HA'],\n 'A3BLE5G96342IP': [],\n 'A3BNG9PTUPB4QO': [],\n 'A3BPFL7PM0EX1K': [],\n 'A3BT1WLPENXMD6': ['B001B87SJG',\n  'B001B87SJ6',\n  'B001B87SKU',\n  'B001B867JI',\n  'B001B844JS',\n  'B001LYBSK0',\n  'B001B87S1O',\n  'B00282ZSQY',\n  'B00282Y26G',\n  'B001C7E9C0',\n  'B019ZZ10M2',\n  'B01319FBBY',\n  'B000N3EGJA',\n  'B01DUWYQZ4',\n  'B01AVG47AQ',\n  'B01319OLXS',\n  'B01319FL8M',\n  'B00I9JD2M2',\n  'B00MTZ4DKM',\n  'B00IAA7U8W'],\n 'A3BU92XQ2M0FQV': [],\n 'A3BWTFXS9CXVAE': [],\n 'A3BXCNI6BG5GCW': [],\n 'A3C2F0Y7G5FRW3': [],\n 'A3CBKKG14IB1KH': [],\n 'A3CQ0NMUJ9TODP': [],\n 'A3CUAESGA4K7FU': [],\n 'A3CXM8XQ5Q1KPP': [],\n 'A3D0FFKCWXN2LR': [],\n 'A3D1IGUMS62SNU': [],\n 'A3D1VPTQGDS7H3': [],\n 'A3D4BNTGWVUMYY': [],\n 'A3DKARAF791Z5X': [],\n 'A3DTSBINBC9T1Y': [],\n 'A3DXQ86N43AUK3': [],\n 'A3DXW3542E4QUC': ['B00149XKOY',\n  'B00S4RUGI2',\n  'B000P4A376',\n  'B00S4RT3GI',\n  'B00NZD6UGM',\n  'B0176VVMSY',\n  'B01EY46Y0W',\n  'B000FYRCQQ',\n  'B01DTYD0C8',\n  'B0152ZXNLK'],\n 'A3E9HGSGQCU4CT': [],\n 'A3EAHHQ7KV8LFG': [],\n 'A3EJS66CXBQLE8': [],\n 'A3ENBUF1TIQR5K': [],\n 'A3EZHDCUB7I4KM': [],\n 'A3F1C4MOB3X5XL': [],\n 'A3F6V5A2SFES04': [],\n 'A3FDEHXOYLD1AC': [],\n 'A3FGDP5PT4SPLK': [],\n 'A3FGWJLDNTJWED': [],\n 'A3G1X7LFBAPCUJ': [],\n 'A3GCKFO3G4AHLF': [],\n 'A3GGSN44XCR1LP': [],\n 'A3GPMU8E282AUW': [],\n 'A3GRQ9WMP4OXFE': ['B00E4MNPBQ',\n  'B019558ZRA',\n  'B00J8IJVZK',\n  'B004VH2OSO',\n  'B01G5ZLJEO',\n  'B00J5JWFR8',\n  'B014YYVYR0',\n  'B01HIE3EK8',\n  'B00ATRBBC0',\n  'B01CXPUR8Y'],\n 'A3GWKJFBX8ZKT6': [],\n 'A3H8Z7JS7XJHJJ': ['B00SC496RY',\n  'B00NO89SC6',\n  'B00PJ16ZC2',\n  'B0007506SE',\n  'B00VRWVFAO',\n  'B01ENS6XDC',\n  'B00OO1NM8S',\n  'B002N5MI3W',\n  'B018T3KNPQ',\n  'B00ODVZ4H6',\n  'B016Q3F360',\n  'B00KXL8ZF8',\n  'B00161HFP0',\n  'B01AN2AH1G',\n  'B00IPHNRUU',\n  'B00FAVESXE',\n  'B00RVEM6QO',\n  'B01HCHBX0O',\n  'B00M2R1HGA',\n  'B00Q2BIO4U'],\n 'A3HRUR5VRFZ09F': [],\n 'A3IGRPW3T3WYYQ': [],\n 'A3J1T4IGQLKKMB': [],\n 'A3J9IGXNOJR2BL': [],\n 'A3JA23Z053GQH': [],\n 'A3JCDPKW3RY4RN': [],\n 'A3JEQJCEMX20GI': ['B009BNE828',\n  'B00EFOQ44I',\n  'B007QX2KLG',\n  'B0084YJAEG',\n  'B008BMMNRM',\n  'B00JNUC5Q0',\n  'B00B8Q96KA',\n  'B006H8X3JO',\n  'B014SQWTW8',\n  'B01BY1V18S',\n  'B01CGLIDDQ',\n  'B01FRR147I',\n  'B01CGLIDEA',\n  'B00IZ9S02I',\n  'B01983EZIM',\n  'B01BHL794U',\n  'B00CHJOJIG',\n  'B01CZJT36K',\n  'B01CZJT374',\n  'B01FX00OXE'],\n 'A3KFRJBKYYNED7': [],\n 'A3KS7QCK708PRV': [],\n 'A3KYSCD09GNSUT': [],\n 'A3LA1YKU7MU28G': [],\n 'A3LEZ2F3IJC8PI': [],\n 'A3LIUDVZL87BJ1': [],\n 'A3LW4UWD5IH59X': [],\n 'A3LX43D34SINN3': [],\n 'A3LZ31BL10WT5Y': [],\n 'A3MAKZCODKKTYI': [],\n 'A3MFCMTXMF9B6W': [],\n 'A3MKAAS1OCULM6': [],\n 'A3MOSFTVDLAPDQ': [],\n 'A3MSPZTFP55OAG': [],\n 'A3MYAEQWFLNGT7': [],\n 'A3N4SR54KR77RK': [],\n 'A3NVFNLI1D4JUI': [],\n 'A3NYG8M131X9CM': [],\n 'A3OAQJCQBNF2JV': [],\n 'A3OCZRK8OEGZKL': [],\n 'A3OIDZP7AI0URM': [],\n 'A3OVOP3ZAF1EZ2': [],\n 'A3P3RV0CUR0VRQ': [],\n 'A3P8Z0J9AH92IZ': [],\n 'A3PJ22YDBOO8DN': [],\n 'A3PLMGKX9OQWOY': [],\n 'A3QL4UXK2Z5Q7T': [],\n 'A3QLWWO4V4PFMJ': [],\n 'A3QUUP6DYHF9YC': [],\n 'A3R7ZWTFN19KIX': [],\n 'A3RCVP2TSCL409': [],\n 'A3RUEIK67SFBFQ': [],\n 'A3SG2GXNRU6AO8': [],\n 'A3SL5YEUG12X9A': [],\n 'A3SME2XHYE99M5': [],\n 'A3T0BPK8JD6MD5': [],\n 'A3T2OTYYUYGLP0': [],\n 'A3T35MARIMRX9M': [],\n 'A3T9MTY43BVAL8': [],\n 'A3T9WXXE7EWNT8': [],\n 'A3TELGW4O61A61': [],\n 'A3TGG91X7W9SE8': [],\n 'A3TSVNG02WZYSW': [],\n 'A3U32YT7BSZ0KJ': [],\n 'A3UAJ5O4VR3IQ3': [],\n 'A3UBQFB24OY57': [],\n 'A3UCBR5T51RVRF': [],\n 'A3URWO9TFNH3IW': [],\n 'A3V81XSQIPRKO8': [],\n 'A3V9LE9I6Z5AF3': [],\n 'A3VEZWV624JM4O': [],\n 'A3VFDFSQ8X74WJ': [],\n 'A3VXSKW11C3301': [],\n 'A4INUX2JA7KE2': [],\n 'A4IQXCCXDEAKW': ['B001F51Q66',\n  'B001G7PMPE',\n  'B003XDQ76M',\n  'B00006K14Y',\n  'B0094G39KE',\n  'B001F51Q3Y',\n  'B001F51Q52',\n  'B001F51RBU',\n  'B000GGHRYA',\n  'B001F51RAG',\n  'B014Q96PI6',\n  'B014Q96T8W',\n  'B014Q96QNK',\n  'B00NPF8HQQ',\n  'B00MP12J4W',\n  'B00KAI9Q7A',\n  'B00MP13SPQ',\n  'B00MP12CQC',\n  'B00MP13XCO',\n  'B013J0FOI0'],\n 'A4PZHPMLBS8T3': [],\n 'A4SRPWVKZ8MBC': [],\n 'A4V3S90H5OZTV': [],\n 'A4VQ44JM97RBL': [],\n 'A5ECS1R7F1TUD': [],\n 'A5LV53PMV1X6R': [],\n 'A674HJEQGJ5R9': [],\n 'A679PFWSVAY0B': [],\n 'A6IX0T5Z4NEXG': [],\n 'A6JVX3BIR03UT': [],\n 'A6P34Q7M983DN': [],\n 'A72IXFDV3HVU6': [],\n 'A74XHLD33IB9S': [],\n 'A7EG6541KYNIU': [],\n 'A7HS9Y95Y9BI6': [],\n 'A7JUHUYLXIUVQ': ['B00CCNSPFU',\n  'B0058A4ZOE',\n  'B00CFCUZME',\n  'B00PCAMHCC',\n  'B00D1ZKB5K',\n  'B01AM3TGY0',\n  'B00124SH1W',\n  'B019QW1VCI',\n  'B001R1DVNO',\n  'B019T6NVBU'],\n 'A7KQ3EGH8QTDS': [],\n 'A7SILTHEWXQ8T': [],\n 'A7Y4ETTLARUGI': ['B00JGQRNB8',\n  'B00LY4916K',\n  'B00027D5H6',\n  'B00U0Z1M98',\n  'B00AL0TXQ6',\n  'B00N59LJWQ',\n  'B000H74016',\n  'B003IP697W',\n  'B019U4NMW4',\n  'B00JF2GVWK'],\n 'A7Z2BG3284EE8': [],\n 'A8FMILLDHAI14': [],\n 'A8JUUA4GHIAMI': [],\n 'A8LVPPXFVYGVU': [],\n 'A8ZUDRNPFB0FU': [],\n 'A9BXB2XYAW169': [],\n 'A9LOWDS5H848B': [],\n 'AA3TPN2ZXE9TE': [],\n 'AAD3T3WYTF1BR': [],\n 'AAJ1IA9SFH4IG': [],\n 'AAT4JCLA3VGRZ': [],\n 'ABNE90UVC4BMT': [],\n 'ABSMQNX2PDSWH': [],\n 'ABWCUEDFH8W5H': [],\n 'ABYOL1GQA39OB': [],\n 'AC0X1OVDMJX9': [],\n 'ACCY5NWUNEC87': [],\n 'ACE1ZIOI3U6PY': ['B0091OCA86',\n  'B00Q6761XG',\n  'B00UZH5OLI',\n  'B01CGX22YA',\n  'B00QWCUT7E',\n  'B00WQAM2CG',\n  'B018DSX034',\n  'B00DBDAU08',\n  'B00WDPM2M4',\n  'B00KU41SK2',\n  'B00KGLVXPE',\n  'B00KGMSSQA',\n  'B00KGO7R8S',\n  'B00KGMPJX0',\n  'B00KBEQYGE',\n  'B00K6WE6DO',\n  'B00KGKW5AM',\n  'B019EUWONW',\n  'B00S7L4E2Y',\n  'B004ZCBELI',\n  'B00R8IXO2I',\n  'B00MTXWSG0',\n  'B00102JGFC',\n  'B006321K8K',\n  'B00B4FRIUU',\n  'B00B4FUJPG',\n  'B00APOGVJA',\n  'B003GS6W5K',\n  'B017T1JTWM',\n  'B015X3ODWE'],\n 'ACLAKWV2EFFB5': [],\n 'AD9O852KPYLHY': [],\n 'ADDXT6NXD9GQ7': [],\n 'ADG8D8X6P9X7M': [],\n 'ADR4IE33O06IJ': [],\n 'ADV1MNMPVS17V': [],\n 'ADYRHTPM2T2SE': [],\n 'AE6VHWVRXHU19': [],\n 'AEKJTREHL41OE': [],\n 'AEP7KPEZWI7VY': [],\n 'AETOYW0R5VN0X': [],\n 'AEZBSOFLB44RG': [],\n 'AFE9H6ABXM735': [],\n 'AFMQ7BBR4FYMB': [],\n 'AFY8EIWAT6H8J': [],\n 'AG0867QGE3R2B': [],\n 'AG3T3ILPXFL3H': [],\n 'AG74ZKO3BG57J': [],\n 'AGORXWI6K2RIR': [],\n 'AGRZQOBCF8H87': ['B00PKXAAPW',\n  'B00JW2722Q',\n  'B00D3CUO9O',\n  'B00FGSJ20K',\n  'B00BYMZWQA',\n  'B01GR1QP4K',\n  'B019HD1YVE',\n  'B01DSQRXD4',\n  'B00916S6W8',\n  'B01ANCFIFG'],\n 'AGTD0T9R78YLG': [],\n 'AGYIYIVZHBI60': [],\n 'AHGNU4UWGATOH': [],\n 'AHYRXYR235TWH': [],\n 'AIB7HX2UC3WHM': [],\n 'AITF34BGBMVJJ': ['B01HCAHIJQ',\n  'B01HCAG536',\n  'B01HCAFMVW',\n  'B01HCAFRTO',\n  'B01HCAG8ME',\n  'B01HCAGJ8W',\n  'B01FJ1WF7A',\n  'B01HCAGIEM',\n  'B01HCAGOLY',\n  'B01FKZCSXQ'],\n 'AIU7HYQIC5D95': [],\n 'AJHSB0LT8NKP4': [],\n 'AJYMJEC6B7V52': [],\n 'AK4VANLR5UK95': [],\n 'AK7YIZE6ZZ1N9': ['B00MP12CQC',\n  'B00MP12J4W',\n  'B00MP13TZ0',\n  'B00MP13SPQ',\n  'B00MP13XCO',\n  'B014Q96PI6',\n  'B014Q96T8W',\n  'B00HQNLTYK',\n  'B00HQNLT7C',\n  'B014Q96QNK'],\n 'AKHSKD91MQ9DP': [],\n 'ALUZH689LQE6K': [],\n 'ALWLZC3GRRXPN': [],\n 'AM1KUDVTKXIAQ': [],\n 'AM9HBLGAPZQR7': [],\n 'AMA98TY969A1T': [],\n 'AMLDY4QY4HV0D': [],\n 'AMVZ9HW23Y42N': [],\n 'AN3QZR3OD7SFO': [],\n 'ANC6FN6T8JBB2': [],\n 'ANDGVKQ15NCZM': [],\n 'ANFUWUOC7EJKR': [],\n 'ANG7MOYBTWQE6': [],\n 'ANJ6Y9G0B4TM8': [],\n 'ANR73TPVBCQ9K': ['B012CR4ULI',\n  'B00E4J2C6I',\n  'B012CR9NNI',\n  'B00MMY3PH2',\n  'B018T3KNPQ',\n  'B0009ION3S',\n  'B004USS83O',\n  'B016Q0WJM4',\n  'B0155VG3I6',\n  'B01CC0EYXE'],\n 'ANT034IX5ZPI9': [],\n 'AOB2Y1KJQG7K7': [],\n 'AONHG4PDUQ0D6': [],\n 'APA9SALOTTBM6': [],\n 'APARJQGAD0J4C': [],\n 'AQ5PKYF0FJA4B': [],\n 'AQCQQYEUHUX3M': [],\n 'AQYL4TDY2HU8Z': ['B0044UI6ZS',\n  'B018HMDKNG',\n  'B013HL259M',\n  'B00M1YS96U',\n  'B00OAK5J70',\n  'B017JQFAYI',\n  'B0169QLUDO',\n  'B00ECH7RTO',\n  'B0052ZNLE0',\n  'B01HIUEEHO'],\n 'AR9Y0CM5B174': [],\n 'ARLN791TA1RV7': [],\n 'AS8T77HTF9IHW': [],\n 'ASGIVOW34XNQS': ['B000FT88DC',\n  'B000J38PQO',\n  'B01E1Q2HX6',\n  'B000WI50IM',\n  'B0002Z8MYY',\n  'B001W2P11S',\n  'B00TKIFA0S',\n  'B000S38RPY',\n  'B0001F3ULK',\n  'B01EB8KMVI',\n  'B000NJJAUE',\n  'B01FV4FHO8',\n  'B009Z30JVS',\n  'B00SO32OQS',\n  'B00G0U5FQI',\n  'B00JU41QAU',\n  'B00REWBX80',\n  'B007NIR2C6',\n  'B00IVAGL3Q',\n  'B00KEO35CM',\n  'B01F9XGGXW',\n  'B01HG1BF9A',\n  'B0143XMKRK',\n  'B000KE1AWS',\n  'B017SEE39Y',\n  'B016NNOLT8',\n  'B01EZHWKVK',\n  'B00T5A0M7M',\n  'B015PECJ7M',\n  'B01EBIY7HS'],\n 'ATJRZUXNWAWIK': ['B01E68ABUA',\n  'B00PCJYO42',\n  'B006K5542I',\n  'B01GOX2LFI',\n  'B005XBJETY',\n  'B01AVFI6OU',\n  'B00QF1HR8Q',\n  'B00UC4PRTS',\n  'B00ZNMQOIM',\n  'B0016Q50SY'],\n 'ATP2UCHTR7QMZ': [],\n 'ATR9J7TYR1KVL': [],\n 'ATVP6QJLS27EN': [],\n 'AU03W1V42994X': [],\n 'AU1BVXGV2KO8I': [],\n 'AU2JWZMFEVAH5': [],\n 'AU3MVNMVFSIM': [],\n 'AUKMWTDK16PAP': [],\n 'AUWJT1DM7SG2D': [],\n 'AV0O5NWF2NKDF': [],\n 'AV2MC7NNTMKTF': [],\n 'AVC89473DX6XU': [],\n 'AVFBQDR2KRNK6': [],\n 'AVIMJH2FF6QCH': [],\n 'AVO5FL5T9EZSR': [],\n 'AVQ0V2MIW2Z5K': [],\n 'AVWSUUBWD3RK4': [],\n 'AWJFUVK3064HX': [],\n 'AXM9OKKHRR4RP': [],\n 'AXPZI9N8HVHYO': [],\n 'AXQ57AZLKLPCQ': [],\n 'AXQS1B3WVRHQV': [],\n 'AXS7NH3GDN7EE': [],\n 'AY4F95T0JSTZ2': [],\n 'AYG63OK9TNBNP': [],\n 'AZE64W03EUJA4': [],\n 'AZECTAHZICNW5': [],\n 'AZEGZXCFTLSQB': [],\n 'AZEKC7DEXXJD7': [],\n 'AZFGSCB0S59LQ': [],\n 'AZHS42HV4FKKA': []}"
     },
     "execution_count": 112,
     "metadata": {},
     "output_type": "execute_result"
    }
   ],
   "source": [
    "def recommender(training_data, users=[], k=10):\n",
    "    '''\n",
    "    * training_data: dataframe 輸入的訓練資料集（2018-09-01 以前資料）\n",
    "    * users: [] 需要被推薦的使用者\n",
    "    * k: int 每個使用者需要推薦的商品數\n",
    "    * recommendations: dict\n",
    "      {\n",
    "          使用者一： [推薦商品一, 推薦商品二, ...],\n",
    "          使用者二： [...], ...\n",
    "      }\n",
    "    '''\n",
    "    recommendations = {}\n",
    "    '''\n",
    "    content-based\n",
    "    '''\n",
    "    ratings_trainings = training_data\n",
    "    recommendations = {user: recommend_items(metadata[metadata['asin'].isin(ratings_trainings[ratings_trainings['reviewerID'] == user]['asin'].tolist())]['title'].tolist(), k) for user in users}\n",
    "    return recommendations\n",
    "\n",
    "ratings_by_user = recommender(ratings_trainings, users)\n",
    "ratings_by_user"
   ],
   "metadata": {
    "collapsed": false,
    "pycharm": {
     "name": "#%%\n"
    }
   }
  },
  {
   "cell_type": "markdown",
   "source": [
    "## 結果評估"
   ],
   "metadata": {
    "collapsed": false
   }
  },
  {
   "cell_type": "code",
   "execution_count": 113,
   "outputs": [
    {
     "data": {
      "text/plain": "0.0"
     },
     "execution_count": 113,
     "metadata": {},
     "output_type": "execute_result"
    }
   ],
   "source": [
    "def evaluate(ratings_testings_by_user={}, ratings_by_user={}, method=None):\n",
    "    '''\n",
    "    * ratings_testings_by_user: dict 真實被購買的商品資料（2018-09-01 以後資料）\n",
    "    * ratings_by_user: dict 利用訓練資料學習的推薦商品\n",
    "    * method: str\n",
    "    * score: float\n",
    "    '''\n",
    "    total = 0\n",
    "    for d in ratings_testings_by_user:\n",
    "        if d in ratings_by_user:\n",
    "            total += len(set(ratings_by_user[d]) & set(ratings_testings_by_user[d]))\n",
    "\n",
    "    score = total / len(ratings_testings)\n",
    "    return score\n",
    "\n",
    "evaluate(ratings_testings_by_user, ratings_by_user)"
   ],
   "metadata": {
    "collapsed": false,
    "pycharm": {
     "name": "#%%\n"
    }
   }
  },
  {
   "cell_type": "code",
   "execution_count": null,
   "outputs": [],
   "source": [
    "\n"
   ],
   "metadata": {
    "collapsed": false,
    "pycharm": {
     "name": "#%%\n"
    }
   }
  }
 ],
 "metadata": {
  "kernelspec": {
   "display_name": "Python 3",
   "language": "python",
   "name": "python3"
  },
  "language_info": {
   "codemirror_mode": {
    "name": "ipython",
    "version": 2
   },
   "file_extension": ".py",
   "mimetype": "text/x-python",
   "name": "python",
   "nbconvert_exporter": "python",
   "pygments_lexer": "ipython2",
   "version": "2.7.6"
  },
  "colab": {
   "name": " U31.ipynb",
   "provenance": [],
   "include_colab_link": true
  }
 },
 "nbformat": 4,
 "nbformat_minor": 0
}