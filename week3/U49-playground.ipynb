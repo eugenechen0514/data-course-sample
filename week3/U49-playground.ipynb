{
 "cells": [
  {
   "cell_type": "code",
   "execution_count": 2,
   "outputs": [],
   "source": [
    "import pandas as pd\n",
    "import numpy as np\n",
    "from sklearn.feature_extraction.text import TfidfVectorizer\n",
    "from sklearn.metrics.pairwise import cosine_similarity"
   ],
   "metadata": {
    "collapsed": false,
    "pycharm": {
     "name": "#%%\n"
    }
   }
  },
  {
   "cell_type": "code",
   "execution_count": 15,
   "outputs": [
    {
     "data": {
      "text/plain": "         asin      reviewerID  overall  unixReviewTime       DATE\n0  0143026860  A1V6B6TNIC10QE      1.0    1.424304e+09 2015-02-19\n1  0143026860  A2F5GHSXFQ0W6J      4.0    1.418861e+09 2014-12-18\n2  0143026860  A1572GUYS7DGSR      4.0    1.407629e+09 2014-08-10\n3  0143026860   A1PSGLFK1NSVO      5.0    1.362960e+09 2013-03-11\n4  0143026860   A6IKXKZMTKGSC      5.0    1.324771e+09 2011-12-25",
      "text/html": "<div>\n<style scoped>\n    .dataframe tbody tr th:only-of-type {\n        vertical-align: middle;\n    }\n\n    .dataframe tbody tr th {\n        vertical-align: top;\n    }\n\n    .dataframe thead th {\n        text-align: right;\n    }\n</style>\n<table border=\"1\" class=\"dataframe\">\n  <thead>\n    <tr style=\"text-align: right;\">\n      <th></th>\n      <th>asin</th>\n      <th>reviewerID</th>\n      <th>overall</th>\n      <th>unixReviewTime</th>\n      <th>DATE</th>\n    </tr>\n  </thead>\n  <tbody>\n    <tr>\n      <th>0</th>\n      <td>0143026860</td>\n      <td>A1V6B6TNIC10QE</td>\n      <td>1.0</td>\n      <td>1.424304e+09</td>\n      <td>2015-02-19</td>\n    </tr>\n    <tr>\n      <th>1</th>\n      <td>0143026860</td>\n      <td>A2F5GHSXFQ0W6J</td>\n      <td>4.0</td>\n      <td>1.418861e+09</td>\n      <td>2014-12-18</td>\n    </tr>\n    <tr>\n      <th>2</th>\n      <td>0143026860</td>\n      <td>A1572GUYS7DGSR</td>\n      <td>4.0</td>\n      <td>1.407629e+09</td>\n      <td>2014-08-10</td>\n    </tr>\n    <tr>\n      <th>3</th>\n      <td>0143026860</td>\n      <td>A1PSGLFK1NSVO</td>\n      <td>5.0</td>\n      <td>1.362960e+09</td>\n      <td>2013-03-11</td>\n    </tr>\n    <tr>\n      <th>4</th>\n      <td>0143026860</td>\n      <td>A6IKXKZMTKGSC</td>\n      <td>5.0</td>\n      <td>1.324771e+09</td>\n      <td>2011-12-25</td>\n    </tr>\n  </tbody>\n</table>\n</div>"
     },
     "execution_count": 15,
     "metadata": {},
     "output_type": "execute_result"
    }
   ],
   "source": [
    "all_beauty_path = 'data/All_Beauty.csv'\n",
    "# all_beauty_path = 'http://deepyeti.ucsd.edu/jianmo/amazon/categoryFilesSmall/All_Beauty.csv'\n",
    "ratings = pd.read_csv(\n",
    "    all_beauty_path,\n",
    "    names=[\"asin\", \"reviewerID\", \"overall\", \"unixReviewTime\"],\n",
    "    dtype={\"asin\": np.str_, \"reviewerID\": np.str_, \"overall\": np.float32, \"unixReviewTime\": np.float64 }\n",
    ")\n",
    "ratings['DATE'] = pd.to_datetime(ratings['unixReviewTime'], unit='s')\n",
    "ratings.head()"
   ],
   "metadata": {
    "collapsed": false,
    "pycharm": {
     "name": "#%%\n"
    }
   }
  },
  {
   "cell_type": "code",
   "execution_count": 16,
   "outputs": [
    {
     "name": "stdout",
     "output_type": "stream",
     "text": [
      "Index(['category', 'tech1', 'description', 'fit', 'title', 'also_buy', 'tech2',\n",
      "       'brand', 'feature', 'rank', 'also_view', 'details', 'main_cat',\n",
      "       'similar_item', 'date', 'price', 'asin', 'imageURL', 'imageURLHighRes'],\n",
      "      dtype='object')\n"
     ]
    }
   ],
   "source": [
    "meta_all_beauty_path = 'data/meta_All_Beauty.json.gz'\n",
    "# meta_all_beauty_path = 'http://deepyeti.ucsd.edu/jianmo/amazon/metaFiles2/meta_All_Beauty.json.gz'\n",
    "metadata = pd.read_json(\n",
    "    meta_all_beauty_path,\n",
    "    lines=True,\n",
    "    compression=\"gzip\"\n",
    ")\n",
    "metadata.head()\n",
    "print(metadata.columns)"
   ],
   "metadata": {
    "collapsed": false,
    "pycharm": {
     "name": "#%%\n"
    }
   }
  },
  {
   "cell_type": "markdown",
   "source": [
    "# 資料切分"
   ],
   "metadata": {
    "collapsed": false
   }
  },
  {
   "cell_type": "code",
   "execution_count": 17,
   "outputs": [],
   "source": [
    "ratings_trainings = ratings[\n",
    "    (ratings['DATE'] < '2018-09-01')\n",
    "]\n",
    "ratings_testings = ratings[\n",
    "    (ratings['DATE'] >= '2018-09-01') &\n",
    "    (ratings['DATE'] <= '2018-09-30')\n",
    "]\n",
    "ratings_testings_by_user = ratings_testings.groupby('reviewerID').agg(list).reset_index()[['reviewerID', 'asin']].to_dict('records')\n",
    "ratings_testings_by_user = { rating['reviewerID']: rating['asin'] for rating in ratings_testings_by_user }\n",
    "users = list(ratings_testings_by_user.keys())\n"
   ],
   "metadata": {
    "collapsed": false,
    "pycharm": {
     "name": "#%%\n"
    }
   }
  },
  {
   "cell_type": "code",
   "source": [
    "d = next(ratings_trainings.iterrows())[1]\n",
    "d.iloc('reviewerID')"
   ],
   "metadata": {
    "collapsed": false,
    "pycharm": {
     "name": "#%%\n"
    }
   },
   "execution_count": 14,
   "outputs": [
    {
     "ename": "ValueError",
     "evalue": "No axis named reviewerID for object type Series",
     "output_type": "error",
     "traceback": [
      "\u001B[0;31m---------------------------------------------------------------------------\u001B[0m",
      "\u001B[0;31mKeyError\u001B[0m                                  Traceback (most recent call last)",
      "\u001B[0;32m~/.conda/envs/ac-python-test/lib/python3.8/site-packages/pandas/core/generic.py\u001B[0m in \u001B[0;36m_get_axis_number\u001B[0;34m(cls, axis)\u001B[0m\n\u001B[1;32m    545\u001B[0m         \u001B[0;32mtry\u001B[0m\u001B[0;34m:\u001B[0m\u001B[0;34m\u001B[0m\u001B[0;34m\u001B[0m\u001B[0m\n\u001B[0;32m--> 546\u001B[0;31m             \u001B[0;32mreturn\u001B[0m \u001B[0mcls\u001B[0m\u001B[0;34m.\u001B[0m\u001B[0m_AXIS_TO_AXIS_NUMBER\u001B[0m\u001B[0;34m[\u001B[0m\u001B[0maxis\u001B[0m\u001B[0;34m]\u001B[0m\u001B[0;34m\u001B[0m\u001B[0;34m\u001B[0m\u001B[0m\n\u001B[0m\u001B[1;32m    547\u001B[0m         \u001B[0;32mexcept\u001B[0m \u001B[0mKeyError\u001B[0m\u001B[0;34m:\u001B[0m\u001B[0;34m\u001B[0m\u001B[0;34m\u001B[0m\u001B[0m\n",
      "\u001B[0;31mKeyError\u001B[0m: 'reviewerID'",
      "\nDuring handling of the above exception, another exception occurred:\n",
      "\u001B[0;31mValueError\u001B[0m                                Traceback (most recent call last)",
      "\u001B[0;32m/var/folders/bg/xxg6qbpn4ll_hcgqp_vlb_wh0000gp/T/ipykernel_35270/3379054957.py\u001B[0m in \u001B[0;36m<module>\u001B[0;34m\u001B[0m\n\u001B[1;32m      1\u001B[0m \u001B[0md\u001B[0m \u001B[0;34m=\u001B[0m \u001B[0mnext\u001B[0m\u001B[0;34m(\u001B[0m\u001B[0mratings_trainings\u001B[0m\u001B[0;34m.\u001B[0m\u001B[0miterrows\u001B[0m\u001B[0;34m(\u001B[0m\u001B[0;34m)\u001B[0m\u001B[0;34m)\u001B[0m\u001B[0;34m[\u001B[0m\u001B[0;36m1\u001B[0m\u001B[0;34m]\u001B[0m\u001B[0;34m\u001B[0m\u001B[0;34m\u001B[0m\u001B[0m\n\u001B[0;32m----> 2\u001B[0;31m \u001B[0md\u001B[0m\u001B[0;34m.\u001B[0m\u001B[0miloc\u001B[0m\u001B[0;34m(\u001B[0m\u001B[0;34m'reviewerID'\u001B[0m\u001B[0;34m)\u001B[0m\u001B[0;34m\u001B[0m\u001B[0;34m\u001B[0m\u001B[0m\n\u001B[0m",
      "\u001B[0;32m~/.conda/envs/ac-python-test/lib/python3.8/site-packages/pandas/core/indexing.py\u001B[0m in \u001B[0;36m__call__\u001B[0;34m(self, axis)\u001B[0m\n\u001B[1;32m    635\u001B[0m \u001B[0;34m\u001B[0m\u001B[0m\n\u001B[1;32m    636\u001B[0m         \u001B[0;32mif\u001B[0m \u001B[0maxis\u001B[0m \u001B[0;32mis\u001B[0m \u001B[0;32mnot\u001B[0m \u001B[0;32mNone\u001B[0m\u001B[0;34m:\u001B[0m\u001B[0;34m\u001B[0m\u001B[0;34m\u001B[0m\u001B[0m\n\u001B[0;32m--> 637\u001B[0;31m             \u001B[0maxis\u001B[0m \u001B[0;34m=\u001B[0m \u001B[0mself\u001B[0m\u001B[0;34m.\u001B[0m\u001B[0mobj\u001B[0m\u001B[0;34m.\u001B[0m\u001B[0m_get_axis_number\u001B[0m\u001B[0;34m(\u001B[0m\u001B[0maxis\u001B[0m\u001B[0;34m)\u001B[0m\u001B[0;34m\u001B[0m\u001B[0;34m\u001B[0m\u001B[0m\n\u001B[0m\u001B[1;32m    638\u001B[0m         \u001B[0mnew_self\u001B[0m\u001B[0;34m.\u001B[0m\u001B[0maxis\u001B[0m \u001B[0;34m=\u001B[0m \u001B[0maxis\u001B[0m\u001B[0;34m\u001B[0m\u001B[0;34m\u001B[0m\u001B[0m\n\u001B[1;32m    639\u001B[0m         \u001B[0;32mreturn\u001B[0m \u001B[0mnew_self\u001B[0m\u001B[0;34m\u001B[0m\u001B[0;34m\u001B[0m\u001B[0m\n",
      "\u001B[0;32m~/.conda/envs/ac-python-test/lib/python3.8/site-packages/pandas/core/generic.py\u001B[0m in \u001B[0;36m_get_axis_number\u001B[0;34m(cls, axis)\u001B[0m\n\u001B[1;32m    546\u001B[0m             \u001B[0;32mreturn\u001B[0m \u001B[0mcls\u001B[0m\u001B[0;34m.\u001B[0m\u001B[0m_AXIS_TO_AXIS_NUMBER\u001B[0m\u001B[0;34m[\u001B[0m\u001B[0maxis\u001B[0m\u001B[0;34m]\u001B[0m\u001B[0;34m\u001B[0m\u001B[0;34m\u001B[0m\u001B[0m\n\u001B[1;32m    547\u001B[0m         \u001B[0;32mexcept\u001B[0m \u001B[0mKeyError\u001B[0m\u001B[0;34m:\u001B[0m\u001B[0;34m\u001B[0m\u001B[0;34m\u001B[0m\u001B[0m\n\u001B[0;32m--> 548\u001B[0;31m             \u001B[0;32mraise\u001B[0m \u001B[0mValueError\u001B[0m\u001B[0;34m(\u001B[0m\u001B[0;34mf\"No axis named {axis} for object type {cls.__name__}\"\u001B[0m\u001B[0;34m)\u001B[0m\u001B[0;34m\u001B[0m\u001B[0;34m\u001B[0m\u001B[0m\n\u001B[0m\u001B[1;32m    549\u001B[0m \u001B[0;34m\u001B[0m\u001B[0m\n\u001B[1;32m    550\u001B[0m     \u001B[0;34m@\u001B[0m\u001B[0mfinal\u001B[0m\u001B[0;34m\u001B[0m\u001B[0;34m\u001B[0m\u001B[0m\n",
      "\u001B[0;31mValueError\u001B[0m: No axis named reviewerID for object type Series"
     ]
    }
   ]
  },
  {
   "cell_type": "code",
   "execution_count": 22,
   "outputs": [],
   "source": [
    "d = {\n",
    "    'a': {'i': 1},\n",
    "    'b': 2\n",
    "}"
   ],
   "metadata": {
    "collapsed": false,
    "pycharm": {
     "name": "#%%\n"
    }
   }
  },
  {
   "cell_type": "code",
   "execution_count": 24,
   "outputs": [
    {
     "data": {
      "text/plain": "dict_items([('a', {'i': 1}), ('b', 2)])"
     },
     "execution_count": 24,
     "metadata": {},
     "output_type": "execute_result"
    }
   ],
   "source": [
    "d.items()"
   ],
   "metadata": {
    "collapsed": false,
    "pycharm": {
     "name": "#%%\n"
    }
   }
  },
  {
   "cell_type": "code",
   "execution_count": 25,
   "outputs": [
    {
     "data": {
      "text/plain": "[1, 1, 1]"
     },
     "execution_count": 25,
     "metadata": {},
     "output_type": "execute_result"
    }
   ],
   "source": [
    "init_sim = lambda x  : [0 + x for _ in range(3)]\n",
    "init_sim(1)\n"
   ],
   "metadata": {
    "collapsed": false,
    "pycharm": {
     "name": "#%%\n"
    }
   }
  },
  {
   "cell_type": "code",
   "execution_count": 27,
   "outputs": [],
   "source": [
    "factory = lambda: defaultdict(init_sim)"
   ],
   "metadata": {
    "collapsed": false,
    "pycharm": {
     "name": "#%%\n"
    }
   }
  },
  {
   "cell_type": "code",
   "execution_count": 28,
   "outputs": [
    {
     "ename": "NameError",
     "evalue": "name 'defaultdict' is not defined",
     "output_type": "error",
     "traceback": [
      "\u001B[0;31m---------------------------------------------------------------------------\u001B[0m",
      "\u001B[0;31mNameError\u001B[0m                                 Traceback (most recent call last)",
      "\u001B[0;32m/var/folders/bg/xxg6qbpn4ll_hcgqp_vlb_wh0000gp/T/ipykernel_35270/3217825827.py\u001B[0m in \u001B[0;36m<module>\u001B[0;34m\u001B[0m\n\u001B[0;32m----> 1\u001B[0;31m \u001B[0mfactory\u001B[0m\u001B[0;34m(\u001B[0m\u001B[0;34m)\u001B[0m\u001B[0;34m\u001B[0m\u001B[0;34m\u001B[0m\u001B[0m\n\u001B[0m\u001B[1;32m      2\u001B[0m \u001B[0;34m\u001B[0m\u001B[0m\n",
      "\u001B[0;32m/var/folders/bg/xxg6qbpn4ll_hcgqp_vlb_wh0000gp/T/ipykernel_35270/1668020540.py\u001B[0m in \u001B[0;36m<lambda>\u001B[0;34m()\u001B[0m\n\u001B[0;32m----> 1\u001B[0;31m \u001B[0mfactory\u001B[0m \u001B[0;34m=\u001B[0m \u001B[0;32mlambda\u001B[0m\u001B[0;34m:\u001B[0m \u001B[0mdefaultdict\u001B[0m\u001B[0;34m(\u001B[0m\u001B[0minit_sim\u001B[0m\u001B[0;34m)\u001B[0m\u001B[0;34m\u001B[0m\u001B[0;34m\u001B[0m\u001B[0m\n\u001B[0m",
      "\u001B[0;31mNameError\u001B[0m: name 'defaultdict' is not defined"
     ]
    }
   ],
   "source": [
    "factory()\n"
   ],
   "metadata": {
    "collapsed": false,
    "pycharm": {
     "name": "#%%\n"
    }
   }
  },
  {
   "cell_type": "code",
   "execution_count": 9,
   "outputs": [
    {
     "data": {
      "text/plain": "            max_speed  shield\ncobra               1       2\nviper               4       5\nsidewinder          7       8",
      "text/html": "<div>\n<style scoped>\n    .dataframe tbody tr th:only-of-type {\n        vertical-align: middle;\n    }\n\n    .dataframe tbody tr th {\n        vertical-align: top;\n    }\n\n    .dataframe thead th {\n        text-align: right;\n    }\n</style>\n<table border=\"1\" class=\"dataframe\">\n  <thead>\n    <tr style=\"text-align: right;\">\n      <th></th>\n      <th>max_speed</th>\n      <th>shield</th>\n    </tr>\n  </thead>\n  <tbody>\n    <tr>\n      <th>cobra</th>\n      <td>1</td>\n      <td>2</td>\n    </tr>\n    <tr>\n      <th>viper</th>\n      <td>4</td>\n      <td>5</td>\n    </tr>\n    <tr>\n      <th>sidewinder</th>\n      <td>7</td>\n      <td>8</td>\n    </tr>\n  </tbody>\n</table>\n</div>"
     },
     "execution_count": 9,
     "metadata": {},
     "output_type": "execute_result"
    }
   ],
   "source": [
    "df = pd.DataFrame([[1, 2], [4, 5], [7, 8]],\n",
    "     index=['cobra', 'viper', 'sidewinder'],\n",
    "     columns=['max_speed', 'shield'])\n",
    "df"
   ],
   "metadata": {
    "collapsed": false,
    "pycharm": {
     "name": "#%%\n"
    }
   }
  },
  {
   "cell_type": "code",
   "execution_count": 14,
   "outputs": [
    {
     "data": {
      "text/plain": "max_speed    4\nshield       5\nName: viper, dtype: int64"
     },
     "execution_count": 14,
     "metadata": {},
     "output_type": "execute_result"
    }
   ],
   "source": [
    "df.loc['viper']"
   ],
   "metadata": {
    "collapsed": false,
    "pycharm": {
     "name": "#%%\n"
    }
   }
  },
  {
   "cell_type": "code",
   "execution_count": 11,
   "outputs": [
    {
     "data": {
      "text/plain": "cobra          True\nviper         False\nsidewinder    False\nName: max_speed, dtype: bool"
     },
     "execution_count": 11,
     "metadata": {},
     "output_type": "execute_result"
    }
   ],
   "source": [
    "df['max_speed'] == 1\n"
   ],
   "metadata": {
    "collapsed": false,
    "pycharm": {
     "name": "#%%\n"
    }
   }
  },
  {
   "cell_type": "code",
   "execution_count": 23,
   "outputs": [
    {
     "data": {
      "text/plain": "              asin      reviewerID  overall  unixReviewTime       DATE\n0       0143026860  A1V6B6TNIC10QE      1.0    1.424304e+09 2015-02-19\n1       0143026860  A2F5GHSXFQ0W6J      4.0    1.418861e+09 2014-12-18\n2       0143026860  A1572GUYS7DGSR      4.0    1.407629e+09 2014-08-10\n3       0143026860   A1PSGLFK1NSVO      5.0    1.362960e+09 2013-03-11\n4       0143026860   A6IKXKZMTKGSC      5.0    1.324771e+09 2011-12-25\n...            ...             ...      ...             ...        ...\n371340  B01HJEGTYK  A202DCI7TV1022      1.0    1.500509e+09 2017-07-20\n371341  B01HJEGTYK  A3FSOR5IJOFIBE      5.0    1.489622e+09 2017-03-16\n371342  B01HJEGTYK  A1B5DK6CTP2P24      5.0    1.488326e+09 2017-03-01\n371343  B01HJEGTYK  A23OUYS5IRMJS9      2.0    1.487635e+09 2017-02-21\n371344  B01HJEGTYK  A24KQ9RVU81L87      2.0    1.481760e+09 2016-12-15\n\n[370752 rows x 5 columns]",
      "text/html": "<div>\n<style scoped>\n    .dataframe tbody tr th:only-of-type {\n        vertical-align: middle;\n    }\n\n    .dataframe tbody tr th {\n        vertical-align: top;\n    }\n\n    .dataframe thead th {\n        text-align: right;\n    }\n</style>\n<table border=\"1\" class=\"dataframe\">\n  <thead>\n    <tr style=\"text-align: right;\">\n      <th></th>\n      <th>asin</th>\n      <th>reviewerID</th>\n      <th>overall</th>\n      <th>unixReviewTime</th>\n      <th>DATE</th>\n    </tr>\n  </thead>\n  <tbody>\n    <tr>\n      <th>0</th>\n      <td>0143026860</td>\n      <td>A1V6B6TNIC10QE</td>\n      <td>1.0</td>\n      <td>1.424304e+09</td>\n      <td>2015-02-19</td>\n    </tr>\n    <tr>\n      <th>1</th>\n      <td>0143026860</td>\n      <td>A2F5GHSXFQ0W6J</td>\n      <td>4.0</td>\n      <td>1.418861e+09</td>\n      <td>2014-12-18</td>\n    </tr>\n    <tr>\n      <th>2</th>\n      <td>0143026860</td>\n      <td>A1572GUYS7DGSR</td>\n      <td>4.0</td>\n      <td>1.407629e+09</td>\n      <td>2014-08-10</td>\n    </tr>\n    <tr>\n      <th>3</th>\n      <td>0143026860</td>\n      <td>A1PSGLFK1NSVO</td>\n      <td>5.0</td>\n      <td>1.362960e+09</td>\n      <td>2013-03-11</td>\n    </tr>\n    <tr>\n      <th>4</th>\n      <td>0143026860</td>\n      <td>A6IKXKZMTKGSC</td>\n      <td>5.0</td>\n      <td>1.324771e+09</td>\n      <td>2011-12-25</td>\n    </tr>\n    <tr>\n      <th>...</th>\n      <td>...</td>\n      <td>...</td>\n      <td>...</td>\n      <td>...</td>\n      <td>...</td>\n    </tr>\n    <tr>\n      <th>371340</th>\n      <td>B01HJEGTYK</td>\n      <td>A202DCI7TV1022</td>\n      <td>1.0</td>\n      <td>1.500509e+09</td>\n      <td>2017-07-20</td>\n    </tr>\n    <tr>\n      <th>371341</th>\n      <td>B01HJEGTYK</td>\n      <td>A3FSOR5IJOFIBE</td>\n      <td>5.0</td>\n      <td>1.489622e+09</td>\n      <td>2017-03-16</td>\n    </tr>\n    <tr>\n      <th>371342</th>\n      <td>B01HJEGTYK</td>\n      <td>A1B5DK6CTP2P24</td>\n      <td>5.0</td>\n      <td>1.488326e+09</td>\n      <td>2017-03-01</td>\n    </tr>\n    <tr>\n      <th>371343</th>\n      <td>B01HJEGTYK</td>\n      <td>A23OUYS5IRMJS9</td>\n      <td>2.0</td>\n      <td>1.487635e+09</td>\n      <td>2017-02-21</td>\n    </tr>\n    <tr>\n      <th>371344</th>\n      <td>B01HJEGTYK</td>\n      <td>A24KQ9RVU81L87</td>\n      <td>2.0</td>\n      <td>1.481760e+09</td>\n      <td>2016-12-15</td>\n    </tr>\n  </tbody>\n</table>\n<p>370752 rows × 5 columns</p>\n</div>"
     },
     "execution_count": 23,
     "metadata": {},
     "output_type": "execute_result"
    }
   ],
   "source": [
    "ratings_trainings"
   ],
   "metadata": {
    "collapsed": false,
    "pycharm": {
     "name": "#%%\n"
    }
   }
  },
  {
   "cell_type": "code",
   "execution_count": 24,
   "outputs": [
    {
     "data": {
      "text/plain": "         asin      reviewerID  overall  unixReviewTime       DATE\n0  0143026860  A1V6B6TNIC10QE      1.0    1.424304e+09 2015-02-19",
      "text/html": "<div>\n<style scoped>\n    .dataframe tbody tr th:only-of-type {\n        vertical-align: middle;\n    }\n\n    .dataframe tbody tr th {\n        vertical-align: top;\n    }\n\n    .dataframe thead th {\n        text-align: right;\n    }\n</style>\n<table border=\"1\" class=\"dataframe\">\n  <thead>\n    <tr style=\"text-align: right;\">\n      <th></th>\n      <th>asin</th>\n      <th>reviewerID</th>\n      <th>overall</th>\n      <th>unixReviewTime</th>\n      <th>DATE</th>\n    </tr>\n  </thead>\n  <tbody>\n    <tr>\n      <th>0</th>\n      <td>0143026860</td>\n      <td>A1V6B6TNIC10QE</td>\n      <td>1.0</td>\n      <td>1.424304e+09</td>\n      <td>2015-02-19</td>\n    </tr>\n  </tbody>\n</table>\n</div>"
     },
     "execution_count": 24,
     "metadata": {},
     "output_type": "execute_result"
    }
   ],
   "source": [
    "# ratings_trainings['reviewerID'] == 'A1V6B6TNIC10QE'\n",
    "ratings_trainings.loc[ratings_trainings['reviewerID'] == 'A1V6B6TNIC10QE' ]"
   ],
   "metadata": {
    "collapsed": false,
    "pycharm": {
     "name": "#%%\n"
    }
   }
  },
  {
   "cell_type": "code",
   "execution_count": 22,
   "outputs": [
    {
     "data": {
      "text/plain": "              asin      reviewerID  overall  unixReviewTime       DATE\n0       0143026860  A1V6B6TNIC10QE      1.0    1.424304e+09 2015-02-19\n1       0143026860  A2F5GHSXFQ0W6J      4.0    1.418861e+09 2014-12-18\n2       0143026860  A1572GUYS7DGSR      4.0    1.407629e+09 2014-08-10\n3       0143026860   A1PSGLFK1NSVO      5.0    1.362960e+09 2013-03-11\n4       0143026860   A6IKXKZMTKGSC      5.0    1.324771e+09 2011-12-25\n...            ...             ...      ...             ...        ...\n371340  B01HJEGTYK  A202DCI7TV1022      1.0    1.500509e+09 2017-07-20\n371341  B01HJEGTYK  A3FSOR5IJOFIBE      5.0    1.489622e+09 2017-03-16\n371342  B01HJEGTYK  A1B5DK6CTP2P24      5.0    1.488326e+09 2017-03-01\n371343  B01HJEGTYK  A23OUYS5IRMJS9      2.0    1.487635e+09 2017-02-21\n371344  B01HJEGTYK  A24KQ9RVU81L87      2.0    1.481760e+09 2016-12-15\n\n[370752 rows x 5 columns]",
      "text/html": "<div>\n<style scoped>\n    .dataframe tbody tr th:only-of-type {\n        vertical-align: middle;\n    }\n\n    .dataframe tbody tr th {\n        vertical-align: top;\n    }\n\n    .dataframe thead th {\n        text-align: right;\n    }\n</style>\n<table border=\"1\" class=\"dataframe\">\n  <thead>\n    <tr style=\"text-align: right;\">\n      <th></th>\n      <th>asin</th>\n      <th>reviewerID</th>\n      <th>overall</th>\n      <th>unixReviewTime</th>\n      <th>DATE</th>\n    </tr>\n  </thead>\n  <tbody>\n    <tr>\n      <th>0</th>\n      <td>0143026860</td>\n      <td>A1V6B6TNIC10QE</td>\n      <td>1.0</td>\n      <td>1.424304e+09</td>\n      <td>2015-02-19</td>\n    </tr>\n    <tr>\n      <th>1</th>\n      <td>0143026860</td>\n      <td>A2F5GHSXFQ0W6J</td>\n      <td>4.0</td>\n      <td>1.418861e+09</td>\n      <td>2014-12-18</td>\n    </tr>\n    <tr>\n      <th>2</th>\n      <td>0143026860</td>\n      <td>A1572GUYS7DGSR</td>\n      <td>4.0</td>\n      <td>1.407629e+09</td>\n      <td>2014-08-10</td>\n    </tr>\n    <tr>\n      <th>3</th>\n      <td>0143026860</td>\n      <td>A1PSGLFK1NSVO</td>\n      <td>5.0</td>\n      <td>1.362960e+09</td>\n      <td>2013-03-11</td>\n    </tr>\n    <tr>\n      <th>4</th>\n      <td>0143026860</td>\n      <td>A6IKXKZMTKGSC</td>\n      <td>5.0</td>\n      <td>1.324771e+09</td>\n      <td>2011-12-25</td>\n    </tr>\n    <tr>\n      <th>...</th>\n      <td>...</td>\n      <td>...</td>\n      <td>...</td>\n      <td>...</td>\n      <td>...</td>\n    </tr>\n    <tr>\n      <th>371340</th>\n      <td>B01HJEGTYK</td>\n      <td>A202DCI7TV1022</td>\n      <td>1.0</td>\n      <td>1.500509e+09</td>\n      <td>2017-07-20</td>\n    </tr>\n    <tr>\n      <th>371341</th>\n      <td>B01HJEGTYK</td>\n      <td>A3FSOR5IJOFIBE</td>\n      <td>5.0</td>\n      <td>1.489622e+09</td>\n      <td>2017-03-16</td>\n    </tr>\n    <tr>\n      <th>371342</th>\n      <td>B01HJEGTYK</td>\n      <td>A1B5DK6CTP2P24</td>\n      <td>5.0</td>\n      <td>1.488326e+09</td>\n      <td>2017-03-01</td>\n    </tr>\n    <tr>\n      <th>371343</th>\n      <td>B01HJEGTYK</td>\n      <td>A23OUYS5IRMJS9</td>\n      <td>2.0</td>\n      <td>1.487635e+09</td>\n      <td>2017-02-21</td>\n    </tr>\n    <tr>\n      <th>371344</th>\n      <td>B01HJEGTYK</td>\n      <td>A24KQ9RVU81L87</td>\n      <td>2.0</td>\n      <td>1.481760e+09</td>\n      <td>2016-12-15</td>\n    </tr>\n  </tbody>\n</table>\n<p>370752 rows × 5 columns</p>\n</div>"
     },
     "execution_count": 22,
     "metadata": {},
     "output_type": "execute_result"
    }
   ],
   "source": [
    "ratings_trainings.loc[ratings_trainings['reviewerID'] == 'A1V6B6TNIC10QE' ]"
   ],
   "metadata": {
    "collapsed": false,
    "pycharm": {
     "name": "#%%\n"
    }
   }
  },
  {
   "cell_type": "code",
   "execution_count": null,
   "outputs": [],
   "source": [],
   "metadata": {
    "collapsed": false,
    "pycharm": {
     "name": "#%%\n"
    }
   }
  }
 ],
 "metadata": {
  "kernelspec": {
   "display_name": "Python 3",
   "language": "python",
   "name": "python3"
  },
  "language_info": {
   "codemirror_mode": {
    "name": "ipython",
    "version": 2
   },
   "file_extension": ".py",
   "mimetype": "text/x-python",
   "name": "python",
   "nbconvert_exporter": "python",
   "pygments_lexer": "ipython2",
   "version": "2.7.6"
  },
  "colab": {
   "name": " U31.ipynb",
   "provenance": [],
   "include_colab_link": true
  }
 },
 "nbformat": 4,
 "nbformat_minor": 0
}