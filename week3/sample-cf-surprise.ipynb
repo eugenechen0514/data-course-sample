{
 "cells": [
  {
   "cell_type": "markdown",
   "id": "688675f5",
   "metadata": {},
   "source": [
    "## 基礎建設"
   ]
  },
  {
   "cell_type": "code",
   "execution_count": 124,
   "id": "b32226db",
   "metadata": {
    "scrolled": true
   },
   "outputs": [],
   "source": [
    "from datetime import datetime\n",
    "import pandas as pd\n",
    "import gzip, json\n",
    "import numpy as np\n",
    "import matplotlib.pyplot as plt\n",
    "def parse(path):\n",
    "    g = gzip.open(path, 'rb')\n",
    "    for l in g:\n",
    "        yield json.loads(l)\n",
    "\n",
    "def getDF(path):\n",
    "    i = 0\n",
    "    df = {}\n",
    "    for d in parse(path):\n",
    "        df[i] = d\n",
    "        i += 1\n",
    "    return pd.DataFrame.from_dict(df, orient='index')"
   ]
  },
  {
   "cell_type": "markdown",
   "id": "84ff0f9d",
   "metadata": {},
   "source": [
    "## 載入資料"
   ]
  },
  {
   "cell_type": "code",
   "execution_count": 125,
   "id": "9402e9c7",
   "metadata": {},
   "outputs": [],
   "source": [
    "# !wget http://deepyeti.ucsd.edu/jianmo/amazon/categoryFilesSmall/All_Beauty.csv\n",
    "# !wget http://deepyeti.ucsd.edu/jianmo/amazon/metaFiles2/meta_All_Beauty.json.gz"
   ]
  },
  {
   "cell_type": "code",
   "execution_count": 126,
   "id": "84b66cc7",
   "metadata": {},
   "outputs": [],
   "source": [
    "metadata = getDF('data/meta_All_Beauty.json.gz')\n",
    "ratings = pd.read_csv('data/All_Beauty.csv', names=['asin', 'reviewerID', 'overall', 'unixReviewTime'], header=None)"
   ]
  },
  {
   "cell_type": "code",
   "execution_count": 127,
   "id": "9fd77203",
   "metadata": {},
   "outputs": [
    {
     "data": {
      "text/plain": "  category tech1                                        description fit  \\\n0       []        [Loud 'N Clear Personal Sound Amplifier allows...       \n1       []        [No7 Lift & Luminate Triple Action Serum 50ml ...       \n2       []        [No7 Stay Perfect Foundation now stays perfect...       \n3       []                                                       []       \n4       []        [Lacto Calamine Skin Balance Daily Nourishing ...       \n\n                                               title  \\\n0      Loud 'N Clear&trade; Personal Sound Amplifier   \n1  No7 Lift &amp; Luminate Triple Action Serum 50...   \n2    No7 Stay Perfect Foundation Cool Vanilla by No7   \n3  Wella Koleston Perfect Hair Colour 44/44 Mediu...   \n4  Lacto Calamine Skin Balance Oil control 120 ml...   \n\n                   also_buy tech2              brand feature  \\\n0                        []             idea village      []   \n1  [B01E7LCSL6, B008X5RVME]                               []   \n2                        []                      No7      []   \n3              [B0041PBXX8]                               []   \n4                        []        Pirmal Healthcare      []   \n\n                                    rank  \\\n0  2,938,573 in Beauty & Personal Care (   \n1    872,854 in Beauty & Personal Care (   \n2    956,696 in Beauty & Personal Care (   \n3  1,870,258 in Beauty & Personal Care (   \n4     67,701 in Beauty & Personal Care (   \n\n                                           also_view  \\\n0                                                 []   \n1                                                 []   \n2               [B01B8BR0O8, B01B8BR0NO, B014MHXXM8]   \n3                                                 []   \n4  [3254895630, B007VL1D9S, B00EH9A0RI, B0773MBG4...   \n\n                                             details    main_cat  \\\n0                           {'ASIN: ': '6546546450'}  All Beauty   \n1  {'Shipping Weight:': '0.3 ounces (', 'ASIN: ':...  All Beauty   \n2  {'Shipping Weight:': '3.5 ounces (', 'ASIN: ':...  All Beauty   \n3  {'\n    Item Weight: \n    ': '1.76 ounces', 'Sh...  All Beauty   \n4  {'Shipping Weight:': '12 ounces (', 'ASIN: ': ...  All Beauty   \n\n                                        similar_item date   price        asin  \\\n0                                                                  6546546450   \n1   class=\"a-bordered a-horizontal-stripes  a-spa...       $44.99  7178680776   \n2                                                          $28.76  7250468162   \n3                                                                  7367905066   \n4                                                          $12.15  7414204790   \n\n                                            imageURL  \\\n0                                                 []   \n1                                                 []   \n2                                                 []   \n3  [https://images-na.ssl-images-amazon.com/image...   \n4  [https://images-na.ssl-images-amazon.com/image...   \n\n                                     imageURLHighRes  \n0                                                 []  \n1                                                 []  \n2                                                 []  \n3  [https://images-na.ssl-images-amazon.com/image...  \n4  [https://images-na.ssl-images-amazon.com/image...  ",
      "text/html": "<div>\n<style scoped>\n    .dataframe tbody tr th:only-of-type {\n        vertical-align: middle;\n    }\n\n    .dataframe tbody tr th {\n        vertical-align: top;\n    }\n\n    .dataframe thead th {\n        text-align: right;\n    }\n</style>\n<table border=\"1\" class=\"dataframe\">\n  <thead>\n    <tr style=\"text-align: right;\">\n      <th></th>\n      <th>category</th>\n      <th>tech1</th>\n      <th>description</th>\n      <th>fit</th>\n      <th>title</th>\n      <th>also_buy</th>\n      <th>tech2</th>\n      <th>brand</th>\n      <th>feature</th>\n      <th>rank</th>\n      <th>also_view</th>\n      <th>details</th>\n      <th>main_cat</th>\n      <th>similar_item</th>\n      <th>date</th>\n      <th>price</th>\n      <th>asin</th>\n      <th>imageURL</th>\n      <th>imageURLHighRes</th>\n    </tr>\n  </thead>\n  <tbody>\n    <tr>\n      <th>0</th>\n      <td>[]</td>\n      <td></td>\n      <td>[Loud 'N Clear Personal Sound Amplifier allows...</td>\n      <td></td>\n      <td>Loud 'N Clear&amp;trade; Personal Sound Amplifier</td>\n      <td>[]</td>\n      <td></td>\n      <td>idea village</td>\n      <td>[]</td>\n      <td>2,938,573 in Beauty &amp; Personal Care (</td>\n      <td>[]</td>\n      <td>{'ASIN: ': '6546546450'}</td>\n      <td>All Beauty</td>\n      <td></td>\n      <td></td>\n      <td></td>\n      <td>6546546450</td>\n      <td>[]</td>\n      <td>[]</td>\n    </tr>\n    <tr>\n      <th>1</th>\n      <td>[]</td>\n      <td></td>\n      <td>[No7 Lift &amp; Luminate Triple Action Serum 50ml ...</td>\n      <td></td>\n      <td>No7 Lift &amp;amp; Luminate Triple Action Serum 50...</td>\n      <td>[B01E7LCSL6, B008X5RVME]</td>\n      <td></td>\n      <td></td>\n      <td>[]</td>\n      <td>872,854 in Beauty &amp; Personal Care (</td>\n      <td>[]</td>\n      <td>{'Shipping Weight:': '0.3 ounces (', 'ASIN: ':...</td>\n      <td>All Beauty</td>\n      <td>class=\"a-bordered a-horizontal-stripes  a-spa...</td>\n      <td></td>\n      <td>$44.99</td>\n      <td>7178680776</td>\n      <td>[]</td>\n      <td>[]</td>\n    </tr>\n    <tr>\n      <th>2</th>\n      <td>[]</td>\n      <td></td>\n      <td>[No7 Stay Perfect Foundation now stays perfect...</td>\n      <td></td>\n      <td>No7 Stay Perfect Foundation Cool Vanilla by No7</td>\n      <td>[]</td>\n      <td></td>\n      <td>No7</td>\n      <td>[]</td>\n      <td>956,696 in Beauty &amp; Personal Care (</td>\n      <td>[B01B8BR0O8, B01B8BR0NO, B014MHXXM8]</td>\n      <td>{'Shipping Weight:': '3.5 ounces (', 'ASIN: ':...</td>\n      <td>All Beauty</td>\n      <td></td>\n      <td></td>\n      <td>$28.76</td>\n      <td>7250468162</td>\n      <td>[]</td>\n      <td>[]</td>\n    </tr>\n    <tr>\n      <th>3</th>\n      <td>[]</td>\n      <td></td>\n      <td>[]</td>\n      <td></td>\n      <td>Wella Koleston Perfect Hair Colour 44/44 Mediu...</td>\n      <td>[B0041PBXX8]</td>\n      <td></td>\n      <td></td>\n      <td>[]</td>\n      <td>1,870,258 in Beauty &amp; Personal Care (</td>\n      <td>[]</td>\n      <td>{'\n    Item Weight: \n    ': '1.76 ounces', 'Sh...</td>\n      <td>All Beauty</td>\n      <td></td>\n      <td></td>\n      <td></td>\n      <td>7367905066</td>\n      <td>[https://images-na.ssl-images-amazon.com/image...</td>\n      <td>[https://images-na.ssl-images-amazon.com/image...</td>\n    </tr>\n    <tr>\n      <th>4</th>\n      <td>[]</td>\n      <td></td>\n      <td>[Lacto Calamine Skin Balance Daily Nourishing ...</td>\n      <td></td>\n      <td>Lacto Calamine Skin Balance Oil control 120 ml...</td>\n      <td>[]</td>\n      <td></td>\n      <td>Pirmal Healthcare</td>\n      <td>[]</td>\n      <td>67,701 in Beauty &amp; Personal Care (</td>\n      <td>[3254895630, B007VL1D9S, B00EH9A0RI, B0773MBG4...</td>\n      <td>{'Shipping Weight:': '12 ounces (', 'ASIN: ': ...</td>\n      <td>All Beauty</td>\n      <td></td>\n      <td></td>\n      <td>$12.15</td>\n      <td>7414204790</td>\n      <td>[https://images-na.ssl-images-amazon.com/image...</td>\n      <td>[https://images-na.ssl-images-amazon.com/image...</td>\n    </tr>\n  </tbody>\n</table>\n</div>"
     },
     "execution_count": 127,
     "metadata": {},
     "output_type": "execute_result"
    }
   ],
   "source": [
    "metadata.head()"
   ]
  },
  {
   "cell_type": "code",
   "execution_count": 128,
   "id": "b402792c",
   "metadata": {},
   "outputs": [
    {
     "data": {
      "text/plain": "         asin      reviewerID  overall  unixReviewTime\n0  0143026860  A1V6B6TNIC10QE      1.0      1424304000\n1  0143026860  A2F5GHSXFQ0W6J      4.0      1418860800\n2  0143026860  A1572GUYS7DGSR      4.0      1407628800\n3  0143026860   A1PSGLFK1NSVO      5.0      1362960000\n4  0143026860   A6IKXKZMTKGSC      5.0      1324771200",
      "text/html": "<div>\n<style scoped>\n    .dataframe tbody tr th:only-of-type {\n        vertical-align: middle;\n    }\n\n    .dataframe tbody tr th {\n        vertical-align: top;\n    }\n\n    .dataframe thead th {\n        text-align: right;\n    }\n</style>\n<table border=\"1\" class=\"dataframe\">\n  <thead>\n    <tr style=\"text-align: right;\">\n      <th></th>\n      <th>asin</th>\n      <th>reviewerID</th>\n      <th>overall</th>\n      <th>unixReviewTime</th>\n    </tr>\n  </thead>\n  <tbody>\n    <tr>\n      <th>0</th>\n      <td>0143026860</td>\n      <td>A1V6B6TNIC10QE</td>\n      <td>1.0</td>\n      <td>1424304000</td>\n    </tr>\n    <tr>\n      <th>1</th>\n      <td>0143026860</td>\n      <td>A2F5GHSXFQ0W6J</td>\n      <td>4.0</td>\n      <td>1418860800</td>\n    </tr>\n    <tr>\n      <th>2</th>\n      <td>0143026860</td>\n      <td>A1572GUYS7DGSR</td>\n      <td>4.0</td>\n      <td>1407628800</td>\n    </tr>\n    <tr>\n      <th>3</th>\n      <td>0143026860</td>\n      <td>A1PSGLFK1NSVO</td>\n      <td>5.0</td>\n      <td>1362960000</td>\n    </tr>\n    <tr>\n      <th>4</th>\n      <td>0143026860</td>\n      <td>A6IKXKZMTKGSC</td>\n      <td>5.0</td>\n      <td>1324771200</td>\n    </tr>\n  </tbody>\n</table>\n</div>"
     },
     "execution_count": 128,
     "metadata": {},
     "output_type": "execute_result"
    }
   ],
   "source": [
    "ratings.head()"
   ]
  },
  {
   "cell_type": "markdown",
   "id": "695362e3",
   "metadata": {},
   "source": [
    "## 資料整理"
   ]
  },
  {
   "cell_type": "code",
   "execution_count": 129,
   "outputs": [
    {
     "data": {
      "text/plain": "0        2938573\n1         872854\n2         956696\n3        1870258\n4          67701\n          ...   \n32887    2145325\n32888    1639713\n32889     207410\n32890     965673\n32891     478123\nName: rank_num, Length: 32892, dtype: int64"
     },
     "execution_count": 129,
     "metadata": {},
     "output_type": "execute_result"
    }
   ],
   "source": [
    "# rank\n",
    "def take_number(row):\n",
    "    if type(row) is list and len(row) > 0:\n",
    "        return str(row[0]).replace(',', '')\n",
    "    else:\n",
    "        return 0\n",
    "\n",
    "metadata['rank_num'] = pd.to_numeric(metadata['rank'].str.split().apply(lambda row: take_number(row)))\n",
    "metadata['rank_num']"
   ],
   "metadata": {
    "collapsed": false,
    "pycharm": {
     "name": "#%%\n"
    }
   }
  },
  {
   "cell_type": "code",
   "execution_count": 137,
   "outputs": [
    {
     "name": "stderr",
     "output_type": "stream",
     "text": [
      "/var/folders/bg/xxg6qbpn4ll_hcgqp_vlb_wh0000gp/T/ipykernel_1951/1844010595.py:10: FutureWarning: The default value of regex will change from True to False in a future version. In addition, single character regular expressions will *not* be treated as literal strings when regex=True.\n",
      "  metadata['price_num'] = metadata['price'].str.replace('$', '').apply(lambda row: take_price_number(row))\n"
     ]
    },
    {
     "data": {
      "text/plain": "<Figure size 432x288 with 1 Axes>",
      "image/png": "[encoded data removed]"
     },
     "metadata": {
      "needs_background": "light"
     },
     "output_type": "display_data"
    }
   ],
   "source": [
    "NO_PRICE = 9999999\n",
    "def take_price_number(x):\n",
    "    try:\n",
    "        if type(x) is str and len(x) > 0:\n",
    "            return float(x)\n",
    "        else:\n",
    "            return NO_PRICE\n",
    "    except:\n",
    "        return NO_PRICE\n",
    "metadata['price_num'] = metadata['price'].str.replace('$', '').apply(lambda row: take_price_number(row))\n",
    "\n",
    "plt.hist(metadata[metadata['price_num'] != NO_PRICE]['price_num'], bins=1000)\n",
    "plt.title('item price')\n",
    "plt.xlabel(\"price\")\n",
    "plt.ylabel(\"amount\")\n",
    "plt.show()"
   ],
   "metadata": {
    "collapsed": false,
    "pycharm": {
     "name": "#%%\n"
    }
   }
  },
  {
   "cell_type": "code",
   "execution_count": 131,
   "id": "b552fb23",
   "metadata": {},
   "outputs": [],
   "source": [
    "ratings['DATE'] = pd.to_datetime(ratings['unixReviewTime'], unit='s')\n"
   ]
  },
  {
   "cell_type": "markdown",
   "id": "054eeba4",
   "metadata": {},
   "source": [
    "## 資料切分"
   ]
  },
  {
   "cell_type": "code",
   "execution_count": 132,
   "id": "284b14a8",
   "metadata": {},
   "outputs": [],
   "source": [
    "ratings_trainings = ratings[\n",
    "    (ratings['DATE'] < '2018-09-01')\n",
    "]\n",
    "ratings_testings = ratings[\n",
    "    (ratings['DATE'] >= '2018-09-01') & \n",
    "    (ratings['DATE'] <= '2018-09-30')\n",
    "]\n",
    "ratings_testings_by_user = ratings_testings.groupby('reviewerID').agg(list).reset_index()[['reviewerID', 'asin']].to_dict('records')\n",
    "ratings_testings_by_user = { rating['reviewerID']: rating['asin'] for rating in ratings_testings_by_user }\n",
    "users = list(ratings_testings_by_user.keys())\n"
   ]
  },
  {
   "cell_type": "code",
   "execution_count": 133,
   "outputs": [
    {
     "data": {
      "text/plain": "                                                    date_list       last\nasin                                                                    \n6546546450         [2013-08-13 00:00:00, 2009-01-29 00:00:00] 2013-08-13\n7178680776                              [2017-10-06 00:00:00] 2017-10-06\n7250468162                              [2017-08-26 00:00:00] 2017-08-26\n7367905066                              [2017-04-12 00:00:00] 2017-04-12\n7414204790  [2016-03-10 00:00:00, 2015-09-01 00:00:00, 201... 2018-03-02\n...                                                       ...        ...\nB01HIWLLUK                              [2016-09-24 00:00:00] 2016-09-24\nB01HJ1K3YK                              [2017-04-21 00:00:00] 2017-04-21\nB01HJ84SGM  [2018-03-23 00:00:00, 2017-10-03 00:00:00, 201... 2018-03-23\nB01HJASD20                              [2016-08-31 00:00:00] 2016-08-31\nB01HJEGTYK  [2016-11-02 00:00:00, 2018-06-27 00:00:00, 201... 2018-06-27\n\n[32482 rows x 2 columns]",
      "text/html": "<div>\n<style scoped>\n    .dataframe tbody tr th:only-of-type {\n        vertical-align: middle;\n    }\n\n    .dataframe tbody tr th {\n        vertical-align: top;\n    }\n\n    .dataframe thead th {\n        text-align: right;\n    }\n</style>\n<table border=\"1\" class=\"dataframe\">\n  <thead>\n    <tr style=\"text-align: right;\">\n      <th></th>\n      <th>date_list</th>\n      <th>last</th>\n    </tr>\n    <tr>\n      <th>asin</th>\n      <th></th>\n      <th></th>\n    </tr>\n  </thead>\n  <tbody>\n    <tr>\n      <th>6546546450</th>\n      <td>[2013-08-13 00:00:00, 2009-01-29 00:00:00]</td>\n      <td>2013-08-13</td>\n    </tr>\n    <tr>\n      <th>7178680776</th>\n      <td>[2017-10-06 00:00:00]</td>\n      <td>2017-10-06</td>\n    </tr>\n    <tr>\n      <th>7250468162</th>\n      <td>[2017-08-26 00:00:00]</td>\n      <td>2017-08-26</td>\n    </tr>\n    <tr>\n      <th>7367905066</th>\n      <td>[2017-04-12 00:00:00]</td>\n      <td>2017-04-12</td>\n    </tr>\n    <tr>\n      <th>7414204790</th>\n      <td>[2016-03-10 00:00:00, 2015-09-01 00:00:00, 201...</td>\n      <td>2018-03-02</td>\n    </tr>\n    <tr>\n      <th>...</th>\n      <td>...</td>\n      <td>...</td>\n    </tr>\n    <tr>\n      <th>B01HIWLLUK</th>\n      <td>[2016-09-24 00:00:00]</td>\n      <td>2016-09-24</td>\n    </tr>\n    <tr>\n      <th>B01HJ1K3YK</th>\n      <td>[2017-04-21 00:00:00]</td>\n      <td>2017-04-21</td>\n    </tr>\n    <tr>\n      <th>B01HJ84SGM</th>\n      <td>[2018-03-23 00:00:00, 2017-10-03 00:00:00, 201...</td>\n      <td>2018-03-23</td>\n    </tr>\n    <tr>\n      <th>B01HJASD20</th>\n      <td>[2016-08-31 00:00:00]</td>\n      <td>2016-08-31</td>\n    </tr>\n    <tr>\n      <th>B01HJEGTYK</th>\n      <td>[2016-11-02 00:00:00, 2018-06-27 00:00:00, 201...</td>\n      <td>2018-06-27</td>\n    </tr>\n  </tbody>\n</table>\n<p>32482 rows × 2 columns</p>\n</div>"
     },
     "execution_count": 133,
     "metadata": {},
     "output_type": "execute_result"
    }
   ],
   "source": [
    "# last bought\n",
    "popular_metadata = metadata.merge(ratings_trainings, left_on='asin', right_on='asin')[['asin', 'DATE']]\n",
    "popular_metadata = popular_metadata.groupby(by='asin').agg(date_list=('DATE', list)).reset_index()\n",
    "def last_date(row):\n",
    "    if type(row['date_list']) is list and len(row['date_list']) > 0:\n",
    "        return max(row['date_list'])\n",
    "    else:\n",
    "        return datetime(1911, 1, 10, 10, 10)\n",
    "popular_metadata['last'] = popular_metadata.apply(lambda row: last_date(row), axis=1)\n",
    "popular_metadata = popular_metadata.set_index('asin')\n",
    "popular_metadata\n",
    "# popular_metadata.loc['B01HJEGTYK'].loc['last']"
   ],
   "metadata": {
    "collapsed": false,
    "pycharm": {
     "name": "#%%\n"
    }
   }
  },
  {
   "cell_type": "code",
   "execution_count": 134,
   "outputs": [],
   "source": [
    "all_indexes_popular_metadata = popular_metadata.index.tolist()\n",
    "def query_last_bought(row):\n",
    "    if row['asin'] in all_indexes_popular_metadata:\n",
    "        return popular_metadata.loc[row['asin']].loc['last']\n",
    "    return datetime(1911, 1, 10, 10, 10)\n",
    "metadata['last_bought'] = metadata.apply(lambda row: query_last_bought(row), axis=1)"
   ],
   "metadata": {
    "collapsed": false,
    "pycharm": {
     "name": "#%%\n"
    }
   }
  },
  {
   "cell_type": "code",
   "execution_count": 135,
   "outputs": [
    {
     "name": "stderr",
     "output_type": "stream",
     "text": [
      "/var/folders/bg/xxg6qbpn4ll_hcgqp_vlb_wh0000gp/T/ipykernel_1951/3849842929.py:13: SettingWithCopyWarning: \n",
      "A value is trying to be set on a copy of a slice from a DataFrame.\n",
      "Try using .loc[row_indexer,col_indexer] = value instead\n",
      "\n",
      "See the caveats in the documentation: https://pandas.pydata.org/pandas-docs/stable/user_guide/indexing.html#returning-a-view-versus-a-copy\n",
      "  ratings_trainings['YYYY-Q'] = ratings_trainings.apply(lambda row: quarter(row), axis=1)\n"
     ]
    }
   ],
   "source": [
    "def quarter(row):\n",
    "  y = row['DATE'].strftime('%Y')\n",
    "  m = row['DATE'].strftime('%m')\n",
    "  if '01' <= m <= '03':\n",
    "      q = '1'\n",
    "  elif '04' <= m <= '06':\n",
    "      q = '2'\n",
    "  elif '07' <= m <= '09':\n",
    "      q = '3'\n",
    "  else:\n",
    "      q = '4'\n",
    "  return f'{y}-{q}'\n",
    "ratings_trainings['YYYY-Q'] = ratings_trainings.apply(lambda row: quarter(row), axis=1)"
   ],
   "metadata": {
    "collapsed": false,
    "pycharm": {
     "name": "#%%\n"
    }
   }
  },
  {
   "cell_type": "markdown",
   "source": [
    "## EDA\n",
    "\n",
    "查使用者是不是很愛低價"
   ],
   "metadata": {
    "collapsed": false
   }
  },
  {
   "cell_type": "code",
   "execution_count": 136,
   "outputs": [
    {
     "data": {
      "text/plain": "<Figure size 432x288 with 1 Axes>",
      "image/png": "[encoded data removed]"
     },
     "metadata": {
      "needs_background": "light"
     },
     "output_type": "display_data"
    }
   ],
   "source": [
    "df = ratings_trainings.merge(metadata, left_on='asin', right_on='asin')[['reviewerID', 'asin', 'DATE', 'price_num']]\n",
    "df = df[df['price_num'] != NO_PRICE]\n",
    "\n",
    "plt.hist(df['price_num'], bins=1000)\n",
    "plt.xlim([0, 100])\n",
    "plt.xlabel(\"price\")\n",
    "plt.ylabel(\"frequency\")\n",
    "plt.show()\n"
   ],
   "metadata": {
    "collapsed": false,
    "pycharm": {
     "name": "#%%\n"
    }
   }
  },
  {
   "cell_type": "markdown",
   "source": [
    "## 資料過濾\n",
    "2014-3 - 2018-2 期間的評論人數大於 10000"
   ],
   "metadata": {
    "collapsed": false
   }
  },
  {
   "cell_type": "code",
   "execution_count": 118,
   "outputs": [
    {
     "data": {
      "text/plain": "              asin      reviewerID  overall  unixReviewTime       DATE  YYYY-Q\n0       0143026860  A1V6B6TNIC10QE      1.0      1424304000 2015-02-19  2015-1\n1       0143026860  A2F5GHSXFQ0W6J      4.0      1418860800 2014-12-18  2014-4\n2       0143026860  A1572GUYS7DGSR      4.0      1407628800 2014-08-10  2014-3\n7       014789302X  A26PO1B2Q2G1CS      1.0      1491782400 2017-04-10  2017-2\n8       014789302X   AQ812VYVTC2RJ      5.0      1483401600 2017-01-03  2017-1\n...            ...             ...      ...             ...        ...     ...\n371340  B01HJEGTYK  A202DCI7TV1022      1.0      1500508800 2017-07-20  2017-3\n371341  B01HJEGTYK  A3FSOR5IJOFIBE      5.0      1489622400 2017-03-16  2017-1\n371342  B01HJEGTYK  A1B5DK6CTP2P24      5.0      1488326400 2017-03-01  2017-1\n371343  B01HJEGTYK  A23OUYS5IRMJS9      2.0      1487635200 2017-02-21  2017-1\n371344  B01HJEGTYK  A24KQ9RVU81L87      2.0      1481760000 2016-12-15  2016-4\n\n[291335 rows x 6 columns]",
      "text/html": "<div>\n<style scoped>\n    .dataframe tbody tr th:only-of-type {\n        vertical-align: middle;\n    }\n\n    .dataframe tbody tr th {\n        vertical-align: top;\n    }\n\n    .dataframe thead th {\n        text-align: right;\n    }\n</style>\n<table border=\"1\" class=\"dataframe\">\n  <thead>\n    <tr style=\"text-align: right;\">\n      <th></th>\n      <th>asin</th>\n      <th>reviewerID</th>\n      <th>overall</th>\n      <th>unixReviewTime</th>\n      <th>DATE</th>\n      <th>YYYY-Q</th>\n    </tr>\n  </thead>\n  <tbody>\n    <tr>\n      <th>0</th>\n      <td>0143026860</td>\n      <td>A1V6B6TNIC10QE</td>\n      <td>1.0</td>\n      <td>1424304000</td>\n      <td>2015-02-19</td>\n      <td>2015-1</td>\n    </tr>\n    <tr>\n      <th>1</th>\n      <td>0143026860</td>\n      <td>A2F5GHSXFQ0W6J</td>\n      <td>4.0</td>\n      <td>1418860800</td>\n      <td>2014-12-18</td>\n      <td>2014-4</td>\n    </tr>\n    <tr>\n      <th>2</th>\n      <td>0143026860</td>\n      <td>A1572GUYS7DGSR</td>\n      <td>4.0</td>\n      <td>1407628800</td>\n      <td>2014-08-10</td>\n      <td>2014-3</td>\n    </tr>\n    <tr>\n      <th>7</th>\n      <td>014789302X</td>\n      <td>A26PO1B2Q2G1CS</td>\n      <td>1.0</td>\n      <td>1491782400</td>\n      <td>2017-04-10</td>\n      <td>2017-2</td>\n    </tr>\n    <tr>\n      <th>8</th>\n      <td>014789302X</td>\n      <td>AQ812VYVTC2RJ</td>\n      <td>5.0</td>\n      <td>1483401600</td>\n      <td>2017-01-03</td>\n      <td>2017-1</td>\n    </tr>\n    <tr>\n      <th>...</th>\n      <td>...</td>\n      <td>...</td>\n      <td>...</td>\n      <td>...</td>\n      <td>...</td>\n      <td>...</td>\n    </tr>\n    <tr>\n      <th>371340</th>\n      <td>B01HJEGTYK</td>\n      <td>A202DCI7TV1022</td>\n      <td>1.0</td>\n      <td>1500508800</td>\n      <td>2017-07-20</td>\n      <td>2017-3</td>\n    </tr>\n    <tr>\n      <th>371341</th>\n      <td>B01HJEGTYK</td>\n      <td>A3FSOR5IJOFIBE</td>\n      <td>5.0</td>\n      <td>1489622400</td>\n      <td>2017-03-16</td>\n      <td>2017-1</td>\n    </tr>\n    <tr>\n      <th>371342</th>\n      <td>B01HJEGTYK</td>\n      <td>A1B5DK6CTP2P24</td>\n      <td>5.0</td>\n      <td>1488326400</td>\n      <td>2017-03-01</td>\n      <td>2017-1</td>\n    </tr>\n    <tr>\n      <th>371343</th>\n      <td>B01HJEGTYK</td>\n      <td>A23OUYS5IRMJS9</td>\n      <td>2.0</td>\n      <td>1487635200</td>\n      <td>2017-02-21</td>\n      <td>2017-1</td>\n    </tr>\n    <tr>\n      <th>371344</th>\n      <td>B01HJEGTYK</td>\n      <td>A24KQ9RVU81L87</td>\n      <td>2.0</td>\n      <td>1481760000</td>\n      <td>2016-12-15</td>\n      <td>2016-4</td>\n    </tr>\n  </tbody>\n</table>\n<p>291335 rows × 6 columns</p>\n</div>"
     },
     "execution_count": 118,
     "metadata": {},
     "output_type": "execute_result"
    }
   ],
   "source": [
    "ratings_trainings = ratings_trainings[ratings_trainings['YYYY-Q'] >= '2014-3']\n",
    "ratings_trainings = ratings_trainings[ratings_trainings['YYYY-Q'] <= '2018-2']\n",
    "ratings_trainings"
   ],
   "metadata": {
    "collapsed": false,
    "pycharm": {
     "name": "#%%\n"
    }
   }
  },
  {
   "cell_type": "markdown",
   "id": "a6c76061",
   "metadata": {},
   "source": [
    "## 產生推薦"
   ]
  },
  {
   "cell_type": "code",
   "execution_count": 119,
   "id": "9280a043",
   "metadata": {},
   "outputs": [],
   "source": [
    "import time\n",
    "import pandas as pd\n",
    "from surprise import Reader\n",
    "from surprise import Dataset\n",
    "from surprise import KNNBasic\n",
    "\n",
    "def extract_user_item_rating(training_data, method = 'latest_overall'):\n",
    "    if method == 'latest_overall':\n",
    "        training_data = (\n",
    "            training_data\n",
    "                .sort_values(\"DATE\", ascending=False)\n",
    "                .groupby(['reviewerID', 'asin']).head(1)\n",
    "            )\n",
    "        training_data = training_data[['reviewerID', 'asin', 'overall']]\n",
    "        return training_data\n",
    "\n",
    "    if method == 'sum_overall':\n",
    "        # overall = 加總所有 overall\n",
    "        training_data = (\n",
    "                training_data\n",
    "                    .sort_values(\"DATE\", ascending=False)\n",
    "                    .groupby(['reviewerID', 'asin'])\n",
    "                    .agg(overall=('overall', 'sum'))\n",
    "                    .reset_index()\n",
    "            )\n",
    "        training_data = training_data[['reviewerID', 'asin', 'overall']]\n",
    "        return training_data\n",
    "    raise Exception('method is not supported')\n",
    "\n",
    "def select_rec_items(item_list, k, method='first_k'):\n",
    "    if method == 'first_k':\n",
    "        # 原始做法，選前 k 個\n",
    "        return item_list[:k]\n",
    "    if method == 'low_price':\n",
    "        prices_list = [metadata[metadata['asin'] == item]['price_num'].tolist() for item in item_list]\n",
    "        df = pd.DataFrame.from_dict({\n",
    "            'asin': item_list,\n",
    "            'price_num': [prices[0] if len(prices) > 0 else NO_PRICE for prices in prices_list]\n",
    "        })\n",
    "        df = df.sort_values(by='price_num', ascending=True)\n",
    "        return df['asin'].tolist()[:k]\n",
    "    if method == 'low_price_and_last':\n",
    "        prices_list = [metadata[metadata['asin'] == item]['price_num'].tolist() for item in item_list]\n",
    "        last_list = [metadata[metadata['asin'] == item]['last_bought'].tolist() for item in item_list]\n",
    "        df = pd.DataFrame.from_dict({\n",
    "            'asin': item_list,\n",
    "            'price_num': [prices[0] if len(prices) > 0 else NO_PRICE for prices in prices_list],\n",
    "            'last': [lasts[0] if len(lasts) > 0 else datetime(1911, 1, 10, 10, 10) for lasts in last_list]\n",
    "        })\n",
    "        df['price_num'] = -df['price_num']\n",
    "        df = df.sort_values(by=['price_num', 'last'], ascending=False)\n",
    "        return df['asin'].tolist()[:k]\n",
    "    raise Exception('not support method')"
   ]
  },
  {
   "cell_type": "code",
   "execution_count": 121,
   "outputs": [
    {
     "name": "stdout",
     "output_type": "stream",
     "text": [
      "Computing the cosine similarity matrix...\n",
      "Done computing similarity matrix.\n"
     ]
    },
    {
     "data": {
      "text/plain": "{'A100XQFWKQ30O2': [],\n 'A103T1QOGFCSEH': [],\n 'A106UKKSJ2KXPF': [],\n 'A10A7GV4D5A11V': [],\n 'A1119JJ37ZLB8R': [],\n 'A113UOOLBSZN52': [],\n 'A12M4U7WK4ALCR': [],\n 'A12T8YTW6VWT7S': [],\n 'A1364JXGKB46MM': [],\n 'A137DALOQFKBTI': [],\n 'A13FEZ3WV7S2EY': [],\n 'A13IV4I1B0RXMG': [],\n 'A13JU88JAHN72I': [],\n 'A13K55R6VH1OOD': [],\n 'A13P7VFU075A': [],\n 'A13SWYE4QLB6NG': [],\n 'A13ZTQ0Q4ATA41': [],\n 'A142EDN04OD62U': [],\n 'A142I22FIC8MZK': [],\n 'A14834QTII5TLT': [],\n 'A14A447VPACTBC': [],\n 'A14AP6MN5XO6LB': [],\n 'A14CLF25IX25US': [],\n 'A14LYXC3HTBAHI': [],\n 'A14VUW4KZ34EOE': [],\n 'A14Y32P26G9YL': [],\n 'A157T25PBS7MX4': [],\n 'A15HZDSERD85C8': [],\n 'A15JJ8J1FGADIX': [],\n 'A15ZCL70JXXH89': [],\n 'A1617KN2IAWZ6J': [],\n 'A16E0O88262HKA': [],\n 'A16NSZ58PTVIYF': [],\n 'A16UGDXRTDLJG5': [],\n 'A16X9HR3UFQQXY': [],\n 'A16Y7V1CZCWKFV': ['B006IB5T4W',\n  'B01C4ZAPGM',\n  'B017BJ8KFE',\n  'B000EE9XYG',\n  'B00JYGWWIO',\n  'B00V82AG0S',\n  'B01BEWYRJ2',\n  'B00L88S190',\n  'B00X3T6FEU',\n  'B017CHORY8'],\n 'A174YOBOSW9WDN': [],\n 'A1786SKRAJXH86': [],\n 'A17K2BUZ20WD2': [],\n 'A17LYRFV645L0V': [],\n 'A18LNGVXDZBTUR': [],\n 'A19503XX7GU6J2': ['B000142ZFS',\n  'B0067F28ZW',\n  'B019DWCJDG',\n  'B01FTG8WBS',\n  'B001DKQ47E',\n  'B015DZXQKC',\n  'B006GESCPY',\n  'B00R2TO8AK',\n  'B0145TJAPC',\n  'B00NS8YAHU'],\n 'A19HVHRZDYFEOP': [],\n 'A19JM38B861BO4': [],\n 'A19KGY3W1P0MHT': [],\n 'A19KJPOF3QOJ24': [],\n 'A19U5RT4Q8Q1T6': [],\n 'A1AQNQUNX8B6JT': [],\n 'A1ARU0IN6RUFFD': [],\n 'A1BB4635KSKDMV': [],\n 'A1BCC7X6KRTBG0': [],\n 'A1BPJ56BXENC7': [],\n 'A1C0RI6W65FC8B': [],\n 'A1C60LJGZVEK27': [],\n 'A1CB2SMS3TD44Z': [],\n 'A1CNSU8P68CPLT': [],\n 'A1CSDWBYUJBCJZ': [],\n 'A1CTNNVIYHO25P': [],\n 'A1CTQF97HFYOZB': [],\n 'A1D5C2H9UFZHPU': [],\n 'A1D5UVH72Z6NJ1': [],\n 'A1DAUVZRVSLLNW': [],\n 'A1DCZ9882PXLVB': [],\n 'A1DZ63D35BNT86': [],\n 'A1E0QCKB4R2X8X': [],\n 'A1E76OZZ5YUWVA': [],\n 'A1EBHZPAYMILW9': [],\n 'A1EJVNGBY5GM5I': [],\n 'A1ER0356V2DSKW': [],\n 'A1EY751AUVO5NZ': ['B01254XUXW',\n  'B00AJECD2A',\n  'B01F6ENUK6',\n  'B01FHDYGQ8',\n  'B01B18T01Y',\n  'B01FCW88D6',\n  'B00TZ8XK1E',\n  'B018H0EJI8',\n  'B01DKQAXC0',\n  'B005V3AUK6'],\n 'A1EZFX1TRHSAJX': [],\n 'A1F08GM4B97FV': [],\n 'A1F6EFMBK795DJ': [],\n 'A1FC8Y896NZP4T': [],\n 'A1FKIAKVOBNN7Y': [],\n 'A1FKUBRPLG6Y8I': [],\n 'A1G2HL4W8B3TA0': [],\n 'A1G8Z9IKJ0BD1M': [],\n 'A1GEJ55RJGD7JW': [],\n 'A1GIYGD23YIDTN': [],\n 'A1GLG2IZBZHRAJ': [],\n 'A1H1T82FPO20DN': [],\n 'A1H7JDZ9BKTKGC': [],\n 'A1HBROZPSV5KT6': [],\n 'A1HBXMUIHTAIU2': [],\n 'A1I32A4SA9W2L2': [],\n 'A1IDJ6KR8CQV9I': [],\n 'A1II0TTUUE2C7Y': [],\n 'A1ILEZFIVOU0EP': [],\n 'A1ITJ5M7I9G7FR': [],\n 'A1IWTXM1SJWHDN': [],\n 'A1J2NTTE63GNG2': [],\n 'A1JRREJ5D62LFF': [],\n 'A1KGMTEXL70WF6': [],\n 'A1KWUQZJ1Z6MN2': [],\n 'A1LXJ8XCGNBXOF': [],\n 'A1M8YMS915ZK0B': [],\n 'A1NDRR3G9SJF18': [],\n 'A1NE6K8PXW780O': [],\n 'A1NEG0FRW5FDBL': [],\n 'A1NN82RWB6PXJW': [],\n 'A1NY67EVWD6CD6': [],\n 'A1OB41VQHXZ0R8': [],\n 'A1OJ2IXX8F7Q7X': [],\n 'A1OTIUDE7LWAGT': [],\n 'A1P1OHYJOOZX5P': [],\n 'A1PFDA9SL15S4O': [],\n 'A1PKBKALGLSX0Z': [],\n 'A1PMLXHE863GR6': [],\n 'A1PR178735XC70': ['B00RYGTT2S',\n  'B0067F28ZW',\n  'B00NM5A4A6',\n  'B00S4ABX2W',\n  'B00O1FYJPW',\n  'B00PXDQC1A',\n  'B00NNLZ5OY',\n  'B00NNLYTFU',\n  'B01FHDYGQ8',\n  'B01B18T01Y'],\n 'A1PXO67EUM5HJQ': [],\n 'A1QHS58JVFLF3I': [],\n 'A1QPKRHCAOQVZ5': [],\n 'A1R2TTULP0Z2BM': [],\n 'A1R8GBYBJWWWU0': [],\n 'A1RAXJN2Q4V20X': [],\n 'A1RCMCAJR2LJA4': [],\n 'A1RE2XA5HQD1D3': [],\n 'A1RMLPJ1PF8LGV': [],\n 'A1RX2ODQRQZVSI': [],\n 'A1S3NMNTSO6GW': [],\n 'A1S6OQV823B53J': [],\n 'A1SA3N793WT2LM': ['B00TZ8XK1E',\n  'B00U1VSN98',\n  'B00ARBOMTM',\n  'B000FOI48G',\n  'B000GLRREU',\n  'B0001TMDF0',\n  'B0054H0NZ6',\n  'B0119Q9FYU',\n  'B01DOVXRJC',\n  'B0189CM3U0'],\n 'A1SA932MLERVQY': [],\n 'A1SCZBXGPJ2615': [],\n 'A1SMXRCNRO4ZQM': [],\n 'A1T1N2585E1T0D': [],\n 'A1TEKLMF4V1X2C': [],\n 'A1TF44D9KYAD60': [],\n 'A1TGP1VTM3KCTI': [],\n 'A1TK5M6EM3GS3C': [],\n 'A1TO3GV14TGF2R': [],\n 'A1TP9JHTIY468V': ['B01GCLNY6C',\n  'B01DDQXRWU',\n  'B0001TMDF0',\n  'B019R7KEPC',\n  'B006LTTBMW',\n  'B014DH4FTC',\n  'B00M16MHHA',\n  'B00MGK9Z8U',\n  'B019DWCJDG',\n  'B00D2NURYQ'],\n 'A1UAOE8KO7Q1DZ': [],\n 'A1UDCDY6ZNE83T': [],\n 'A1UUNKRU1DTZTL': [],\n 'A1V0UJQ4XGAJ3H': [],\n 'A1VBZLO2JGYU1B': [],\n 'A1VC6YCAFKV6Q': [],\n 'A1VVEX78B2TYBX': [],\n 'A1VVQ2DFL0QLXF': [],\n 'A1VYWSQ2OXLH98': [],\n 'A1WEFBEJ7OHSVZ': ['B00S4A9PD6',\n  'B00W259T7G',\n  'B01G5ZLL06',\n  'B00BY8AGHE',\n  'B00O3092KW',\n  'B000WYJTZG',\n  'B00OTG3H1K',\n  'B010N8WKDS',\n  'B00CCG7UZS',\n  'B005HRT0U2'],\n 'A1WOX40GUAFDKW': [],\n 'A1WSZED2O5MA5T': [],\n 'A1XBJBT6HORBLA': [],\n 'A1XHN6JF8A8W69': [],\n 'A1XWCTARAQ0679': [],\n 'A1XZJ85PKMAZP0': [],\n 'A1YALF6PWOMS6S': [],\n 'A1YEO5KEW7M2GF': [],\n 'A1YQ33635DJEG5': [],\n 'A1YSAFP6T3JZ1C': [],\n 'A1YTPCNXQ2LJ5Z': [],\n 'A1YVXZK51DEDPC': [],\n 'A1Z3GE09RDY6O7': [],\n 'A1Z6IPI0G3QIUR': [],\n 'A1ZVXL7K0XY3S6': [],\n 'A1ZXYITUZM3Q6A': [],\n 'A202BVEB76NTMK': [],\n 'A205S0BTPEFI0I': [],\n 'A20MSUD02BETH2': [],\n 'A20P2XESU3G3EC': [],\n 'A20QY357E6SAF': [],\n 'A20SJ2793OUCPW': [],\n 'A20T7NNNUHH60H': [],\n 'A21JL9NVA7KEMC': [],\n 'A21M4N08F3EU5J': [],\n 'A21NUBJVBS230S': [],\n 'A21OELUKDF2E57': [],\n 'A21XQP90LEND9R': [],\n 'A21YO11OY4KATO': [],\n 'A220EHDBIGBL30': [],\n 'A224YJVNU30DVM': [],\n 'A22A1B25VBD0YO': [],\n 'A22EWIMT2GUTTL': [],\n 'A22EZJLTPINCFS': [],\n 'A22QJRB86RF6O1': [],\n 'A2320AUCHA95U2': [],\n 'A232IJ75I4KP9C': [],\n 'A23GTKDW92ZPP2': [],\n 'A23O1B8IVSYKMO': [],\n 'A23VR3KT0TPG83': [],\n 'A24HCM5QV0ZTJ5': [],\n 'A24ZE4O3OQMSP0': [],\n 'A255E6ZWUBMEJJ': [],\n 'A258D00BRNHJ77': [],\n 'A25TLD8KIU807H': [],\n 'A26434CRUTADT5': [],\n 'A26AT96096UOEZ': [],\n 'A26RKZDM4DK8OQ': [],\n 'A274IW68565M0U': [],\n 'A286OWYO1BDT52': [],\n 'A288UAQLON8FK2': [],\n 'A28E3FNV1BYC94': ['B00ARBOMTM',\n  'B007EITOSK',\n  'B00ATV35SY',\n  'B00DT4757A',\n  'B00DV76LU2',\n  'B007QG7G3U',\n  'B0067F28ZW',\n  'B00NT0AR7E',\n  'B001MW1MK2',\n  'B00R7TIG5I'],\n 'A28GO11F387SOX': [],\n 'A28H0PFALTML0I': [],\n 'A28OZKV4ZYZX42': [],\n 'A28P7FF1TVPG1K': [],\n 'A28Q7C1FAIZGLV': [],\n 'A29834GBB4DOP1': ['B000142ZFS',\n  'B014DH4FTC',\n  'B002K5SWA8',\n  'B01FHDYGQ8',\n  'B01B18T01Y',\n  'B01FCW88D6',\n  'B00TZ8XK1E',\n  'B018H0EJI8',\n  'B01DKQAXC0',\n  'B005V3AUK6'],\n 'A29HQ60YC1RG1P': [],\n 'A29MENRU87PET0': [],\n 'A29PZKXDCQFTYW': [],\n 'A29SD3TFGX6Q34': [],\n 'A2A0MIOWIW2SB8': [],\n 'A2A8ECI6ABJBMA': [],\n 'A2AAQWBJJTK3E1': ['B01FHDYGQ8',\n  'B01B18T01Y',\n  'B01FCW88D6',\n  'B00TZ8XK1E',\n  'B018H0EJI8',\n  'B01DKQAXC0',\n  'B005V3AUK6',\n  'B00IY2AFHY',\n  'B00HAZ7TWA',\n  'B00PSYOU90'],\n 'A2AE0E0H463YL6': [],\n 'A2APG6OZXU4QIZ': [],\n 'A2BDB427ROEP7H': [],\n 'A2BHJO8WOGMW6E': [],\n 'A2BOSA30FCF6G8': [],\n 'A2BU6N5956T9NH': [],\n 'A2BUZ308P92OYA': [],\n 'A2C1F859F9V1SL': [],\n 'A2C8YINPNRQOAU': [],\n 'A2CDQOF7WHUYKJ': [],\n 'A2CEEE0IK3LKN1': [],\n 'A2CZVE6ORV87C5': [],\n 'A2DD6RH1AF0PLI': [],\n 'A2DFOCWUKJX3PT': [],\n 'A2E8WG5GRZGMXU': [],\n 'A2ESQAPIGR2TJF': [],\n 'A2EUQ4ESAB2N6A': [],\n 'A2EZXF5YGYTOWN': [],\n 'A2F0VQQLSF558D': [],\n 'A2F3QV40SONN60': [],\n 'A2F95NSPD4XEEU': [],\n 'A2FA2J1JT12N7J': [],\n 'A2FFUJ5D4CMJ4L': [],\n 'A2FLLYV6Z8UQ26': [],\n 'A2G1XJ25DR7PVF': [],\n 'A2G5KJ0CZE65ZD': [],\n 'A2GFPTQ4VWDX96': ['B01FHDYGQ8',\n  'B01B18T01Y',\n  'B01FCW88D6',\n  'B00TZ8XK1E',\n  'B018H0EJI8',\n  'B01DKQAXC0',\n  'B005V3AUK6',\n  'B00IY2AFHY',\n  'B00HAZ7TWA',\n  'B00PSYOU90'],\n 'A2GJLNRQTVUNOF': [],\n 'A2GOFJ3OZZUZ3H': [],\n 'A2GV0FE30O6M67': [],\n 'A2H3W11661MWDA': [],\n 'A2H7FD5GQMJXAQ': [],\n 'A2H7VSYLKGKLLJ': [],\n 'A2HFAX39PMLIGH': [],\n 'A2I4O72AAE1T1T': [],\n 'A2I868XUY96VWA': [],\n 'A2IK039KMC8UP1': [],\n 'A2IMJV0CQMZLGC': ['B00GICLFKI',\n  'B0159ZECGI',\n  'B00567UTKI',\n  'B00YAFS3F0',\n  'B0058H0GA4',\n  'B0194BW6KC',\n  'B01HFUXIGA',\n  'B0186AH6VG',\n  'B005B6GCN2',\n  'B01CKLSOSG'],\n 'A2INWR0T7A7UN5': [],\n 'A2IOBG1ERS4JP3': ['B000GZJIVQ',\n  'B016A68H0C',\n  'B00H1M8R3C',\n  'B01FHDYGQ8',\n  'B01B18T01Y',\n  'B01FCW88D6',\n  'B00TZ8XK1E',\n  'B018H0EJI8',\n  'B01DKQAXC0',\n  'B005V3AUK6'],\n 'A2IRPQ7DXQ9YIN': [],\n 'A2J4WOR87ELFBH': [],\n 'A2JCBLTLYDPQLW': ['B01DKQAXC0',\n  'B00K7GWNAC',\n  'B00VF344X0',\n  'B00FEJ4JFY',\n  'B00G5L867C',\n  'B00763M03O',\n  'B0091OCA86',\n  'B00Q794RMA',\n  'B013KTNIME',\n  'B00NE5Q9JO'],\n 'A2JEH2NKM1Z8CQ': [],\n 'A2JXZSR7R85KX4': [],\n 'A2K7XZCFYGZH0O': [],\n 'A2KO4HGLWB57LI': [],\n 'A2KVN4XKFJH0I8': [],\n 'A2LM47GK1W7RRR': [],\n 'A2LSOMD2X9KCCH': [],\n 'A2LYTBRWFQJMKM': [],\n 'A2M4YSOJZELJ6N': ['B00VF344X0',\n  'B00OZ67E0Y',\n  'B00P1QBN5E',\n  'B010L7IEN6',\n  'B01FHDYGQ8',\n  'B01B18T01Y',\n  'B01FCW88D6',\n  'B00TZ8XK1E',\n  'B018H0EJI8',\n  'B01DKQAXC0'],\n 'A2MAZK8XSIDXPF': [],\n 'A2MDIPJ7MS0MUJ': [],\n 'A2MGO3WV3SX7X': [],\n 'A2MLV3I5MMJ2RA': [],\n 'A2MPSHMC0U29AV': [],\n 'A2NI47L1B1RXSG': [],\n 'A2NJQZBE8TSUYO': [],\n 'A2NWTETCSLOEQN': [],\n 'A2O4DMC8M5JFHG': [],\n 'A2O823CIB99X95': [],\n 'A2OT3011J8E1ZP': [],\n 'A2OXIHJW4K9NKE': [],\n 'A2P6L9MQK99U36': [],\n 'A2PB6LYMRA7Z9V': [],\n 'A2PEJEOUE9MNA6': [],\n 'A2PIBK3EOG5TBK': [],\n 'A2PY1DBGV9FQA2': [],\n 'A2Q5UOQ4L1BOB9': [],\n 'A2QE1WIYFY0HAP': [],\n 'A2QP73U21FHJZI': [],\n 'A2QV1YJODH28QP': [],\n 'A2RAISC8UEEBK9': [],\n 'A2RDNAR2R66DKD': [],\n 'A2RXAD7UZ4VFT6': [],\n 'A2S47NK970GKD9': [],\n 'A2SMFKDH22FMA3': [],\n 'A2SOH4QHL5DZ6D': [],\n 'A2SQIQZUBEAJR3': [],\n 'A2SWEHEK2BMPM8': [],\n 'A2SYZ28NVJZ4R1': [],\n 'A2T0AMZZLASKKV': [],\n 'A2TCLY6N04N9D7': [],\n 'A2TW5FC72PI7SE': [],\n 'A2UAC8RKSPUIKH': [],\n 'A2UX00W1OX5A80': [],\n 'A2V88AD0XHE2IE': [],\n 'A2VC9R3XCFOEP1': [],\n 'A2VLCD1OWKXBW0': [],\n 'A2VTFDQ1DZN7UI': [],\n 'A2WHTNQ939BS71': [],\n 'A2WQGKM49J8UYT': [],\n 'A2WX2YLLHJDLX7': [],\n 'A2X4BZH61VJH5M': [],\n 'A2XEM0Y2PBNYK3': [],\n 'A2XFJ8CTY7VDNN': [],\n 'A2XTIQTNDTY6IA': [],\n 'A2XVM7UW32TYJ4': [],\n 'A2XY3CJ3ZCAD03': ['B00PSYOU90',\n  'B00X8LM98Y',\n  'B014GG2KH4',\n  'B00XQ2VHL0',\n  'B01FHDYGQ8',\n  'B01B18T01Y',\n  'B01FCW88D6',\n  'B00TZ8XK1E',\n  'B018H0EJI8',\n  'B01DKQAXC0'],\n 'A2XYR0XUSOOBKN': [],\n 'A2Y1J1AKXDLR1': [],\n 'A2Y88AU2Y58W78': [],\n 'A2Z6RKQQUX4RJA': [],\n 'A2ZBZF2MUG5BMT': [],\n 'A2ZFTLMOAS9YS9': [],\n 'A2ZIIOGLNJDGAW': [],\n 'A2ZKSKEG5ADC67': [],\n 'A2ZZKY1V6M940H': [],\n 'A31LANQ03TDCXY': [],\n 'A323D529OO2E1G': [],\n 'A3254BNN69CL47': [],\n 'A327I3S4ZCZYBV': [],\n 'A32D5I46E15TEC': [],\n 'A32H6TQKJ1PQTP': [],\n 'A32KYN14BUANDF': [],\n 'A32OQFYMJ18HD6': [],\n 'A333LLJ35S8DVV': [],\n 'A33M6H443E78K3': [],\n 'A33S6R9E8SJQBP': [],\n 'A34DAQYDWYMVSG': [],\n 'A35F9VHYWAFR8J': [],\n 'A35F9XOEGELEWC': [],\n 'A35PB7968I55RI': [],\n 'A35RIL0AVMMXXL': [],\n 'A35Y5NLC3UEUQD': [],\n 'A367NSWV6NUSL1': [],\n 'A36I89SEZ432XE': [],\n 'A375WSDCO30KT9': [],\n 'A37G41T4DD51AH': [],\n 'A37M369VIVDDVJ': [],\n 'A37OPVPXMWHJJK': [],\n 'A37WMXX147RL1X': [],\n 'A37XPPIGUTR4LE': [],\n 'A388NSX468EY1E': [],\n 'A38GODWWMRN5IP': [],\n 'A38J6ZI0XZOY54': [],\n 'A38KP6TI3BUIM6': [],\n 'A38KUK8INKLRVW': [],\n 'A38OH5OTHDIENK': [],\n 'A38QGF4YG5YLUX': [],\n 'A3909LKTROS8XZ': [],\n 'A3961EO6PXRSV4': [],\n 'A39LZUDABR584J': [],\n 'A39PTGNQVCNU44': [],\n 'A39VI1UOID3TYE': [],\n 'A39YNT3CHM2I0Z': [],\n 'A3A3FMJO4E1E16': [],\n 'A3B99K4E030SZQ': [],\n 'A3BE6JK97CYAGA': ['B000050FDY',\n  'B01GCLNY6C',\n  'B000FOI48G',\n  'B000GLRREU',\n  'B0001TMDF0',\n  'B00H71UXFC',\n  'B005IHT94S',\n  'B000C1UBXS',\n  '1620213982',\n  'B0013NB7DW'],\n 'A3BLE5G96342IP': [],\n 'A3BNG9PTUPB4QO': [],\n 'A3BPFL7PM0EX1K': [],\n 'A3BT1WLPENXMD6': ['B00005JS5C',\n  '1620213982',\n  'B00OGZ39C6',\n  'B001F51T6S',\n  'B000UYIQYI',\n  'B014LHAEW6',\n  'B00RNKER4U',\n  'B00AQXD2HO',\n  'B00HID2N9I',\n  'B01CTIJEIY'],\n 'A3BU92XQ2M0FQV': [],\n 'A3BWTFXS9CXVAE': [],\n 'A3BXCNI6BG5GCW': [],\n 'A3C2F0Y7G5FRW3': [],\n 'A3CBKKG14IB1KH': [],\n 'A3CQ0NMUJ9TODP': [],\n 'A3CUAESGA4K7FU': [],\n 'A3CXM8XQ5Q1KPP': [],\n 'A3D0FFKCWXN2LR': [],\n 'A3D1IGUMS62SNU': [],\n 'A3D1VPTQGDS7H3': [],\n 'A3D4BNTGWVUMYY': [],\n 'A3DKARAF791Z5X': [],\n 'A3DTSBINBC9T1Y': [],\n 'A3DXQ86N43AUK3': [],\n 'A3DXW3542E4QUC': [],\n 'A3E9HGSGQCU4CT': [],\n 'A3EAHHQ7KV8LFG': [],\n 'A3EJS66CXBQLE8': [],\n 'A3ENBUF1TIQR5K': [],\n 'A3EZHDCUB7I4KM': [],\n 'A3F1C4MOB3X5XL': [],\n 'A3F6V5A2SFES04': [],\n 'A3FDEHXOYLD1AC': [],\n 'A3FGDP5PT4SPLK': [],\n 'A3FGWJLDNTJWED': [],\n 'A3G1X7LFBAPCUJ': [],\n 'A3GCKFO3G4AHLF': [],\n 'A3GGSN44XCR1LP': [],\n 'A3GPMU8E282AUW': [],\n 'A3GRQ9WMP4OXFE': [],\n 'A3GWKJFBX8ZKT6': [],\n 'A3H8Z7JS7XJHJJ': ['B015TAM2LK',\n  'B008XADNJE',\n  'B01GLA54SA',\n  'B00OM4ZD20',\n  'B01EX1LHNK',\n  'B01GR53BYI',\n  'B01FHDYGQ8',\n  'B01B18T01Y',\n  'B01FCW88D6',\n  'B00TZ8XK1E'],\n 'A3HRUR5VRFZ09F': [],\n 'A3IGRPW3T3WYYQ': [],\n 'A3J1T4IGQLKKMB': [],\n 'A3J9IGXNOJR2BL': [],\n 'A3JA23Z053GQH': [],\n 'A3JCDPKW3RY4RN': [],\n 'A3JEQJCEMX20GI': ['B01FLJROJ4',\n  'B008E0DBYA',\n  'B00021DJ32',\n  'B008EJJ50A',\n  'B006WYJM8Y',\n  'B00C4207LY',\n  'B00X7D36O4',\n  'B01BI8YFAS',\n  'B00IUI0QFS',\n  'B00ZUR15F2'],\n 'A3KFRJBKYYNED7': [],\n 'A3KS7QCK708PRV': [],\n 'A3KYSCD09GNSUT': [],\n 'A3LA1YKU7MU28G': [],\n 'A3LEZ2F3IJC8PI': [],\n 'A3LIUDVZL87BJ1': [],\n 'A3LW4UWD5IH59X': [],\n 'A3LX43D34SINN3': [],\n 'A3LZ31BL10WT5Y': [],\n 'A3MAKZCODKKTYI': [],\n 'A3MFCMTXMF9B6W': [],\n 'A3MKAAS1OCULM6': [],\n 'A3MOSFTVDLAPDQ': [],\n 'A3MSPZTFP55OAG': [],\n 'A3MYAEQWFLNGT7': [],\n 'A3N4SR54KR77RK': [],\n 'A3NVFNLI1D4JUI': [],\n 'A3NYG8M131X9CM': [],\n 'A3OAQJCQBNF2JV': [],\n 'A3OCZRK8OEGZKL': [],\n 'A3OIDZP7AI0URM': [],\n 'A3OVOP3ZAF1EZ2': [],\n 'A3P3RV0CUR0VRQ': [],\n 'A3P8Z0J9AH92IZ': [],\n 'A3PJ22YDBOO8DN': [],\n 'A3PLMGKX9OQWOY': [],\n 'A3QL4UXK2Z5Q7T': [],\n 'A3QLWWO4V4PFMJ': [],\n 'A3QUUP6DYHF9YC': [],\n 'A3R7ZWTFN19KIX': [],\n 'A3RCVP2TSCL409': [],\n 'A3RUEIK67SFBFQ': [],\n 'A3SG2GXNRU6AO8': [],\n 'A3SL5YEUG12X9A': [],\n 'A3SME2XHYE99M5': [],\n 'A3T0BPK8JD6MD5': [],\n 'A3T2OTYYUYGLP0': [],\n 'A3T35MARIMRX9M': [],\n 'A3T9MTY43BVAL8': [],\n 'A3T9WXXE7EWNT8': [],\n 'A3TELGW4O61A61': [],\n 'A3TGG91X7W9SE8': [],\n 'A3TSVNG02WZYSW': [],\n 'A3U32YT7BSZ0KJ': [],\n 'A3UAJ5O4VR3IQ3': [],\n 'A3UBQFB24OY57': [],\n 'A3UCBR5T51RVRF': [],\n 'A3URWO9TFNH3IW': [],\n 'A3V81XSQIPRKO8': [],\n 'A3V9LE9I6Z5AF3': [],\n 'A3VEZWV624JM4O': [],\n 'A3VFDFSQ8X74WJ': [],\n 'A3VXSKW11C3301': [],\n 'A4INUX2JA7KE2': [],\n 'A4IQXCCXDEAKW': ['B00SQ3S6TA',\n  'B00W259T7G',\n  'B0010ZBORW',\n  'B017M402PO',\n  'B0167XBHO6',\n  'B01C39X6TW',\n  'B018LJ5H2C',\n  'B01DGWYQCG',\n  'B01FWP41H0',\n  'B0186AH6VG'],\n 'A4PZHPMLBS8T3': [],\n 'A4SRPWVKZ8MBC': [],\n 'A4V3S90H5OZTV': [],\n 'A4VQ44JM97RBL': [],\n 'A5ECS1R7F1TUD': [],\n 'A5LV53PMV1X6R': [],\n 'A674HJEQGJ5R9': [],\n 'A679PFWSVAY0B': [],\n 'A6IX0T5Z4NEXG': [],\n 'A6JVX3BIR03UT': [],\n 'A6P34Q7M983DN': [],\n 'A72IXFDV3HVU6': [],\n 'A74XHLD33IB9S': [],\n 'A7EG6541KYNIU': [],\n 'A7HS9Y95Y9BI6': [],\n 'A7JUHUYLXIUVQ': ['B01FHDYGQ8',\n  'B01B18T01Y',\n  'B01FCW88D6',\n  'B00TZ8XK1E',\n  'B018H0EJI8',\n  'B01DKQAXC0',\n  'B005V3AUK6',\n  'B00IY2AFHY',\n  'B00HAZ7TWA',\n  'B00PSYOU90'],\n 'A7KQ3EGH8QTDS': [],\n 'A7SILTHEWXQ8T': [],\n 'A7Y4ETTLARUGI': ['B01FHDYGQ8',\n  'B01B18T01Y',\n  'B01FCW88D6',\n  'B00TZ8XK1E',\n  'B018H0EJI8',\n  'B01DKQAXC0',\n  'B005V3AUK6',\n  'B00IY2AFHY',\n  'B00HAZ7TWA',\n  'B00PSYOU90'],\n 'A7Z2BG3284EE8': [],\n 'A8FMILLDHAI14': [],\n 'A8JUUA4GHIAMI': [],\n 'A8LVPPXFVYGVU': [],\n 'A8ZUDRNPFB0FU': [],\n 'A9BXB2XYAW169': [],\n 'A9LOWDS5H848B': [],\n 'AA3TPN2ZXE9TE': [],\n 'AAD3T3WYTF1BR': [],\n 'AAJ1IA9SFH4IG': [],\n 'AAT4JCLA3VGRZ': [],\n 'ABNE90UVC4BMT': [],\n 'ABSMQNX2PDSWH': [],\n 'ABWCUEDFH8W5H': [],\n 'ABYOL1GQA39OB': [],\n 'AC0X1OVDMJX9': [],\n 'ACCY5NWUNEC87': [],\n 'ACE1ZIOI3U6PY': ['B007NIR2C6',\n  'B00IBDDALY',\n  'B00JY0PHJQ',\n  'B01FHDYGQ8',\n  'B01B18T01Y',\n  'B01FCW88D6',\n  'B00TZ8XK1E',\n  'B018H0EJI8',\n  'B01DKQAXC0',\n  'B005V3AUK6'],\n 'ACLAKWV2EFFB5': [],\n 'AD9O852KPYLHY': [],\n 'ADDXT6NXD9GQ7': [],\n 'ADG8D8X6P9X7M': [],\n 'ADR4IE33O06IJ': [],\n 'ADV1MNMPVS17V': [],\n 'ADYRHTPM2T2SE': [],\n 'AE6VHWVRXHU19': [],\n 'AEKJTREHL41OE': [],\n 'AEP7KPEZWI7VY': [],\n 'AETOYW0R5VN0X': [],\n 'AEZBSOFLB44RG': [],\n 'AFE9H6ABXM735': [],\n 'AFMQ7BBR4FYMB': [],\n 'AFY8EIWAT6H8J': [],\n 'AG0867QGE3R2B': [],\n 'AG3T3ILPXFL3H': [],\n 'AG74ZKO3BG57J': [],\n 'AGORXWI6K2RIR': [],\n 'AGRZQOBCF8H87': ['B000WYJTZG',\n  'B00NR90T0W',\n  'B01AB5SMOO',\n  'B0017TZD7S',\n  'B0189H1QKS',\n  'B01ESOQY9E',\n  'B01BUP23IK',\n  'B00EP1N77I',\n  'B0016BFK2U',\n  'B000NN5HFW'],\n 'AGTD0T9R78YLG': [],\n 'AGYIYIVZHBI60': [],\n 'AHGNU4UWGATOH': [],\n 'AHYRXYR235TWH': [],\n 'AIB7HX2UC3WHM': [],\n 'AITF34BGBMVJJ': ['B001QY8QXM',\n  'B0006U6RQU',\n  'B008URTTR0',\n  'B01AHSUT8M',\n  'B00VGQ8VTY',\n  'B01D8BM71W',\n  'B01AVJCDYA',\n  'B011BE3MXA',\n  'B013HAJFUU',\n  'B00R8J13W0'],\n 'AIU7HYQIC5D95': [],\n 'AJHSB0LT8NKP4': [],\n 'AJYMJEC6B7V52': [],\n 'AK4VANLR5UK95': [],\n 'AK7YIZE6ZZ1N9': ['B00T670JJU',\n  'B00T670MVU',\n  'B01FHDYGQ8',\n  'B01B18T01Y',\n  'B01FCW88D6',\n  'B00TZ8XK1E',\n  'B018H0EJI8',\n  'B01DKQAXC0',\n  'B005V3AUK6',\n  'B00IY2AFHY'],\n 'AKHSKD91MQ9DP': [],\n 'ALUZH689LQE6K': [],\n 'ALWLZC3GRRXPN': [],\n 'AM1KUDVTKXIAQ': [],\n 'AM9HBLGAPZQR7': [],\n 'AMA98TY969A1T': [],\n 'AMLDY4QY4HV0D': [],\n 'AMVZ9HW23Y42N': [],\n 'AN3QZR3OD7SFO': [],\n 'ANC6FN6T8JBB2': [],\n 'ANDGVKQ15NCZM': [],\n 'ANFUWUOC7EJKR': [],\n 'ANG7MOYBTWQE6': [],\n 'ANJ6Y9G0B4TM8': [],\n 'ANR73TPVBCQ9K': ['B00009RB1C',\n  'B01FHDYGQ8',\n  'B01B18T01Y',\n  'B01FCW88D6',\n  'B00TZ8XK1E',\n  'B018H0EJI8',\n  'B01DKQAXC0',\n  'B005V3AUK6',\n  'B00IY2AFHY',\n  'B00HAZ7TWA'],\n 'ANT034IX5ZPI9': [],\n 'AOB2Y1KJQG7K7': [],\n 'AONHG4PDUQ0D6': [],\n 'APA9SALOTTBM6': [],\n 'APARJQGAD0J4C': [],\n 'AQ5PKYF0FJA4B': [],\n 'AQCQQYEUHUX3M': [],\n 'AQYL4TDY2HU8Z': ['B01FHDYGQ8',\n  'B01B18T01Y',\n  'B01FCW88D6',\n  'B00TZ8XK1E',\n  'B018H0EJI8',\n  'B01DKQAXC0',\n  'B005V3AUK6',\n  'B00IY2AFHY',\n  'B00HAZ7TWA',\n  'B00PSYOU90'],\n 'AR9Y0CM5B174': [],\n 'ARLN791TA1RV7': [],\n 'AS8T77HTF9IHW': [],\n 'ASGIVOW34XNQS': ['B01EGT3NNG',\n  'B01FHDYGQ8',\n  'B01B18T01Y',\n  'B01FCW88D6',\n  'B00TZ8XK1E',\n  'B018H0EJI8',\n  'B01DKQAXC0',\n  'B005V3AUK6',\n  'B00IY2AFHY',\n  'B00HAZ7TWA'],\n 'ATJRZUXNWAWIK': ['B005V3AUK6',\n  'B00IY2AFHY',\n  'B000050FDY',\n  'B00120VWTK',\n  'B00JRN8UVC',\n  'B00AU62JG2',\n  'B00JVU3K9I',\n  'B000FOI48G',\n  'B000GLRREU',\n  'B006IB5T4W'],\n 'ATP2UCHTR7QMZ': [],\n 'ATR9J7TYR1KVL': [],\n 'ATVP6QJLS27EN': [],\n 'AU03W1V42994X': [],\n 'AU1BVXGV2KO8I': [],\n 'AU2JWZMFEVAH5': [],\n 'AU3MVNMVFSIM': [],\n 'AUKMWTDK16PAP': [],\n 'AUWJT1DM7SG2D': [],\n 'AV0O5NWF2NKDF': [],\n 'AV2MC7NNTMKTF': [],\n 'AVC89473DX6XU': [],\n 'AVFBQDR2KRNK6': [],\n 'AVIMJH2FF6QCH': [],\n 'AVO5FL5T9EZSR': [],\n 'AVQ0V2MIW2Z5K': [],\n 'AVWSUUBWD3RK4': [],\n 'AWJFUVK3064HX': [],\n 'AXM9OKKHRR4RP': [],\n 'AXPZI9N8HVHYO': [],\n 'AXQ57AZLKLPCQ': [],\n 'AXQS1B3WVRHQV': [],\n 'AXS7NH3GDN7EE': [],\n 'AY4F95T0JSTZ2': [],\n 'AYG63OK9TNBNP': [],\n 'AZE64W03EUJA4': [],\n 'AZECTAHZICNW5': [],\n 'AZEGZXCFTLSQB': [],\n 'AZEKC7DEXXJD7': [],\n 'AZFGSCB0S59LQ': [],\n 'AZHS42HV4FKKA': []}"
     },
     "execution_count": 121,
     "metadata": {},
     "output_type": "execute_result"
    }
   ],
   "source": [
    "recommender_users_gte_k = []\n",
    "def recommender(training_data, users=[], k=10, user_based=False, algo=KNNBasic):\n",
    "    training_data = extract_user_item_rating(training_data, 'sum_overall')\n",
    "\n",
    "    reader = Reader(rating_scale=(0, 5))\n",
    "    data = Dataset.load_from_df(training_data, reader=reader)\n",
    "\n",
    "    sim_options = {\n",
    "        'name': 'cosine',\n",
    "        'user_based': user_based  # compute similarities between items\n",
    "    }\n",
    "    algo_impl = algo(sim_options=sim_options)\n",
    "    trainset = data.build_full_trainset()\n",
    "    algo_impl.fit(trainset)\n",
    "\n",
    "    recommendation = {}\n",
    "    for user in users:\n",
    "        items_user_rated = set(training_data.loc[training_data['reviewerID'] == user]['asin'].to_list())\n",
    "        recommend_item_list = []\n",
    "        recommend_item_set = set()\n",
    "        for item in items_user_rated:\n",
    "            iid = algo_impl.trainset.to_inner_iid(item)\n",
    "            sim_k = k\n",
    "            recommend_items_iid = algo_impl.get_neighbors(iid, sim_k)\n",
    "            for sim_item_iid in recommend_items_iid:\n",
    "                item_raw_id = algo_impl.trainset.to_raw_iid(sim_item_iid)\n",
    "\n",
    "                # if user == 'A3BE6JK97CYAGA':\n",
    "                #     print('debug: %s <-> %s' % (item, item_raw_id))\n",
    "\n",
    "                # if item_raw_id not in items_user_rated and item_raw_id not in recommend_item_set:\n",
    "                if item_raw_id not in recommend_item_set:\n",
    "                    recommend_item_list.append(item_raw_id)\n",
    "                    recommend_item_set.add(item_raw_id)\n",
    "\n",
    "            if len(recommend_item_list) >= k:\n",
    "                recommender_users_gte_k.append(user)\n",
    "                recommend_item_list = select_rec_items(recommend_item_list, k)\n",
    "                # recommend_item_list = select_rec_items(recommend_item_list, k, 'low_price')\n",
    "                # recommend_item_list = select_rec_items(recommend_item_list, k, 'low_price_and_last')\n",
    "                break\n",
    "        recommendation[user] = recommend_item_list\n",
    "\n",
    "    return recommendation, algo_impl\n",
    "\n",
    "ratings_by_user, algo_impl = recommender(ratings_trainings, users, 10, False)\n",
    "ratings_by_user"
   ],
   "metadata": {
    "collapsed": false,
    "pycharm": {
     "name": "#%%\n"
    }
   }
  },
  {
   "cell_type": "markdown",
   "id": "04a4ca9e",
   "metadata": {},
   "source": [
    "## 結果評估"
   ]
  },
  {
   "cell_type": "code",
   "execution_count": 122,
   "id": "ee763747",
   "metadata": {},
   "outputs": [
    {
     "data": {
      "text/plain": "0.003389830508474576"
     },
     "execution_count": 122,
     "metadata": {},
     "output_type": "execute_result"
    }
   ],
   "source": [
    "def evaluate(ratings_testings_by_user={}, ratings_by_user={}, method=None):\n",
    "    '''\n",
    "    * ratings_testings_by_user: dict 真實被購買的商品資料（2018-09-01 以後資料）\n",
    "    * ratings_by_user: dict 利用訓練資料學習的推薦商品\n",
    "    * method: str\n",
    "    * score: float\n",
    "    '''\n",
    "    total = 0\n",
    "    for d in ratings_testings_by_user:\n",
    "        if d in ratings_by_user:\n",
    "            total += len(set(ratings_by_user[d]) & set(ratings_testings_by_user[d]))\n",
    "    score = total / len(ratings_testings)\n",
    "    return score\n",
    "\n",
    "evaluate(ratings_testings_by_user, ratings_by_user)"
   ]
  },
  {
   "cell_type": "code",
   "execution_count": 123,
   "id": "53055ac2",
   "metadata": {},
   "outputs": [
    {
     "name": "stdout",
     "output_type": "stream",
     "text": [
      "hit_count: 2\n",
      "fail_count: 30\n",
      "no_rec_count=558\n"
     ]
    },
    {
     "data": {
      "text/plain": "['A2M4YSOJZELJ6N', 'A3BE6JK97CYAGA']"
     },
     "execution_count": 123,
     "metadata": {},
     "output_type": "execute_result"
    }
   ],
   "source": [
    "hit_count = 0 # 有推薦，中了\n",
    "fail_count = 0 # 有推薦，沒有中\n",
    "no_rec_count = 0 # 沒有推薦，沒有中\n",
    "fail_users = []\n",
    "success_users = []\n",
    "for user in ratings_testings['reviewerID']:\n",
    "    if len(ratings_by_user[user]) > 0:\n",
    "        rec_items = metadata[metadata['asin'].isin(ratings_by_user[user])]\n",
    "        actual = metadata[metadata['asin'].isin(ratings_testings_by_user[user])]\n",
    "\n",
    "        # print('user: %s' % user)\n",
    "        if set(rec_items['title'].tolist()) & set(actual['title'].tolist()):\n",
    "            hit_count += 1\n",
    "            success_users.append(user)\n",
    "            # print('推薦: %s \\n%s' % (rec_items['asin'].tolist(), '\\n'.join(rec_items['title'].tolist())))\n",
    "            # print('實際：%s \\n%s' % (actual['asin'].tolist(), '\\n'.join(actual['title'].tolist())))\n",
    "        else:\n",
    "            fail_count += 1\n",
    "            # print('推薦: %s \\n%s' % (rec_items['asin'].tolist(), '\\n'.join(rec_items['title'].tolist())))\n",
    "            # print('實際：%s \\n%s' % (actual['asin'].tolist(), '\\n'.join(actual['title'].tolist())))\n",
    "            fail_users.append(user)\n",
    "\n",
    "        # print('===================')\n",
    "    else:\n",
    "        no_rec_count += 1\n",
    "print('hit_count: %s\\nfail_count: %s\\nno_rec_count=%s' % (hit_count, fail_count, no_rec_count))\n",
    "success_users"
   ]
  },
  {
   "cell_type": "markdown",
   "source": [
    "我們發現，\"有推薦，但沒有中\" 數量太高，也就是光用 cf-item-based 推出來的品質不夠好。"
   ],
   "metadata": {
    "collapsed": false,
    "pycharm": {
     "name": "#%% md\n"
    }
   }
  },
  {
   "cell_type": "code",
   "execution_count": 183,
   "outputs": [
    {
     "data": {
      "text/plain": "                  reviewerID        asin  overall\n0       A0010876CNE3ILIM9HV0  B01FHDYGQ8      5.0\n1       A001170867ZBE9FORRQL  B01B18T01Y      5.0\n2       A001170867ZBE9FORRQL  B01FCW88D6      5.0\n3       A0028738FYF1SKPPC7B1  B00TZ8XK1E      5.0\n4       A0045356A23634W7RI4M  B018H0EJI8      3.0\n...                      ...         ...      ...\n361007         AZZXKG9AGRVGU  B01DVW54I6      5.0\n361008         AZZYW4YOE1B6E  B003KWO3UI      5.0\n361009         AZZZ5UJWUVCYZ  B00IIZG80U      5.0\n361010         AZZZ5UJWUVCYZ  B01CZC20DU      5.0\n361011         AZZZ5UJWUVCYZ  B01FNJ9MOW      5.0\n\n[361012 rows x 3 columns]",
      "text/html": "<div>\n<style scoped>\n    .dataframe tbody tr th:only-of-type {\n        vertical-align: middle;\n    }\n\n    .dataframe tbody tr th {\n        vertical-align: top;\n    }\n\n    .dataframe thead th {\n        text-align: right;\n    }\n</style>\n<table border=\"1\" class=\"dataframe\">\n  <thead>\n    <tr style=\"text-align: right;\">\n      <th></th>\n      <th>reviewerID</th>\n      <th>asin</th>\n      <th>overall</th>\n    </tr>\n  </thead>\n  <tbody>\n    <tr>\n      <th>0</th>\n      <td>A0010876CNE3ILIM9HV0</td>\n      <td>B01FHDYGQ8</td>\n      <td>5.0</td>\n    </tr>\n    <tr>\n      <th>1</th>\n      <td>A001170867ZBE9FORRQL</td>\n      <td>B01B18T01Y</td>\n      <td>5.0</td>\n    </tr>\n    <tr>\n      <th>2</th>\n      <td>A001170867ZBE9FORRQL</td>\n      <td>B01FCW88D6</td>\n      <td>5.0</td>\n    </tr>\n    <tr>\n      <th>3</th>\n      <td>A0028738FYF1SKPPC7B1</td>\n      <td>B00TZ8XK1E</td>\n      <td>5.0</td>\n    </tr>\n    <tr>\n      <th>4</th>\n      <td>A0045356A23634W7RI4M</td>\n      <td>B018H0EJI8</td>\n      <td>3.0</td>\n    </tr>\n    <tr>\n      <th>...</th>\n      <td>...</td>\n      <td>...</td>\n      <td>...</td>\n    </tr>\n    <tr>\n      <th>361007</th>\n      <td>AZZXKG9AGRVGU</td>\n      <td>B01DVW54I6</td>\n      <td>5.0</td>\n    </tr>\n    <tr>\n      <th>361008</th>\n      <td>AZZYW4YOE1B6E</td>\n      <td>B003KWO3UI</td>\n      <td>5.0</td>\n    </tr>\n    <tr>\n      <th>361009</th>\n      <td>AZZZ5UJWUVCYZ</td>\n      <td>B00IIZG80U</td>\n      <td>5.0</td>\n    </tr>\n    <tr>\n      <th>361010</th>\n      <td>AZZZ5UJWUVCYZ</td>\n      <td>B01CZC20DU</td>\n      <td>5.0</td>\n    </tr>\n    <tr>\n      <th>361011</th>\n      <td>AZZZ5UJWUVCYZ</td>\n      <td>B01FNJ9MOW</td>\n      <td>5.0</td>\n    </tr>\n  </tbody>\n</table>\n<p>361012 rows × 3 columns</p>\n</div>"
     },
     "execution_count": 183,
     "metadata": {},
     "output_type": "execute_result"
    }
   ],
   "source": [
    "ratings_trainings_with_rating = extract_user_item_rating(ratings_trainings, 'sum_overall')\n",
    "ratings_trainings_with_rating.value_counts('overall')\n",
    "ratings_trainings_with_rating\n"
   ],
   "metadata": {
    "collapsed": false,
    "pycharm": {
     "name": "#%%\n"
    }
   }
  },
  {
   "cell_type": "code",
   "execution_count": 166,
   "outputs": [],
   "source": [
    "def found_good_k(algo_impl, center_item, target_item, max_k = 20, min_k = 10):\n",
    "    found = False\n",
    "    found_k = -1\n",
    "    for k in range(min_k, min(max_k, len(set(metadata['asin'].tolist())))):\n",
    "        iid = algo_impl.trainset.to_inner_iid(center_item)\n",
    "        recommend_items_iid = algo_impl.get_neighbors(iid, k)\n",
    "        if target_item in [algo_impl.trainset.to_raw_iid(iid) for iid in recommend_items_iid]:\n",
    "            found = True\n",
    "            found_k = k\n",
    "            break\n",
    "    # if found:\n",
    "    #     print('%s 出現, 當 k=%s' % (target_item, found_k))\n",
    "    # else:\n",
    "    #     print('找不到 k, 使得 %s 出現' % target_item)\n",
    "    return found_k\n"
   ],
   "metadata": {
    "collapsed": false,
    "pycharm": {
     "name": "#%%\n"
    }
   }
  },
  {
   "cell_type": "code",
   "execution_count": 132,
   "outputs": [
    {
     "name": "stdout",
     "output_type": "stream",
     "text": [
      "#fail_users: 36\n",
      "#recommender_users_gte_k: 38\n",
      "#intersection: 36\n"
     ]
    }
   ],
   "source": [
    "# 超過 k 的人和有推薦資料沒對到的人\n",
    "fail_users = list(set(fail_users))\n",
    "recommender_users_gte_k = list(set(recommender_users_gte_k))\n",
    "print('#fail_users: %s' % len(fail_users))\n",
    "print('#recommender_users_gte_k: %s' % len(recommender_users_gte_k))\n",
    "print('#intersection: %s' % len(set(recommender_users_gte_k) & set(fail_users)))\n",
    "# set(recommender_users_gte_k) & set(fail_users)"
   ],
   "metadata": {
    "collapsed": false,
    "pycharm": {
     "name": "#%%\n"
    }
   }
  },
  {
   "cell_type": "code",
   "execution_count": 123,
   "outputs": [
    {
     "data": {
      "text/plain": "'A2IOBG1ERS4JP3'"
     },
     "execution_count": 123,
     "metadata": {},
     "output_type": "execute_result"
    }
   ],
   "source": [
    "target_user = list(set(recommender_users_gte_k) & set(fail_users))[0]\n",
    "# target_user = success_users[0]\n",
    "target_user"
   ],
   "metadata": {
    "collapsed": false,
    "pycharm": {
     "name": "#%%\n"
    }
   }
  },
  {
   "cell_type": "code",
   "execution_count": 124,
   "outputs": [
    {
     "data": {
      "text/plain": "['B00JIN3QEM']"
     },
     "execution_count": 124,
     "metadata": {},
     "output_type": "execute_result"
    }
   ],
   "source": [
    "target_user_bought_items = ratings_trainings_with_rating[ratings_trainings_with_rating['reviewerID'] == target_user]['asin'].tolist()\n",
    "target_user_bought_items"
   ],
   "metadata": {
    "collapsed": false,
    "pycharm": {
     "name": "#%%\n"
    }
   }
  },
  {
   "cell_type": "markdown",
   "source": [
    "使用 ”sum_overall” 的方式做為 rating，\n",
    "\n",
    "| user           | 購買紀錄  -> 測試集的正確購買     | 包含正確購買商品的k |\n",
    "|----------------|-------------------------------|---------------------|\n",
    "| A3BT1WLPENXMD6 | B0013NB7DW -> B01E7UKR38      | 27                  |\n",
    "| A3BT1WLPENXMD6 | B019809F9Y -> B01E7UKR38      | 35                  |\n",
    "| ATJRZUXNWAWIK  | B01DKQAXC0 -> B01DDQXRWU      | 197                 |\n",
    "| A19503XX7GU6J2 | B019Z9LAPK -> B01CTQC9J2      | 382                 |\n",
    "| A19503XX7GU6J2 | B019Z9LD98 -> B01CTQC9J2      | 395                 |\n",
    "| A2XFJ8CTY7VDNN | B0067F28ZW -> B01CTQC9J2      | 537                 |\n",
    "| A7JUHUYLXIUVQ  | B00BOJKTM0 -> B01GW09XRW      | 541                 |\n",
    "| A28E3FNV1BYC94 | B00U1VSN98 -> B0195R1FT8      | 597                 |\n",
    "| A2IMJV0CQMZLGC | B0195R1FT8 -> B016YROO36      | 609                 |\n",
    "| A1EY751AUVO5NZ | B01ENDFXJW -> B01E54U1RI      | 918                 |\n",
    "| A16Y7V1CZCWKFV | B015ZOWER2 -> B01E54U1RI      | 938                 |\n",
    "| A1WSZED2O5MA5T | B000WYJTZG -> B018WCT01C      | 1209                |\n",
    "| A3H8Z7JS7XJHJJ | B015TAM2LK -> B01FWP41H0      | 1377                |\n",
    "| A3H8Z7JS7XJHJJ | B00R8J13W0 -> B01FWP41H0      | 1379                |\n",
    "| A4IQXCCXDEAKW  | B001860E92 -> B01GK8P0CS      | 1880                |\n",
    "| A4IQXCCXDEAKW  | B013L9TX22 -> B01GK8P0CS      | 1891                |\n",
    "| A2IOBG1ERS4JP3 | B00JIN3QEM -> B01F1Y2YSK      | 1958                |\n",
    "| A2AAQWBJJTK3E1 | B00NFUXX6K -> B01BI8YFAS      | 2000                |\n",
    "| AITF34BGBMVJJ  | B01GLA54SA -> B01ES87TOY      | 2109                |\n",
    "| AGRZQOBCF8H87  | B00OPTR5GE -> B01ES87TOY      | 2112                |\n",
    "| AQYL4TDY2HU8Z  | B003B6QR5M -> B01CRSWZAU      | 2534                |\n",
    "| A1PR178735XC70 | B00NNLURMY -> B01CRSWZAU      | 2538                |\n",
    "| AK7YIZE6ZZ1N9  | B00M2J4HXI -> B01HC6G4D6      | 3069                |\n",
    "| A1TP9JHTIY468V | B01CTKQL56 -> B01CT5SNQQ      | 3137                |\n",
    "| A1TP9JHTIY468V | B01E6NITSG -> B01CT5SNQQ      | 3149                |\n",
    "| A2XY3CJ3ZCAD03 | B00015XAQA -> B01D8BV4VG      | 4636                |\n",
    "| A1WEFBEJ7OHSVZ | B002OITLG0 -> B0178H2LK4      | 5523                |\n",
    "| A3DXW3542E4QUC | B000V5PC70 -> B01D575H1G      | 5991                |\n",
    "| A13JU88JAHN72I | B009YDVB6Q -> B017I6B6GK      | 6037                |\n",
    "| ACE1ZIOI3U6PY  | B007NIR2C6 -> B01GOSELHE      | 6125                |\n",
    "| ACE1ZIOI3U6PY  | B00PZBBVZM -> B01GOSELHE      | 6125                |\n",
    "| ACE1ZIOI3U6PY  | B00JY0PHJQ -> B01GOSELHE      | 6128                |\n",
    "| A2BU6N5956T9NH | B00W259T7G -> B01FDO0GNI      | 6572                |\n",
    "| A29834GBB4DOP1 | B01COREXYA -> B01G00BHN2      | 7279                |\n",
    "| A2JCBLTLYDPQLW | B00NE5ZHB0 -> B01F47TKXQ      | 7703                |\n",
    "| ANR73TPVBCQ9K  | B010USX5S0 -> B01CWJHZW2      | 7861                |\n",
    "| A7Y4ETTLARUGI  | B00IUOH3KS -> B01DTU7YNI      | 8440                |\n",
    "| A3GRQ9WMP4OXFE | B00D7C9YQ4 -> B01HFT13NG      | 11905               |\n",
    "| A2GFPTQ4VWDX96 | B012BG2TIG -> B01FT94H1Y      | 16637               |\n",
    "| ASGIVOW34XNQS  | B000FQVJXQ -> B01CGPN2D8      | 17374               |\n",
    "| ASGIVOW34XNQS  | B01EGT3NNG -> B01CGPN2D8      | 17374               |\n",
    "| ASGIVOW34XNQS  | B0006O10P4 -> B01CGPN2D8      | 17380               |\n",
    "| A1UAOE8KO7Q1DZ | B006NXZ7TC -> B01DL7KJ04      | 23567               |\n",
    "| A3JEQJCEMX20GI | B007Z5RTRK -> B01FNIZH6A      | 28771               |\n",
    "| A3JEQJCEMX20GI | B01BUNDOIA -> B01FNIZH6A      | 28771               |\n",
    "| A1SA3N793WT2LM | B0075OYLKY -> B01GAFCQOQ      | 29255               |\n",
    "| A1SA3N793WT2LM | B012TQ6AXS -> B01GAFCQOQ      | 29255               |\n",
    "| A1SA3N793WT2LM | B0054H0NZ6 -> B01GAFCQOQ      | 29256               |\n",
    "| A1SA3N793WT2LM | B007EITOSK -> B01GAFCQOQ      | 29256               |\n"
   ],
   "metadata": {
    "collapsed": false,
    "pycharm": {
     "name": "#%% md\n"
    }
   }
  },
  {
   "cell_type": "code",
   "execution_count": 181,
   "outputs": [
    {
     "name": "stdout",
     "output_type": "stream",
     "text": [
      "A2IOBG1ERS4JP3  B00JIN3QEM <-> B01F1Y2YSK,  k=1958\n",
      "AITF34BGBMVJJ  B01GLA54SA <-> B01ES87TOY,  k=2109\n",
      "A3H8Z7JS7XJHJJ  B00R8J13W0 <-> B01FWP41H0,  k=1379\n",
      "A3H8Z7JS7XJHJJ  B015TAM2LK <-> B01FWP41H0,  k=1377\n",
      "A1WSZED2O5MA5T  B000WYJTZG <-> B018WCT01C,  k=1209\n",
      "A1EY751AUVO5NZ  B01ENDFXJW <-> B01E54U1RI,  k=918\n",
      "A13JU88JAHN72I  B009YDVB6Q <-> B017I6B6GK,  k=6037\n",
      "A28E3FNV1BYC94  B00U1VSN98 <-> B0195R1FT8,  k=597\n",
      "ASGIVOW34XNQS  B0006O10P4 <-> B01CGPN2D8,  k=17380\n",
      "ASGIVOW34XNQS  B000FQVJXQ <-> B01CGPN2D8,  k=17374\n",
      "ASGIVOW34XNQS  B01EGT3NNG <-> B01CGPN2D8,  k=17374\n",
      "A7JUHUYLXIUVQ  B00BOJKTM0 <-> B01GW09XRW,  k=541\n",
      "A7Y4ETTLARUGI  B00IUOH3KS <-> B01DTU7YNI,  k=8440\n",
      "A3DXW3542E4QUC  B000V5PC70 <-> B01D575H1G,  k=5991\n",
      "ATJRZUXNWAWIK  B01DKQAXC0 <-> B01DDQXRWU,  k=197\n",
      "A1UAOE8KO7Q1DZ  B006NXZ7TC <-> B01DL7KJ04,  k=23567\n",
      "A2IMJV0CQMZLGC  B0195R1FT8 <-> B016YROO36,  k=609\n",
      "A1WEFBEJ7OHSVZ  B002OITLG0 <-> B0178H2LK4,  k=5523\n",
      "AQYL4TDY2HU8Z  B003B6QR5M <-> B01CRSWZAU,  k=2534\n",
      "A2XFJ8CTY7VDNN  B0067F28ZW <-> B01CTQC9J2,  k=537\n",
      "A16Y7V1CZCWKFV  B015ZOWER2 <-> B01E54U1RI,  k=938\n",
      "ACE1ZIOI3U6PY  B007NIR2C6 <-> B01GOSELHE,  k=6125\n",
      "ACE1ZIOI3U6PY  B00JY0PHJQ <-> B01GOSELHE,  k=6128\n",
      "ACE1ZIOI3U6PY  B00PZBBVZM <-> B01GOSELHE,  k=6125\n",
      "A2JCBLTLYDPQLW  B00NE5ZHB0 <-> B01F47TKXQ,  k=7703\n",
      "A1PR178735XC70  B00NNLURMY <-> B01CRSWZAU,  k=2538\n",
      "A19503XX7GU6J2  B019Z9LAPK <-> B01CTQC9J2,  k=382\n",
      "A19503XX7GU6J2  B019Z9LD98 <-> B01CTQC9J2,  k=395\n",
      "A3JEQJCEMX20GI  B007Z5RTRK <-> B01FNIZH6A,  k=28771\n",
      "A3JEQJCEMX20GI  B01BUNDOIA <-> B01FNIZH6A,  k=28771\n",
      "AGRZQOBCF8H87  B00OPTR5GE <-> B01ES87TOY,  k=2112\n",
      "A1SA3N793WT2LM  B0054H0NZ6 <-> B01GAFCQOQ,  k=29256\n",
      "A1SA3N793WT2LM  B0075OYLKY <-> B01GAFCQOQ,  k=29255\n",
      "A1SA3N793WT2LM  B007EITOSK <-> B01GAFCQOQ,  k=29256\n",
      "A1SA3N793WT2LM  B012TQ6AXS <-> B01GAFCQOQ,  k=29255\n",
      "A3GRQ9WMP4OXFE  B00D7C9YQ4 <-> B01HFT13NG,  k=11905\n",
      "A2BU6N5956T9NH  B00W259T7G <-> B01FDO0GNI,  k=6572\n",
      "A29834GBB4DOP1  B01COREXYA <-> B01G00BHN2,  k=7279\n",
      "A2AAQWBJJTK3E1  B00NFUXX6K <-> B01BI8YFAS,  k=2000\n",
      "A4IQXCCXDEAKW  B001860E92 <-> B01GK8P0CS,  k=1880\n",
      "A4IQXCCXDEAKW  B013L9TX22 <-> B01GK8P0CS,  k=1891\n",
      "A2XY3CJ3ZCAD03  B00015XAQA <-> B01D8BV4VG,  k=4636\n",
      "A1TP9JHTIY468V  B01CTKQL56 <-> B01CT5SNQQ,  k=3137\n",
      "A1TP9JHTIY468V  B01E6NITSG <-> B01CT5SNQQ,  k=3149\n",
      "ANR73TPVBCQ9K  B010USX5S0 <-> B01CWJHZW2,  k=7861\n",
      "A3BT1WLPENXMD6  B0013NB7DW <-> B01E7UKR38,  k=27\n",
      "A3BT1WLPENXMD6  B019809F9Y <-> B01E7UKR38,  k=35\n",
      "AK7YIZE6ZZ1N9  B00M2J4HXI <-> B01HC6G4D6,  k=3069\n",
      "A2GFPTQ4VWDX96  B012BG2TIG <-> B01FT94H1Y,  k=16637\n"
     ]
    }
   ],
   "source": [
    "# for user in success_users:\n",
    "for user in list(set(recommender_users_gte_k) & set(fail_users)):\n",
    "    for bought_item in ratings_trainings_with_rating[ratings_trainings_with_rating['reviewerID'] == user]['asin'].tolist():\n",
    "        found_k = found_good_k(algo_impl, bought_item, ratings_testings_by_user[user][0], 32488, 25)\n",
    "        # if found_k > 0:\n",
    "        print('%s  %s <-> %s,  k=%s' % (user, bought_item, ratings_testings_by_user[user][0], found_k))\n"
   ],
   "metadata": {
    "collapsed": false,
    "pycharm": {
     "name": "#%%\n"
    }
   }
  },
  {
   "cell_type": "markdown",
   "source": [
    "下面的 k 值只要在 100 內，就有機會被推薦算法選到，我們分析看看\n",
    "```\n",
    "user           |   asin     ->  asin       |   k\n",
    "---------------------------------------------------\n",
    "A3BT1WLPENXMD6\tB0013NB7DW -> B01E7UKR38\t27\n",
    "A3BT1WLPENXMD6\tB019809F9Y -> B01E7UKR38\t35\n",
    "```"
   ],
   "metadata": {
    "collapsed": false,
    "pycharm": {
     "name": "#%% md\n"
    }
   }
  },
  {
   "cell_type": "code",
   "execution_count": 198,
   "outputs": [
    {
     "name": "stdout",
     "output_type": "stream",
     "text": [
      "Index(['reviewerID', 'asin', 'overall', 'category', 'tech1', 'description',\n",
      "       'fit', 'title', 'also_buy', 'tech2', 'brand', 'feature', 'rank',\n",
      "       'also_view', 'details', 'main_cat', 'similar_item', 'date', 'price',\n",
      "       'imageURL', 'imageURLHighRes', 'rank_num'],\n",
      "      dtype='object')\n"
     ]
    },
    {
     "data": {
      "text/plain": "            reviewerID        asin  rank_num   price\n164773  A10JVU3IW4RB3P  B01E7UKR38    306101  $11.25\n164774  A11B78UJSZ28BJ  B01E7UKR38    306101  $11.25\n164775  A11IKWE7B29TOJ  B01E7UKR38    306101  $11.25\n164776  A11OYTLOVT1PQR  B01E7UKR38    306101  $11.25\n164777  A12VFO8SXHONLF  B01E7UKR38    306101  $11.25\n...                ...         ...       ...     ...\n164988   AX5ZDQUSZG8MI  B01E7UKR38    306101  $11.25\n164989   AX6ANUGDCMG3F  B01E7UKR38    306101  $11.25\n164990   AXMXYK77IDK4O  B01E7UKR38    306101  $11.25\n164991   AZQKNX6F8S84Q  B01E7UKR38    306101  $11.25\n164992   AZV1CQOOA319G  B01E7UKR38    306101  $11.25\n\n[220 rows x 4 columns]",
      "text/html": "<div>\n<style scoped>\n    .dataframe tbody tr th:only-of-type {\n        vertical-align: middle;\n    }\n\n    .dataframe tbody tr th {\n        vertical-align: top;\n    }\n\n    .dataframe thead th {\n        text-align: right;\n    }\n</style>\n<table border=\"1\" class=\"dataframe\">\n  <thead>\n    <tr style=\"text-align: right;\">\n      <th></th>\n      <th>reviewerID</th>\n      <th>asin</th>\n      <th>rank_num</th>\n      <th>price</th>\n    </tr>\n  </thead>\n  <tbody>\n    <tr>\n      <th>164773</th>\n      <td>A10JVU3IW4RB3P</td>\n      <td>B01E7UKR38</td>\n      <td>306101</td>\n      <td>$11.25</td>\n    </tr>\n    <tr>\n      <th>164774</th>\n      <td>A11B78UJSZ28BJ</td>\n      <td>B01E7UKR38</td>\n      <td>306101</td>\n      <td>$11.25</td>\n    </tr>\n    <tr>\n      <th>164775</th>\n      <td>A11IKWE7B29TOJ</td>\n      <td>B01E7UKR38</td>\n      <td>306101</td>\n      <td>$11.25</td>\n    </tr>\n    <tr>\n      <th>164776</th>\n      <td>A11OYTLOVT1PQR</td>\n      <td>B01E7UKR38</td>\n      <td>306101</td>\n      <td>$11.25</td>\n    </tr>\n    <tr>\n      <th>164777</th>\n      <td>A12VFO8SXHONLF</td>\n      <td>B01E7UKR38</td>\n      <td>306101</td>\n      <td>$11.25</td>\n    </tr>\n    <tr>\n      <th>...</th>\n      <td>...</td>\n      <td>...</td>\n      <td>...</td>\n      <td>...</td>\n    </tr>\n    <tr>\n      <th>164988</th>\n      <td>AX5ZDQUSZG8MI</td>\n      <td>B01E7UKR38</td>\n      <td>306101</td>\n      <td>$11.25</td>\n    </tr>\n    <tr>\n      <th>164989</th>\n      <td>AX6ANUGDCMG3F</td>\n      <td>B01E7UKR38</td>\n      <td>306101</td>\n      <td>$11.25</td>\n    </tr>\n    <tr>\n      <th>164990</th>\n      <td>AXMXYK77IDK4O</td>\n      <td>B01E7UKR38</td>\n      <td>306101</td>\n      <td>$11.25</td>\n    </tr>\n    <tr>\n      <th>164991</th>\n      <td>AZQKNX6F8S84Q</td>\n      <td>B01E7UKR38</td>\n      <td>306101</td>\n      <td>$11.25</td>\n    </tr>\n    <tr>\n      <th>164992</th>\n      <td>AZV1CQOOA319G</td>\n      <td>B01E7UKR38</td>\n      <td>306101</td>\n      <td>$11.25</td>\n    </tr>\n  </tbody>\n</table>\n<p>220 rows × 4 columns</p>\n</div>"
     },
     "execution_count": 198,
     "metadata": {},
     "output_type": "execute_result"
    }
   ],
   "source": [
    "target_item = 'B01E7UKR38'\n",
    "df = ratings_trainings_with_rating.merge(metadata, left_on='asin', right_on='asin')\n",
    "print(df[df['asin'] == target_item].columns)\n",
    "df[df['asin'] == target_item][['reviewerID', 'asin', 'rank_num', 'price']]"
   ],
   "metadata": {
    "collapsed": false,
    "pycharm": {
     "name": "#%%\n"
    }
   }
  },
  {
   "cell_type": "code",
   "execution_count": 207,
   "outputs": [
    {
     "data": {
      "text/plain": "rank_num\n0          440\n1572809      3\n3400383      3\n739423       3\n618143       3\n          ... \n840004       1\n839959       1\n839795       1\n839744       1\n9549407      1\nLength: 31878, dtype: int64"
     },
     "execution_count": 207,
     "metadata": {},
     "output_type": "execute_result"
    }
   ],
   "source": [
    "metadata.value_counts('rank_num')"
   ],
   "metadata": {
    "collapsed": false,
    "pycharm": {
     "name": "#%%\n"
    }
   }
  },
  {
   "cell_type": "code",
   "execution_count": 211,
   "outputs": [
    {
     "data": {
      "text/plain": "<Figure size 432x288 with 1 Axes>",
      "image/png": "[encoded data removed]"
     },
     "metadata": {
      "needs_background": "light"
     },
     "output_type": "display_data"
    }
   ],
   "source": [
    "plt.hist(metadata['rank_num'], bins=100)\n",
    "plt.xlabel(\"rank\")\n",
    "plt.ylabel(\"frequency\")\n",
    "plt.show()"
   ],
   "metadata": {
    "collapsed": false,
    "pycharm": {
     "name": "#%%\n"
    }
   }
  },
  {
   "cell_type": "code",
   "execution_count": 298,
   "outputs": [
    {
     "name": "stdout",
     "output_type": "stream",
     "text": [
      "測試資料的 rank 百分位數，大部分連 0.5，都不到，表示：若擴大 k 後，用 rank 做為篩選排序推薦效果有限\n",
      "B01E7UKR38 's rank 306101 and quantile is 0.11\n",
      "B01E7UKR38 's rank 306101 and quantile is 0.11\n",
      "B01DDQXRWU 's rank 177624 and quantile is 0.07\n",
      "B01CTQC9J2 's rank 123447 and quantile is 0.05\n",
      "B01CTQC9J2 's rank 123447 and quantile is 0.05\n",
      "B01CTQC9J2 's rank 123447 and quantile is 0.05\n",
      "B01GW09XRW 's rank 5873 and quantile is 0.02\n",
      "B0195R1FT8 's rank 20807 and quantile is 0.02\n",
      "B016YROO36 's rank 27286 and quantile is 0.02\n",
      "B01E54U1RI 's rank 56863 and quantile is 0.03\n",
      "B01E54U1RI 's rank 56863 and quantile is 0.03\n",
      "B018WCT01C 's rank 60004 and quantile is 0.03\n",
      "B01FWP41H0 's rank 56959 and quantile is 0.03\n",
      "B01FWP41H0 's rank 56959 and quantile is 0.03\n",
      "B01GK8P0CS 's rank 310184 and quantile is 0.11\n",
      "B01GK8P0CS 's rank 310184 and quantile is 0.11\n",
      "B01F1Y2YSK 's rank 1461819 and quantile is 0.66\n",
      "B01BI8YFAS 's rank 20167 and quantile is 0.02\n",
      "B01ES87TOY 's rank 66688 and quantile is 0.03\n",
      "B01ES87TOY 's rank 66688 and quantile is 0.03\n",
      "B01CRSWZAU 's rank 228703 and quantile is 0.08\n",
      "B01CRSWZAU 's rank 228703 and quantile is 0.08\n",
      "B01HC6G4D6 's rank 266489 and quantile is 0.09\n",
      "B01CT5SNQQ 's rank 376282 and quantile is 0.13\n",
      "B01CT5SNQQ 's rank 376282 and quantile is 0.13\n",
      "B01D8BV4VG 's rank 192400 and quantile is 0.07\n",
      "B0178H2LK4 's rank 24033 and quantile is 0.02\n",
      "B01D575H1G 's rank 68471 and quantile is 0.04\n",
      "B017I6B6GK 's rank 368827 and quantile is 0.13\n",
      "B01GOSELHE 's rank 328735 and quantile is 0.11\n",
      "B01GOSELHE 's rank 328735 and quantile is 0.11\n",
      "B01GOSELHE 's rank 328735 and quantile is 0.11\n",
      "B01FDO0GNI 's rank 172109 and quantile is 0.07\n",
      "B01G00BHN2 's rank 71343 and quantile is 0.04\n",
      "B01F47TKXQ 's rank 120918 and quantile is 0.05\n",
      "B01CWJHZW2 's rank 101584 and quantile is 0.04\n",
      "B01DTU7YNI 's rank 693662 and quantile is 0.27\n",
      "B01HFT13NG 's rank 1142827 and quantile is 0.52\n",
      "B01FT94H1Y 's rank 905087 and quantile is 0.39\n",
      "B01CGPN2D8 's rank 201972 and quantile is 0.08\n",
      "B01CGPN2D8 's rank 201972 and quantile is 0.08\n",
      "B01CGPN2D8 's rank 201972 and quantile is 0.08\n",
      "B01DL7KJ04 's rank 504193 and quantile is 0.18\n",
      "B01FNIZH6A 's rank 148534 and quantile is 0.06\n",
      "B01FNIZH6A 's rank 148534 and quantile is 0.06\n",
      "B01GAFCQOQ 's rank 96204 and quantile is 0.04\n",
      "B01GAFCQOQ 's rank 96204 and quantile is 0.04\n",
      "B01GAFCQOQ 's rank 96204 and quantile is 0.04\n",
      "B01GAFCQOQ 's rank 96204 and quantile is 0.04\n",
      "測試資料的 price 百分位數，大部分連 0.5，都不到，表示：若擴大 k 後，用 rank 做為篩選排序推薦效果有限\n",
      "B01E7UKR38 's price 11.25 and quantile is 0.12\n",
      "B01E7UKR38 's price 11.25 and quantile is 0.12\n",
      "B01DDQXRWU 's price 9999999.0 and quantile is 0.35000000000000003\n",
      "B01CTQC9J2 's price 9999999.0 and quantile is 0.35000000000000003\n",
      "B01CTQC9J2 's price 9999999.0 and quantile is 0.35000000000000003\n",
      "B01CTQC9J2 's price 9999999.0 and quantile is 0.35000000000000003\n",
      "B01GW09XRW 's price 19.0 and quantile is 0.2\n",
      "B0195R1FT8 's price 39.95 and quantile is 0.29\n",
      "B016YROO36 's price 9.59 and quantile is 0.1\n",
      "B01E54U1RI 's price 12.99 and quantile is 0.14\n",
      "B01E54U1RI 's price 12.99 and quantile is 0.14\n",
      "B018WCT01C 's price 3.98 and quantile is 0.02\n",
      "B01FWP41H0 's price 12.5 and quantile is 0.14\n",
      "B01FWP41H0 's price 12.5 and quantile is 0.14\n",
      "B01GK8P0CS 's price 9999999.0 and quantile is 0.35000000000000003\n",
      "B01GK8P0CS 's price 9999999.0 and quantile is 0.35000000000000003\n",
      "B01F1Y2YSK 's price 9999999.0 and quantile is 0.35000000000000003\n",
      "B01BI8YFAS 's price 13.95 and quantile is 0.15\n",
      "B01ES87TOY 's price 8.99 and quantile is 0.09\n",
      "B01ES87TOY 's price 8.99 and quantile is 0.09\n",
      "B01CRSWZAU 's price 9999999.0 and quantile is 0.35000000000000003\n",
      "B01CRSWZAU 's price 9999999.0 and quantile is 0.35000000000000003\n",
      "B01HC6G4D6 's price 4.88 and quantile is 0.03\n",
      "B01CT5SNQQ 's price 8.8 and quantile is 0.09\n",
      "B01CT5SNQQ 's price 8.8 and quantile is 0.09\n",
      "B01D8BV4VG 's price 9999999.0 and quantile is 0.35000000000000003\n",
      "B0178H2LK4 's price 5.89 and quantile is 0.05\n",
      "B01D575H1G 's price 11.73 and quantile is 0.13\n",
      "B017I6B6GK 's price 9999999.0 and quantile is 0.35000000000000003\n",
      "B01GOSELHE 's price 27.68 and quantile is 0.25\n",
      "B01GOSELHE 's price 27.68 and quantile is 0.25\n",
      "B01GOSELHE 's price 27.68 and quantile is 0.25\n",
      "B01FDO0GNI 's price 12.0 and quantile is 0.13\n",
      "B01G00BHN2 's price 39.99 and quantile is 0.29\n",
      "B01F47TKXQ 's price 7.99 and quantile is 0.08\n",
      "B01CWJHZW2 's price 55.0 and quantile is 0.31\n",
      "B01DTU7YNI 's price 9999999.0 and quantile is 0.35000000000000003\n",
      "B01HFT13NG 's price 38.98 and quantile is 0.29\n",
      "B01FT94H1Y 's price 8.0 and quantile is 0.08\n",
      "B01CGPN2D8 's price 35.99 and quantile is 0.28\n",
      "B01CGPN2D8 's price 35.99 and quantile is 0.28\n",
      "B01CGPN2D8 's price 35.99 and quantile is 0.28\n",
      "B01DL7KJ04 's price 9999999.0 and quantile is 0.35000000000000003\n",
      "B01FNIZH6A 's price 18.28 and quantile is 0.2\n",
      "B01FNIZH6A 's price 18.28 and quantile is 0.2\n",
      "B01GAFCQOQ 's price 13.99 and quantile is 0.15\n",
      "B01GAFCQOQ 's price 13.99 and quantile is 0.15\n",
      "B01GAFCQOQ 's price 13.99 and quantile is 0.15\n",
      "B01GAFCQOQ 's price 13.99 and quantile is 0.15\n"
     ]
    }
   ],
   "source": [
    "# target_rank = ['rank_num'].tolist()[0]\n",
    "# print('%s \\'s rank: %s' % (target_item, target_rank))\n",
    "\n",
    "def find_first_gte_q(v, metadata_column_name = 'rank_num'):\n",
    "    for q in np.arange(0.0, 1.0, 0.01):\n",
    "        if metadata[metadata_column_name].quantile(q) >= v:\n",
    "            return q\n",
    "    return -1\n",
    "\n",
    "test_items = ['B01E7UKR38','B01E7UKR38','B01DDQXRWU','B01CTQC9J2','B01CTQC9J2','B01CTQC9J2','B01GW09XRW','B0195R1FT8','B016YROO36','B01E54U1RI','B01E54U1RI','B018WCT01C','B01FWP41H0','B01FWP41H0','B01GK8P0CS','B01GK8P0CS','B01F1Y2YSK','B01BI8YFAS','B01ES87TOY','B01ES87TOY','B01CRSWZAU','B01CRSWZAU','B01HC6G4D6','B01CT5SNQQ','B01CT5SNQQ','B01D8BV4VG','B0178H2LK4','B01D575H1G','B017I6B6GK','B01GOSELHE','B01GOSELHE','B01GOSELHE','B01FDO0GNI','B01G00BHN2','B01F47TKXQ','B01CWJHZW2','B01DTU7YNI','B01HFT13NG','B01FT94H1Y','B01CGPN2D8','B01CGPN2D8','B01CGPN2D8','B01DL7KJ04','B01FNIZH6A','B01FNIZH6A','B01GAFCQOQ','B01GAFCQOQ','B01GAFCQOQ','B01GAFCQOQ']\n",
    "print('測試資料的 rank 百分位數，大部分連 0.5，都不到，表示：若擴大 k 後，用 rank 做為篩選排序推薦效果有限')\n",
    "for item in test_items:\n",
    "    metadata_column_name = 'rank_num'\n",
    "    found_list = metadata[metadata['asin'] == item][metadata_column_name].tolist()\n",
    "    if len(found_list) > 0:\n",
    "        q = find_first_gte_q(found_list[0], metadata_column_name)\n",
    "        print('%s \\'s rank %s and quantile is %s' % (item, found_list[0], q))\n",
    "    else:\n",
    "        print('can\\'t not find in meta: %s ' % item)\n",
    "\n",
    "print('測試資料的 price 百分位數大部分 0.1~0.2，表示：若擴大 k 後，用可以選用 低價做為篩選排序')\n",
    "for item in test_items:\n",
    "    metadata_column_name = 'price_num'\n",
    "    found_list = metadata[metadata['asin'] == item][metadata_column_name].tolist()\n",
    "    if len(found_list) > 0:\n",
    "        q = find_first_gte_q(found_list[0], metadata_column_name)\n",
    "        print('%s \\'s price %s and quantile is %s' % (item, found_list[0], q))\n",
    "    else:\n",
    "        print('can\\'t not find in meta: %s ' % item)"
   ],
   "metadata": {
    "collapsed": false,
    "pycharm": {
     "name": "#%%\n"
    }
   }
  },
  {
   "cell_type": "code",
   "execution_count": 270,
   "outputs": [
    {
     "data": {
      "text/plain": "164773    $11.25\n164774    $11.25\n164775    $11.25\n164776    $11.25\n164777    $11.25\n           ...  \n164988    $11.25\n164989    $11.25\n164990    $11.25\n164991    $11.25\n164992    $11.25\nName: price, Length: 220, dtype: object"
     },
     "execution_count": 270,
     "metadata": {},
     "output_type": "execute_result"
    }
   ],
   "source": [
    "\n"
   ],
   "metadata": {
    "collapsed": false,
    "pycharm": {
     "name": "#%%\n"
    }
   }
  }
 ],
 "metadata": {
  "kernelspec": {
   "display_name": "Python 3",
   "language": "python",
   "name": "python3"
  },
  "language_info": {
   "codemirror_mode": {
    "name": "ipython",
    "version": 3
   },
   "file_extension": ".py",
   "mimetype": "text/x-python",
   "name": "python",
   "nbconvert_exporter": "python",
   "pygments_lexer": "ipython3",
   "version": "3.9.0"
  }
 },
 "nbformat": 4,
 "nbformat_minor": 5
}