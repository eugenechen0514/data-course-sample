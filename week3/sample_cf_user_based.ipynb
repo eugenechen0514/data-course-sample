{
 "cells": [
  {
   "cell_type": "markdown",
   "id": "688675f5",
   "metadata": {
    "id": "688675f5"
   },
   "source": [
    "## 基礎建設"
   ]
  },
  {
   "cell_type": "code",
   "execution_count": 194,
   "id": "b32226db",
   "metadata": {
    "scrolled": true,
    "id": "b32226db"
   },
   "outputs": [],
   "source": [
    "import pandas as pd\n",
    "import gzip, json\n",
    "import matplotlib.pyplot as plt\n",
    "\n",
    "def parse(path):\n",
    "    g = gzip.open(path, 'rb')\n",
    "    for l in g:\n",
    "        yield json.loads(l)\n",
    "\n",
    "def getDF(path):\n",
    "    i = 0\n",
    "    df = {}\n",
    "    for d in parse(path):\n",
    "        df[i] = d\n",
    "        i += 1\n",
    "    return pd.DataFrame.from_dict(df, orient='index')"
   ]
  },
  {
   "cell_type": "markdown",
   "id": "84ff0f9d",
   "metadata": {
    "id": "84ff0f9d"
   },
   "source": [
    "## 載入資料"
   ]
  },
  {
   "cell_type": "code",
   "execution_count": 152,
   "id": "9402e9c7",
   "metadata": {
    "id": "9402e9c7",
    "colab": {
     "base_uri": "https://localhost:8080/"
    },
    "outputId": "8865d814-0eb5-472e-f615-9262a32a772b"
   },
   "outputs": [],
   "source": [
    "# !wget http://deepyeti.ucsd.edu/jianmo/amazon/categoryFilesSmall/All_Beauty.csv\n",
    "# !wget http://deepyeti.ucsd.edu/jianmo/amazon/metaFiles2/meta_All_Beauty.json.gz"
   ]
  },
  {
   "cell_type": "code",
   "execution_count": 153,
   "id": "84b66cc7",
   "metadata": {
    "id": "84b66cc7"
   },
   "outputs": [],
   "source": [
    "metadata = getDF('data/meta_All_Beauty.json.gz')\n",
    "ratings = pd.read_csv('data/All_Beauty.csv', names=['asin', 'reviewerID', 'overall', 'unixReviewTime'], header=None)"
   ]
  },
  {
   "cell_type": "code",
   "execution_count": 154,
   "id": "9fd77203",
   "metadata": {
    "id": "9fd77203",
    "outputId": "78d9e385-2de7-40c7-d00e-1ec6e7a158d1",
    "colab": {
     "base_uri": "https://localhost:8080/",
     "height": 669
    }
   },
   "outputs": [
    {
     "data": {
      "text/plain": "  category tech1                                        description fit  \\\n0       []        [Loud 'N Clear Personal Sound Amplifier allows...       \n1       []        [No7 Lift & Luminate Triple Action Serum 50ml ...       \n2       []        [No7 Stay Perfect Foundation now stays perfect...       \n3       []                                                       []       \n4       []        [Lacto Calamine Skin Balance Daily Nourishing ...       \n\n                                               title  \\\n0      Loud 'N Clear&trade; Personal Sound Amplifier   \n1  No7 Lift &amp; Luminate Triple Action Serum 50...   \n2    No7 Stay Perfect Foundation Cool Vanilla by No7   \n3  Wella Koleston Perfect Hair Colour 44/44 Mediu...   \n4  Lacto Calamine Skin Balance Oil control 120 ml...   \n\n                   also_buy tech2              brand feature  \\\n0                        []             idea village      []   \n1  [B01E7LCSL6, B008X5RVME]                               []   \n2                        []                      No7      []   \n3              [B0041PBXX8]                               []   \n4                        []        Pirmal Healthcare      []   \n\n                                    rank  \\\n0  2,938,573 in Beauty & Personal Care (   \n1    872,854 in Beauty & Personal Care (   \n2    956,696 in Beauty & Personal Care (   \n3  1,870,258 in Beauty & Personal Care (   \n4     67,701 in Beauty & Personal Care (   \n\n                                           also_view  \\\n0                                                 []   \n1                                                 []   \n2               [B01B8BR0O8, B01B8BR0NO, B014MHXXM8]   \n3                                                 []   \n4  [3254895630, B007VL1D9S, B00EH9A0RI, B0773MBG4...   \n\n                                             details    main_cat  \\\n0                           {'ASIN: ': '6546546450'}  All Beauty   \n1  {'Shipping Weight:': '0.3 ounces (', 'ASIN: ':...  All Beauty   \n2  {'Shipping Weight:': '3.5 ounces (', 'ASIN: ':...  All Beauty   \n3  {'\n    Item Weight: \n    ': '1.76 ounces', 'Sh...  All Beauty   \n4  {'Shipping Weight:': '12 ounces (', 'ASIN: ': ...  All Beauty   \n\n                                        similar_item date   price        asin  \\\n0                                                                  6546546450   \n1   class=\"a-bordered a-horizontal-stripes  a-spa...       $44.99  7178680776   \n2                                                          $28.76  7250468162   \n3                                                                  7367905066   \n4                                                          $12.15  7414204790   \n\n                                            imageURL  \\\n0                                                 []   \n1                                                 []   \n2                                                 []   \n3  [https://images-na.ssl-images-amazon.com/image...   \n4  [https://images-na.ssl-images-amazon.com/image...   \n\n                                     imageURLHighRes  \n0                                                 []  \n1                                                 []  \n2                                                 []  \n3  [https://images-na.ssl-images-amazon.com/image...  \n4  [https://images-na.ssl-images-amazon.com/image...  ",
      "text/html": "<div>\n<style scoped>\n    .dataframe tbody tr th:only-of-type {\n        vertical-align: middle;\n    }\n\n    .dataframe tbody tr th {\n        vertical-align: top;\n    }\n\n    .dataframe thead th {\n        text-align: right;\n    }\n</style>\n<table border=\"1\" class=\"dataframe\">\n  <thead>\n    <tr style=\"text-align: right;\">\n      <th></th>\n      <th>category</th>\n      <th>tech1</th>\n      <th>description</th>\n      <th>fit</th>\n      <th>title</th>\n      <th>also_buy</th>\n      <th>tech2</th>\n      <th>brand</th>\n      <th>feature</th>\n      <th>rank</th>\n      <th>also_view</th>\n      <th>details</th>\n      <th>main_cat</th>\n      <th>similar_item</th>\n      <th>date</th>\n      <th>price</th>\n      <th>asin</th>\n      <th>imageURL</th>\n      <th>imageURLHighRes</th>\n    </tr>\n  </thead>\n  <tbody>\n    <tr>\n      <th>0</th>\n      <td>[]</td>\n      <td></td>\n      <td>[Loud 'N Clear Personal Sound Amplifier allows...</td>\n      <td></td>\n      <td>Loud 'N Clear&amp;trade; Personal Sound Amplifier</td>\n      <td>[]</td>\n      <td></td>\n      <td>idea village</td>\n      <td>[]</td>\n      <td>2,938,573 in Beauty &amp; Personal Care (</td>\n      <td>[]</td>\n      <td>{'ASIN: ': '6546546450'}</td>\n      <td>All Beauty</td>\n      <td></td>\n      <td></td>\n      <td></td>\n      <td>6546546450</td>\n      <td>[]</td>\n      <td>[]</td>\n    </tr>\n    <tr>\n      <th>1</th>\n      <td>[]</td>\n      <td></td>\n      <td>[No7 Lift &amp; Luminate Triple Action Serum 50ml ...</td>\n      <td></td>\n      <td>No7 Lift &amp;amp; Luminate Triple Action Serum 50...</td>\n      <td>[B01E7LCSL6, B008X5RVME]</td>\n      <td></td>\n      <td></td>\n      <td>[]</td>\n      <td>872,854 in Beauty &amp; Personal Care (</td>\n      <td>[]</td>\n      <td>{'Shipping Weight:': '0.3 ounces (', 'ASIN: ':...</td>\n      <td>All Beauty</td>\n      <td>class=\"a-bordered a-horizontal-stripes  a-spa...</td>\n      <td></td>\n      <td>$44.99</td>\n      <td>7178680776</td>\n      <td>[]</td>\n      <td>[]</td>\n    </tr>\n    <tr>\n      <th>2</th>\n      <td>[]</td>\n      <td></td>\n      <td>[No7 Stay Perfect Foundation now stays perfect...</td>\n      <td></td>\n      <td>No7 Stay Perfect Foundation Cool Vanilla by No7</td>\n      <td>[]</td>\n      <td></td>\n      <td>No7</td>\n      <td>[]</td>\n      <td>956,696 in Beauty &amp; Personal Care (</td>\n      <td>[B01B8BR0O8, B01B8BR0NO, B014MHXXM8]</td>\n      <td>{'Shipping Weight:': '3.5 ounces (', 'ASIN: ':...</td>\n      <td>All Beauty</td>\n      <td></td>\n      <td></td>\n      <td>$28.76</td>\n      <td>7250468162</td>\n      <td>[]</td>\n      <td>[]</td>\n    </tr>\n    <tr>\n      <th>3</th>\n      <td>[]</td>\n      <td></td>\n      <td>[]</td>\n      <td></td>\n      <td>Wella Koleston Perfect Hair Colour 44/44 Mediu...</td>\n      <td>[B0041PBXX8]</td>\n      <td></td>\n      <td></td>\n      <td>[]</td>\n      <td>1,870,258 in Beauty &amp; Personal Care (</td>\n      <td>[]</td>\n      <td>{'\n    Item Weight: \n    ': '1.76 ounces', 'Sh...</td>\n      <td>All Beauty</td>\n      <td></td>\n      <td></td>\n      <td></td>\n      <td>7367905066</td>\n      <td>[https://images-na.ssl-images-amazon.com/image...</td>\n      <td>[https://images-na.ssl-images-amazon.com/image...</td>\n    </tr>\n    <tr>\n      <th>4</th>\n      <td>[]</td>\n      <td></td>\n      <td>[Lacto Calamine Skin Balance Daily Nourishing ...</td>\n      <td></td>\n      <td>Lacto Calamine Skin Balance Oil control 120 ml...</td>\n      <td>[]</td>\n      <td></td>\n      <td>Pirmal Healthcare</td>\n      <td>[]</td>\n      <td>67,701 in Beauty &amp; Personal Care (</td>\n      <td>[3254895630, B007VL1D9S, B00EH9A0RI, B0773MBG4...</td>\n      <td>{'Shipping Weight:': '12 ounces (', 'ASIN: ': ...</td>\n      <td>All Beauty</td>\n      <td></td>\n      <td></td>\n      <td>$12.15</td>\n      <td>7414204790</td>\n      <td>[https://images-na.ssl-images-amazon.com/image...</td>\n      <td>[https://images-na.ssl-images-amazon.com/image...</td>\n    </tr>\n  </tbody>\n</table>\n</div>"
     },
     "execution_count": 154,
     "metadata": {},
     "output_type": "execute_result"
    }
   ],
   "source": [
    "metadata.head()"
   ]
  },
  {
   "cell_type": "code",
   "execution_count": 155,
   "id": "b402792c",
   "metadata": {
    "id": "b402792c",
    "outputId": "d207f691-fa8d-4683-c144-0e287528651a",
    "colab": {
     "base_uri": "https://localhost:8080/",
     "height": 206
    }
   },
   "outputs": [
    {
     "data": {
      "text/plain": "         asin      reviewerID  overall  unixReviewTime\n0  0143026860  A1V6B6TNIC10QE      1.0      1424304000\n1  0143026860  A2F5GHSXFQ0W6J      4.0      1418860800\n2  0143026860  A1572GUYS7DGSR      4.0      1407628800\n3  0143026860   A1PSGLFK1NSVO      5.0      1362960000\n4  0143026860   A6IKXKZMTKGSC      5.0      1324771200",
      "text/html": "<div>\n<style scoped>\n    .dataframe tbody tr th:only-of-type {\n        vertical-align: middle;\n    }\n\n    .dataframe tbody tr th {\n        vertical-align: top;\n    }\n\n    .dataframe thead th {\n        text-align: right;\n    }\n</style>\n<table border=\"1\" class=\"dataframe\">\n  <thead>\n    <tr style=\"text-align: right;\">\n      <th></th>\n      <th>asin</th>\n      <th>reviewerID</th>\n      <th>overall</th>\n      <th>unixReviewTime</th>\n    </tr>\n  </thead>\n  <tbody>\n    <tr>\n      <th>0</th>\n      <td>0143026860</td>\n      <td>A1V6B6TNIC10QE</td>\n      <td>1.0</td>\n      <td>1424304000</td>\n    </tr>\n    <tr>\n      <th>1</th>\n      <td>0143026860</td>\n      <td>A2F5GHSXFQ0W6J</td>\n      <td>4.0</td>\n      <td>1418860800</td>\n    </tr>\n    <tr>\n      <th>2</th>\n      <td>0143026860</td>\n      <td>A1572GUYS7DGSR</td>\n      <td>4.0</td>\n      <td>1407628800</td>\n    </tr>\n    <tr>\n      <th>3</th>\n      <td>0143026860</td>\n      <td>A1PSGLFK1NSVO</td>\n      <td>5.0</td>\n      <td>1362960000</td>\n    </tr>\n    <tr>\n      <th>4</th>\n      <td>0143026860</td>\n      <td>A6IKXKZMTKGSC</td>\n      <td>5.0</td>\n      <td>1324771200</td>\n    </tr>\n  </tbody>\n</table>\n</div>"
     },
     "execution_count": 155,
     "metadata": {},
     "output_type": "execute_result"
    }
   ],
   "source": [
    "ratings.head()"
   ]
  },
  {
   "cell_type": "markdown",
   "id": "695362e3",
   "metadata": {
    "id": "695362e3"
   },
   "source": [
    "## 資料整理"
   ]
  },
  {
   "cell_type": "code",
   "execution_count": 156,
   "id": "b552fb23",
   "metadata": {
    "id": "b552fb23"
   },
   "outputs": [],
   "source": [
    "ratings['DATE'] = pd.to_datetime(ratings['unixReviewTime'], unit='s')"
   ]
  },
  {
   "cell_type": "markdown",
   "id": "054eeba4",
   "metadata": {
    "id": "054eeba4"
   },
   "source": [
    "## 資料切分"
   ]
  },
  {
   "cell_type": "code",
   "execution_count": 157,
   "id": "284b14a8",
   "metadata": {
    "id": "284b14a8"
   },
   "outputs": [],
   "source": [
    "ratings_trainings = ratings[\n",
    "    (ratings['DATE'] < '2018-09-01')\n",
    "]\n",
    "ratings_testings = ratings[\n",
    "    (ratings['DATE'] >= '2018-09-01') & \n",
    "    (ratings['DATE'] <= '2018-09-30')\n",
    "]\n",
    "ratings_testings_by_user = ratings_testings.groupby('reviewerID').agg(list).reset_index()[['reviewerID', 'asin']].to_dict('records')\n",
    "ratings_testings_by_user = { rating['reviewerID']: rating['asin'] for rating in ratings_testings_by_user }\n",
    "users = list(ratings_testings_by_user.keys())"
   ]
  },
  {
   "cell_type": "markdown",
   "source": [
    "## 資料清理"
   ],
   "metadata": {
    "id": "g3P5Dolq6JR1"
   },
   "id": "g3P5Dolq6JR1"
  },
  {
   "cell_type": "code",
   "source": [
    "ratings_trainings"
   ],
   "metadata": {
    "collapsed": false,
    "pycharm": {
     "name": "#%%\n"
    }
   },
   "execution_count": 158,
   "outputs": [
    {
     "data": {
      "text/plain": "              asin      reviewerID  overall  unixReviewTime       DATE\n0       0143026860  A1V6B6TNIC10QE      1.0      1424304000 2015-02-19\n1       0143026860  A2F5GHSXFQ0W6J      4.0      1418860800 2014-12-18\n2       0143026860  A1572GUYS7DGSR      4.0      1407628800 2014-08-10\n3       0143026860   A1PSGLFK1NSVO      5.0      1362960000 2013-03-11\n4       0143026860   A6IKXKZMTKGSC      5.0      1324771200 2011-12-25\n...            ...             ...      ...             ...        ...\n371340  B01HJEGTYK  A202DCI7TV1022      1.0      1500508800 2017-07-20\n371341  B01HJEGTYK  A3FSOR5IJOFIBE      5.0      1489622400 2017-03-16\n371342  B01HJEGTYK  A1B5DK6CTP2P24      5.0      1488326400 2017-03-01\n371343  B01HJEGTYK  A23OUYS5IRMJS9      2.0      1487635200 2017-02-21\n371344  B01HJEGTYK  A24KQ9RVU81L87      2.0      1481760000 2016-12-15\n\n[370752 rows x 5 columns]",
      "text/html": "<div>\n<style scoped>\n    .dataframe tbody tr th:only-of-type {\n        vertical-align: middle;\n    }\n\n    .dataframe tbody tr th {\n        vertical-align: top;\n    }\n\n    .dataframe thead th {\n        text-align: right;\n    }\n</style>\n<table border=\"1\" class=\"dataframe\">\n  <thead>\n    <tr style=\"text-align: right;\">\n      <th></th>\n      <th>asin</th>\n      <th>reviewerID</th>\n      <th>overall</th>\n      <th>unixReviewTime</th>\n      <th>DATE</th>\n    </tr>\n  </thead>\n  <tbody>\n    <tr>\n      <th>0</th>\n      <td>0143026860</td>\n      <td>A1V6B6TNIC10QE</td>\n      <td>1.0</td>\n      <td>1424304000</td>\n      <td>2015-02-19</td>\n    </tr>\n    <tr>\n      <th>1</th>\n      <td>0143026860</td>\n      <td>A2F5GHSXFQ0W6J</td>\n      <td>4.0</td>\n      <td>1418860800</td>\n      <td>2014-12-18</td>\n    </tr>\n    <tr>\n      <th>2</th>\n      <td>0143026860</td>\n      <td>A1572GUYS7DGSR</td>\n      <td>4.0</td>\n      <td>1407628800</td>\n      <td>2014-08-10</td>\n    </tr>\n    <tr>\n      <th>3</th>\n      <td>0143026860</td>\n      <td>A1PSGLFK1NSVO</td>\n      <td>5.0</td>\n      <td>1362960000</td>\n      <td>2013-03-11</td>\n    </tr>\n    <tr>\n      <th>4</th>\n      <td>0143026860</td>\n      <td>A6IKXKZMTKGSC</td>\n      <td>5.0</td>\n      <td>1324771200</td>\n      <td>2011-12-25</td>\n    </tr>\n    <tr>\n      <th>...</th>\n      <td>...</td>\n      <td>...</td>\n      <td>...</td>\n      <td>...</td>\n      <td>...</td>\n    </tr>\n    <tr>\n      <th>371340</th>\n      <td>B01HJEGTYK</td>\n      <td>A202DCI7TV1022</td>\n      <td>1.0</td>\n      <td>1500508800</td>\n      <td>2017-07-20</td>\n    </tr>\n    <tr>\n      <th>371341</th>\n      <td>B01HJEGTYK</td>\n      <td>A3FSOR5IJOFIBE</td>\n      <td>5.0</td>\n      <td>1489622400</td>\n      <td>2017-03-16</td>\n    </tr>\n    <tr>\n      <th>371342</th>\n      <td>B01HJEGTYK</td>\n      <td>A1B5DK6CTP2P24</td>\n      <td>5.0</td>\n      <td>1488326400</td>\n      <td>2017-03-01</td>\n    </tr>\n    <tr>\n      <th>371343</th>\n      <td>B01HJEGTYK</td>\n      <td>A23OUYS5IRMJS9</td>\n      <td>2.0</td>\n      <td>1487635200</td>\n      <td>2017-02-21</td>\n    </tr>\n    <tr>\n      <th>371344</th>\n      <td>B01HJEGTYK</td>\n      <td>A24KQ9RVU81L87</td>\n      <td>2.0</td>\n      <td>1481760000</td>\n      <td>2016-12-15</td>\n    </tr>\n  </tbody>\n</table>\n<p>370752 rows × 5 columns</p>\n</div>"
     },
     "execution_count": 158,
     "metadata": {},
     "output_type": "execute_result"
    }
   ]
  },
  {
   "cell_type": "markdown",
   "source": [
    "## EDA\n",
    "濾出每個人的評論數"
   ],
   "metadata": {
    "collapsed": false,
    "pycharm": {
     "name": "#%% md\n"
    }
   }
  },
  {
   "cell_type": "code",
   "source": [
    "ratings_trainings['YYYY-MM'] = ratings_trainings['DATE'].dt.strftime('%Y-%m')\n",
    "ratings_trainings"
   ],
   "metadata": {
    "colab": {
     "base_uri": "https://localhost:8080/",
     "height": 389
    },
    "id": "wrEGDe806Ife",
    "outputId": "0be46f9b-109e-45a7-9ae2-544686481967"
   },
   "id": "wrEGDe806Ife",
   "execution_count": 159,
   "outputs": [
    {
     "name": "stderr",
     "output_type": "stream",
     "text": [
      "/var/folders/bg/xxg6qbpn4ll_hcgqp_vlb_wh0000gp/T/ipykernel_11581/3466335689.py:1: SettingWithCopyWarning: \n",
      "A value is trying to be set on a copy of a slice from a DataFrame.\n",
      "Try using .loc[row_indexer,col_indexer] = value instead\n",
      "\n",
      "See the caveats in the documentation: https://pandas.pydata.org/pandas-docs/stable/user_guide/indexing.html#returning-a-view-versus-a-copy\n",
      "  ratings_trainings['YYYY-MM'] = ratings_trainings['DATE'].dt.strftime('%Y-%m')\n"
     ]
    },
    {
     "data": {
      "text/plain": "              asin      reviewerID  overall  unixReviewTime       DATE  \\\n0       0143026860  A1V6B6TNIC10QE      1.0      1424304000 2015-02-19   \n1       0143026860  A2F5GHSXFQ0W6J      4.0      1418860800 2014-12-18   \n2       0143026860  A1572GUYS7DGSR      4.0      1407628800 2014-08-10   \n3       0143026860   A1PSGLFK1NSVO      5.0      1362960000 2013-03-11   \n4       0143026860   A6IKXKZMTKGSC      5.0      1324771200 2011-12-25   \n...            ...             ...      ...             ...        ...   \n371340  B01HJEGTYK  A202DCI7TV1022      1.0      1500508800 2017-07-20   \n371341  B01HJEGTYK  A3FSOR5IJOFIBE      5.0      1489622400 2017-03-16   \n371342  B01HJEGTYK  A1B5DK6CTP2P24      5.0      1488326400 2017-03-01   \n371343  B01HJEGTYK  A23OUYS5IRMJS9      2.0      1487635200 2017-02-21   \n371344  B01HJEGTYK  A24KQ9RVU81L87      2.0      1481760000 2016-12-15   \n\n        YYYY-MM  \n0       2015-02  \n1       2014-12  \n2       2014-08  \n3       2013-03  \n4       2011-12  \n...         ...  \n371340  2017-07  \n371341  2017-03  \n371342  2017-03  \n371343  2017-02  \n371344  2016-12  \n\n[370752 rows x 6 columns]",
      "text/html": "<div>\n<style scoped>\n    .dataframe tbody tr th:only-of-type {\n        vertical-align: middle;\n    }\n\n    .dataframe tbody tr th {\n        vertical-align: top;\n    }\n\n    .dataframe thead th {\n        text-align: right;\n    }\n</style>\n<table border=\"1\" class=\"dataframe\">\n  <thead>\n    <tr style=\"text-align: right;\">\n      <th></th>\n      <th>asin</th>\n      <th>reviewerID</th>\n      <th>overall</th>\n      <th>unixReviewTime</th>\n      <th>DATE</th>\n      <th>YYYY-MM</th>\n    </tr>\n  </thead>\n  <tbody>\n    <tr>\n      <th>0</th>\n      <td>0143026860</td>\n      <td>A1V6B6TNIC10QE</td>\n      <td>1.0</td>\n      <td>1424304000</td>\n      <td>2015-02-19</td>\n      <td>2015-02</td>\n    </tr>\n    <tr>\n      <th>1</th>\n      <td>0143026860</td>\n      <td>A2F5GHSXFQ0W6J</td>\n      <td>4.0</td>\n      <td>1418860800</td>\n      <td>2014-12-18</td>\n      <td>2014-12</td>\n    </tr>\n    <tr>\n      <th>2</th>\n      <td>0143026860</td>\n      <td>A1572GUYS7DGSR</td>\n      <td>4.0</td>\n      <td>1407628800</td>\n      <td>2014-08-10</td>\n      <td>2014-08</td>\n    </tr>\n    <tr>\n      <th>3</th>\n      <td>0143026860</td>\n      <td>A1PSGLFK1NSVO</td>\n      <td>5.0</td>\n      <td>1362960000</td>\n      <td>2013-03-11</td>\n      <td>2013-03</td>\n    </tr>\n    <tr>\n      <th>4</th>\n      <td>0143026860</td>\n      <td>A6IKXKZMTKGSC</td>\n      <td>5.0</td>\n      <td>1324771200</td>\n      <td>2011-12-25</td>\n      <td>2011-12</td>\n    </tr>\n    <tr>\n      <th>...</th>\n      <td>...</td>\n      <td>...</td>\n      <td>...</td>\n      <td>...</td>\n      <td>...</td>\n      <td>...</td>\n    </tr>\n    <tr>\n      <th>371340</th>\n      <td>B01HJEGTYK</td>\n      <td>A202DCI7TV1022</td>\n      <td>1.0</td>\n      <td>1500508800</td>\n      <td>2017-07-20</td>\n      <td>2017-07</td>\n    </tr>\n    <tr>\n      <th>371341</th>\n      <td>B01HJEGTYK</td>\n      <td>A3FSOR5IJOFIBE</td>\n      <td>5.0</td>\n      <td>1489622400</td>\n      <td>2017-03-16</td>\n      <td>2017-03</td>\n    </tr>\n    <tr>\n      <th>371342</th>\n      <td>B01HJEGTYK</td>\n      <td>A1B5DK6CTP2P24</td>\n      <td>5.0</td>\n      <td>1488326400</td>\n      <td>2017-03-01</td>\n      <td>2017-03</td>\n    </tr>\n    <tr>\n      <th>371343</th>\n      <td>B01HJEGTYK</td>\n      <td>A23OUYS5IRMJS9</td>\n      <td>2.0</td>\n      <td>1487635200</td>\n      <td>2017-02-21</td>\n      <td>2017-02</td>\n    </tr>\n    <tr>\n      <th>371344</th>\n      <td>B01HJEGTYK</td>\n      <td>A24KQ9RVU81L87</td>\n      <td>2.0</td>\n      <td>1481760000</td>\n      <td>2016-12-15</td>\n      <td>2016-12</td>\n    </tr>\n  </tbody>\n</table>\n<p>370752 rows × 6 columns</p>\n</div>"
     },
     "execution_count": 159,
     "metadata": {},
     "output_type": "execute_result"
    }
   ]
  },
  {
   "cell_type": "code",
   "execution_count": 160,
   "outputs": [
    {
     "name": "stderr",
     "output_type": "stream",
     "text": [
      "/var/folders/bg/xxg6qbpn4ll_hcgqp_vlb_wh0000gp/T/ipykernel_11581/1856305984.py:18: SettingWithCopyWarning: \n",
      "A value is trying to be set on a copy of a slice from a DataFrame.\n",
      "Try using .loc[row_indexer,col_indexer] = value instead\n",
      "\n",
      "See the caveats in the documentation: https://pandas.pydata.org/pandas-docs/stable/user_guide/indexing.html#returning-a-view-versus-a-copy\n",
      "  ratings_trainings['YYYY-Q'] = ratings_trainings.apply(lambda row: quarter(row), axis=1)\n"
     ]
    }
   ],
   "source": [
    "# ratings_trainings.groupby('reviewerID').agg(review_count=('asin', 'count'))\n",
    "# ratings_trainings['YYYY-MM'] = ratings_trainings['DATE'].dt.strftime('%Y-%m')\n",
    "# df = ratings_trainings.groupby(['YYYY-MM']).agg(review_count=('asin', 'count')).reset_index()\n",
    "# plt.plot(df['YYYY-MM'], df['review_count'])\n",
    "\n",
    "def quarter(row):\n",
    "  y = row['DATE'].strftime('%Y')\n",
    "  m = row['DATE'].strftime('%m')\n",
    "  if '01' <= m <= '03':\n",
    "      q = '1'\n",
    "  elif '04' <= m <= '06':\n",
    "      q = '2'\n",
    "  elif '07' <= m <= '09':\n",
    "      q = '3'\n",
    "  else:\n",
    "      q = '4'\n",
    "  return f'{y}-{q}'\n",
    "ratings_trainings['YYYY-Q'] = ratings_trainings.apply(lambda row: quarter(row), axis=1)"
   ],
   "metadata": {
    "collapsed": false,
    "pycharm": {
     "name": "#%%\n"
    }
   }
  },
  {
   "cell_type": "code",
   "id": "a6c76061",
   "metadata": {
    "id": "a6c76061",
    "pycharm": {
     "name": "#%%\n"
    }
   },
   "source": [
    "# 評論人數\n",
    "df = ratings_trainings.groupby(['YYYY-Q']).agg(reviewers=('reviewerID', set)).reset_index()\n",
    "def compute_reviewer_count(row):\n",
    "    if type(row['reviewers']) is set:\n",
    "        return len(row['reviewers'])\n",
    "    else:\n",
    "        return 0\n",
    "df['reviewer_count'] = df.apply(lambda row: compute_reviewer_count(row), axis=1)\n",
    "plt.plot(df['YYYY-Q'], df['reviewer_count'])\n",
    "plt.xlabel('YYYY-Q')\n",
    "plt.ylabel('reviewer_count')"
   ],
   "execution_count": 161,
   "outputs": [
    {
     "data": {
      "text/plain": "Text(0, 0.5, 'reviewer_count')"
     },
     "execution_count": 161,
     "metadata": {},
     "output_type": "execute_result"
    },
    {
     "data": {
      "text/plain": "<Figure size 432x288 with 1 Axes>",
      "image/png": "[encoded data removed]"
     },
     "metadata": {
      "needs_background": "light"
     },
     "output_type": "display_data"
    }
   ]
  },
  {
   "cell_type": "markdown",
   "source": [
    "2014-3 - 2018-2 期間的評論人數大於 10000"
   ],
   "metadata": {
    "collapsed": false,
    "pycharm": {
     "name": "#%% md\n"
    }
   }
  },
  {
   "cell_type": "code",
   "execution_count": 162,
   "outputs": [
    {
     "name": "stdout",
     "output_type": "stream",
     "text": [
      "2014-3 - 2018-2 期間的評論人數大於 10000\n"
     ]
    },
    {
     "data": {
      "text/plain": "Text(0, 0.5, 'reviewer_count')"
     },
     "execution_count": 162,
     "metadata": {},
     "output_type": "execute_result"
    },
    {
     "data": {
      "text/plain": "<Figure size 432x288 with 1 Axes>",
      "image/png": "[encoded data removed]"
     },
     "metadata": {
      "needs_background": "light"
     },
     "output_type": "display_data"
    }
   ],
   "source": [
    "reviewer_count_threshold = 10000\n",
    "min_date = df[df['reviewer_count'] > reviewer_count_threshold]['YYYY-Q'].min()\n",
    "max_date = df[df['reviewer_count'] > reviewer_count_threshold]['YYYY-Q'].max()\n",
    "print('%s - %s 期間的評論人數大於 %s' % (min_date, max_date, reviewer_count_threshold))\n",
    "df_partial = df[df['YYYY-Q'] >= min_date]\n",
    "df_partial = df_partial[df_partial['YYYY-Q']  <= max_date]\n",
    "plt.plot(df_partial['YYYY-Q'], df_partial['reviewer_count'])\n",
    "plt.xlabel('YYYY-Q')\n",
    "plt.ylabel('reviewer_count')"
   ],
   "metadata": {
    "collapsed": false,
    "pycharm": {
     "name": "#%%\n"
    }
   }
  },
  {
   "cell_type": "markdown",
   "source": [
    "2014-3 - 2018-2 期間有多少人?"
   ],
   "metadata": {
    "collapsed": false,
    "pycharm": {
     "name": "#%%　md\n"
    }
   }
  },
  {
   "cell_type": "code",
   "execution_count": 226,
   "outputs": [
    {
     "name": "stdout",
     "output_type": "stream",
     "text": [
      "訓練資料多少人? 323489\n",
      "2014-3 - 2018-2 期間有多少人? 259103 (80.0963 %)\n",
      "2014-3 - 2018-2 期間的人有含蓋 5.30821 % 的測試者，共 31 人\n"
     ]
    },
    {
     "data": {
      "text/plain": "{'A16Y7V1CZCWKFV',\n 'A19503XX7GU6J2',\n 'A1EY751AUVO5NZ',\n 'A1PR178735XC70',\n 'A1SA3N793WT2LM',\n 'A1TP9JHTIY468V',\n 'A1WEFBEJ7OHSVZ',\n 'A28E3FNV1BYC94',\n 'A29834GBB4DOP1',\n 'A2AAQWBJJTK3E1',\n 'A2GFPTQ4VWDX96',\n 'A2IMJV0CQMZLGC',\n 'A2IOBG1ERS4JP3',\n 'A2JCBLTLYDPQLW',\n 'A2M4YSOJZELJ6N',\n 'A2XY3CJ3ZCAD03',\n 'A3BE6JK97CYAGA',\n 'A3BT1WLPENXMD6',\n 'A3H8Z7JS7XJHJJ',\n 'A3JEQJCEMX20GI',\n 'A4IQXCCXDEAKW',\n 'A7JUHUYLXIUVQ',\n 'A7Y4ETTLARUGI',\n 'ACE1ZIOI3U6PY',\n 'AGRZQOBCF8H87',\n 'AITF34BGBMVJJ',\n 'AK7YIZE6ZZ1N9',\n 'ANR73TPVBCQ9K',\n 'AQYL4TDY2HU8Z',\n 'ASGIVOW34XNQS',\n 'ATJRZUXNWAWIK'}"
     },
     "execution_count": 226,
     "metadata": {},
     "output_type": "execute_result"
    }
   ],
   "source": [
    "ratings_trainings_partial = ratings_trainings[ratings_trainings['YYYY-Q'] >= min_date]\n",
    "ratings_trainings_partial = ratings_trainings_partial[ratings_trainings_partial['YYYY-Q'] <= max_date]\n",
    "ratings_trainings_users = list(set(ratings_trainings_partial['reviewerID'].tolist()))\n",
    "total_trainings_users = len(set(ratings_trainings['reviewerID'].tolist()))\n",
    "print('訓練資料多少人? %s' % total_trainings_users)\n",
    "print('2014-3 - 2018-2 期間有多少人? %s (%.7s %%)' % (len(ratings_trainings_users), len(ratings_trainings_users)/total_trainings_users * 100))\n",
    "\n",
    "inter_users = set(ratings_trainings_users) & set(users)\n",
    "print('2014-3 - 2018-2 期間的人有含蓋 %.7s %% 的測試者，共 %s 人' % (len(inter_users)/len(users) * 100, len(inter_users)))\n",
    "inter_users"
   ],
   "metadata": {
    "collapsed": false,
    "pycharm": {
     "name": "#%%\n"
    }
   }
  },
  {
   "cell_type": "code",
   "execution_count": 170,
   "outputs": [
    {
     "data": {
      "text/plain": "{'A16Y7V1CZCWKFV'}"
     },
     "execution_count": 170,
     "metadata": {},
     "output_type": "execute_result"
    }
   ],
   "source": [],
   "metadata": {
    "collapsed": false,
    "pycharm": {
     "name": "#%%\n"
    }
   }
  },
  {
   "cell_type": "markdown",
   "source": [
    "## 產生推薦"
   ],
   "metadata": {
    "collapsed": false
   }
  },
  {
   "cell_type": "code",
   "execution_count": 172,
   "id": "9280a043",
   "metadata": {
    "id": "9280a043",
    "outputId": "251f8162-ba6f-4f9d-c89a-762266289fbb",
    "colab": {
     "base_uri": "https://localhost:8080/"
    }
   },
   "outputs": [
    {
     "name": "stdout",
     "output_type": "stream",
     "text": [
      "total users before filtering:  259103\n",
      "total users  after filtering:  3379\n"
     ]
    },
    {
     "data": {
      "text/plain": "{'A100XQFWKQ30O2': [],\n 'A103T1QOGFCSEH': [],\n 'A106UKKSJ2KXPF': [],\n 'A10A7GV4D5A11V': [],\n 'A1119JJ37ZLB8R': [],\n 'A113UOOLBSZN52': [],\n 'A12M4U7WK4ALCR': [],\n 'A12T8YTW6VWT7S': [],\n 'A1364JXGKB46MM': [],\n 'A137DALOQFKBTI': [],\n 'A13FEZ3WV7S2EY': [],\n 'A13IV4I1B0RXMG': [],\n 'A13JU88JAHN72I': [],\n 'A13K55R6VH1OOD': [],\n 'A13P7VFU075A': [],\n 'A13SWYE4QLB6NG': [],\n 'A13ZTQ0Q4ATA41': [],\n 'A142EDN04OD62U': [],\n 'A142I22FIC8MZK': [],\n 'A14834QTII5TLT': [],\n 'A14A447VPACTBC': [],\n 'A14AP6MN5XO6LB': [],\n 'A14CLF25IX25US': [],\n 'A14LYXC3HTBAHI': [],\n 'A14VUW4KZ34EOE': [],\n 'A14Y32P26G9YL': [],\n 'A157T25PBS7MX4': [],\n 'A15HZDSERD85C8': [],\n 'A15JJ8J1FGADIX': [],\n 'A15ZCL70JXXH89': [],\n 'A1617KN2IAWZ6J': [],\n 'A16E0O88262HKA': [],\n 'A16NSZ58PTVIYF': [],\n 'A16UGDXRTDLJG5': [],\n 'A16X9HR3UFQQXY': [],\n 'A16Y7V1CZCWKFV': [],\n 'A174YOBOSW9WDN': [],\n 'A1786SKRAJXH86': [],\n 'A17K2BUZ20WD2': [],\n 'A17LYRFV645L0V': [],\n 'A18LNGVXDZBTUR': [],\n 'A19503XX7GU6J2': [],\n 'A19HVHRZDYFEOP': [],\n 'A19JM38B861BO4': [],\n 'A19KGY3W1P0MHT': [],\n 'A19KJPOF3QOJ24': [],\n 'A19U5RT4Q8Q1T6': [],\n 'A1AQNQUNX8B6JT': [],\n 'A1ARU0IN6RUFFD': [],\n 'A1BB4635KSKDMV': [],\n 'A1BCC7X6KRTBG0': [],\n 'A1BPJ56BXENC7': [],\n 'A1C0RI6W65FC8B': [],\n 'A1C60LJGZVEK27': [],\n 'A1CB2SMS3TD44Z': [],\n 'A1CNSU8P68CPLT': [],\n 'A1CSDWBYUJBCJZ': [],\n 'A1CTNNVIYHO25P': [],\n 'A1CTQF97HFYOZB': [],\n 'A1D5C2H9UFZHPU': [],\n 'A1D5UVH72Z6NJ1': [],\n 'A1DAUVZRVSLLNW': [],\n 'A1DCZ9882PXLVB': [],\n 'A1DZ63D35BNT86': [],\n 'A1E0QCKB4R2X8X': [],\n 'A1E76OZZ5YUWVA': [],\n 'A1EBHZPAYMILW9': [],\n 'A1EJVNGBY5GM5I': [],\n 'A1ER0356V2DSKW': [],\n 'A1EY751AUVO5NZ': [],\n 'A1EZFX1TRHSAJX': [],\n 'A1F08GM4B97FV': [],\n 'A1F6EFMBK795DJ': [],\n 'A1FC8Y896NZP4T': [],\n 'A1FKIAKVOBNN7Y': [],\n 'A1FKUBRPLG6Y8I': [],\n 'A1G2HL4W8B3TA0': [],\n 'A1G8Z9IKJ0BD1M': [],\n 'A1GEJ55RJGD7JW': [],\n 'A1GIYGD23YIDTN': [],\n 'A1GLG2IZBZHRAJ': [],\n 'A1H1T82FPO20DN': [],\n 'A1H7JDZ9BKTKGC': [],\n 'A1HBROZPSV5KT6': [],\n 'A1HBXMUIHTAIU2': [],\n 'A1I32A4SA9W2L2': [],\n 'A1IDJ6KR8CQV9I': [],\n 'A1II0TTUUE2C7Y': [],\n 'A1ILEZFIVOU0EP': [],\n 'A1ITJ5M7I9G7FR': [],\n 'A1IWTXM1SJWHDN': [],\n 'A1J2NTTE63GNG2': [],\n 'A1JRREJ5D62LFF': [],\n 'A1KGMTEXL70WF6': [],\n 'A1KWUQZJ1Z6MN2': [],\n 'A1LXJ8XCGNBXOF': [],\n 'A1M8YMS915ZK0B': [],\n 'A1NDRR3G9SJF18': [],\n 'A1NE6K8PXW780O': [],\n 'A1NEG0FRW5FDBL': [],\n 'A1NN82RWB6PXJW': [],\n 'A1NY67EVWD6CD6': [],\n 'A1OB41VQHXZ0R8': [],\n 'A1OJ2IXX8F7Q7X': [],\n 'A1OTIUDE7LWAGT': [],\n 'A1P1OHYJOOZX5P': [],\n 'A1PFDA9SL15S4O': [],\n 'A1PKBKALGLSX0Z': [],\n 'A1PMLXHE863GR6': [],\n 'A1PR178735XC70': [],\n 'A1PXO67EUM5HJQ': [],\n 'A1QHS58JVFLF3I': [],\n 'A1QPKRHCAOQVZ5': [],\n 'A1R2TTULP0Z2BM': [],\n 'A1R8GBYBJWWWU0': [],\n 'A1RAXJN2Q4V20X': [],\n 'A1RCMCAJR2LJA4': [],\n 'A1RE2XA5HQD1D3': [],\n 'A1RMLPJ1PF8LGV': [],\n 'A1RX2ODQRQZVSI': [],\n 'A1S3NMNTSO6GW': [],\n 'A1S6OQV823B53J': [],\n 'A1SA3N793WT2LM': ['B000GLB37M',\n  'B007YT34TY',\n  'B000GLRREU',\n  'B000FOI48G',\n  'B00ARBOMTM',\n  'B001DKQ47E',\n  'B00U1VSN98',\n  'B00FIUEIY6',\n  'B018QQU0YK',\n  'B01E0C1XEK'],\n 'A1SA932MLERVQY': [],\n 'A1SCZBXGPJ2615': [],\n 'A1SMXRCNRO4ZQM': [],\n 'A1T1N2585E1T0D': [],\n 'A1TEKLMF4V1X2C': [],\n 'A1TF44D9KYAD60': [],\n 'A1TGP1VTM3KCTI': [],\n 'A1TK5M6EM3GS3C': [],\n 'A1TO3GV14TGF2R': [],\n 'A1TP9JHTIY468V': [],\n 'A1UAOE8KO7Q1DZ': [],\n 'A1UDCDY6ZNE83T': [],\n 'A1UUNKRU1DTZTL': [],\n 'A1V0UJQ4XGAJ3H': [],\n 'A1VBZLO2JGYU1B': [],\n 'A1VC6YCAFKV6Q': [],\n 'A1VVEX78B2TYBX': [],\n 'A1VVQ2DFL0QLXF': [],\n 'A1VYWSQ2OXLH98': [],\n 'A1WEFBEJ7OHSVZ': [],\n 'A1WOX40GUAFDKW': [],\n 'A1WSZED2O5MA5T': [],\n 'A1XBJBT6HORBLA': [],\n 'A1XHN6JF8A8W69': [],\n 'A1XWCTARAQ0679': [],\n 'A1XZJ85PKMAZP0': [],\n 'A1YALF6PWOMS6S': [],\n 'A1YEO5KEW7M2GF': [],\n 'A1YQ33635DJEG5': [],\n 'A1YSAFP6T3JZ1C': [],\n 'A1YTPCNXQ2LJ5Z': [],\n 'A1YVXZK51DEDPC': [],\n 'A1Z3GE09RDY6O7': [],\n 'A1Z6IPI0G3QIUR': [],\n 'A1ZVXL7K0XY3S6': [],\n 'A1ZXYITUZM3Q6A': [],\n 'A202BVEB76NTMK': [],\n 'A205S0BTPEFI0I': [],\n 'A20MSUD02BETH2': [],\n 'A20P2XESU3G3EC': [],\n 'A20QY357E6SAF': [],\n 'A20SJ2793OUCPW': [],\n 'A20T7NNNUHH60H': [],\n 'A21JL9NVA7KEMC': [],\n 'A21M4N08F3EU5J': [],\n 'A21NUBJVBS230S': [],\n 'A21OELUKDF2E57': [],\n 'A21XQP90LEND9R': [],\n 'A21YO11OY4KATO': [],\n 'A220EHDBIGBL30': [],\n 'A224YJVNU30DVM': [],\n 'A22A1B25VBD0YO': [],\n 'A22EWIMT2GUTTL': [],\n 'A22EZJLTPINCFS': [],\n 'A22QJRB86RF6O1': [],\n 'A2320AUCHA95U2': [],\n 'A232IJ75I4KP9C': [],\n 'A23GTKDW92ZPP2': [],\n 'A23O1B8IVSYKMO': [],\n 'A23VR3KT0TPG83': [],\n 'A24HCM5QV0ZTJ5': [],\n 'A24ZE4O3OQMSP0': [],\n 'A255E6ZWUBMEJJ': [],\n 'A258D00BRNHJ77': [],\n 'A25TLD8KIU807H': [],\n 'A26434CRUTADT5': [],\n 'A26AT96096UOEZ': [],\n 'A26RKZDM4DK8OQ': [],\n 'A274IW68565M0U': [],\n 'A286OWYO1BDT52': [],\n 'A288UAQLON8FK2': [],\n 'A28E3FNV1BYC94': [],\n 'A28GO11F387SOX': [],\n 'A28H0PFALTML0I': [],\n 'A28OZKV4ZYZX42': [],\n 'A28P7FF1TVPG1K': [],\n 'A28Q7C1FAIZGLV': [],\n 'A29834GBB4DOP1': [],\n 'A29HQ60YC1RG1P': [],\n 'A29MENRU87PET0': [],\n 'A29PZKXDCQFTYW': [],\n 'A29SD3TFGX6Q34': [],\n 'A2A0MIOWIW2SB8': [],\n 'A2A8ECI6ABJBMA': [],\n 'A2AAQWBJJTK3E1': [],\n 'A2AE0E0H463YL6': [],\n 'A2APG6OZXU4QIZ': [],\n 'A2BDB427ROEP7H': [],\n 'A2BHJO8WOGMW6E': [],\n 'A2BOSA30FCF6G8': [],\n 'A2BU6N5956T9NH': [],\n 'A2BUZ308P92OYA': [],\n 'A2C1F859F9V1SL': [],\n 'A2C8YINPNRQOAU': [],\n 'A2CDQOF7WHUYKJ': [],\n 'A2CEEE0IK3LKN1': [],\n 'A2CZVE6ORV87C5': [],\n 'A2DD6RH1AF0PLI': [],\n 'A2DFOCWUKJX3PT': [],\n 'A2E8WG5GRZGMXU': [],\n 'A2ESQAPIGR2TJF': [],\n 'A2EUQ4ESAB2N6A': [],\n 'A2EZXF5YGYTOWN': [],\n 'A2F0VQQLSF558D': [],\n 'A2F3QV40SONN60': [],\n 'A2F95NSPD4XEEU': [],\n 'A2FA2J1JT12N7J': [],\n 'A2FFUJ5D4CMJ4L': [],\n 'A2FLLYV6Z8UQ26': [],\n 'A2G1XJ25DR7PVF': [],\n 'A2G5KJ0CZE65ZD': [],\n 'A2GFPTQ4VWDX96': [],\n 'A2GJLNRQTVUNOF': [],\n 'A2GOFJ3OZZUZ3H': [],\n 'A2GV0FE30O6M67': [],\n 'A2H3W11661MWDA': [],\n 'A2H7FD5GQMJXAQ': [],\n 'A2H7VSYLKGKLLJ': [],\n 'A2HFAX39PMLIGH': [],\n 'A2I4O72AAE1T1T': [],\n 'A2I868XUY96VWA': [],\n 'A2IK039KMC8UP1': [],\n 'A2IMJV0CQMZLGC': [],\n 'A2INWR0T7A7UN5': [],\n 'A2IOBG1ERS4JP3': [],\n 'A2IRPQ7DXQ9YIN': [],\n 'A2J4WOR87ELFBH': [],\n 'A2JCBLTLYDPQLW': [],\n 'A2JEH2NKM1Z8CQ': [],\n 'A2JXZSR7R85KX4': [],\n 'A2K7XZCFYGZH0O': [],\n 'A2KO4HGLWB57LI': [],\n 'A2KVN4XKFJH0I8': [],\n 'A2LM47GK1W7RRR': [],\n 'A2LSOMD2X9KCCH': [],\n 'A2LYTBRWFQJMKM': [],\n 'A2M4YSOJZELJ6N': [],\n 'A2MAZK8XSIDXPF': [],\n 'A2MDIPJ7MS0MUJ': [],\n 'A2MGO3WV3SX7X': [],\n 'A2MLV3I5MMJ2RA': [],\n 'A2MPSHMC0U29AV': [],\n 'A2NI47L1B1RXSG': [],\n 'A2NJQZBE8TSUYO': [],\n 'A2NWTETCSLOEQN': [],\n 'A2O4DMC8M5JFHG': [],\n 'A2O823CIB99X95': [],\n 'A2OT3011J8E1ZP': [],\n 'A2OXIHJW4K9NKE': [],\n 'A2P6L9MQK99U36': [],\n 'A2PB6LYMRA7Z9V': [],\n 'A2PEJEOUE9MNA6': [],\n 'A2PIBK3EOG5TBK': [],\n 'A2PY1DBGV9FQA2': [],\n 'A2Q5UOQ4L1BOB9': [],\n 'A2QE1WIYFY0HAP': [],\n 'A2QP73U21FHJZI': [],\n 'A2QV1YJODH28QP': [],\n 'A2RAISC8UEEBK9': [],\n 'A2RDNAR2R66DKD': [],\n 'A2RXAD7UZ4VFT6': [],\n 'A2S47NK970GKD9': [],\n 'A2SMFKDH22FMA3': [],\n 'A2SOH4QHL5DZ6D': [],\n 'A2SQIQZUBEAJR3': [],\n 'A2SWEHEK2BMPM8': [],\n 'A2SYZ28NVJZ4R1': [],\n 'A2T0AMZZLASKKV': [],\n 'A2TCLY6N04N9D7': [],\n 'A2TW5FC72PI7SE': [],\n 'A2UAC8RKSPUIKH': [],\n 'A2UX00W1OX5A80': [],\n 'A2V88AD0XHE2IE': [],\n 'A2VC9R3XCFOEP1': [],\n 'A2VLCD1OWKXBW0': [],\n 'A2VTFDQ1DZN7UI': [],\n 'A2WHTNQ939BS71': [],\n 'A2WQGKM49J8UYT': [],\n 'A2WX2YLLHJDLX7': [],\n 'A2X4BZH61VJH5M': [],\n 'A2XEM0Y2PBNYK3': [],\n 'A2XFJ8CTY7VDNN': [],\n 'A2XTIQTNDTY6IA': [],\n 'A2XVM7UW32TYJ4': [],\n 'A2XY3CJ3ZCAD03': [],\n 'A2XYR0XUSOOBKN': [],\n 'A2Y1J1AKXDLR1': [],\n 'A2Y88AU2Y58W78': [],\n 'A2Z6RKQQUX4RJA': [],\n 'A2ZBZF2MUG5BMT': [],\n 'A2ZFTLMOAS9YS9': [],\n 'A2ZIIOGLNJDGAW': [],\n 'A2ZKSKEG5ADC67': [],\n 'A2ZZKY1V6M940H': [],\n 'A31LANQ03TDCXY': [],\n 'A323D529OO2E1G': [],\n 'A3254BNN69CL47': [],\n 'A327I3S4ZCZYBV': [],\n 'A32D5I46E15TEC': [],\n 'A32H6TQKJ1PQTP': [],\n 'A32KYN14BUANDF': [],\n 'A32OQFYMJ18HD6': [],\n 'A333LLJ35S8DVV': [],\n 'A33M6H443E78K3': [],\n 'A33S6R9E8SJQBP': [],\n 'A34DAQYDWYMVSG': [],\n 'A35F9VHYWAFR8J': [],\n 'A35F9XOEGELEWC': [],\n 'A35PB7968I55RI': [],\n 'A35RIL0AVMMXXL': [],\n 'A35Y5NLC3UEUQD': [],\n 'A367NSWV6NUSL1': [],\n 'A36I89SEZ432XE': [],\n 'A375WSDCO30KT9': [],\n 'A37G41T4DD51AH': [],\n 'A37M369VIVDDVJ': [],\n 'A37OPVPXMWHJJK': [],\n 'A37WMXX147RL1X': [],\n 'A37XPPIGUTR4LE': [],\n 'A388NSX468EY1E': [],\n 'A38GODWWMRN5IP': [],\n 'A38J6ZI0XZOY54': [],\n 'A38KP6TI3BUIM6': [],\n 'A38KUK8INKLRVW': [],\n 'A38OH5OTHDIENK': [],\n 'A38QGF4YG5YLUX': [],\n 'A3909LKTROS8XZ': [],\n 'A3961EO6PXRSV4': [],\n 'A39LZUDABR584J': [],\n 'A39PTGNQVCNU44': [],\n 'A39VI1UOID3TYE': [],\n 'A39YNT3CHM2I0Z': [],\n 'A3A3FMJO4E1E16': [],\n 'A3B99K4E030SZQ': [],\n 'A3BE6JK97CYAGA': [],\n 'A3BLE5G96342IP': [],\n 'A3BNG9PTUPB4QO': [],\n 'A3BPFL7PM0EX1K': [],\n 'A3BT1WLPENXMD6': [],\n 'A3BU92XQ2M0FQV': [],\n 'A3BWTFXS9CXVAE': [],\n 'A3BXCNI6BG5GCW': [],\n 'A3C2F0Y7G5FRW3': [],\n 'A3CBKKG14IB1KH': [],\n 'A3CQ0NMUJ9TODP': [],\n 'A3CUAESGA4K7FU': [],\n 'A3CXM8XQ5Q1KPP': [],\n 'A3D0FFKCWXN2LR': [],\n 'A3D1IGUMS62SNU': [],\n 'A3D1VPTQGDS7H3': [],\n 'A3D4BNTGWVUMYY': [],\n 'A3DKARAF791Z5X': [],\n 'A3DTSBINBC9T1Y': [],\n 'A3DXQ86N43AUK3': [],\n 'A3DXW3542E4QUC': [],\n 'A3E9HGSGQCU4CT': [],\n 'A3EAHHQ7KV8LFG': [],\n 'A3EJS66CXBQLE8': [],\n 'A3ENBUF1TIQR5K': [],\n 'A3EZHDCUB7I4KM': [],\n 'A3F1C4MOB3X5XL': [],\n 'A3F6V5A2SFES04': [],\n 'A3FDEHXOYLD1AC': [],\n 'A3FGDP5PT4SPLK': [],\n 'A3FGWJLDNTJWED': [],\n 'A3G1X7LFBAPCUJ': [],\n 'A3GCKFO3G4AHLF': [],\n 'A3GGSN44XCR1LP': [],\n 'A3GPMU8E282AUW': [],\n 'A3GRQ9WMP4OXFE': [],\n 'A3GWKJFBX8ZKT6': [],\n 'A3H8Z7JS7XJHJJ': [],\n 'A3HRUR5VRFZ09F': [],\n 'A3IGRPW3T3WYYQ': [],\n 'A3J1T4IGQLKKMB': [],\n 'A3J9IGXNOJR2BL': [],\n 'A3JA23Z053GQH': [],\n 'A3JCDPKW3RY4RN': [],\n 'A3JEQJCEMX20GI': [],\n 'A3KFRJBKYYNED7': [],\n 'A3KS7QCK708PRV': [],\n 'A3KYSCD09GNSUT': [],\n 'A3LA1YKU7MU28G': [],\n 'A3LEZ2F3IJC8PI': [],\n 'A3LIUDVZL87BJ1': [],\n 'A3LW4UWD5IH59X': [],\n 'A3LX43D34SINN3': [],\n 'A3LZ31BL10WT5Y': [],\n 'A3MAKZCODKKTYI': [],\n 'A3MFCMTXMF9B6W': [],\n 'A3MKAAS1OCULM6': [],\n 'A3MOSFTVDLAPDQ': [],\n 'A3MSPZTFP55OAG': [],\n 'A3MYAEQWFLNGT7': [],\n 'A3N4SR54KR77RK': [],\n 'A3NVFNLI1D4JUI': [],\n 'A3NYG8M131X9CM': [],\n 'A3OAQJCQBNF2JV': [],\n 'A3OCZRK8OEGZKL': [],\n 'A3OIDZP7AI0URM': [],\n 'A3OVOP3ZAF1EZ2': [],\n 'A3P3RV0CUR0VRQ': [],\n 'A3P8Z0J9AH92IZ': [],\n 'A3PJ22YDBOO8DN': [],\n 'A3PLMGKX9OQWOY': [],\n 'A3QL4UXK2Z5Q7T': [],\n 'A3QLWWO4V4PFMJ': [],\n 'A3QUUP6DYHF9YC': [],\n 'A3R7ZWTFN19KIX': [],\n 'A3RCVP2TSCL409': [],\n 'A3RUEIK67SFBFQ': [],\n 'A3SG2GXNRU6AO8': [],\n 'A3SL5YEUG12X9A': [],\n 'A3SME2XHYE99M5': [],\n 'A3T0BPK8JD6MD5': [],\n 'A3T2OTYYUYGLP0': [],\n 'A3T35MARIMRX9M': [],\n 'A3T9MTY43BVAL8': [],\n 'A3T9WXXE7EWNT8': [],\n 'A3TELGW4O61A61': [],\n 'A3TGG91X7W9SE8': [],\n 'A3TSVNG02WZYSW': [],\n 'A3U32YT7BSZ0KJ': [],\n 'A3UAJ5O4VR3IQ3': [],\n 'A3UBQFB24OY57': [],\n 'A3UCBR5T51RVRF': [],\n 'A3URWO9TFNH3IW': [],\n 'A3V81XSQIPRKO8': [],\n 'A3V9LE9I6Z5AF3': [],\n 'A3VEZWV624JM4O': [],\n 'A3VFDFSQ8X74WJ': [],\n 'A3VXSKW11C3301': [],\n 'A4INUX2JA7KE2': [],\n 'A4IQXCCXDEAKW': [],\n 'A4PZHPMLBS8T3': [],\n 'A4SRPWVKZ8MBC': [],\n 'A4V3S90H5OZTV': [],\n 'A4VQ44JM97RBL': [],\n 'A5ECS1R7F1TUD': [],\n 'A5LV53PMV1X6R': [],\n 'A674HJEQGJ5R9': [],\n 'A679PFWSVAY0B': [],\n 'A6IX0T5Z4NEXG': [],\n 'A6JVX3BIR03UT': [],\n 'A6P34Q7M983DN': [],\n 'A72IXFDV3HVU6': [],\n 'A74XHLD33IB9S': [],\n 'A7EG6541KYNIU': [],\n 'A7HS9Y95Y9BI6': [],\n 'A7JUHUYLXIUVQ': [],\n 'A7KQ3EGH8QTDS': [],\n 'A7SILTHEWXQ8T': [],\n 'A7Y4ETTLARUGI': [],\n 'A7Z2BG3284EE8': [],\n 'A8FMILLDHAI14': [],\n 'A8JUUA4GHIAMI': [],\n 'A8LVPPXFVYGVU': [],\n 'A8ZUDRNPFB0FU': [],\n 'A9BXB2XYAW169': [],\n 'A9LOWDS5H848B': [],\n 'AA3TPN2ZXE9TE': [],\n 'AAD3T3WYTF1BR': [],\n 'AAJ1IA9SFH4IG': [],\n 'AAT4JCLA3VGRZ': [],\n 'ABNE90UVC4BMT': [],\n 'ABSMQNX2PDSWH': [],\n 'ABWCUEDFH8W5H': [],\n 'ABYOL1GQA39OB': [],\n 'AC0X1OVDMJX9': [],\n 'ACCY5NWUNEC87': [],\n 'ACE1ZIOI3U6PY': ['B00PMRE5A2', 'B00QHX7NT0', 'B01E7UKR38'],\n 'ACLAKWV2EFFB5': [],\n 'AD9O852KPYLHY': [],\n 'ADDXT6NXD9GQ7': [],\n 'ADG8D8X6P9X7M': [],\n 'ADR4IE33O06IJ': [],\n 'ADV1MNMPVS17V': [],\n 'ADYRHTPM2T2SE': [],\n 'AE6VHWVRXHU19': [],\n 'AEKJTREHL41OE': [],\n 'AEP7KPEZWI7VY': [],\n 'AETOYW0R5VN0X': [],\n 'AEZBSOFLB44RG': [],\n 'AFE9H6ABXM735': [],\n 'AFMQ7BBR4FYMB': [],\n 'AFY8EIWAT6H8J': [],\n 'AG0867QGE3R2B': [],\n 'AG3T3ILPXFL3H': [],\n 'AG74ZKO3BG57J': [],\n 'AGORXWI6K2RIR': [],\n 'AGRZQOBCF8H87': [],\n 'AGTD0T9R78YLG': [],\n 'AGYIYIVZHBI60': [],\n 'AHGNU4UWGATOH': [],\n 'AHYRXYR235TWH': [],\n 'AIB7HX2UC3WHM': [],\n 'AITF34BGBMVJJ': [],\n 'AIU7HYQIC5D95': [],\n 'AJHSB0LT8NKP4': [],\n 'AJYMJEC6B7V52': [],\n 'AK4VANLR5UK95': [],\n 'AK7YIZE6ZZ1N9': [],\n 'AKHSKD91MQ9DP': [],\n 'ALUZH689LQE6K': [],\n 'ALWLZC3GRRXPN': [],\n 'AM1KUDVTKXIAQ': [],\n 'AM9HBLGAPZQR7': [],\n 'AMA98TY969A1T': [],\n 'AMLDY4QY4HV0D': [],\n 'AMVZ9HW23Y42N': [],\n 'AN3QZR3OD7SFO': [],\n 'ANC6FN6T8JBB2': [],\n 'ANDGVKQ15NCZM': [],\n 'ANFUWUOC7EJKR': [],\n 'ANG7MOYBTWQE6': [],\n 'ANJ6Y9G0B4TM8': [],\n 'ANR73TPVBCQ9K': [],\n 'ANT034IX5ZPI9': [],\n 'AOB2Y1KJQG7K7': [],\n 'AONHG4PDUQ0D6': [],\n 'APA9SALOTTBM6': [],\n 'APARJQGAD0J4C': [],\n 'AQ5PKYF0FJA4B': [],\n 'AQCQQYEUHUX3M': [],\n 'AQYL4TDY2HU8Z': [],\n 'AR9Y0CM5B174': [],\n 'ARLN791TA1RV7': [],\n 'AS8T77HTF9IHW': [],\n 'ASGIVOW34XNQS': [],\n 'ATJRZUXNWAWIK': [],\n 'ATP2UCHTR7QMZ': [],\n 'ATR9J7TYR1KVL': [],\n 'ATVP6QJLS27EN': [],\n 'AU03W1V42994X': [],\n 'AU1BVXGV2KO8I': [],\n 'AU2JWZMFEVAH5': [],\n 'AU3MVNMVFSIM': [],\n 'AUKMWTDK16PAP': [],\n 'AUWJT1DM7SG2D': [],\n 'AV0O5NWF2NKDF': [],\n 'AV2MC7NNTMKTF': [],\n 'AVC89473DX6XU': [],\n 'AVFBQDR2KRNK6': [],\n 'AVIMJH2FF6QCH': [],\n 'AVO5FL5T9EZSR': [],\n 'AVQ0V2MIW2Z5K': [],\n 'AVWSUUBWD3RK4': [],\n 'AWJFUVK3064HX': [],\n 'AXM9OKKHRR4RP': [],\n 'AXPZI9N8HVHYO': [],\n 'AXQ57AZLKLPCQ': [],\n 'AXQS1B3WVRHQV': [],\n 'AXS7NH3GDN7EE': [],\n 'AY4F95T0JSTZ2': [],\n 'AYG63OK9TNBNP': [],\n 'AZE64W03EUJA4': [],\n 'AZECTAHZICNW5': [],\n 'AZEGZXCFTLSQB': [],\n 'AZEKC7DEXXJD7': [],\n 'AZFGSCB0S59LQ': [],\n 'AZHS42HV4FKKA': []}"
     },
     "execution_count": 172,
     "metadata": {},
     "output_type": "execute_result"
    }
   ],
   "source": [
    "import pandas as pd\n",
    "from itertools import combinations\n",
    "from collections import defaultdict\n",
    "\n",
    "# header: user_id,item_id,rating,timestamp\n",
    "\n",
    "def recommender(training_data, users=[], k=10):\n",
    "\n",
    "    # loading data from dataframe\n",
    "    # user_to_items dict:\n",
    "    # {\n",
    "    #   'user': {\n",
    "    #       'item': ratings...\n",
    "    #   }...\n",
    "    # }\n",
    "    user_to_items = defaultdict(dict)\n",
    "    for _, row in training_data.iterrows():\n",
    "        row = dict(row)\n",
    "        user = row['reviewerID']\n",
    "        item = row['asin']\n",
    "        rating = float(row['overall'])\n",
    "\n",
    "        user_to_items[user][item] = rating\n",
    "\n",
    "    print(\"total users before filtering: \", len(user_to_items))\n",
    "\n",
    "    # remove obscure user to decrease data size\n",
    "    # filtering params\n",
    "    remove_obscure_user = True\n",
    "    user_rating_threshold = 3\n",
    "    all_users = list(user_to_items.keys())\n",
    "    for user in all_users:\n",
    "        ratings = user_to_items[user]\n",
    "        if remove_obscure_user and len(ratings) < user_rating_threshold:\n",
    "            del user_to_items[user]\n",
    "\n",
    "    print(\"total users  after filtering: \", len(user_to_items))\n",
    "\n",
    "    # generate item to user mapping dict\n",
    "    # {\n",
    "    #   'item': {\n",
    "    #       'user': ratings...\n",
    "    #   }...\n",
    "    # }\n",
    "    item_to_users = defaultdict(dict)\n",
    "    for user, items in user_to_items.items():\n",
    "        for item, rating in items.items():\n",
    "            item_to_users[item][user] = rating\n",
    "\n",
    "    # prepare data of computing user similarity \n",
    "    init_sim = lambda: [0 for _ in range(3)]\n",
    "    factory = lambda: defaultdict(init_sim)\n",
    "    pre_user_similarity = defaultdict(factory)\n",
    "    n = len(item_to_users)\n",
    "    index = 0\n",
    "    for item, user_ratings in item_to_users.items():\n",
    "        if len(user_ratings) > 1:\n",
    "            # print(f\"item: {item} have been rated by {len(user_ratings)} users progress: {index}/{n}\")\n",
    "            for user1, user2 in combinations(user_ratings.keys(), 2):\n",
    "                xy = user_ratings[user1] * user_ratings[user2]\n",
    "                xx = user_ratings[user1] ** 2\n",
    "                yy = user_ratings[user2] ** 2\n",
    "                pre_user_similarity[user1][user2][0] += xy\n",
    "                pre_user_similarity[user1][user2][1] += xx\n",
    "                pre_user_similarity[user1][user2][2] += yy\n",
    "\n",
    "                pre_user_similarity[user2][user1][0] += xy\n",
    "                pre_user_similarity[user2][user1][1] += xx\n",
    "                pre_user_similarity[user2][user1][2] += yy\n",
    "        index += 1\n",
    "\n",
    "    user_similarity = {}\n",
    "    for src_user in pre_user_similarity:\n",
    "        user_similarity_order = []\n",
    "        for dst_user, val in pre_user_similarity[src_user].items():\n",
    "            xy = val[0]\n",
    "            xx = val[1]\n",
    "            yy = val[2]\n",
    "            div = ((xx*yy) ** 0.5)\n",
    "            if div == 0:\n",
    "                continue\n",
    "            similarity = xy / div\n",
    "            if similarity < 0:\n",
    "                continue\n",
    "            for i, s in enumerate(user_similarity_order):\n",
    "                target_similarity = s[1]\n",
    "                if target_similarity < similarity:\n",
    "                    user_similarity_order.insert(i, (dst_user, similarity))\n",
    "                    break\n",
    "            else:\n",
    "                user_similarity_order.append((dst_user, similarity))\n",
    "        user_similarity[src_user] = user_similarity_order\n",
    "\n",
    "    recommendation = {}\n",
    "    for user in users:\n",
    "        if user in user_similarity:\n",
    "            sim_users = user_similarity[user]\n",
    "            recommended_items = []\n",
    "            recommended_items_set = set()\n",
    "            user_have_rated = set(user_to_items[user])\n",
    "            stop_recommend = False\n",
    "            for sim_user, _ in sim_users:\n",
    "                items_from_sim_user = sorted(list(user_to_items[sim_user].items()), key=lambda item: item[1])\n",
    "                for item, _ in items_from_sim_user:\n",
    "                    if item not in user_have_rated and item not in recommended_items_set:\n",
    "                        recommended_items.append(item)\n",
    "                        recommended_items_set.add(item)\n",
    "                    if len(recommended_items) >= k:\n",
    "                        stop_recommend = True\n",
    "                        break\n",
    "                if stop_recommend:\n",
    "                    break\n",
    "            recommendation[user] = recommended_items\n",
    "        else:\n",
    "            recommendation[user] = []\n",
    "    return recommendation\n",
    "\n",
    "ratings_by_user = recommender(ratings_trainings_partial, users)\n",
    "ratings_by_user"
   ]
  },
  {
   "cell_type": "markdown",
   "id": "04a4ca9e",
   "metadata": {
    "id": "04a4ca9e"
   },
   "source": [
    "## 結果評估"
   ]
  },
  {
   "cell_type": "code",
   "execution_count": 173,
   "id": "ee763747",
   "metadata": {
    "id": "ee763747",
    "outputId": "9b61508d-8754-4c99-a6bd-5971d8e6a41c"
   },
   "outputs": [
    {
     "data": {
      "text/plain": "0.0"
     },
     "execution_count": 173,
     "metadata": {},
     "output_type": "execute_result"
    }
   ],
   "source": [
    "def evaluate(ratings_testings_by_user={}, ratings_by_user={}, method=None):\n",
    "    '''\n",
    "    * ratings_testings_by_user: dict 真實被購買的商品資料（2018-09-01 以後資料）\n",
    "    * ratings_by_user: dict 利用訓練資料學習的推薦商品\n",
    "    * method: str\n",
    "    * score: float\n",
    "    '''\n",
    "    total = 0\n",
    "    for d in ratings_testings_by_user:\n",
    "        if d in ratings_by_user:\n",
    "            total += len(set(ratings_by_user[d]) & set(ratings_testings_by_user[d]))\n",
    "\n",
    "    score = total / len(ratings_testings)\n",
    "    return score\n",
    "\n",
    "evaluate(ratings_testings_by_user, ratings_by_user)"
   ]
  },
  {
   "cell_type": "markdown",
   "id": "53055ac2",
   "metadata": {
    "id": "53055ac2",
    "pycharm": {
     "name": "#%% md\n"
    }
   },
   "source": [
    "觀察有在訓練集中的人的推薦是否正常？\n"
   ]
  },
  {
   "cell_type": "code",
   "execution_count": 200,
   "outputs": [
    {
     "data": {
      "text/plain": "size\n0     582\n3       1\n10      1\ndtype: int64"
     },
     "execution_count": 200,
     "metadata": {},
     "output_type": "execute_result"
    }
   ],
   "source": [
    "df = pd.DataFrame.from_records([(user, ratings_by_user[user], len(ratings_by_user[user])) for user in ratings_by_user], columns=['user', 'user_items', 'size'])\n",
    "df.value_counts('size')"
   ],
   "metadata": {
    "collapsed": false,
    "pycharm": {
     "name": "#%%\n"
    }
   }
  },
  {
   "cell_type": "code",
   "execution_count": 221,
   "id": "000273c4",
   "metadata": {
    "id": "000273c4"
   },
   "outputs": [
    {
     "name": "stdout",
     "output_type": "stream",
     "text": [
      "A1SA3N793WT2LM ['B000GLB37M', 'B007YT34TY', 'B000GLRREU', 'B000FOI48G', 'B00ARBOMTM', 'B001DKQ47E', 'B00U1VSN98', 'B00FIUEIY6', 'B018QQU0YK', 'B01E0C1XEK']\n",
      "推薦: \n",
      "Waterpik Ultra Water Flosser\n",
      "Eye Shields for Tanning Beds - assorted colors\n",
      "Waterpik Ultra Water Flosser\n",
      " Jerdon JPT25W 25-Watt Replacement Light Bulbs for Lighted Mirrors, 2-Pack \n",
      "EVO FLEX Sunnies Flexible Tanning Bed Goggles Eye Protection UV PINK Glasses\n",
      "uxcell Women 16 Teeth Black Plastic Comb Hair Pin Clip Hairdressing Clamp 3.1&quot; Long 2 Pcs\n",
      "Beauty Aura 100% Pure Avocado Oil - 16 Fl Oz - For Healthy Hair, Skin &amp; Nails.\n",
      "Vibrant Bright Skin Lightening Cream by Healthy Vibes (2 oz) - Skin Whitening Treatment for Birthmarks, Blemishes, Pigmentation - Safe for Sensitive Areas - Natural Ingredients and Hydroquinone Free\n",
      "Hair Straightener Professional Detangling Hair Brush Hair Styling Comb Digital Anti Static Anti-Scald Ceramic Heating Iron Pink Hair Massage Straightening Irons (Black Red)\n",
      "Darksyde Pitch Black Ultimate Silicone Bronzer Tanning Lotion 16 fl. oz., Coconut Beach Scent\n",
      "實際：\n",
      "Mary Kay Rose Gold Compact Mini (unfilled)\n",
      "===================\n",
      "ACE1ZIOI3U6PY ['B00PMRE5A2', 'B00QHX7NT0', 'B01E7UKR38']\n",
      "推薦: \n",
      "Garnier Blur Flaws in 5 Seconds Flat, 0.5 fl. oz./ 15 ml.\n",
      "bliss Fabgirlslim Hide and Go Sleek Tinted Body Spray\n",
      "essie Gel Couture Nail Polish\n",
      "實際：\n",
      "&quot;Wahl Professional 5 Star Barber Cape #97791 Great for Professional Stylists and Barbers Polyester Snap Closure&quot;\n",
      "===================\n"
     ]
    }
   ],
   "source": [
    "for user in ratings_by_user:\n",
    "    if len(ratings_by_user[user]) > 0:\n",
    "        print('%s %s' % (user, ratings_by_user[user]))\n",
    "        print('推薦: \\n%s' % ('\\n'.join(metadata[metadata['asin'].isin(ratings_by_user[user])]['title'].tolist())))\n",
    "        print('實際：\\n%s' % ('\\n'.join(metadata[metadata['asin'].isin(ratings_testings_by_user[user])]['title'].tolist())))\n",
    "        print('===================')"
   ]
  },
  {
   "cell_type": "markdown",
   "id": "ff0e8005",
   "metadata": {
    "id": "ff0e8005",
    "pycharm": {
     "name": "#%% md\n"
    }
   },
   "source": [
    "實際推薦居然只有兩人，且我們推薦的完全沒有中。"
   ]
  },
  {
   "cell_type": "code",
   "execution_count": null,
   "outputs": [],
   "source": [],
   "metadata": {
    "collapsed": false,
    "pycharm": {
     "name": "#%%\n"
    }
   }
  }
 ],
 "metadata": {
  "kernelspec": {
   "display_name": "Python 3",
   "language": "python",
   "name": "python3"
  },
  "language_info": {
   "codemirror_mode": {
    "name": "ipython",
    "version": 3
   },
   "file_extension": ".py",
   "mimetype": "text/x-python",
   "name": "python",
   "nbconvert_exporter": "python",
   "pygments_lexer": "ipython3",
   "version": "3.9.0"
  },
  "colab": {
   "name": "sample-cf-used-based.ipynb",
   "provenance": [],
   "collapsed_sections": []
  }
 },
 "nbformat": 4,
 "nbformat_minor": 5
}